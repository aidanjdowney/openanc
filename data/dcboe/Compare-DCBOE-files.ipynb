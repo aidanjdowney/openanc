{
 "cells": [
  {
   "cell_type": "markdown",
   "metadata": {},
   "source": [
    "Take two DCBOE files and find differences based on the hashes. \n",
    "\n",
    "* old_dcboe = the CSV in the current head commit\n",
    "* new_dcboe = the CSV in the current working directory, not yet committed"
   ]
  },
  {
   "cell_type": "code",
   "execution_count": 1,
   "metadata": {},
   "outputs": [],
   "source": [
    "import io\n",
    "import os\n",
    "import pandas as pd\n",
    "from git import Repo\n",
    "\n",
    "os.chdir('../..') # root of repo is two directories above this notebook"
   ]
  },
  {
   "cell_type": "code",
   "execution_count": 2,
   "metadata": {},
   "outputs": [],
   "source": [
    "csv_file_path = 'data/dcboe/candidates_dcboe.csv'\n",
    "\n",
    "oa_repo = Repo('.') \n",
    "commit = oa_repo.head.commit\n",
    "targetfile = commit.tree / csv_file_path\n",
    "\n",
    "with io.BytesIO(targetfile.data_stream.read()) as f:\n",
    "    old_dcboe = pd.read_table(f, sep=',', encoding='utf-8')"
   ]
  },
  {
   "cell_type": "code",
   "execution_count": 3,
   "metadata": {},
   "outputs": [],
   "source": [
    "new_dcboe = pd.read_csv(csv_file_path)"
   ]
  },
  {
   "cell_type": "code",
   "execution_count": 4,
   "metadata": {},
   "outputs": [
    {
     "data": {
      "text/plain": [
       "420"
      ]
     },
     "execution_count": 4,
     "metadata": {},
     "output_type": "execute_result"
    }
   ],
   "source": [
    "len(old_dcboe)"
   ]
  },
  {
   "cell_type": "code",
   "execution_count": 5,
   "metadata": {},
   "outputs": [
    {
     "data": {
      "text/plain": [
       "411"
      ]
     },
     "execution_count": 5,
     "metadata": {},
     "output_type": "execute_result"
    }
   ],
   "source": [
    "len(new_dcboe)"
   ]
  },
  {
   "cell_type": "markdown",
   "metadata": {},
   "source": [
    "## Old hashes not in new file"
   ]
  },
  {
   "cell_type": "code",
   "execution_count": 17,
   "metadata": {},
   "outputs": [
    {
     "data": {
      "text/html": [
       "<div>\n",
       "<style scoped>\n",
       "    .dataframe tbody tr th:only-of-type {\n",
       "        vertical-align: middle;\n",
       "    }\n",
       "\n",
       "    .dataframe tbody tr th {\n",
       "        vertical-align: top;\n",
       "    }\n",
       "\n",
       "    .dataframe thead th {\n",
       "        text-align: right;\n",
       "    }\n",
       "</style>\n",
       "<table border=\"1\" class=\"dataframe\">\n",
       "  <thead>\n",
       "    <tr style=\"text-align: right;\">\n",
       "      <th></th>\n",
       "      <th>smd_id</th>\n",
       "      <th>candidate_name</th>\n",
       "    </tr>\n",
       "  </thead>\n",
       "  <tbody>\n",
       "    <tr>\n",
       "      <th>66</th>\n",
       "      <td>smd_2C02</td>\n",
       "      <td>Jamaal Burton</td>\n",
       "    </tr>\n",
       "    <tr>\n",
       "      <th>138</th>\n",
       "      <td>smd_3F07</td>\n",
       "      <td>Lisa Cox</td>\n",
       "    </tr>\n",
       "    <tr>\n",
       "      <th>295</th>\n",
       "      <td>smd_6E01</td>\n",
       "      <td>Mary A. Sutherland</td>\n",
       "    </tr>\n",
       "    <tr>\n",
       "      <th>303</th>\n",
       "      <td>smd_6E05</td>\n",
       "      <td>Katherine Kortum</td>\n",
       "    </tr>\n",
       "    <tr>\n",
       "      <th>313</th>\n",
       "      <td>smd_7B04</td>\n",
       "      <td>Nicole Smith-McDermott</td>\n",
       "    </tr>\n",
       "    <tr>\n",
       "      <th>366</th>\n",
       "      <td>smd_8A02</td>\n",
       "      <td>Ira L. Lovelace</td>\n",
       "    </tr>\n",
       "    <tr>\n",
       "      <th>396</th>\n",
       "      <td>smd_8C06</td>\n",
       "      <td>Rhonda L. Edwards-Hines</td>\n",
       "    </tr>\n",
       "    <tr>\n",
       "      <th>404</th>\n",
       "      <td>smd_8D05</td>\n",
       "      <td>Ellen Armstead</td>\n",
       "    </tr>\n",
       "    <tr>\n",
       "      <th>405</th>\n",
       "      <td>smd_8D05</td>\n",
       "      <td>Shanquella 'Goldie' Ross</td>\n",
       "    </tr>\n",
       "  </tbody>\n",
       "</table>\n",
       "</div>"
      ],
      "text/plain": [
       "       smd_id            candidate_name\n",
       "66   smd_2C02             Jamaal Burton\n",
       "138  smd_3F07                  Lisa Cox\n",
       "295  smd_6E01        Mary A. Sutherland\n",
       "303  smd_6E05          Katherine Kortum\n",
       "313  smd_7B04    Nicole Smith-McDermott\n",
       "366  smd_8A02           Ira L. Lovelace\n",
       "396  smd_8C06   Rhonda L. Edwards-Hines\n",
       "404  smd_8D05            Ellen Armstead\n",
       "405  smd_8D05  Shanquella 'Goldie' Ross"
      ]
     },
     "execution_count": 17,
     "metadata": {},
     "output_type": "execute_result"
    }
   ],
   "source": [
    "old_hashes_not_in_new = ~( old_dcboe['dcboe_hash_id'].isin(new_dcboe['dcboe_hash_id']))\n",
    "old_dcboe[old_hashes_not_in_new][['smd_id', 'candidate_name']]"
   ]
  },
  {
   "cell_type": "code",
   "execution_count": 18,
   "metadata": {},
   "outputs": [],
   "source": [
    "old_dcboe['smd_name'] = old_dcboe['smd_id'].str.replace('smd_', '') + ': ' + old_dcboe['candidate_name']\n",
    "old_dcboe[old_hashes_not_in_new][['smd_name']].to_clipboard(index=False)"
   ]
  },
  {
   "cell_type": "markdown",
   "metadata": {},
   "source": [
    "## New hashes not in old file"
   ]
  },
  {
   "cell_type": "code",
   "execution_count": 7,
   "metadata": {},
   "outputs": [
    {
     "data": {
      "text/html": [
       "<div>\n",
       "<style scoped>\n",
       "    .dataframe tbody tr th:only-of-type {\n",
       "        vertical-align: middle;\n",
       "    }\n",
       "\n",
       "    .dataframe tbody tr th {\n",
       "        vertical-align: top;\n",
       "    }\n",
       "\n",
       "    .dataframe thead th {\n",
       "        text-align: right;\n",
       "    }\n",
       "</style>\n",
       "<table border=\"1\" class=\"dataframe\">\n",
       "  <thead>\n",
       "    <tr style=\"text-align: right;\">\n",
       "      <th></th>\n",
       "      <th>dcboe_hash_id</th>\n",
       "      <th>smd_id</th>\n",
       "      <th>candidate_name</th>\n",
       "      <th>pickup_date</th>\n",
       "      <th>filed_date</th>\n",
       "    </tr>\n",
       "  </thead>\n",
       "  <tbody>\n",
       "  </tbody>\n",
       "</table>\n",
       "</div>"
      ],
      "text/plain": [
       "Empty DataFrame\n",
       "Columns: [dcboe_hash_id, smd_id, candidate_name, pickup_date, filed_date]\n",
       "Index: []"
      ]
     },
     "execution_count": 7,
     "metadata": {},
     "output_type": "execute_result"
    }
   ],
   "source": [
    "new_hashes_not_in_old = ~( new_dcboe['dcboe_hash_id'].isin(old_dcboe['dcboe_hash_id']))\n",
    "new_dcboe[new_hashes_not_in_old]"
   ]
  },
  {
   "cell_type": "markdown",
   "metadata": {},
   "source": [
    "## Same hash, changed info\n",
    "\n",
    "Have any fields changed on the same hash? "
   ]
  },
  {
   "cell_type": "code",
   "execution_count": 8,
   "metadata": {},
   "outputs": [],
   "source": [
    "df = pd.merge(old_dcboe, new_dcboe, how='inner', on='dcboe_hash_id', suffixes=['_old', '_new'])"
   ]
  },
  {
   "cell_type": "code",
   "execution_count": 9,
   "metadata": {},
   "outputs": [
    {
     "name": "stdout",
     "output_type": "stream",
     "text": [
      "                                         dcboe_hash_id smd_id_old  \\\n",
      "367  a18cc1ecaaf81f445eeb1e80ddc7d01168aa3d278ea46f...   smd_8A06   \n",
      "\n",
      "    candidate_name_old pickup_date_old filed_date_old smd_id_new  \\\n",
      "367  Kristina Leszczak      2020-08-26            NaN   smd_8A06   \n",
      "\n",
      "    candidate_name_new pickup_date_new filed_date_new  \n",
      "367  Kristina Leszczak      2020-08-26            NaN  \n"
     ]
    }
   ],
   "source": [
    "columns_to_check = [c for c in old_dcboe.columns if c != 'dcboe_hash_id']\n",
    "\n",
    "for c in columns_to_check:\n",
    "    num_differences = sum(df[c + '_old'] != df[c + '_new'])\n",
    "    if num_differences > 0:\n",
    "        print(df[df[c + '_old'] != df[c + '_new']])"
   ]
  },
  {
   "cell_type": "code",
   "execution_count": null,
   "metadata": {},
   "outputs": [],
   "source": []
  }
 ],
 "metadata": {
  "kernelspec": {
   "display_name": "Python 3",
   "language": "python",
   "name": "python3"
  },
  "language_info": {
   "codemirror_mode": {
    "name": "ipython",
    "version": 3
   },
   "file_extension": ".py",
   "mimetype": "text/x-python",
   "name": "python",
   "nbconvert_exporter": "python",
   "pygments_lexer": "ipython3",
   "version": "3.7.1"
  }
 },
 "nbformat": 4,
 "nbformat_minor": 4
}
