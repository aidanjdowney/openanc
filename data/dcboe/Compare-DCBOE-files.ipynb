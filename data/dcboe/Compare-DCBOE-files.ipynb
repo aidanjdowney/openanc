{
 "cells": [
  {
   "cell_type": "markdown",
   "metadata": {},
   "source": [
    "Take two DCBOE files and find differences based on the hashes. \n",
    "\n",
    "* old_dcboe = the CSV in the current head commit\n",
    "* new_dcboe = the CSV in the current working directory, not yet committed"
   ]
  },
  {
   "cell_type": "code",
   "execution_count": 1,
   "metadata": {},
   "outputs": [],
   "source": [
    "import io\n",
    "import os\n",
    "import pandas as pd\n",
    "from git import Repo\n",
    "\n",
    "os.chdir('../..') # root of repo is two directories above this notebook"
   ]
  },
  {
   "cell_type": "code",
   "execution_count": 2,
   "metadata": {},
   "outputs": [],
   "source": [
    "csv_file_path = 'data/dcboe/candidates_dcboe.csv'\n",
    "\n",
    "oa_repo = Repo('.') \n",
    "commit = oa_repo.head.commit\n",
    "targetfile = commit.tree / csv_file_path\n",
    "\n",
    "with io.BytesIO(targetfile.data_stream.read()) as f:\n",
    "    old_dcboe = pd.read_table(f, sep=',', encoding='utf-8')"
   ]
  },
  {
   "cell_type": "code",
   "execution_count": 3,
   "metadata": {},
   "outputs": [],
   "source": [
    "new_dcboe = pd.read_csv(csv_file_path)"
   ]
  },
  {
   "cell_type": "code",
   "execution_count": 4,
   "metadata": {},
   "outputs": [
    {
     "data": {
      "text/plain": [
       "398"
      ]
     },
     "execution_count": 4,
     "metadata": {},
     "output_type": "execute_result"
    }
   ],
   "source": [
    "len(old_dcboe)"
   ]
  },
  {
   "cell_type": "code",
   "execution_count": 5,
   "metadata": {},
   "outputs": [
    {
     "data": {
      "text/plain": [
       "398"
      ]
     },
     "execution_count": 5,
     "metadata": {},
     "output_type": "execute_result"
    }
   ],
   "source": [
    "len(new_dcboe)"
   ]
  },
  {
   "cell_type": "code",
   "execution_count": 6,
   "metadata": {},
   "outputs": [
    {
     "data": {
      "text/plain": [
       "0"
      ]
     },
     "execution_count": 6,
     "metadata": {},
     "output_type": "execute_result"
    }
   ],
   "source": [
    "# Change in number of active candidates\n",
    "len(new_dcboe) - len(old_dcboe)"
   ]
  },
  {
   "cell_type": "markdown",
   "metadata": {},
   "source": [
    "## Old hashes not in new file\n",
    "\n",
    "Candidates who will no longer be on the ballot.  "
   ]
  },
  {
   "cell_type": "code",
   "execution_count": 7,
   "metadata": {},
   "outputs": [
    {
     "data": {
      "text/html": [
       "<div>\n",
       "<style scoped>\n",
       "    .dataframe tbody tr th:only-of-type {\n",
       "        vertical-align: middle;\n",
       "    }\n",
       "\n",
       "    .dataframe tbody tr th {\n",
       "        vertical-align: top;\n",
       "    }\n",
       "\n",
       "    .dataframe thead th {\n",
       "        text-align: right;\n",
       "    }\n",
       "</style>\n",
       "<table border=\"1\" class=\"dataframe\">\n",
       "  <thead>\n",
       "    <tr style=\"text-align: right;\">\n",
       "      <th></th>\n",
       "      <th>smd_id</th>\n",
       "      <th>candidate_name</th>\n",
       "    </tr>\n",
       "  </thead>\n",
       "  <tbody>\n",
       "    <tr>\n",
       "      <th>229</th>\n",
       "      <td>smd_2022_5D05</td>\n",
       "      <td>Salvador \"The Commissioner\" Sauceda-Guzm</td>\n",
       "    </tr>\n",
       "  </tbody>\n",
       "</table>\n",
       "</div>"
      ],
      "text/plain": [
       "            smd_id                            candidate_name\n",
       "229  smd_2022_5D05  Salvador \"The Commissioner\" Sauceda-Guzm"
      ]
     },
     "execution_count": 7,
     "metadata": {},
     "output_type": "execute_result"
    }
   ],
   "source": [
    "old_hashes_not_in_new = ~( old_dcboe['dcboe_hash_id'].isin(new_dcboe['dcboe_hash_id']))\n",
    "old_dcboe[old_hashes_not_in_new][['smd_id', 'candidate_name']]"
   ]
  },
  {
   "cell_type": "code",
   "execution_count": 8,
   "metadata": {},
   "outputs": [],
   "source": [
    "old_dcboe['smd_name'] = old_dcboe['smd_id'].str.replace('smd_', '') + ': ' + old_dcboe['candidate_name']\n",
    "old_dcboe[old_hashes_not_in_new][['smd_name']].to_clipboard(index=False)"
   ]
  },
  {
   "cell_type": "markdown",
   "metadata": {},
   "source": [
    "## New hashes not in old file"
   ]
  },
  {
   "cell_type": "code",
   "execution_count": 9,
   "metadata": {},
   "outputs": [
    {
     "data": {
      "text/html": [
       "<div>\n",
       "<style scoped>\n",
       "    .dataframe tbody tr th:only-of-type {\n",
       "        vertical-align: middle;\n",
       "    }\n",
       "\n",
       "    .dataframe tbody tr th {\n",
       "        vertical-align: top;\n",
       "    }\n",
       "\n",
       "    .dataframe thead th {\n",
       "        text-align: right;\n",
       "    }\n",
       "</style>\n",
       "<table border=\"1\" class=\"dataframe\">\n",
       "  <thead>\n",
       "    <tr style=\"text-align: right;\">\n",
       "      <th></th>\n",
       "      <th>dcboe_hash_id</th>\n",
       "      <th>smd_id</th>\n",
       "      <th>candidate_name</th>\n",
       "      <th>pickup_date</th>\n",
       "      <th>filed_date</th>\n",
       "      <th>candidate_status</th>\n",
       "    </tr>\n",
       "  </thead>\n",
       "  <tbody>\n",
       "    <tr>\n",
       "      <th>229</th>\n",
       "      <td>34685c5c49315bbe2d24cda257eb8da53fba75741e183c...</td>\n",
       "      <td>smd_2022_5D05</td>\n",
       "      <td>Salvador \"The Commissioner\" Sauceda-Guzman</td>\n",
       "      <td>2022-07-21</td>\n",
       "      <td>2022-08-10</td>\n",
       "      <td>Filed Signatures</td>\n",
       "    </tr>\n",
       "  </tbody>\n",
       "</table>\n",
       "</div>"
      ],
      "text/plain": [
       "                                         dcboe_hash_id         smd_id  \\\n",
       "229  34685c5c49315bbe2d24cda257eb8da53fba75741e183c...  smd_2022_5D05   \n",
       "\n",
       "                                 candidate_name pickup_date  filed_date  \\\n",
       "229  Salvador \"The Commissioner\" Sauceda-Guzman  2022-07-21  2022-08-10   \n",
       "\n",
       "     candidate_status  \n",
       "229  Filed Signatures  "
      ]
     },
     "execution_count": 9,
     "metadata": {},
     "output_type": "execute_result"
    }
   ],
   "source": [
    "new_hashes_not_in_old = ~( new_dcboe['dcboe_hash_id'].isin(old_dcboe['dcboe_hash_id']))\n",
    "new_dcboe[new_hashes_not_in_old]"
   ]
  },
  {
   "cell_type": "markdown",
   "metadata": {},
   "source": [
    "## Same hash, changed info\n",
    "\n",
    "Have any fields changed for rows with the same dcboe_hash_id? "
   ]
  },
  {
   "cell_type": "code",
   "execution_count": 10,
   "metadata": {},
   "outputs": [],
   "source": [
    "df = pd.merge(old_dcboe, new_dcboe, how='inner', on='dcboe_hash_id', suffixes=['_old', '_new'])"
   ]
  },
  {
   "cell_type": "code",
   "execution_count": 11,
   "metadata": {},
   "outputs": [
    {
     "name": "stdout",
     "output_type": "stream",
     "text": [
      "column \"smd_id\" has 0 differences\n",
      "column \"candidate_name\" has 0 differences\n",
      "column \"pickup_date\" has 0 differences\n",
      "column \"filed_date\" has 0 differences\n",
      "column \"candidate_status\" has 0 differences\n"
     ]
    }
   ],
   "source": [
    "columns_to_check = [c for c in new_dcboe.columns if c != 'dcboe_hash_id']\n",
    "\n",
    "for c in columns_to_check:\n",
    "    \n",
    "    # Fill NULLs with 'x' to make the comparison work - can't compare NULL to NULL, pd.NA == pd.NA is also pd.NA\n",
    "    diff = (df[c + '_old'].fillna('x') != df[c + '_new'].fillna('x'))\n",
    "    num_differences = sum(diff)\n",
    "    print(f'column \"{c}\" has {num_differences} differences')\n",
    "\n",
    "    df[c + '_diff'] = diff\n",
    "\n",
    "csv_columns = ['dcboe_hash_id']\n",
    "for c in columns_to_check:\n",
    "    csv_columns += [c + '_old', c + '_new', c + '_diff']\n",
    "\n",
    "df[csv_columns].to_csv('data/dcboe/candidates_dcboe_diff.csv', index=False)"
   ]
  },
  {
   "cell_type": "markdown",
   "metadata": {},
   "source": [
    "## Compare counts by district\n",
    "\n",
    "When a lot of candidates have small changes to thier names, it throws off the hash so to find differences in who is actually a candidate between files, compare the counts by SMD."
   ]
  },
  {
   "cell_type": "code",
   "execution_count": 12,
   "metadata": {},
   "outputs": [],
   "source": [
    "# from scripts.data_transformations import districts_candidates_commissioners\n",
    "# new_smd = districts_candidates_commissioners()"
   ]
  },
  {
   "cell_type": "code",
   "execution_count": 13,
   "metadata": {},
   "outputs": [],
   "source": [
    "# new_smd['number_of_candidates'].sum()"
   ]
  },
  {
   "cell_type": "code",
   "execution_count": 14,
   "metadata": {},
   "outputs": [],
   "source": [
    "# smd_df.to_csv('smd_df_old.csv', index=False)"
   ]
  },
  {
   "cell_type": "code",
   "execution_count": 15,
   "metadata": {},
   "outputs": [],
   "source": [
    "# old_smd = pd.read_csv('/Users/devin/Dropbox/OpenANC/smd_df_2020-09-03.csv')"
   ]
  },
  {
   "cell_type": "code",
   "execution_count": 16,
   "metadata": {},
   "outputs": [],
   "source": [
    "# compare_smd = pd.merge(old_smd, new_smd, how='inner', on='smd_id', suffixes=['_old', '_new'])"
   ]
  },
  {
   "cell_type": "code",
   "execution_count": 17,
   "metadata": {},
   "outputs": [],
   "source": [
    "# compare_smd['district'] = compare_smd['smd_id'].str.replace('smd_', '')"
   ]
  },
  {
   "cell_type": "code",
   "execution_count": 18,
   "metadata": {},
   "outputs": [],
   "source": [
    "# diff = compare_smd['number_of_candidates_old'] != compare_smd['number_of_candidates_new']"
   ]
  },
  {
   "cell_type": "code",
   "execution_count": 19,
   "metadata": {},
   "outputs": [],
   "source": [
    "# sum(diff)"
   ]
  },
  {
   "cell_type": "code",
   "execution_count": 20,
   "metadata": {},
   "outputs": [],
   "source": [
    "# compare_smd.loc[diff, [\n",
    "#     'district'\n",
    "#     , 'list_of_candidates_old'\n",
    "#     , 'list_of_candidates_new'\n",
    "# ]].to_clipboard(index=False)"
   ]
  },
  {
   "cell_type": "code",
   "execution_count": null,
   "metadata": {},
   "outputs": [],
   "source": []
  }
 ],
 "metadata": {
  "kernelspec": {
   "display_name": "Python 3",
   "language": "python",
   "name": "python3"
  },
  "language_info": {
   "codemirror_mode": {
    "name": "ipython",
    "version": 3
   },
   "file_extension": ".py",
   "mimetype": "text/x-python",
   "name": "python",
   "nbconvert_exporter": "python",
   "pygments_lexer": "ipython3",
   "version": "3.7.1"
  }
 },
 "nbformat": 4,
 "nbformat_minor": 4
}
