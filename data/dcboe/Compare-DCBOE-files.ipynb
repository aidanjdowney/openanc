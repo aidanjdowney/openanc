{
 "cells": [
  {
   "cell_type": "markdown",
   "metadata": {},
   "source": [
    "Take two DCBOE files and find differences based on the hashes. \n",
    "\n",
    "* old_dcboe = the CSV in the current head commit\n",
    "* new_dcboe = the CSV in the current working directory, not yet committed"
   ]
  },
  {
   "cell_type": "code",
   "execution_count": 1,
   "metadata": {},
   "outputs": [],
   "source": [
    "import io\n",
    "import os\n",
    "import pandas as pd\n",
    "from git import Repo\n",
    "\n",
    "os.chdir('../..') # root of repo is two directories above this notebook"
   ]
  },
  {
   "cell_type": "code",
   "execution_count": 2,
   "metadata": {},
   "outputs": [],
   "source": [
    "csv_file_path = 'data/dcboe/candidates_dcboe.csv'\n",
    "\n",
    "oa_repo = Repo('.') \n",
    "commit = oa_repo.head.commit\n",
    "targetfile = commit.tree / csv_file_path\n",
    "\n",
    "with io.BytesIO(targetfile.data_stream.read()) as f:\n",
    "    old_dcboe = pd.read_table(f, sep=',', encoding='utf-8')"
   ]
  },
  {
   "cell_type": "code",
   "execution_count": 3,
   "metadata": {},
   "outputs": [],
   "source": [
    "new_dcboe = pd.read_csv(csv_file_path)"
   ]
  },
  {
   "cell_type": "code",
   "execution_count": 4,
   "metadata": {},
   "outputs": [
    {
     "data": {
      "text/plain": [
       "420"
      ]
     },
     "execution_count": 4,
     "metadata": {},
     "output_type": "execute_result"
    }
   ],
   "source": [
    "len(old_dcboe)"
   ]
  },
  {
   "cell_type": "code",
   "execution_count": 5,
   "metadata": {},
   "outputs": [
    {
     "data": {
      "text/plain": [
       "420"
      ]
     },
     "execution_count": 5,
     "metadata": {},
     "output_type": "execute_result"
    }
   ],
   "source": [
    "len(new_dcboe)"
   ]
  },
  {
   "cell_type": "markdown",
   "metadata": {},
   "source": [
    "## Old hashes not in new file"
   ]
  },
  {
   "cell_type": "code",
   "execution_count": 6,
   "metadata": {},
   "outputs": [
    {
     "data": {
      "text/html": [
       "<div>\n",
       "<style scoped>\n",
       "    .dataframe tbody tr th:only-of-type {\n",
       "        vertical-align: middle;\n",
       "    }\n",
       "\n",
       "    .dataframe tbody tr th {\n",
       "        vertical-align: top;\n",
       "    }\n",
       "\n",
       "    .dataframe thead th {\n",
       "        text-align: right;\n",
       "    }\n",
       "</style>\n",
       "<table border=\"1\" class=\"dataframe\">\n",
       "  <thead>\n",
       "    <tr style=\"text-align: right;\">\n",
       "      <th></th>\n",
       "      <th>dcboe_hash_id</th>\n",
       "      <th>smd_id</th>\n",
       "      <th>candidate_name</th>\n",
       "      <th>pickup_date</th>\n",
       "      <th>filed_date</th>\n",
       "    </tr>\n",
       "  </thead>\n",
       "  <tbody>\n",
       "    <tr>\n",
       "      <th>227</th>\n",
       "      <td>0412ea8a9cf9c03d0744c9e8f6c89064f8692ec6ca32fe...</td>\n",
       "      <td>smd_5D02</td>\n",
       "      <td>Cameron Brown</td>\n",
       "      <td>2020-08-03</td>\n",
       "      <td>2020-08-05</td>\n",
       "    </tr>\n",
       "    <tr>\n",
       "      <th>286</th>\n",
       "      <td>97dc1b7950240e70ca562b808b8017f4d334573452e36f...</td>\n",
       "      <td>smd_6C04</td>\n",
       "      <td>Pranav Nanda</td>\n",
       "      <td>2020-06-30</td>\n",
       "      <td>2020-08-04</td>\n",
       "    </tr>\n",
       "    <tr>\n",
       "      <th>326</th>\n",
       "      <td>7e6eff492c2dcca912c54ae1dc711dd7f1f0f4e238a005...</td>\n",
       "      <td>smd_7C03</td>\n",
       "      <td>Vincent Van</td>\n",
       "      <td>2020-06-26</td>\n",
       "      <td>2020-08-03</td>\n",
       "    </tr>\n",
       "  </tbody>\n",
       "</table>\n",
       "</div>"
      ],
      "text/plain": [
       "                                         dcboe_hash_id    smd_id  \\\n",
       "227  0412ea8a9cf9c03d0744c9e8f6c89064f8692ec6ca32fe...  smd_5D02   \n",
       "286  97dc1b7950240e70ca562b808b8017f4d334573452e36f...  smd_6C04   \n",
       "326  7e6eff492c2dcca912c54ae1dc711dd7f1f0f4e238a005...  smd_7C03   \n",
       "\n",
       "    candidate_name pickup_date  filed_date  \n",
       "227  Cameron Brown  2020-08-03  2020-08-05  \n",
       "286   Pranav Nanda  2020-06-30  2020-08-04  \n",
       "326    Vincent Van  2020-06-26  2020-08-03  "
      ]
     },
     "execution_count": 6,
     "metadata": {},
     "output_type": "execute_result"
    }
   ],
   "source": [
    "old_hashes_not_in_new = ~( old_dcboe['dcboe_hash_id'].isin(new_dcboe['dcboe_hash_id']))\n",
    "old_dcboe[old_hashes_not_in_new]"
   ]
  },
  {
   "cell_type": "markdown",
   "metadata": {},
   "source": [
    "## New hashes not in old file"
   ]
  },
  {
   "cell_type": "code",
   "execution_count": 7,
   "metadata": {},
   "outputs": [
    {
     "data": {
      "text/html": [
       "<div>\n",
       "<style scoped>\n",
       "    .dataframe tbody tr th:only-of-type {\n",
       "        vertical-align: middle;\n",
       "    }\n",
       "\n",
       "    .dataframe tbody tr th {\n",
       "        vertical-align: top;\n",
       "    }\n",
       "\n",
       "    .dataframe thead th {\n",
       "        text-align: right;\n",
       "    }\n",
       "</style>\n",
       "<table border=\"1\" class=\"dataframe\">\n",
       "  <thead>\n",
       "    <tr style=\"text-align: right;\">\n",
       "      <th></th>\n",
       "      <th>dcboe_hash_id</th>\n",
       "      <th>smd_id</th>\n",
       "      <th>candidate_name</th>\n",
       "      <th>pickup_date</th>\n",
       "      <th>filed_date</th>\n",
       "    </tr>\n",
       "  </thead>\n",
       "  <tbody>\n",
       "    <tr>\n",
       "      <th>267</th>\n",
       "      <td>02647cfc9fba7e5e15efc35629f391c7cb0be97813d4e8...</td>\n",
       "      <td>smd_6A07</td>\n",
       "      <td>Rico Dancy</td>\n",
       "      <td>2020-07-22</td>\n",
       "      <td>2020-08-05</td>\n",
       "    </tr>\n",
       "    <tr>\n",
       "      <th>325</th>\n",
       "      <td>00969a9abd072c6fc2c620ae89aad6b3b60ee63648b21c...</td>\n",
       "      <td>smd_7C03</td>\n",
       "      <td>Vince Van</td>\n",
       "      <td>2020-06-26</td>\n",
       "      <td>2020-08-03</td>\n",
       "    </tr>\n",
       "    <tr>\n",
       "      <th>399</th>\n",
       "      <td>9bd61943b16542005aa92a0ab6066a18e51a92b76bc8e8...</td>\n",
       "      <td>smd_8D01</td>\n",
       "      <td>Patricia Carmon</td>\n",
       "      <td>2020-07-17</td>\n",
       "      <td>2020-08-05</td>\n",
       "    </tr>\n",
       "  </tbody>\n",
       "</table>\n",
       "</div>"
      ],
      "text/plain": [
       "                                         dcboe_hash_id    smd_id  \\\n",
       "267  02647cfc9fba7e5e15efc35629f391c7cb0be97813d4e8...  smd_6A07   \n",
       "325  00969a9abd072c6fc2c620ae89aad6b3b60ee63648b21c...  smd_7C03   \n",
       "399  9bd61943b16542005aa92a0ab6066a18e51a92b76bc8e8...  smd_8D01   \n",
       "\n",
       "      candidate_name pickup_date  filed_date  \n",
       "267       Rico Dancy  2020-07-22  2020-08-05  \n",
       "325        Vince Van  2020-06-26  2020-08-03  \n",
       "399  Patricia Carmon  2020-07-17  2020-08-05  "
      ]
     },
     "execution_count": 7,
     "metadata": {},
     "output_type": "execute_result"
    }
   ],
   "source": [
    "new_hashes_not_in_old = ~( new_dcboe['dcboe_hash_id'].isin(old_dcboe['dcboe_hash_id']))\n",
    "new_dcboe[new_hashes_not_in_old]"
   ]
  },
  {
   "cell_type": "markdown",
   "metadata": {},
   "source": [
    "## Same hash, changed info\n",
    "\n",
    "Have any fields changed on the same hash? "
   ]
  },
  {
   "cell_type": "code",
   "execution_count": 8,
   "metadata": {},
   "outputs": [],
   "source": [
    "df = pd.merge(old_dcboe, new_dcboe, how='inner', on='dcboe_hash_id', suffixes=['_old', '_new'])"
   ]
  },
  {
   "cell_type": "code",
   "execution_count": 9,
   "metadata": {},
   "outputs": [
    {
     "name": "stdout",
     "output_type": "stream",
     "text": [
      "                                         dcboe_hash_id smd_id_old  \\\n",
      "371  a18cc1ecaaf81f445eeb1e80ddc7d01168aa3d278ea46f...   smd_8A06   \n",
      "\n",
      "    candidate_name_old pickup_date_old filed_date_old smd_id_new  \\\n",
      "371  Kristina Leszczak      2020-08-26            NaN   smd_8A06   \n",
      "\n",
      "    candidate_name_new pickup_date_new filed_date_new  \n",
      "371  Kristina Leszczak      2020-08-26            NaN  \n"
     ]
    }
   ],
   "source": [
    "columns_to_check = [c for c in old_dcboe.columns if c != 'dcboe_hash_id']\n",
    "\n",
    "for c in columns_to_check:\n",
    "    num_differences = sum(df[c + '_old'] != df[c + '_new'])\n",
    "    if num_differences > 0:\n",
    "        print(df[df[c + '_old'] != df[c + '_new']])"
   ]
  },
  {
   "cell_type": "code",
   "execution_count": null,
   "metadata": {},
   "outputs": [],
   "source": []
  }
 ],
 "metadata": {
  "kernelspec": {
   "display_name": "Python 3",
   "language": "python",
   "name": "python3"
  },
  "language_info": {
   "codemirror_mode": {
    "name": "ipython",
    "version": 3
   },
   "file_extension": ".py",
   "mimetype": "text/x-python",
   "name": "python",
   "nbconvert_exporter": "python",
   "pygments_lexer": "ipython3",
   "version": "3.7.1"
  }
 },
 "nbformat": 4,
 "nbformat_minor": 4
}
