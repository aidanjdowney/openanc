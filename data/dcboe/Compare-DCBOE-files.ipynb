{
 "cells": [
  {
   "cell_type": "markdown",
   "metadata": {},
   "source": [
    "Take two DCBOE files and find differences based on the hashes. \n",
    "\n",
    "* old_dcboe = the CSV in the current head commit\n",
    "* new_dcboe = the CSV in the current working directory, not yet committed"
   ]
  },
  {
   "cell_type": "code",
   "execution_count": 1,
   "metadata": {},
   "outputs": [],
   "source": [
    "import io\n",
    "import os\n",
    "import pandas as pd\n",
    "from git import Repo\n",
    "\n",
    "os.chdir('../..') # root of repo is two directories above this notebook"
   ]
  },
  {
   "cell_type": "code",
   "execution_count": 2,
   "metadata": {},
   "outputs": [],
   "source": [
    "csv_file_path = 'data/dcboe/candidates_dcboe.csv'\n",
    "\n",
    "oa_repo = Repo('.') \n",
    "commit = oa_repo.head.commit\n",
    "targetfile = commit.tree / csv_file_path\n",
    "\n",
    "with io.BytesIO(targetfile.data_stream.read()) as f:\n",
    "    old_dcboe = pd.read_table(f, sep=',', encoding='utf-8')"
   ]
  },
  {
   "cell_type": "code",
   "execution_count": 3,
   "metadata": {},
   "outputs": [],
   "source": [
    "new_dcboe = pd.read_csv(csv_file_path)"
   ]
  },
  {
   "cell_type": "code",
   "execution_count": 4,
   "metadata": {},
   "outputs": [
    {
     "data": {
      "text/plain": [
       "411"
      ]
     },
     "execution_count": 4,
     "metadata": {},
     "output_type": "execute_result"
    }
   ],
   "source": [
    "len(old_dcboe)"
   ]
  },
  {
   "cell_type": "code",
   "execution_count": 5,
   "metadata": {},
   "outputs": [
    {
     "data": {
      "text/plain": [
       "402"
      ]
     },
     "execution_count": 5,
     "metadata": {},
     "output_type": "execute_result"
    }
   ],
   "source": [
    "len(new_dcboe)"
   ]
  },
  {
   "cell_type": "code",
   "execution_count": 6,
   "metadata": {},
   "outputs": [
    {
     "data": {
      "text/plain": [
       "-9"
      ]
     },
     "execution_count": 6,
     "metadata": {},
     "output_type": "execute_result"
    }
   ],
   "source": [
    "# Change in number of active candidates\n",
    "len(new_dcboe) - len(old_dcboe)"
   ]
  },
  {
   "cell_type": "markdown",
   "metadata": {},
   "source": [
    "## Old hashes not in new file\n",
    "\n",
    "Candidates who will no longer be on the ballot.  "
   ]
  },
  {
   "cell_type": "code",
   "execution_count": 7,
   "metadata": {},
   "outputs": [
    {
     "data": {
      "text/html": [
       "<div>\n",
       "<style scoped>\n",
       "    .dataframe tbody tr th:only-of-type {\n",
       "        vertical-align: middle;\n",
       "    }\n",
       "\n",
       "    .dataframe tbody tr th {\n",
       "        vertical-align: top;\n",
       "    }\n",
       "\n",
       "    .dataframe thead th {\n",
       "        text-align: right;\n",
       "    }\n",
       "</style>\n",
       "<table border=\"1\" class=\"dataframe\">\n",
       "  <thead>\n",
       "    <tr style=\"text-align: right;\">\n",
       "      <th></th>\n",
       "      <th>smd_id</th>\n",
       "      <th>candidate_name</th>\n",
       "    </tr>\n",
       "  </thead>\n",
       "  <tbody>\n",
       "    <tr>\n",
       "      <th>20</th>\n",
       "      <td>smd_1B07</td>\n",
       "      <td>Marcia Shia</td>\n",
       "    </tr>\n",
       "    <tr>\n",
       "      <th>21</th>\n",
       "      <td>smd_1B08</td>\n",
       "      <td>Joshua Mater</td>\n",
       "    </tr>\n",
       "    <tr>\n",
       "      <th>26</th>\n",
       "      <td>smd_1B12</td>\n",
       "      <td>Andre Denegri</td>\n",
       "    </tr>\n",
       "    <tr>\n",
       "      <th>27</th>\n",
       "      <td>smd_1B12</td>\n",
       "      <td>Michael Singer</td>\n",
       "    </tr>\n",
       "    <tr>\n",
       "      <th>49</th>\n",
       "      <td>smd_2A03</td>\n",
       "      <td>Trupti Patel</td>\n",
       "    </tr>\n",
       "    <tr>\n",
       "      <th>...</th>\n",
       "      <td>...</td>\n",
       "      <td>...</td>\n",
       "    </tr>\n",
       "    <tr>\n",
       "      <th>386</th>\n",
       "      <td>smd_8C04</td>\n",
       "      <td>Regina Pixley</td>\n",
       "    </tr>\n",
       "    <tr>\n",
       "      <th>388</th>\n",
       "      <td>smd_8C04</td>\n",
       "      <td>Travon Hawkins</td>\n",
       "    </tr>\n",
       "    <tr>\n",
       "      <th>392</th>\n",
       "      <td>smd_8D01</td>\n",
       "      <td>Patricia Carmon</td>\n",
       "    </tr>\n",
       "    <tr>\n",
       "      <th>400</th>\n",
       "      <td>smd_8E01</td>\n",
       "      <td>Shekita McBroom</td>\n",
       "    </tr>\n",
       "    <tr>\n",
       "      <th>402</th>\n",
       "      <td>smd_8E02</td>\n",
       "      <td>Bruce C. Jones III</td>\n",
       "    </tr>\n",
       "  </tbody>\n",
       "</table>\n",
       "<p>80 rows × 2 columns</p>\n",
       "</div>"
      ],
      "text/plain": [
       "       smd_id      candidate_name\n",
       "20   smd_1B07         Marcia Shia\n",
       "21   smd_1B08        Joshua Mater\n",
       "26   smd_1B12       Andre Denegri\n",
       "27   smd_1B12      Michael Singer\n",
       "49   smd_2A03        Trupti Patel\n",
       "..        ...                 ...\n",
       "386  smd_8C04       Regina Pixley\n",
       "388  smd_8C04      Travon Hawkins\n",
       "392  smd_8D01     Patricia Carmon\n",
       "400  smd_8E01     Shekita McBroom\n",
       "402  smd_8E02  Bruce C. Jones III\n",
       "\n",
       "[80 rows x 2 columns]"
      ]
     },
     "execution_count": 7,
     "metadata": {},
     "output_type": "execute_result"
    }
   ],
   "source": [
    "old_hashes_not_in_new = ~( old_dcboe['dcboe_hash_id'].isin(new_dcboe['dcboe_hash_id']))\n",
    "old_dcboe[old_hashes_not_in_new][['smd_id', 'candidate_name']]"
   ]
  },
  {
   "cell_type": "code",
   "execution_count": 8,
   "metadata": {},
   "outputs": [],
   "source": [
    "old_dcboe['smd_name'] = old_dcboe['smd_id'].str.replace('smd_', '') + ': ' + old_dcboe['candidate_name']\n",
    "old_dcboe[old_hashes_not_in_new][['smd_name']].to_clipboard(index=False)"
   ]
  },
  {
   "cell_type": "markdown",
   "metadata": {},
   "source": [
    "## New hashes not in old file"
   ]
  },
  {
   "cell_type": "code",
   "execution_count": 9,
   "metadata": {},
   "outputs": [
    {
     "data": {
      "text/html": [
       "<div>\n",
       "<style scoped>\n",
       "    .dataframe tbody tr th:only-of-type {\n",
       "        vertical-align: middle;\n",
       "    }\n",
       "\n",
       "    .dataframe tbody tr th {\n",
       "        vertical-align: top;\n",
       "    }\n",
       "\n",
       "    .dataframe thead th {\n",
       "        text-align: right;\n",
       "    }\n",
       "</style>\n",
       "<table border=\"1\" class=\"dataframe\">\n",
       "  <thead>\n",
       "    <tr style=\"text-align: right;\">\n",
       "      <th></th>\n",
       "      <th>dcboe_hash_id</th>\n",
       "      <th>smd_id</th>\n",
       "      <th>candidate_name</th>\n",
       "      <th>pickup_date</th>\n",
       "      <th>filed_date</th>\n",
       "    </tr>\n",
       "  </thead>\n",
       "  <tbody>\n",
       "    <tr>\n",
       "      <th>21</th>\n",
       "      <td>0db14722274a4c02bc71460868357252045f02ff5e9155...</td>\n",
       "      <td>smd_1B08</td>\n",
       "      <td>Joshua Ryan Mater</td>\n",
       "      <td>2020-07-29</td>\n",
       "      <td>2020-08-04</td>\n",
       "    </tr>\n",
       "    <tr>\n",
       "      <th>25</th>\n",
       "      <td>fca97272cb92a481e754badb69763c5ceb25fce585ef3b...</td>\n",
       "      <td>smd_1B12</td>\n",
       "      <td>Michael \"Mike\" Singer</td>\n",
       "      <td>2020-07-15</td>\n",
       "      <td>2020-08-04</td>\n",
       "    </tr>\n",
       "    <tr>\n",
       "      <th>47</th>\n",
       "      <td>fe0ed8e2962c47ff06bb27df80e7c440c66019905ca70b...</td>\n",
       "      <td>smd_2A03</td>\n",
       "      <td>Trupti \"Trip\" J. Patel</td>\n",
       "      <td>2020-07-06</td>\n",
       "      <td>2020-08-05</td>\n",
       "    </tr>\n",
       "    <tr>\n",
       "      <th>49</th>\n",
       "      <td>fe1e426543050ed50a06cf28f3d274b34233aa5ebf3562...</td>\n",
       "      <td>smd_2B01</td>\n",
       "      <td>Meg Roggensack</td>\n",
       "      <td>2020-07-08</td>\n",
       "      <td>2020-07-17</td>\n",
       "    </tr>\n",
       "    <tr>\n",
       "      <th>65</th>\n",
       "      <td>6aa96a6071c63f6af8e58c941013728ba3f0192ed784dc...</td>\n",
       "      <td>smd_2C02</td>\n",
       "      <td>Will Mascaro</td>\n",
       "      <td>2020-08-03</td>\n",
       "      <td>2020-08-05</td>\n",
       "    </tr>\n",
       "    <tr>\n",
       "      <th>...</th>\n",
       "      <td>...</td>\n",
       "      <td>...</td>\n",
       "      <td>...</td>\n",
       "      <td>...</td>\n",
       "      <td>...</td>\n",
       "    </tr>\n",
       "    <tr>\n",
       "      <th>377</th>\n",
       "      <td>65d5b028c5c1d4125cb7fe38e4bffcbdb3b9fd3d68bda2...</td>\n",
       "      <td>smd_8C04</td>\n",
       "      <td>Regina Sharlita Pixley</td>\n",
       "      <td>2020-06-26</td>\n",
       "      <td>2020-07-02</td>\n",
       "    </tr>\n",
       "    <tr>\n",
       "      <th>379</th>\n",
       "      <td>e805ed63c74a845e8d943f4f96a4e7e6f4f73b8ee75ed8...</td>\n",
       "      <td>smd_8C04</td>\n",
       "      <td>Travon \"Ward8\" Hawkins</td>\n",
       "      <td>2020-08-05</td>\n",
       "      <td>2020-08-05</td>\n",
       "    </tr>\n",
       "    <tr>\n",
       "      <th>383</th>\n",
       "      <td>a512be8fd611558995388673b780a2d2c138dd3d31ebf0...</td>\n",
       "      <td>smd_8D01</td>\n",
       "      <td>Patricia \"Pat\" Carmon</td>\n",
       "      <td>2020-07-17</td>\n",
       "      <td>2020-08-05</td>\n",
       "    </tr>\n",
       "    <tr>\n",
       "      <th>391</th>\n",
       "      <td>bd39a6aed99ae20deca74d79c69f86375eff318c1223d4...</td>\n",
       "      <td>smd_8E01</td>\n",
       "      <td>Shekita \"Ki-Ki\" McBroom</td>\n",
       "      <td>2020-07-17</td>\n",
       "      <td>2020-08-05</td>\n",
       "    </tr>\n",
       "    <tr>\n",
       "      <th>393</th>\n",
       "      <td>3fd064999e5a1301f781cadedde0ed30ffd4ff2befc8b8...</td>\n",
       "      <td>smd_8E02</td>\n",
       "      <td>Bruce Jones</td>\n",
       "      <td>2020-07-06</td>\n",
       "      <td>2020-07-15</td>\n",
       "    </tr>\n",
       "  </tbody>\n",
       "</table>\n",
       "<p>71 rows × 5 columns</p>\n",
       "</div>"
      ],
      "text/plain": [
       "                                         dcboe_hash_id    smd_id  \\\n",
       "21   0db14722274a4c02bc71460868357252045f02ff5e9155...  smd_1B08   \n",
       "25   fca97272cb92a481e754badb69763c5ceb25fce585ef3b...  smd_1B12   \n",
       "47   fe0ed8e2962c47ff06bb27df80e7c440c66019905ca70b...  smd_2A03   \n",
       "49   fe1e426543050ed50a06cf28f3d274b34233aa5ebf3562...  smd_2B01   \n",
       "65   6aa96a6071c63f6af8e58c941013728ba3f0192ed784dc...  smd_2C02   \n",
       "..                                                 ...       ...   \n",
       "377  65d5b028c5c1d4125cb7fe38e4bffcbdb3b9fd3d68bda2...  smd_8C04   \n",
       "379  e805ed63c74a845e8d943f4f96a4e7e6f4f73b8ee75ed8...  smd_8C04   \n",
       "383  a512be8fd611558995388673b780a2d2c138dd3d31ebf0...  smd_8D01   \n",
       "391  bd39a6aed99ae20deca74d79c69f86375eff318c1223d4...  smd_8E01   \n",
       "393  3fd064999e5a1301f781cadedde0ed30ffd4ff2befc8b8...  smd_8E02   \n",
       "\n",
       "              candidate_name pickup_date  filed_date  \n",
       "21         Joshua Ryan Mater  2020-07-29  2020-08-04  \n",
       "25     Michael \"Mike\" Singer  2020-07-15  2020-08-04  \n",
       "47    Trupti \"Trip\" J. Patel  2020-07-06  2020-08-05  \n",
       "49            Meg Roggensack  2020-07-08  2020-07-17  \n",
       "65              Will Mascaro  2020-08-03  2020-08-05  \n",
       "..                       ...         ...         ...  \n",
       "377   Regina Sharlita Pixley  2020-06-26  2020-07-02  \n",
       "379   Travon \"Ward8\" Hawkins  2020-08-05  2020-08-05  \n",
       "383    Patricia \"Pat\" Carmon  2020-07-17  2020-08-05  \n",
       "391  Shekita \"Ki-Ki\" McBroom  2020-07-17  2020-08-05  \n",
       "393              Bruce Jones  2020-07-06  2020-07-15  \n",
       "\n",
       "[71 rows x 5 columns]"
      ]
     },
     "execution_count": 9,
     "metadata": {},
     "output_type": "execute_result"
    }
   ],
   "source": [
    "new_hashes_not_in_old = ~( new_dcboe['dcboe_hash_id'].isin(old_dcboe['dcboe_hash_id']))\n",
    "new_dcboe[new_hashes_not_in_old]"
   ]
  },
  {
   "cell_type": "markdown",
   "metadata": {},
   "source": [
    "## Same hash, changed info\n",
    "\n",
    "Have any fields changed on the same hash? "
   ]
  },
  {
   "cell_type": "code",
   "execution_count": 10,
   "metadata": {},
   "outputs": [],
   "source": [
    "df = pd.merge(old_dcboe, new_dcboe, how='inner', on='dcboe_hash_id', suffixes=['_old', '_new'])"
   ]
  },
  {
   "cell_type": "code",
   "execution_count": 11,
   "metadata": {},
   "outputs": [],
   "source": [
    "columns_to_check = [c for c in new_dcboe.columns if c != 'dcboe_hash_id']\n",
    "\n",
    "for c in columns_to_check:\n",
    "    num_differences = sum(df[c + '_old'] != df[c + '_new'])\n",
    "    if num_differences > 0:\n",
    "        print(df[df[c + '_old'] != df[c + '_new']])"
   ]
  },
  {
   "cell_type": "markdown",
   "metadata": {},
   "source": [
    "## Compare counts by district"
   ]
  },
  {
   "cell_type": "code",
   "execution_count": 12,
   "metadata": {},
   "outputs": [],
   "source": [
    "from scripts.refresh_data import RefreshData\n",
    "rd = RefreshData()\n",
    "new_smd = rd.assemble_smd_info()"
   ]
  },
  {
   "cell_type": "code",
   "execution_count": 13,
   "metadata": {},
   "outputs": [
    {
     "data": {
      "text/plain": [
       "406"
      ]
     },
     "execution_count": 13,
     "metadata": {},
     "output_type": "execute_result"
    }
   ],
   "source": [
    "new_smd['number_of_candidates'].sum()"
   ]
  },
  {
   "cell_type": "code",
   "execution_count": 14,
   "metadata": {},
   "outputs": [],
   "source": [
    "# smd_df.to_csv('smd_df_old.csv', index=False)"
   ]
  },
  {
   "cell_type": "code",
   "execution_count": 15,
   "metadata": {},
   "outputs": [],
   "source": [
    "old_smd = pd.read_csv('/Users/devin/Dropbox/OpenANC/smd_df_2020-09-03.csv')"
   ]
  },
  {
   "cell_type": "code",
   "execution_count": 16,
   "metadata": {},
   "outputs": [],
   "source": [
    "compare_smd = pd.merge(old_smd, new_smd, how='inner', on='smd_id', suffixes=['_old', '_new'])"
   ]
  },
  {
   "cell_type": "code",
   "execution_count": 17,
   "metadata": {},
   "outputs": [],
   "source": [
    "compare_smd['district'] = compare_smd['smd_id'].str.replace('smd_', '')"
   ]
  },
  {
   "cell_type": "code",
   "execution_count": 18,
   "metadata": {},
   "outputs": [],
   "source": [
    "diff = compare_smd['number_of_candidates_old'] != compare_smd['number_of_candidates_new']"
   ]
  },
  {
   "cell_type": "code",
   "execution_count": 19,
   "metadata": {},
   "outputs": [
    {
     "data": {
      "text/plain": [
       "9"
      ]
     },
     "execution_count": 19,
     "metadata": {},
     "output_type": "execute_result"
    }
   ],
   "source": [
    "sum(diff)"
   ]
  },
  {
   "cell_type": "code",
   "execution_count": 20,
   "metadata": {},
   "outputs": [],
   "source": [
    "compare_smd.loc[diff, [\n",
    "    'district'\n",
    "    , 'list_of_candidates_old'\n",
    "    , 'list_of_candidates_new'\n",
    "]].to_clipboard(index=False)"
   ]
  },
  {
   "cell_type": "code",
   "execution_count": null,
   "metadata": {},
   "outputs": [],
   "source": []
  }
 ],
 "metadata": {
  "kernelspec": {
   "display_name": "Python 3",
   "language": "python",
   "name": "python3"
  },
  "language_info": {
   "codemirror_mode": {
    "name": "ipython",
    "version": 3
   },
   "file_extension": ".py",
   "mimetype": "text/x-python",
   "name": "python",
   "nbconvert_exporter": "python",
   "pygments_lexer": "ipython3",
   "version": "3.7.1"
  }
 },
 "nbformat": 4,
 "nbformat_minor": 4
}
