{
 "cells": [
  {
   "cell_type": "markdown",
   "metadata": {},
   "source": [
    "Update commissioners after election results."
   ]
  },
  {
   "cell_type": "code",
   "execution_count": 1,
   "metadata": {},
   "outputs": [],
   "source": [
    "import pytz\n",
    "import pandas as pd\n",
    "from datetime import datetime"
   ]
  },
  {
   "cell_type": "code",
   "execution_count": 2,
   "metadata": {},
   "outputs": [],
   "source": [
    "people = pd.read_csv('../data/people.csv')\n",
    "commissioners = pd.read_csv('../data/commissioners.csv')\n",
    "results = pd.read_csv('../data/results.csv')\n",
    "candidates = pd.read_csv('../data/candidates.csv')"
   ]
  },
  {
   "cell_type": "code",
   "execution_count": 3,
   "metadata": {},
   "outputs": [],
   "source": [
    "tz = pytz.timezone('America/New_York')\n",
    "dc_now = datetime.now(tz)\n",
    "\n",
    "commissioners['start_date'] = pd.to_datetime(commissioners['start_date']).dt.tz_localize(tz='America/New_York')\n",
    "commissioners['end_date'] = pd.to_datetime(commissioners['end_date']).dt.tz_localize(tz='America/New_York')\n",
    "\n",
    "commissioners['is_current'] = (commissioners.start_date < dc_now) & (dc_now < commissioners.end_date)"
   ]
  },
  {
   "cell_type": "code",
   "execution_count": 4,
   "metadata": {},
   "outputs": [],
   "source": [
    "results_cand = pd.merge(results, candidates, how='inner', on='candidate_id')\n",
    "results_cand_people = pd.merge(results_cand, people, how='inner', on='person_id')\n",
    "results_cand_people_comm = pd.merge(results_cand_people, commissioners, how='inner', on='person_id')"
   ]
  },
  {
   "cell_type": "code",
   "execution_count": 6,
   "metadata": {},
   "outputs": [
    {
     "data": {
      "text/plain": [
       "0      10003\n",
       "1      10005\n",
       "2      10008\n",
       "3      10009\n",
       "4      10010\n",
       "       ...  \n",
       "161    10149\n",
       "162    10232\n",
       "163    10016\n",
       "164    10119\n",
       "165    10151\n",
       "Name: person_id, Length: 144, dtype: int64"
      ]
     },
     "execution_count": 6,
     "metadata": {},
     "output_type": "execute_result"
    }
   ],
   "source": [
    "# copy these to the google sheet\n",
    "results_cand_people_comm.loc[results_cand_people_comm.winner, 'person_id'] #.to_clipboard()"
   ]
  },
  {
   "cell_type": "code",
   "execution_count": 7,
   "metadata": {},
   "outputs": [
    {
     "data": {
      "text/plain": [
       "9      10026\n",
       "16     10044\n",
       "24     10072\n",
       "56     10361\n",
       "69     10181\n",
       "92     10222\n",
       "101    10261\n",
       "103    10266\n",
       "104    10267\n",
       "108    10276\n",
       "121    10283\n",
       "126    10247\n",
       "136    10030\n",
       "142    10238\n",
       "143    10241\n",
       "144    10282\n",
       "145    10284\n",
       "146    10051\n",
       "150    10025\n",
       "151    10071\n",
       "155    10180\n",
       "160    10019\n",
       "Name: person_id, dtype: int64"
      ]
     },
     "execution_count": 7,
     "metadata": {},
     "output_type": "execute_result"
    }
   ],
   "source": [
    "results_cand_people_comm.loc[~results_cand_people_comm.winner, 'person_id'] #.to_clipboard()"
   ]
  },
  {
   "cell_type": "code",
   "execution_count": null,
   "metadata": {},
   "outputs": [],
   "source": []
  }
 ],
 "metadata": {
  "kernelspec": {
   "display_name": "Python 3",
   "language": "python",
   "name": "python3"
  },
  "language_info": {
   "codemirror_mode": {
    "name": "ipython",
    "version": 3
   },
   "file_extension": ".py",
   "mimetype": "text/x-python",
   "name": "python",
   "nbconvert_exporter": "python",
   "pygments_lexer": "ipython3",
   "version": "3.7.1"
  }
 },
 "nbformat": 4,
 "nbformat_minor": 4
}
