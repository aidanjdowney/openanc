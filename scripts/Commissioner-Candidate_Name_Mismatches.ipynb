{
 "cells": [
  {
   "cell_type": "code",
   "execution_count": 1,
   "metadata": {},
   "outputs": [],
   "source": [
    "import pandas as pd"
   ]
  },
  {
   "cell_type": "code",
   "execution_count": 2,
   "metadata": {},
   "outputs": [],
   "source": [
    "# Are there other candidates like Christine Miller who have different names in the DCBOE pdf? \n",
    "people = pd.read_csv('data/people.csv')\n",
    "candidates = pd.read_csv('data/candidates.csv')\n",
    "districts = pd.read_csv('data/districts.csv')"
   ]
  },
  {
   "cell_type": "code",
   "execution_count": 3,
   "metadata": {},
   "outputs": [],
   "source": [
    "candidate_people = pd.merge(candidates, people, how='inner', on='person_id')\n",
    "candidate_people.rename(columns={'full_name': 'full_name_candidate'}, inplace=True)\n",
    "\n",
    "district_candidates = pd.merge(districts, candidate_people, how='left', on='smd_id')\n",
    "\n",
    "district_info = district_candidates.groupby(['smd_id']).agg({\n",
    "    'full_name_candidate': list\n",
    "    , 'candidate_id': 'count'\n",
    "}).reset_index()\n",
    "\n",
    "district_info.rename(columns={\n",
    "    'full_name_candidate': 'list_of_candidates'\n",
    "    , 'candidate_id': 'number_of_candidates'\n",
    "    }, inplace=True)"
   ]
  },
  {
   "cell_type": "code",
   "execution_count": null,
   "metadata": {},
   "outputs": [],
   "source": []
  },
  {
   "cell_type": "code",
   "execution_count": 4,
   "metadata": {},
   "outputs": [],
   "source": [
    "people_districts = pd.merge(people, district_info, how='left', left_on='current_smd_id', right_on='smd_id')"
   ]
  },
  {
   "cell_type": "code",
   "execution_count": 5,
   "metadata": {},
   "outputs": [],
   "source": [
    "not_running_for_reelection = (\n",
    "    (people_districts['current_smd_id'] != 'not_currently_serving')\n",
    "    & (people_districts['running_for_smd_id'] == 'not_currently_running')\n",
    ")"
   ]
  },
  {
   "cell_type": "code",
   "execution_count": 6,
   "metadata": {},
   "outputs": [],
   "source": [
    "# people_districts[not_running_for_reelection].to_clipboard()"
   ]
  },
  {
   "cell_type": "code",
   "execution_count": null,
   "metadata": {},
   "outputs": [],
   "source": []
  }
 ],
 "metadata": {
  "kernelspec": {
   "display_name": "Python 3",
   "language": "python",
   "name": "python3"
  },
  "language_info": {
   "codemirror_mode": {
    "name": "ipython",
    "version": 3
   },
   "file_extension": ".py",
   "mimetype": "text/x-python",
   "name": "python",
   "nbconvert_exporter": "python",
   "pygments_lexer": "ipython3",
   "version": "3.7.1"
  }
 },
 "nbformat": 4,
 "nbformat_minor": 4
}
