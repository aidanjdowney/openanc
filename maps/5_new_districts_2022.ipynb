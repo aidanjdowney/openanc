{
 "cells": [
  {
   "cell_type": "markdown",
   "metadata": {},
   "source": [
    "# 5) New Districts 2022\n",
    "\n",
    "Format district data for adding to existing `districts` table."
   ]
  },
  {
   "cell_type": "code",
   "execution_count": 1,
   "metadata": {},
   "outputs": [],
   "source": [
    "import pandas as pd\n",
    "import geopandas as gpd"
   ]
  },
  {
   "cell_type": "code",
   "execution_count": 2,
   "metadata": {},
   "outputs": [],
   "source": [
    "districts = pd.read_csv('../data/districts.csv')\n",
    "map_2022 = gpd.read_file('smd-2022-preprocessed.geojson')\n",
    "label_points = pd.read_csv('label-points-2022.csv')\n",
    "new_map = pd.merge(map_2022, label_points[['smd_id', 'lon', 'lat']], how='inner', on='smd_id')"
   ]
  },
  {
   "cell_type": "code",
   "execution_count": 3,
   "metadata": {},
   "outputs": [
    {
     "data": {
      "text/plain": [
       "345"
      ]
     },
     "execution_count": 3,
     "metadata": {},
     "output_type": "execute_result"
    }
   ],
   "source": [
    "# Should be 345\n",
    "len(new_map)"
   ]
  },
  {
   "cell_type": "code",
   "execution_count": 4,
   "metadata": {},
   "outputs": [],
   "source": [
    "comp = pd.merge(new_map, districts, how='left', on='smd_id')"
   ]
  },
  {
   "cell_type": "code",
   "execution_count": 5,
   "metadata": {},
   "outputs": [],
   "source": [
    "# New districts in 2022\n",
    "# comp[comp.anc_id_y.isnull()].smd_id.tolist()"
   ]
  },
  {
   "cell_type": "code",
   "execution_count": 6,
   "metadata": {},
   "outputs": [],
   "source": [
    "# new_map.groupby('anc_id').size()"
   ]
  },
  {
   "cell_type": "code",
   "execution_count": 7,
   "metadata": {},
   "outputs": [],
   "source": [
    "# Specify the ward each SMD is in\n",
    "new_map['ward'] = new_map['anc_id'].str[0]"
   ]
  },
  {
   "cell_type": "code",
   "execution_count": 8,
   "metadata": {},
   "outputs": [],
   "source": [
    "# Manually set the 3/4G wards\n",
    "new_map.loc[new_map.smd_id.isin([\n",
    "    'smd_2022_3/4G05'\n",
    "    , 'smd_2022_3/4G06'\n",
    "    , 'smd_2022_3/4G07'\n",
    "]), 'ward'] = 3\n",
    "\n",
    "new_map.loc[new_map.smd_id.isin([\n",
    "    'smd_2022_3/4G01'\n",
    "    , 'smd_2022_3/4G02'\n",
    "    , 'smd_2022_3/4G03'\n",
    "    , 'smd_2022_3/4G04'\n",
    "]), 'ward'] = 4"
   ]
  },
  {
   "cell_type": "code",
   "execution_count": 9,
   "metadata": {},
   "outputs": [],
   "source": [
    "new_map['centroid_lon'] = new_map['lon']\n",
    "new_map['centroid_lat'] = new_map['lat']\n",
    "new_map['neighbor_smds'] = new_map['neighbors']\n",
    "new_map['redistricting_cycle'] = 2022\n",
    "new_map['smd_name'] = new_map['smd_id'].str.replace('smd_2022_', '')"
   ]
  },
  {
   "cell_type": "code",
   "execution_count": 10,
   "metadata": {},
   "outputs": [
    {
     "data": {
      "text/html": [
       "<div>\n",
       "<style scoped>\n",
       "    .dataframe tbody tr th:only-of-type {\n",
       "        vertical-align: middle;\n",
       "    }\n",
       "\n",
       "    .dataframe tbody tr th {\n",
       "        vertical-align: top;\n",
       "    }\n",
       "\n",
       "    .dataframe thead th {\n",
       "        text-align: right;\n",
       "    }\n",
       "</style>\n",
       "<table border=\"1\" class=\"dataframe\">\n",
       "  <thead>\n",
       "    <tr style=\"text-align: right;\">\n",
       "      <th></th>\n",
       "      <th>smd_id</th>\n",
       "      <th>redistricting_cycle</th>\n",
       "      <th>smd_name</th>\n",
       "      <th>anc_id</th>\n",
       "      <th>ward</th>\n",
       "      <th>centroid_lon</th>\n",
       "      <th>centroid_lat</th>\n",
       "      <th>area</th>\n",
       "      <th>map_color_id</th>\n",
       "      <th>neighbor_smds</th>\n",
       "    </tr>\n",
       "  </thead>\n",
       "  <tbody>\n",
       "    <tr>\n",
       "      <th>0</th>\n",
       "      <td>smd_2022_1A01</td>\n",
       "      <td>2022</td>\n",
       "      <td>1A01</td>\n",
       "      <td>1A</td>\n",
       "      <td>1</td>\n",
       "      <td>-77.034887</td>\n",
       "      <td>38.925734</td>\n",
       "      <td>None</td>\n",
       "      <td>12</td>\n",
       "      <td>smd_2022_1A03, smd_2022_1A08, smd_2022_1A09, s...</td>\n",
       "    </tr>\n",
       "    <tr>\n",
       "      <th>1</th>\n",
       "      <td>smd_2022_1A02</td>\n",
       "      <td>2022</td>\n",
       "      <td>1A02</td>\n",
       "      <td>1A</td>\n",
       "      <td>1</td>\n",
       "      <td>-77.033143</td>\n",
       "      <td>38.932514</td>\n",
       "      <td>None</td>\n",
       "      <td>2</td>\n",
       "      <td>smd_2022_1A04, smd_2022_1A05, smd_2022_1A06, s...</td>\n",
       "    </tr>\n",
       "    <tr>\n",
       "      <th>2</th>\n",
       "      <td>smd_2022_1A03</td>\n",
       "      <td>2022</td>\n",
       "      <td>1A03</td>\n",
       "      <td>1A</td>\n",
       "      <td>1</td>\n",
       "      <td>-77.035518</td>\n",
       "      <td>38.927623</td>\n",
       "      <td>None</td>\n",
       "      <td>3</td>\n",
       "      <td>smd_2022_1A01, smd_2022_1A05, smd_2022_1A06, s...</td>\n",
       "    </tr>\n",
       "    <tr>\n",
       "      <th>3</th>\n",
       "      <td>smd_2022_1A04</td>\n",
       "      <td>2022</td>\n",
       "      <td>1A04</td>\n",
       "      <td>1A</td>\n",
       "      <td>1</td>\n",
       "      <td>-77.030910</td>\n",
       "      <td>38.934205</td>\n",
       "      <td>None</td>\n",
       "      <td>4</td>\n",
       "      <td>smd_2022_1A02, smd_2022_1A06, smd_2022_1A07, s...</td>\n",
       "    </tr>\n",
       "    <tr>\n",
       "      <th>4</th>\n",
       "      <td>smd_2022_1A05</td>\n",
       "      <td>2022</td>\n",
       "      <td>1A05</td>\n",
       "      <td>1A</td>\n",
       "      <td>1</td>\n",
       "      <td>-77.034561</td>\n",
       "      <td>38.930572</td>\n",
       "      <td>None</td>\n",
       "      <td>5</td>\n",
       "      <td>smd_2022_1A02, smd_2022_1A03, smd_2022_1A06, s...</td>\n",
       "    </tr>\n",
       "    <tr>\n",
       "      <th>...</th>\n",
       "      <td>...</td>\n",
       "      <td>...</td>\n",
       "      <td>...</td>\n",
       "      <td>...</td>\n",
       "      <td>...</td>\n",
       "      <td>...</td>\n",
       "      <td>...</td>\n",
       "      <td>...</td>\n",
       "      <td>...</td>\n",
       "      <td>...</td>\n",
       "    </tr>\n",
       "    <tr>\n",
       "      <th>340</th>\n",
       "      <td>smd_2022_8F01</td>\n",
       "      <td>2022</td>\n",
       "      <td>8F01</td>\n",
       "      <td>8F</td>\n",
       "      <td>8</td>\n",
       "      <td>-76.995798</td>\n",
       "      <td>38.874195</td>\n",
       "      <td>None</td>\n",
       "      <td>6</td>\n",
       "      <td>smd_2022_6B01, smd_2022_6B04, smd_2022_6B08, s...</td>\n",
       "    </tr>\n",
       "    <tr>\n",
       "      <th>341</th>\n",
       "      <td>smd_2022_8F02</td>\n",
       "      <td>2022</td>\n",
       "      <td>8F02</td>\n",
       "      <td>8F</td>\n",
       "      <td>8</td>\n",
       "      <td>-77.004317</td>\n",
       "      <td>38.872776</td>\n",
       "      <td>None</td>\n",
       "      <td>10</td>\n",
       "      <td>smd_2022_6D05, smd_2022_6D08, smd_2022_8A06, s...</td>\n",
       "    </tr>\n",
       "    <tr>\n",
       "      <th>342</th>\n",
       "      <td>smd_2022_8F03</td>\n",
       "      <td>2022</td>\n",
       "      <td>8F03</td>\n",
       "      <td>8F</td>\n",
       "      <td>8</td>\n",
       "      <td>-77.003591</td>\n",
       "      <td>38.878513</td>\n",
       "      <td>None</td>\n",
       "      <td>8</td>\n",
       "      <td>smd_2022_6B01, smd_2022_8F01, smd_2022_8F02, s...</td>\n",
       "    </tr>\n",
       "    <tr>\n",
       "      <th>343</th>\n",
       "      <td>smd_2022_8F04</td>\n",
       "      <td>2022</td>\n",
       "      <td>8F04</td>\n",
       "      <td>8F</td>\n",
       "      <td>8</td>\n",
       "      <td>-77.007688</td>\n",
       "      <td>38.877883</td>\n",
       "      <td>None</td>\n",
       "      <td>4</td>\n",
       "      <td>smd_2022_6D02, smd_2022_6D05, smd_2022_6D08, s...</td>\n",
       "    </tr>\n",
       "    <tr>\n",
       "      <th>344</th>\n",
       "      <td>smd_2022_8F05</td>\n",
       "      <td>2022</td>\n",
       "      <td>8F05</td>\n",
       "      <td>8F</td>\n",
       "      <td>8</td>\n",
       "      <td>-77.007174</td>\n",
       "      <td>38.880042</td>\n",
       "      <td>None</td>\n",
       "      <td>7</td>\n",
       "      <td>smd_2022_6B01, smd_2022_6D02, smd_2022_6D05, s...</td>\n",
       "    </tr>\n",
       "  </tbody>\n",
       "</table>\n",
       "<p>345 rows × 10 columns</p>\n",
       "</div>"
      ],
      "text/plain": [
       "            smd_id  redistricting_cycle smd_name anc_id ward  centroid_lon  \\\n",
       "0    smd_2022_1A01                 2022     1A01     1A    1    -77.034887   \n",
       "1    smd_2022_1A02                 2022     1A02     1A    1    -77.033143   \n",
       "2    smd_2022_1A03                 2022     1A03     1A    1    -77.035518   \n",
       "3    smd_2022_1A04                 2022     1A04     1A    1    -77.030910   \n",
       "4    smd_2022_1A05                 2022     1A05     1A    1    -77.034561   \n",
       "..             ...                  ...      ...    ...  ...           ...   \n",
       "340  smd_2022_8F01                 2022     8F01     8F    8    -76.995798   \n",
       "341  smd_2022_8F02                 2022     8F02     8F    8    -77.004317   \n",
       "342  smd_2022_8F03                 2022     8F03     8F    8    -77.003591   \n",
       "343  smd_2022_8F04                 2022     8F04     8F    8    -77.007688   \n",
       "344  smd_2022_8F05                 2022     8F05     8F    8    -77.007174   \n",
       "\n",
       "     centroid_lat  area  map_color_id  \\\n",
       "0       38.925734  None            12   \n",
       "1       38.932514  None             2   \n",
       "2       38.927623  None             3   \n",
       "3       38.934205  None             4   \n",
       "4       38.930572  None             5   \n",
       "..            ...   ...           ...   \n",
       "340     38.874195  None             6   \n",
       "341     38.872776  None            10   \n",
       "342     38.878513  None             8   \n",
       "343     38.877883  None             4   \n",
       "344     38.880042  None             7   \n",
       "\n",
       "                                         neighbor_smds  \n",
       "0    smd_2022_1A03, smd_2022_1A08, smd_2022_1A09, s...  \n",
       "1    smd_2022_1A04, smd_2022_1A05, smd_2022_1A06, s...  \n",
       "2    smd_2022_1A01, smd_2022_1A05, smd_2022_1A06, s...  \n",
       "3    smd_2022_1A02, smd_2022_1A06, smd_2022_1A07, s...  \n",
       "4    smd_2022_1A02, smd_2022_1A03, smd_2022_1A06, s...  \n",
       "..                                                 ...  \n",
       "340  smd_2022_6B01, smd_2022_6B04, smd_2022_6B08, s...  \n",
       "341  smd_2022_6D05, smd_2022_6D08, smd_2022_8A06, s...  \n",
       "342  smd_2022_6B01, smd_2022_8F01, smd_2022_8F02, s...  \n",
       "343  smd_2022_6D02, smd_2022_6D05, smd_2022_6D08, s...  \n",
       "344  smd_2022_6B01, smd_2022_6D02, smd_2022_6D05, s...  \n",
       "\n",
       "[345 rows x 10 columns]"
      ]
     },
     "execution_count": 10,
     "metadata": {},
     "output_type": "execute_result"
    }
   ],
   "source": [
    "output_columns = [\n",
    "    'smd_id'\n",
    "    , 'redistricting_cycle'\n",
    "    , 'smd_name'\n",
    "    , 'anc_id'\n",
    "    , 'ward'\n",
    "    , 'centroid_lon'\n",
    "    , 'centroid_lat'\n",
    "    , 'area'\n",
    "    , 'map_color_id'\n",
    "    , 'neighbor_smds'\n",
    "]\n",
    "\n",
    "new_map[output_columns]"
   ]
  },
  {
   "cell_type": "code",
   "execution_count": 11,
   "metadata": {},
   "outputs": [],
   "source": [
    "# new_map[output_columns].to_clipboard(index=False)"
   ]
  },
  {
   "cell_type": "markdown",
   "metadata": {},
   "source": [
    "## List of SMDs for candidate declaration form"
   ]
  },
  {
   "cell_type": "code",
   "execution_count": 12,
   "metadata": {},
   "outputs": [],
   "source": [
    "form_values = 'SMD ' + districts[districts.redistricting_year == 2022].sort_values(by='sort_order').smd_name\n",
    "# form_values.to_clipboard(index=False)"
   ]
  },
  {
   "cell_type": "code",
   "execution_count": 13,
   "metadata": {},
   "outputs": [
    {
     "data": {
      "text/plain": [
       "37     SMD 1A01\n",
       "38     SMD 1A02\n",
       "39     SMD 1A03\n",
       "40     SMD 1A04\n",
       "41     SMD 1A05\n",
       "         ...   \n",
       "377    SMD 8F01\n",
       "378    SMD 8F02\n",
       "379    SMD 8F03\n",
       "380    SMD 8F04\n",
       "381    SMD 8F05\n",
       "Name: smd_name, Length: 345, dtype: object"
      ]
     },
     "execution_count": 13,
     "metadata": {},
     "output_type": "execute_result"
    }
   ],
   "source": [
    "form_values"
   ]
  },
  {
   "cell_type": "markdown",
   "metadata": {},
   "source": [
    "## List of ANCs"
   ]
  },
  {
   "cell_type": "code",
   "execution_count": 22,
   "metadata": {},
   "outputs": [],
   "source": [
    "ancs_2012 = sorted(districts[districts.redistricting_year == 2012].anc_id.unique())\n",
    "ancs_2022 = sorted(districts[districts.redistricting_year == 2022].anc_id.unique())"
   ]
  },
  {
   "cell_type": "code",
   "execution_count": 23,
   "metadata": {},
   "outputs": [
    {
     "data": {
      "text/plain": [
       "['1E', '2G', '3/4G', '3A', '4E', '5F', '8F']"
      ]
     },
     "execution_count": 23,
     "metadata": {},
     "output_type": "execute_result"
    }
   ],
   "source": [
    "# New ANCs\n",
    "[a for a in ancs_2022 if a not in ancs_2012]"
   ]
  },
  {
   "cell_type": "code",
   "execution_count": 24,
   "metadata": {},
   "outputs": [
    {
     "data": {
      "text/plain": [
       "['3G']"
      ]
     },
     "execution_count": 24,
     "metadata": {},
     "output_type": "execute_result"
    }
   ],
   "source": [
    "[a for a in ancs_2012 if a not in ancs_2022]"
   ]
  },
  {
   "cell_type": "code",
   "execution_count": null,
   "metadata": {},
   "outputs": [],
   "source": []
  }
 ],
 "metadata": {
  "kernelspec": {
   "display_name": "Python 3",
   "language": "python",
   "name": "python3"
  },
  "language_info": {
   "codemirror_mode": {
    "name": "ipython",
    "version": 3
   },
   "file_extension": ".py",
   "mimetype": "text/x-python",
   "name": "python",
   "nbconvert_exporter": "python",
   "pygments_lexer": "ipython3",
   "version": "3.7.1"
  }
 },
 "nbformat": 4,
 "nbformat_minor": 4
}
