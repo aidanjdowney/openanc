{
 "cells": [
  {
   "cell_type": "markdown",
   "metadata": {},
   "source": [
    "# 6) List of historical overlapping ANCs\n",
    "\n",
    "For every ANC past and present, generate a list of ANCs that overlapped with it.\n",
    "\n",
    "In other words, turn the overlap CSVs (one row for every overlap) into a list for every ANC.\n",
    "\n",
    "* Backwards - how much of each new district is made up of the old districts? \n",
    "* Forwards - how much of each old district went into this new district? "
   ]
  },
  {
   "cell_type": "code",
   "execution_count": 1,
   "metadata": {},
   "outputs": [],
   "source": [
    "import pandas as pd"
   ]
  },
  {
   "cell_type": "code",
   "execution_count": 2,
   "metadata": {},
   "outputs": [],
   "source": [
    "ancs = pd.read_csv('../data/ancs.csv')\n",
    "overlap_backwards = pd.read_csv('overlap_backwards_anc.csv')\n",
    "overlap_forwards = pd.read_csv('overlap_forwards_anc.csv')"
   ]
  },
  {
   "cell_type": "markdown",
   "metadata": {},
   "source": [
    "Confirm that the overlap percentages add up to roughly one"
   ]
  },
  {
   "cell_type": "code",
   "execution_count": 3,
   "metadata": {},
   "outputs": [
    {
     "data": {
      "text/plain": [
       "True"
      ]
     },
     "execution_count": 3,
     "metadata": {},
     "output_type": "execute_result"
    }
   ],
   "source": [
    "all(abs(overlap_backwards.groupby('anc_id_2022').overlap_perc.sum() - 1) < 0.0001)"
   ]
  },
  {
   "cell_type": "code",
   "execution_count": 4,
   "metadata": {},
   "outputs": [
    {
     "data": {
      "text/plain": [
       "True"
      ]
     },
     "execution_count": 4,
     "metadata": {},
     "output_type": "execute_result"
    }
   ],
   "source": [
    "all(abs(overlap_forwards.groupby('anc_id_2012').overlap_perc.sum() - 1) < 0.0001)"
   ]
  },
  {
   "cell_type": "code",
   "execution_count": 5,
   "metadata": {},
   "outputs": [],
   "source": [
    "overlap_backwards['valid'] = True\n",
    "overlap_forwards['valid'] = True\n",
    "\n",
    "# The overlap area must by at least 10 meters square\n",
    "overlap_backwards.loc[overlap_backwards.overlap_area < 500, 'valid'] = False\n",
    "overlap_forwards.loc[overlap_forwards.overlap_area < 500, 'valid'] = False\n",
    "\n",
    "overlap_backwards.loc[overlap_backwards.anc_id_2012.isnull(), 'valid'] = False\n",
    "overlap_backwards.loc[overlap_backwards.anc_id_2022.isnull(), 'valid'] = False\n",
    "\n",
    "overlap_forwards.loc[overlap_forwards.anc_id_2012.isnull(), 'valid'] = False\n",
    "overlap_forwards.loc[overlap_forwards.anc_id_2022.isnull(), 'valid'] = False"
   ]
  },
  {
   "cell_type": "code",
   "execution_count": 6,
   "metadata": {},
   "outputs": [],
   "source": [
    "# # Manually remove some overlaps\n",
    "\n",
    "# # Per Corey Holman, this overlap is just a shapefile artifact along a bridge\n",
    "# overlap_backwards.loc[\n",
    "#     (overlap_backwards.anc_id_2012 == 'smd_6B06') & (overlap_backwards.anc_id_2022 == 'smd_2022_8F01')\n",
    "#     , 'valid'\n",
    "# ] = False\n",
    "\n",
    "# overlap_forwards.loc[\n",
    "#     (overlap_forwards.anc_id_2012 == 'smd_6B06') & (overlap_forwards.anc_id_2022 == 'smd_2022_8F01')\n",
    "#     , 'valid'\n",
    "# ] = False"
   ]
  },
  {
   "cell_type": "code",
   "execution_count": 7,
   "metadata": {},
   "outputs": [],
   "source": [
    "# Limit to only the valid overlaps\n",
    "overlap_backwards = overlap_backwards[overlap_backwards.valid].copy()\n",
    "overlap_forwards = overlap_forwards[overlap_forwards.valid].copy()"
   ]
  },
  {
   "cell_type": "code",
   "execution_count": 8,
   "metadata": {},
   "outputs": [
    {
     "data": {
      "text/html": [
       "<div>\n",
       "<style scoped>\n",
       "    .dataframe tbody tr th:only-of-type {\n",
       "        vertical-align: middle;\n",
       "    }\n",
       "\n",
       "    .dataframe tbody tr th {\n",
       "        vertical-align: top;\n",
       "    }\n",
       "\n",
       "    .dataframe thead th {\n",
       "        text-align: right;\n",
       "    }\n",
       "</style>\n",
       "<table border=\"1\" class=\"dataframe\">\n",
       "  <thead>\n",
       "    <tr style=\"text-align: right;\">\n",
       "      <th></th>\n",
       "      <th>anc_id_2022</th>\n",
       "      <th>district_area_2022</th>\n",
       "      <th>anc_id_2012</th>\n",
       "      <th>district_area_2012</th>\n",
       "      <th>overlap_area</th>\n",
       "      <th>overlap_perc</th>\n",
       "      <th>district_rank</th>\n",
       "      <th>valid</th>\n",
       "    </tr>\n",
       "  </thead>\n",
       "  <tbody>\n",
       "    <tr>\n",
       "      <th>0</th>\n",
       "      <td>anc_1A_2022</td>\n",
       "      <td>1.125854e+06</td>\n",
       "      <td>anc_1A</td>\n",
       "      <td>1.663392e+06</td>\n",
       "      <td>9.280265e+05</td>\n",
       "      <td>0.557912</td>\n",
       "      <td>1.0</td>\n",
       "      <td>True</td>\n",
       "    </tr>\n",
       "    <tr>\n",
       "      <th>1</th>\n",
       "      <td>anc_1E_2022</td>\n",
       "      <td>1.682767e+06</td>\n",
       "      <td>anc_1A</td>\n",
       "      <td>1.663392e+06</td>\n",
       "      <td>6.079276e+05</td>\n",
       "      <td>0.365475</td>\n",
       "      <td>2.0</td>\n",
       "      <td>True</td>\n",
       "    </tr>\n",
       "    <tr>\n",
       "      <th>2</th>\n",
       "      <td>anc_1D_2022</td>\n",
       "      <td>1.075326e+06</td>\n",
       "      <td>anc_1A</td>\n",
       "      <td>1.663392e+06</td>\n",
       "      <td>1.274377e+05</td>\n",
       "      <td>0.076613</td>\n",
       "      <td>3.0</td>\n",
       "      <td>True</td>\n",
       "    </tr>\n",
       "    <tr>\n",
       "      <th>8</th>\n",
       "      <td>anc_1B_2022</td>\n",
       "      <td>1.464266e+06</td>\n",
       "      <td>anc_1B</td>\n",
       "      <td>2.671191e+06</td>\n",
       "      <td>1.399202e+06</td>\n",
       "      <td>0.523812</td>\n",
       "      <td>1.0</td>\n",
       "      <td>True</td>\n",
       "    </tr>\n",
       "    <tr>\n",
       "      <th>9</th>\n",
       "      <td>anc_1E_2022</td>\n",
       "      <td>1.682767e+06</td>\n",
       "      <td>anc_1B</td>\n",
       "      <td>2.671191e+06</td>\n",
       "      <td>1.074839e+06</td>\n",
       "      <td>0.402382</td>\n",
       "      <td>2.0</td>\n",
       "      <td>True</td>\n",
       "    </tr>\n",
       "    <tr>\n",
       "      <th>...</th>\n",
       "      <td>...</td>\n",
       "      <td>...</td>\n",
       "      <td>...</td>\n",
       "      <td>...</td>\n",
       "      <td>...</td>\n",
       "      <td>...</td>\n",
       "      <td>...</td>\n",
       "      <td>...</td>\n",
       "    </tr>\n",
       "    <tr>\n",
       "      <th>266</th>\n",
       "      <td>anc_6/8F_2022</td>\n",
       "      <td>1.821084e+06</td>\n",
       "      <td>anc_8C</td>\n",
       "      <td>9.239722e+06</td>\n",
       "      <td>8.185725e+03</td>\n",
       "      <td>0.000886</td>\n",
       "      <td>5.0</td>\n",
       "      <td>True</td>\n",
       "    </tr>\n",
       "    <tr>\n",
       "      <th>270</th>\n",
       "      <td>anc_8D_2022</td>\n",
       "      <td>1.510744e+07</td>\n",
       "      <td>anc_8D</td>\n",
       "      <td>1.242115e+07</td>\n",
       "      <td>1.200822e+07</td>\n",
       "      <td>0.966756</td>\n",
       "      <td>1.0</td>\n",
       "      <td>True</td>\n",
       "    </tr>\n",
       "    <tr>\n",
       "      <th>271</th>\n",
       "      <td>anc_8E_2022</td>\n",
       "      <td>2.859324e+06</td>\n",
       "      <td>anc_8D</td>\n",
       "      <td>1.242115e+07</td>\n",
       "      <td>4.129069e+05</td>\n",
       "      <td>0.033242</td>\n",
       "      <td>2.0</td>\n",
       "      <td>True</td>\n",
       "    </tr>\n",
       "    <tr>\n",
       "      <th>273</th>\n",
       "      <td>anc_8E_2022</td>\n",
       "      <td>2.859324e+06</td>\n",
       "      <td>anc_8E</td>\n",
       "      <td>3.165925e+06</td>\n",
       "      <td>1.964358e+06</td>\n",
       "      <td>0.620469</td>\n",
       "      <td>1.0</td>\n",
       "      <td>True</td>\n",
       "    </tr>\n",
       "    <tr>\n",
       "      <th>274</th>\n",
       "      <td>anc_8C_2022</td>\n",
       "      <td>7.088388e+06</td>\n",
       "      <td>anc_8E</td>\n",
       "      <td>3.165925e+06</td>\n",
       "      <td>1.201566e+06</td>\n",
       "      <td>0.379531</td>\n",
       "      <td>2.0</td>\n",
       "      <td>True</td>\n",
       "    </tr>\n",
       "  </tbody>\n",
       "</table>\n",
       "<p>123 rows × 8 columns</p>\n",
       "</div>"
      ],
      "text/plain": [
       "       anc_id_2022  district_area_2022 anc_id_2012  district_area_2012  \\\n",
       "0      anc_1A_2022        1.125854e+06      anc_1A        1.663392e+06   \n",
       "1      anc_1E_2022        1.682767e+06      anc_1A        1.663392e+06   \n",
       "2      anc_1D_2022        1.075326e+06      anc_1A        1.663392e+06   \n",
       "8      anc_1B_2022        1.464266e+06      anc_1B        2.671191e+06   \n",
       "9      anc_1E_2022        1.682767e+06      anc_1B        2.671191e+06   \n",
       "..             ...                 ...         ...                 ...   \n",
       "266  anc_6/8F_2022        1.821084e+06      anc_8C        9.239722e+06   \n",
       "270    anc_8D_2022        1.510744e+07      anc_8D        1.242115e+07   \n",
       "271    anc_8E_2022        2.859324e+06      anc_8D        1.242115e+07   \n",
       "273    anc_8E_2022        2.859324e+06      anc_8E        3.165925e+06   \n",
       "274    anc_8C_2022        7.088388e+06      anc_8E        3.165925e+06   \n",
       "\n",
       "     overlap_area  overlap_perc  district_rank  valid  \n",
       "0    9.280265e+05      0.557912            1.0   True  \n",
       "1    6.079276e+05      0.365475            2.0   True  \n",
       "2    1.274377e+05      0.076613            3.0   True  \n",
       "8    1.399202e+06      0.523812            1.0   True  \n",
       "9    1.074839e+06      0.402382            2.0   True  \n",
       "..            ...           ...            ...    ...  \n",
       "266  8.185725e+03      0.000886            5.0   True  \n",
       "270  1.200822e+07      0.966756            1.0   True  \n",
       "271  4.129069e+05      0.033242            2.0   True  \n",
       "273  1.964358e+06      0.620469            1.0   True  \n",
       "274  1.201566e+06      0.379531            2.0   True  \n",
       "\n",
       "[123 rows x 8 columns]"
      ]
     },
     "execution_count": 8,
     "metadata": {},
     "output_type": "execute_result"
    }
   ],
   "source": [
    "# Sort by overlap percentage, descending within ANCs\n",
    "overlap_forwards.sort_values(by=['anc_id_2012', 'district_rank'])"
   ]
  },
  {
   "cell_type": "code",
   "execution_count": 9,
   "metadata": {},
   "outputs": [],
   "source": [
    "# of_list = overlap_forwards.groupby('anc_id_2022').anc_id_2012.apply(lambda x: ', '.join(sorted(list(x))))"
   ]
  },
  {
   "cell_type": "code",
   "execution_count": 10,
   "metadata": {},
   "outputs": [],
   "source": [
    "# ob_list = overlap_backwards.groupby('anc_id_2012').anc_id_2022.apply(lambda x: ', '.join(sorted(list(x))))"
   ]
  },
  {
   "cell_type": "code",
   "execution_count": 11,
   "metadata": {},
   "outputs": [],
   "source": [
    "# df = pd.DataFrame(pd.concat([of_list, ob_list]), columns=['overlap_smds'])\n",
    "# df.index.name = 'anc_id'\n",
    "# df = df.reset_index()"
   ]
  },
  {
   "cell_type": "code",
   "execution_count": 12,
   "metadata": {},
   "outputs": [],
   "source": [
    "# df['redistricting_year'] = df.anc_id.apply(lambda x: 2022 if '_2022_' in x else 2012)"
   ]
  },
  {
   "cell_type": "code",
   "execution_count": 13,
   "metadata": {},
   "outputs": [],
   "source": [
    "# Copy this to OpenANC Source\n",
    "# df.sort_values(by=['redistricting_year', 'anc_id']).overlap_smds.to_clipboard(index=False)"
   ]
  },
  {
   "cell_type": "code",
   "execution_count": 14,
   "metadata": {},
   "outputs": [],
   "source": [
    "# Convert the overlap percentages into strings so that they can be nicely concatenated\n",
    "overlap_backwards['overlap_perc_str'] = overlap_backwards.overlap_perc.apply(lambda x: f'{x:.4f}')\n",
    "overlap_forwards['overlap_perc_str'] = overlap_forwards.overlap_perc.apply(lambda x: f'{x:.4f}')"
   ]
  },
  {
   "cell_type": "code",
   "execution_count": 15,
   "metadata": {},
   "outputs": [],
   "source": [
    "of = overlap_forwards.groupby('anc_id_2012').agg(\n",
    "    overlap_ancs=('anc_id_2022', lambda x: ', '.join(list(x)))\n",
    "    , overlap_percentage=('overlap_perc_str', lambda x: ', '.join(list(x)))\n",
    ")"
   ]
  },
  {
   "cell_type": "code",
   "execution_count": 16,
   "metadata": {},
   "outputs": [],
   "source": [
    "ob = overlap_backwards.groupby('anc_id_2022').agg(\n",
    "    overlap_ancs=('anc_id_2012', lambda x: ', '.join(list(x)))\n",
    "    , overlap_percentage=('overlap_perc_str', lambda x: ', '.join(list(x)))\n",
    ")"
   ]
  },
  {
   "cell_type": "code",
   "execution_count": 17,
   "metadata": {},
   "outputs": [],
   "source": [
    "df = pd.concat([of, ob]).reset_index().rename(columns={'index': 'anc_id'})"
   ]
  },
  {
   "cell_type": "code",
   "execution_count": 18,
   "metadata": {},
   "outputs": [],
   "source": [
    "to_google = pd.merge(ancs, df, how='inner', on='anc_id')\n",
    "to_google[['anc_id', 'overlap_ancs', 'overlap_percentage']].to_clipboard(index=False)"
   ]
  },
  {
   "cell_type": "code",
   "execution_count": null,
   "metadata": {},
   "outputs": [],
   "source": []
  }
 ],
 "metadata": {
  "kernelspec": {
   "display_name": "Python 3",
   "language": "python",
   "name": "python3"
  },
  "language_info": {
   "codemirror_mode": {
    "name": "ipython",
    "version": 3
   },
   "file_extension": ".py",
   "mimetype": "text/x-python",
   "name": "python",
   "nbconvert_exporter": "python",
   "pygments_lexer": "ipython3",
   "version": "3.7.1"
  }
 },
 "nbformat": 4,
 "nbformat_minor": 4
}
