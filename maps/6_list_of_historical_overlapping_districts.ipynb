{
 "cells": [
  {
   "cell_type": "markdown",
   "metadata": {},
   "source": [
    "# 6) List of historical overlapping districts\n",
    "\n",
    "For every SMD past and present, generate a list of SMDs that overlapped with it.\n",
    "\n",
    "In other words, turn the overlap CSVs (one row for every overlap) into a list for every district."
   ]
  },
  {
   "cell_type": "code",
   "execution_count": 1,
   "metadata": {},
   "outputs": [],
   "source": [
    "import pandas as pd"
   ]
  },
  {
   "cell_type": "code",
   "execution_count": 2,
   "metadata": {},
   "outputs": [],
   "source": [
    "districts = pd.read_csv('../data/districts.csv')\n",
    "overlap_forwards = pd.read_csv('overlap_forwards.csv')\n",
    "overlap_backwards = pd.read_csv('overlap_backwards.csv')"
   ]
  },
  {
   "cell_type": "code",
   "execution_count": 3,
   "metadata": {},
   "outputs": [],
   "source": [
    "overlap_forwards['valid'] = True\n",
    "overlap_backwards['valid'] = True"
   ]
  },
  {
   "cell_type": "code",
   "execution_count": 4,
   "metadata": {},
   "outputs": [],
   "source": [
    "# The overlap area must by at least 10 meters square\n",
    "overlap_forwards.loc[overlap_forwards.overlap_area < 10, 'valid'] = False\n",
    "overlap_backwards.loc[overlap_backwards.overlap_area < 10, 'valid'] = False"
   ]
  },
  {
   "cell_type": "code",
   "execution_count": 5,
   "metadata": {},
   "outputs": [],
   "source": [
    "# Manually remove some overlaps\n",
    "# overlap_forwards = \n",
    "overlap_forwards.loc[\n",
    "    (overlap_forwards.smd_id_2012 == 'smd_6B06') & (overlap_forwards.smd_id_2022 == 'smd_2022_8F01')\n",
    "    , 'valid'\n",
    "] = False\n",
    "\n",
    "overlap_backwards.loc[\n",
    "    (overlap_backwards.smd_id_2012 == 'smd_6B06') & (overlap_backwards.smd_id_2022 == 'smd_2022_8F01')\n",
    "    , 'valid'\n",
    "] = False"
   ]
  },
  {
   "cell_type": "code",
   "execution_count": 6,
   "metadata": {},
   "outputs": [],
   "source": [
    "# Limit to only the valid overlaps\n",
    "overlap_forwards = overlap_forwards[overlap_forwards.valid].copy()\n",
    "overlap_backwards = overlap_backwards[overlap_backwards.valid].copy()"
   ]
  },
  {
   "cell_type": "code",
   "execution_count": 7,
   "metadata": {},
   "outputs": [],
   "source": [
    "of_list = overlap_forwards.groupby('smd_id_2022').smd_id_2012.apply(lambda x: ', '.join(sorted(list(x))))"
   ]
  },
  {
   "cell_type": "code",
   "execution_count": 8,
   "metadata": {},
   "outputs": [],
   "source": [
    "ob_list = overlap_backwards.groupby('smd_id_2012').smd_id_2022.apply(lambda x: ', '.join(sorted(list(x))))"
   ]
  },
  {
   "cell_type": "code",
   "execution_count": 9,
   "metadata": {},
   "outputs": [],
   "source": [
    "df = pd.DataFrame(pd.concat([of_list, ob_list]), columns=['overlap_smds'])\n",
    "df.index.name = 'smd_id'\n",
    "df = df.reset_index()"
   ]
  },
  {
   "cell_type": "code",
   "execution_count": 10,
   "metadata": {},
   "outputs": [],
   "source": [
    "df['redistricting_cycle'] = df.smd_id.apply(lambda x: 2022 if '_2022_' in x else 2012)"
   ]
  },
  {
   "cell_type": "code",
   "execution_count": 11,
   "metadata": {},
   "outputs": [],
   "source": [
    "# Copy this to OpenANC Source\n",
    "df.sort_values(by=['redistricting_cycle', 'smd_id']).overlap_smds.to_clipboard(index=False)"
   ]
  },
  {
   "cell_type": "code",
   "execution_count": null,
   "metadata": {},
   "outputs": [],
   "source": []
  },
  {
   "cell_type": "code",
   "execution_count": null,
   "metadata": {},
   "outputs": [],
   "source": []
  }
 ],
 "metadata": {
  "kernelspec": {
   "display_name": "Python 3",
   "language": "python",
   "name": "python3"
  },
  "language_info": {
   "codemirror_mode": {
    "name": "ipython",
    "version": 3
   },
   "file_extension": ".py",
   "mimetype": "text/x-python",
   "name": "python",
   "nbconvert_exporter": "python",
   "pygments_lexer": "ipython3",
   "version": "3.7.1"
  }
 },
 "nbformat": 4,
 "nbformat_minor": 4
}
