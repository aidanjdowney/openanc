{
 "cells": [
  {
   "cell_type": "markdown",
   "metadata": {},
   "source": [
    "# 6) List of historical overlapping districts\n",
    "\n",
    "For every SMD past and present, generate a list of SMDs that overlapped with it.\n",
    "\n",
    "In other words, turn the overlap CSVs (one row for every overlap) into a list for every district.\n",
    "\n",
    "* Backwards - how much of each new district is made up of the old districts? \n",
    "* Forwards - how much of each old district went into this new district? "
   ]
  },
  {
   "cell_type": "code",
   "execution_count": 1,
   "metadata": {},
   "outputs": [],
   "source": [
    "import pandas as pd"
   ]
  },
  {
   "cell_type": "code",
   "execution_count": 2,
   "metadata": {},
   "outputs": [],
   "source": [
    "districts = pd.read_csv('../data/districts.csv')\n",
    "overlap_backwards = pd.read_csv('overlap_backwards.csv')\n",
    "overlap_forwards = pd.read_csv('overlap_forwards.csv')"
   ]
  },
  {
   "cell_type": "markdown",
   "metadata": {},
   "source": [
    "Confirm that the overlap percentages add up to roughly one"
   ]
  },
  {
   "cell_type": "code",
   "execution_count": 3,
   "metadata": {},
   "outputs": [
    {
     "data": {
      "text/plain": [
       "True"
      ]
     },
     "execution_count": 3,
     "metadata": {},
     "output_type": "execute_result"
    }
   ],
   "source": [
    "all(abs(overlap_backwards.groupby('smd_id_2022').overlap_perc.sum() - 1) < 0.0001)"
   ]
  },
  {
   "cell_type": "code",
   "execution_count": 4,
   "metadata": {},
   "outputs": [
    {
     "data": {
      "text/plain": [
       "True"
      ]
     },
     "execution_count": 4,
     "metadata": {},
     "output_type": "execute_result"
    }
   ],
   "source": [
    "all(abs(overlap_forwards.groupby('smd_id_2012').overlap_perc.sum() - 1) < 0.0001)"
   ]
  },
  {
   "cell_type": "code",
   "execution_count": 5,
   "metadata": {},
   "outputs": [],
   "source": [
    "overlap_backwards['valid'] = True\n",
    "overlap_forwards['valid'] = True\n",
    "\n",
    "# The overlap area must by at least 10 meters square\n",
    "overlap_backwards.loc[overlap_backwards.overlap_area < 10, 'valid'] = False\n",
    "overlap_forwards.loc[overlap_forwards.overlap_area < 10, 'valid'] = False\n",
    "\n",
    "overlap_backwards.loc[overlap_backwards.smd_id_2012.isnull(), 'valid'] = False\n",
    "overlap_backwards.loc[overlap_backwards.smd_id_2022.isnull(), 'valid'] = False\n",
    "\n",
    "overlap_forwards.loc[overlap_forwards.smd_id_2012.isnull(), 'valid'] = False\n",
    "overlap_forwards.loc[overlap_forwards.smd_id_2022.isnull(), 'valid'] = False"
   ]
  },
  {
   "cell_type": "code",
   "execution_count": 6,
   "metadata": {},
   "outputs": [],
   "source": [
    "# Manually remove some overlaps\n",
    "\n",
    "# Per Corey Holman, this overlap is just a shapefile artifact along a bridge\n",
    "overlap_backwards.loc[\n",
    "    (overlap_backwards.smd_id_2012 == 'smd_6B06') & (overlap_backwards.smd_id_2022 == 'smd_2022_8F01')\n",
    "    , 'valid'\n",
    "] = False\n",
    "\n",
    "overlap_forwards.loc[\n",
    "    (overlap_forwards.smd_id_2012 == 'smd_6B06') & (overlap_forwards.smd_id_2022 == 'smd_2022_8F01')\n",
    "    , 'valid'\n",
    "] = False"
   ]
  },
  {
   "cell_type": "code",
   "execution_count": 7,
   "metadata": {},
   "outputs": [],
   "source": [
    "# Limit to only the valid overlaps\n",
    "overlap_backwards = overlap_backwards[overlap_backwards.valid].copy()\n",
    "overlap_forwards = overlap_forwards[overlap_forwards.valid].copy()"
   ]
  },
  {
   "cell_type": "code",
   "execution_count": 8,
   "metadata": {},
   "outputs": [
    {
     "data": {
      "text/html": [
       "<div>\n",
       "<style scoped>\n",
       "    .dataframe tbody tr th:only-of-type {\n",
       "        vertical-align: middle;\n",
       "    }\n",
       "\n",
       "    .dataframe tbody tr th {\n",
       "        vertical-align: top;\n",
       "    }\n",
       "\n",
       "    .dataframe thead th {\n",
       "        text-align: right;\n",
       "    }\n",
       "</style>\n",
       "<table border=\"1\" class=\"dataframe\">\n",
       "  <thead>\n",
       "    <tr style=\"text-align: right;\">\n",
       "      <th></th>\n",
       "      <th>smd_id_2022</th>\n",
       "      <th>district_area_2022</th>\n",
       "      <th>smd_id_2012</th>\n",
       "      <th>district_area_2012</th>\n",
       "      <th>overlap_area</th>\n",
       "      <th>overlap_perc</th>\n",
       "      <th>district_rank</th>\n",
       "      <th>valid</th>\n",
       "    </tr>\n",
       "  </thead>\n",
       "  <tbody>\n",
       "    <tr>\n",
       "      <th>0</th>\n",
       "      <td>smd_2022_1D07</td>\n",
       "      <td>85585.815540</td>\n",
       "      <td>smd_1A01</td>\n",
       "      <td>74006.926669</td>\n",
       "      <td>74006.684808</td>\n",
       "      <td>0.999997</td>\n",
       "      <td>1.0</td>\n",
       "      <td>True</td>\n",
       "    </tr>\n",
       "    <tr>\n",
       "      <th>6</th>\n",
       "      <td>smd_2022_1A02</td>\n",
       "      <td>90454.734665</td>\n",
       "      <td>smd_1A02</td>\n",
       "      <td>112743.370174</td>\n",
       "      <td>59312.563845</td>\n",
       "      <td>0.526085</td>\n",
       "      <td>1.0</td>\n",
       "      <td>True</td>\n",
       "    </tr>\n",
       "    <tr>\n",
       "      <th>7</th>\n",
       "      <td>smd_2022_1D06</td>\n",
       "      <td>115019.961220</td>\n",
       "      <td>smd_1A02</td>\n",
       "      <td>112743.370174</td>\n",
       "      <td>41851.818955</td>\n",
       "      <td>0.371213</td>\n",
       "      <td>2.0</td>\n",
       "      <td>True</td>\n",
       "    </tr>\n",
       "    <tr>\n",
       "      <th>8</th>\n",
       "      <td>smd_2022_1D07</td>\n",
       "      <td>85585.815540</td>\n",
       "      <td>smd_1A02</td>\n",
       "      <td>112743.370174</td>\n",
       "      <td>11578.913068</td>\n",
       "      <td>0.102701</td>\n",
       "      <td>3.0</td>\n",
       "      <td>True</td>\n",
       "    </tr>\n",
       "    <tr>\n",
       "      <th>13</th>\n",
       "      <td>smd_2022_1A03</td>\n",
       "      <td>65682.304770</td>\n",
       "      <td>smd_1A03</td>\n",
       "      <td>76769.942502</td>\n",
       "      <td>58045.140114</td>\n",
       "      <td>0.756092</td>\n",
       "      <td>1.0</td>\n",
       "      <td>True</td>\n",
       "    </tr>\n",
       "    <tr>\n",
       "      <th>...</th>\n",
       "      <td>...</td>\n",
       "      <td>...</td>\n",
       "      <td>...</td>\n",
       "      <td>...</td>\n",
       "      <td>...</td>\n",
       "      <td>...</td>\n",
       "      <td>...</td>\n",
       "      <td>...</td>\n",
       "    </tr>\n",
       "    <tr>\n",
       "      <th>2239</th>\n",
       "      <td>smd_2022_8E07</td>\n",
       "      <td>211671.067426</td>\n",
       "      <td>smd_8E06</td>\n",
       "      <td>461441.616996</td>\n",
       "      <td>54564.506327</td>\n",
       "      <td>0.118248</td>\n",
       "      <td>4.0</td>\n",
       "      <td>True</td>\n",
       "    </tr>\n",
       "    <tr>\n",
       "      <th>2244</th>\n",
       "      <td>smd_2022_8E07</td>\n",
       "      <td>211671.067426</td>\n",
       "      <td>smd_8E07</td>\n",
       "      <td>275369.398054</td>\n",
       "      <td>114159.811690</td>\n",
       "      <td>0.414570</td>\n",
       "      <td>1.0</td>\n",
       "      <td>True</td>\n",
       "    </tr>\n",
       "    <tr>\n",
       "      <th>2245</th>\n",
       "      <td>smd_2022_8E08</td>\n",
       "      <td>228759.923965</td>\n",
       "      <td>smd_8E07</td>\n",
       "      <td>275369.398054</td>\n",
       "      <td>91780.187545</td>\n",
       "      <td>0.333298</td>\n",
       "      <td>2.0</td>\n",
       "      <td>True</td>\n",
       "    </tr>\n",
       "    <tr>\n",
       "      <th>2246</th>\n",
       "      <td>smd_2022_8E06</td>\n",
       "      <td>326421.094835</td>\n",
       "      <td>smd_8E07</td>\n",
       "      <td>275369.398054</td>\n",
       "      <td>46137.145498</td>\n",
       "      <td>0.167546</td>\n",
       "      <td>3.0</td>\n",
       "      <td>True</td>\n",
       "    </tr>\n",
       "    <tr>\n",
       "      <th>2247</th>\n",
       "      <td>smd_2022_8E05</td>\n",
       "      <td>715196.878612</td>\n",
       "      <td>smd_8E07</td>\n",
       "      <td>275369.398054</td>\n",
       "      <td>23292.137789</td>\n",
       "      <td>0.084585</td>\n",
       "      <td>4.0</td>\n",
       "      <td>True</td>\n",
       "    </tr>\n",
       "  </tbody>\n",
       "</table>\n",
       "<p>953 rows × 8 columns</p>\n",
       "</div>"
      ],
      "text/plain": [
       "        smd_id_2022  district_area_2022 smd_id_2012  district_area_2012  \\\n",
       "0     smd_2022_1D07        85585.815540    smd_1A01        74006.926669   \n",
       "6     smd_2022_1A02        90454.734665    smd_1A02       112743.370174   \n",
       "7     smd_2022_1D06       115019.961220    smd_1A02       112743.370174   \n",
       "8     smd_2022_1D07        85585.815540    smd_1A02       112743.370174   \n",
       "13    smd_2022_1A03        65682.304770    smd_1A03        76769.942502   \n",
       "...             ...                 ...         ...                 ...   \n",
       "2239  smd_2022_8E07       211671.067426    smd_8E06       461441.616996   \n",
       "2244  smd_2022_8E07       211671.067426    smd_8E07       275369.398054   \n",
       "2245  smd_2022_8E08       228759.923965    smd_8E07       275369.398054   \n",
       "2246  smd_2022_8E06       326421.094835    smd_8E07       275369.398054   \n",
       "2247  smd_2022_8E05       715196.878612    smd_8E07       275369.398054   \n",
       "\n",
       "       overlap_area  overlap_perc  district_rank  valid  \n",
       "0      74006.684808      0.999997            1.0   True  \n",
       "6      59312.563845      0.526085            1.0   True  \n",
       "7      41851.818955      0.371213            2.0   True  \n",
       "8      11578.913068      0.102701            3.0   True  \n",
       "13     58045.140114      0.756092            1.0   True  \n",
       "...             ...           ...            ...    ...  \n",
       "2239   54564.506327      0.118248            4.0   True  \n",
       "2244  114159.811690      0.414570            1.0   True  \n",
       "2245   91780.187545      0.333298            2.0   True  \n",
       "2246   46137.145498      0.167546            3.0   True  \n",
       "2247   23292.137789      0.084585            4.0   True  \n",
       "\n",
       "[953 rows x 8 columns]"
      ]
     },
     "execution_count": 8,
     "metadata": {},
     "output_type": "execute_result"
    }
   ],
   "source": [
    "# Sort by overlap percentage, descending within SMDs\n",
    "overlap_forwards.sort_values(by=['smd_id_2012', 'district_rank'])"
   ]
  },
  {
   "cell_type": "code",
   "execution_count": 9,
   "metadata": {},
   "outputs": [],
   "source": [
    "# of_list = overlap_forwards.groupby('smd_id_2022').smd_id_2012.apply(lambda x: ', '.join(sorted(list(x))))"
   ]
  },
  {
   "cell_type": "code",
   "execution_count": 10,
   "metadata": {},
   "outputs": [],
   "source": [
    "# ob_list = overlap_backwards.groupby('smd_id_2012').smd_id_2022.apply(lambda x: ', '.join(sorted(list(x))))"
   ]
  },
  {
   "cell_type": "code",
   "execution_count": 11,
   "metadata": {},
   "outputs": [],
   "source": [
    "# df = pd.DataFrame(pd.concat([of_list, ob_list]), columns=['overlap_smds'])\n",
    "# df.index.name = 'smd_id'\n",
    "# df = df.reset_index()"
   ]
  },
  {
   "cell_type": "code",
   "execution_count": 12,
   "metadata": {},
   "outputs": [],
   "source": [
    "# df['redistricting_year'] = df.smd_id.apply(lambda x: 2022 if '_2022_' in x else 2012)"
   ]
  },
  {
   "cell_type": "code",
   "execution_count": 13,
   "metadata": {},
   "outputs": [],
   "source": [
    "# Copy this to OpenANC Source\n",
    "# df.sort_values(by=['redistricting_year', 'smd_id']).overlap_smds.to_clipboard(index=False)"
   ]
  },
  {
   "cell_type": "code",
   "execution_count": 14,
   "metadata": {},
   "outputs": [],
   "source": [
    "# Convert the overlap percentages into strings so that they can be nicely concatenated\n",
    "overlap_backwards['overlap_perc_str'] = overlap_backwards.overlap_perc.apply(lambda x: f'{x:.4f}')\n",
    "overlap_forwards['overlap_perc_str'] = overlap_forwards.overlap_perc.apply(lambda x: f'{x:.4f}')"
   ]
  },
  {
   "cell_type": "code",
   "execution_count": 17,
   "metadata": {},
   "outputs": [],
   "source": [
    "overlap_backwards.groupby('smd_id_2022').agg(\n",
    "    overlap_smds=('smd_id_2012', lambda x: ', '.join(list(x)))\n",
    "    , overlap_percentage=('overlap_perc_str', lambda x: ', '.join(list(x)))\n",
    ").to_clipboard()"
   ]
  },
  {
   "cell_type": "code",
   "execution_count": 18,
   "metadata": {},
   "outputs": [],
   "source": [
    "overlap_forwards.groupby('smd_id_2012').agg(\n",
    "    overlap_smds=('smd_id_2022', lambda x: ', '.join(list(x)))\n",
    "    , overlap_percentage=('overlap_perc_str', lambda x: ', '.join(list(x)))\n",
    ").to_clipboard()"
   ]
  },
  {
   "cell_type": "code",
   "execution_count": null,
   "metadata": {},
   "outputs": [],
   "source": []
  },
  {
   "cell_type": "code",
   "execution_count": null,
   "metadata": {},
   "outputs": [],
   "source": []
  }
 ],
 "metadata": {
  "kernelspec": {
   "display_name": "Python 3",
   "language": "python",
   "name": "python3"
  },
  "language_info": {
   "codemirror_mode": {
    "name": "ipython",
    "version": 3
   },
   "file_extension": ".py",
   "mimetype": "text/x-python",
   "name": "python",
   "nbconvert_exporter": "python",
   "pygments_lexer": "ipython3",
   "version": "3.7.1"
  }
 },
 "nbformat": 4,
 "nbformat_minor": 4
}
