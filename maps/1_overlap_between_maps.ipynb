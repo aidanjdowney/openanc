{
 "cells": [
  {
   "cell_type": "markdown",
   "metadata": {},
   "source": [
    "# 1) Overlap Between Maps\n",
    "\n",
    "For a new redistricting map, show what old districts overlap with each new district.\n",
    "\n",
    "Make sure rtree is installed in your local environment. See this notebook for your previous struggles: https://github.com/devinbrady/dc-parking/blob/main/Spatial-Join.ipynb"
   ]
  },
  {
   "cell_type": "code",
   "execution_count": 1,
   "metadata": {},
   "outputs": [],
   "source": [
    "import pandas as pd\n",
    "import geopandas as gp\n",
    "pd.set_option('display.float_format', lambda x: '%.2f' % x)"
   ]
  },
  {
   "cell_type": "code",
   "execution_count": 2,
   "metadata": {},
   "outputs": [],
   "source": [
    "# Use this projection for measuring distances in meters\n",
    "# https://octo.dc.gov/page/coordinate-system-standards\n",
    "dc_crs = ('epsg', '26985')\n",
    "\n",
    "# Use WGS84 for saving GeoJSON for display in QGIS\n",
    "output_crs = ('epsg', '4326')"
   ]
  },
  {
   "cell_type": "code",
   "execution_count": 3,
   "metadata": {},
   "outputs": [],
   "source": [
    "# Read in data\n",
    "previous_map = gp.read_file('../uploads/to-mapbox-smd-data.geojson')\n",
    "new_map = gp.read_file('Single_Member_District_from_2023.geojson')"
   ]
  },
  {
   "cell_type": "code",
   "execution_count": 4,
   "metadata": {},
   "outputs": [],
   "source": [
    "# Set column names on the new map\n",
    "new_map['smd_name'] = new_map['SMD_ID']\n",
    "new_map['smd_id'] = 'smd_2022_' + new_map['SMD_ID']\n",
    "new_map.rename(columns={'ANC_ID': 'anc_id'}, inplace=True)\n",
    "\n",
    "# We only need these columns going forward\n",
    "map_columns = ['smd_id', 'smd_name', 'anc_id', 'geometry']\n",
    "\n",
    "# Save out the new map for later steps\n",
    "new_map[map_columns].to_file('to-mapbox-2022-smd-data-overlap.geojson', driver='GeoJSON')"
   ]
  },
  {
   "cell_type": "code",
   "execution_count": 5,
   "metadata": {},
   "outputs": [],
   "source": [
    "# Convert to local coordinate reference system\n",
    "previous_map = previous_map.to_crs(dc_crs)\n",
    "new_map = new_map.to_crs(dc_crs)"
   ]
  },
  {
   "cell_type": "code",
   "execution_count": 6,
   "metadata": {},
   "outputs": [],
   "source": [
    "previous_map['district_area'] = previous_map.geometry.area\n",
    "new_map['district_area'] = new_map.geometry.area"
   ]
  },
  {
   "cell_type": "code",
   "execution_count": 7,
   "metadata": {},
   "outputs": [],
   "source": [
    "def calculate_overlap(map_a, map_b, suffix_a, suffix_b):\n",
    "\n",
    "    overlap = map_a[overlap_columns].overlay(\n",
    "        map_b[overlap_columns], how='identity', keep_geom_type=False\n",
    "    )\n",
    "    \n",
    "    overlap.rename(columns={\n",
    "        'smd_id_1': 'smd_id' + suffix_a\n",
    "        , 'smd_id_2': 'smd_id' + suffix_b\n",
    "        , 'district_area_1': 'district_area' + suffix_a\n",
    "        , 'district_area_2': 'district_area' + suffix_b\n",
    "    }, inplace=True)\n",
    "\n",
    "    overlap['overlap_area'] = overlap.geometry.area\n",
    "    overlap['overlap_perc'] = overlap['overlap_area'] / overlap['district_area' + suffix_a]\n",
    "    \n",
    "    overlap['district_rank'] = overlap.groupby('smd_id' + suffix_a).overlap_perc.rank(ascending=False)\n",
    "    overlap.sort_values(by=['smd_id' + suffix_a, 'overlap_area'], ascending=[True, False], inplace=True)\n",
    "    \n",
    "    overlap.drop('geometry', axis=1, inplace=True)\n",
    "    \n",
    "    return overlap"
   ]
  },
  {
   "cell_type": "code",
   "execution_count": 8,
   "metadata": {},
   "outputs": [],
   "source": [
    "# Calculate the overlap\n",
    "overlap_columns = ['smd_id', 'district_area', 'geometry']"
   ]
  },
  {
   "cell_type": "code",
   "execution_count": 9,
   "metadata": {},
   "outputs": [],
   "source": [
    "# Backwards - how much of each new district is made up of the old districts? \n",
    "# Use this for the frontend list for each new district. \n",
    "overlap_backwards = calculate_overlap(new_map[overlap_columns], previous_map[overlap_columns], '_2022', '_2012')"
   ]
  },
  {
   "cell_type": "code",
   "execution_count": 10,
   "metadata": {},
   "outputs": [],
   "source": [
    "# Forwards - how much of each old district went into this new district? \n",
    "# Use this for colors for continuity\n",
    "overlap_forwards = calculate_overlap(previous_map[overlap_columns], new_map[overlap_columns], '_2012', '_2022')"
   ]
  },
  {
   "cell_type": "code",
   "execution_count": 11,
   "metadata": {},
   "outputs": [],
   "source": [
    "# Save results\n",
    "columns_for_csv = [c for c in overlap_backwards.columns if c != 'geometry']\n",
    "overlap_backwards[columns_for_csv].to_csv('overlap_backwards.csv', index=False)\n",
    "overlap_forwards[columns_for_csv].to_csv('overlap_forwards.csv', index=False)"
   ]
  },
  {
   "cell_type": "code",
   "execution_count": 12,
   "metadata": {},
   "outputs": [
    {
     "data": {
      "text/plain": [
       "345"
      ]
     },
     "execution_count": 12,
     "metadata": {},
     "output_type": "execute_result"
    }
   ],
   "source": [
    "# Should be 345\n",
    "(overlap_backwards.district_rank == 1).sum()"
   ]
  },
  {
   "cell_type": "code",
   "execution_count": 13,
   "metadata": {},
   "outputs": [
    {
     "data": {
      "text/plain": [
       "296"
      ]
     },
     "execution_count": 13,
     "metadata": {},
     "output_type": "execute_result"
    }
   ],
   "source": [
    "# Should be 296\n",
    "(overlap_forwards.district_rank == 1).sum()"
   ]
  },
  {
   "cell_type": "markdown",
   "metadata": {},
   "source": [
    "## Examples"
   ]
  },
  {
   "cell_type": "markdown",
   "metadata": {},
   "source": [
    "Every old district that is in this new district:"
   ]
  },
  {
   "cell_type": "code",
   "execution_count": 14,
   "metadata": {},
   "outputs": [
    {
     "data": {
      "text/html": [
       "<div>\n",
       "<style scoped>\n",
       "    .dataframe tbody tr th:only-of-type {\n",
       "        vertical-align: middle;\n",
       "    }\n",
       "\n",
       "    .dataframe tbody tr th {\n",
       "        vertical-align: top;\n",
       "    }\n",
       "\n",
       "    .dataframe thead th {\n",
       "        text-align: right;\n",
       "    }\n",
       "</style>\n",
       "<table border=\"1\" class=\"dataframe\">\n",
       "  <thead>\n",
       "    <tr style=\"text-align: right;\">\n",
       "      <th></th>\n",
       "      <th>smd_id_2012</th>\n",
       "      <th>district_area_2012</th>\n",
       "      <th>smd_id_2022</th>\n",
       "      <th>district_area_2022</th>\n",
       "      <th>overlap_area</th>\n",
       "      <th>overlap_perc</th>\n",
       "      <th>district_rank</th>\n",
       "    </tr>\n",
       "  </thead>\n",
       "  <tbody>\n",
       "  </tbody>\n",
       "</table>\n",
       "</div>"
      ],
      "text/plain": [
       "Empty DataFrame\n",
       "Columns: [smd_id_2012, district_area_2012, smd_id_2022, district_area_2022, overlap_area, overlap_perc, district_rank]\n",
       "Index: []"
      ]
     },
     "execution_count": 14,
     "metadata": {},
     "output_type": "execute_result"
    }
   ],
   "source": [
    "overlap_forwards[overlap_forwards.smd_id_2022 == 'smd_1D07']"
   ]
  },
  {
   "cell_type": "markdown",
   "metadata": {},
   "source": [
    "Every new district that is made up of parts of this old district:"
   ]
  },
  {
   "cell_type": "code",
   "execution_count": 15,
   "metadata": {},
   "outputs": [
    {
     "data": {
      "text/html": [
       "<div>\n",
       "<style scoped>\n",
       "    .dataframe tbody tr th:only-of-type {\n",
       "        vertical-align: middle;\n",
       "    }\n",
       "\n",
       "    .dataframe tbody tr th {\n",
       "        vertical-align: top;\n",
       "    }\n",
       "\n",
       "    .dataframe thead th {\n",
       "        text-align: right;\n",
       "    }\n",
       "</style>\n",
       "<table border=\"1\" class=\"dataframe\">\n",
       "  <thead>\n",
       "    <tr style=\"text-align: right;\">\n",
       "      <th></th>\n",
       "      <th>smd_id_2012</th>\n",
       "      <th>district_area_2012</th>\n",
       "      <th>smd_id_2022</th>\n",
       "      <th>district_area_2022</th>\n",
       "      <th>overlap_area</th>\n",
       "      <th>overlap_perc</th>\n",
       "      <th>district_rank</th>\n",
       "    </tr>\n",
       "  </thead>\n",
       "  <tbody>\n",
       "    <tr>\n",
       "      <th>286</th>\n",
       "      <td>smd_1C07</td>\n",
       "      <td>203187.80</td>\n",
       "      <td>smd_2022_1C07</td>\n",
       "      <td>129160.04</td>\n",
       "      <td>111510.19</td>\n",
       "      <td>0.55</td>\n",
       "      <td>1.00</td>\n",
       "    </tr>\n",
       "    <tr>\n",
       "      <th>267</th>\n",
       "      <td>smd_1C07</td>\n",
       "      <td>203187.80</td>\n",
       "      <td>smd_2022_1C08</td>\n",
       "      <td>128342.79</td>\n",
       "      <td>36327.84</td>\n",
       "      <td>0.18</td>\n",
       "      <td>2.00</td>\n",
       "    </tr>\n",
       "    <tr>\n",
       "      <th>348</th>\n",
       "      <td>smd_1C07</td>\n",
       "      <td>203187.80</td>\n",
       "      <td>smd_2022_1C05</td>\n",
       "      <td>112337.86</td>\n",
       "      <td>34708.44</td>\n",
       "      <td>0.17</td>\n",
       "      <td>3.00</td>\n",
       "    </tr>\n",
       "    <tr>\n",
       "      <th>261</th>\n",
       "      <td>smd_1C07</td>\n",
       "      <td>203187.80</td>\n",
       "      <td>smd_2022_1B07</td>\n",
       "      <td>95592.43</td>\n",
       "      <td>12838.70</td>\n",
       "      <td>0.06</td>\n",
       "      <td>4.00</td>\n",
       "    </tr>\n",
       "    <tr>\n",
       "      <th>300</th>\n",
       "      <td>smd_1C07</td>\n",
       "      <td>203187.80</td>\n",
       "      <td>smd_2022_1C01</td>\n",
       "      <td>135254.01</td>\n",
       "      <td>7669.77</td>\n",
       "      <td>0.04</td>\n",
       "      <td>5.00</td>\n",
       "    </tr>\n",
       "    <tr>\n",
       "      <th>335</th>\n",
       "      <td>smd_1C07</td>\n",
       "      <td>203187.80</td>\n",
       "      <td>smd_2022_1C04</td>\n",
       "      <td>330058.75</td>\n",
       "      <td>132.81</td>\n",
       "      <td>0.00</td>\n",
       "      <td>6.00</td>\n",
       "    </tr>\n",
       "    <tr>\n",
       "      <th>306</th>\n",
       "      <td>smd_1C07</td>\n",
       "      <td>203187.80</td>\n",
       "      <td>smd_2022_2B08</td>\n",
       "      <td>111970.17</td>\n",
       "      <td>0.02</td>\n",
       "      <td>0.00</td>\n",
       "      <td>7.00</td>\n",
       "    </tr>\n",
       "    <tr>\n",
       "      <th>343</th>\n",
       "      <td>smd_1C07</td>\n",
       "      <td>203187.80</td>\n",
       "      <td>smd_2022_1C06</td>\n",
       "      <td>82575.03</td>\n",
       "      <td>0.02</td>\n",
       "      <td>0.00</td>\n",
       "      <td>8.00</td>\n",
       "    </tr>\n",
       "    <tr>\n",
       "      <th>168</th>\n",
       "      <td>smd_1C07</td>\n",
       "      <td>203187.80</td>\n",
       "      <td>smd_2022_1C09</td>\n",
       "      <td>90633.10</td>\n",
       "      <td>0.01</td>\n",
       "      <td>0.00</td>\n",
       "      <td>9.00</td>\n",
       "    </tr>\n",
       "    <tr>\n",
       "      <th>292</th>\n",
       "      <td>smd_1C07</td>\n",
       "      <td>203187.80</td>\n",
       "      <td>smd_2022_1C03</td>\n",
       "      <td>119796.17</td>\n",
       "      <td>0.00</td>\n",
       "      <td>0.00</td>\n",
       "      <td>10.00</td>\n",
       "    </tr>\n",
       "    <tr>\n",
       "      <th>1993</th>\n",
       "      <td>smd_1C07</td>\n",
       "      <td>203187.80</td>\n",
       "      <td>NaN</td>\n",
       "      <td>nan</td>\n",
       "      <td>0.00</td>\n",
       "      <td>0.00</td>\n",
       "      <td>11.00</td>\n",
       "    </tr>\n",
       "  </tbody>\n",
       "</table>\n",
       "</div>"
      ],
      "text/plain": [
       "     smd_id_2012  district_area_2012    smd_id_2022  district_area_2022  \\\n",
       "286     smd_1C07           203187.80  smd_2022_1C07           129160.04   \n",
       "267     smd_1C07           203187.80  smd_2022_1C08           128342.79   \n",
       "348     smd_1C07           203187.80  smd_2022_1C05           112337.86   \n",
       "261     smd_1C07           203187.80  smd_2022_1B07            95592.43   \n",
       "300     smd_1C07           203187.80  smd_2022_1C01           135254.01   \n",
       "335     smd_1C07           203187.80  smd_2022_1C04           330058.75   \n",
       "306     smd_1C07           203187.80  smd_2022_2B08           111970.17   \n",
       "343     smd_1C07           203187.80  smd_2022_1C06            82575.03   \n",
       "168     smd_1C07           203187.80  smd_2022_1C09            90633.10   \n",
       "292     smd_1C07           203187.80  smd_2022_1C03           119796.17   \n",
       "1993    smd_1C07           203187.80            NaN                 nan   \n",
       "\n",
       "      overlap_area  overlap_perc  district_rank  \n",
       "286      111510.19          0.55           1.00  \n",
       "267       36327.84          0.18           2.00  \n",
       "348       34708.44          0.17           3.00  \n",
       "261       12838.70          0.06           4.00  \n",
       "300        7669.77          0.04           5.00  \n",
       "335         132.81          0.00           6.00  \n",
       "306           0.02          0.00           7.00  \n",
       "343           0.02          0.00           8.00  \n",
       "168           0.01          0.00           9.00  \n",
       "292           0.00          0.00          10.00  \n",
       "1993          0.00          0.00          11.00  "
      ]
     },
     "execution_count": 15,
     "metadata": {},
     "output_type": "execute_result"
    }
   ],
   "source": [
    "overlap_forwards[overlap_forwards.smd_id_2012 == 'smd_1C07']"
   ]
  },
  {
   "cell_type": "markdown",
   "metadata": {},
   "source": [
    "Every new district that this old district went to make: "
   ]
  },
  {
   "cell_type": "code",
   "execution_count": 16,
   "metadata": {},
   "outputs": [
    {
     "data": {
      "text/html": [
       "<div>\n",
       "<style scoped>\n",
       "    .dataframe tbody tr th:only-of-type {\n",
       "        vertical-align: middle;\n",
       "    }\n",
       "\n",
       "    .dataframe tbody tr th {\n",
       "        vertical-align: top;\n",
       "    }\n",
       "\n",
       "    .dataframe thead th {\n",
       "        text-align: right;\n",
       "    }\n",
       "</style>\n",
       "<table border=\"1\" class=\"dataframe\">\n",
       "  <thead>\n",
       "    <tr style=\"text-align: right;\">\n",
       "      <th></th>\n",
       "      <th>smd_id_2022</th>\n",
       "      <th>district_area_2022</th>\n",
       "      <th>smd_id_2012</th>\n",
       "      <th>district_area_2012</th>\n",
       "      <th>overlap_area</th>\n",
       "      <th>overlap_perc</th>\n",
       "      <th>district_rank</th>\n",
       "    </tr>\n",
       "  </thead>\n",
       "  <tbody>\n",
       "  </tbody>\n",
       "</table>\n",
       "</div>"
      ],
      "text/plain": [
       "Empty DataFrame\n",
       "Columns: [smd_id_2022, district_area_2022, smd_id_2012, district_area_2012, overlap_area, overlap_perc, district_rank]\n",
       "Index: []"
      ]
     },
     "execution_count": 16,
     "metadata": {},
     "output_type": "execute_result"
    }
   ],
   "source": [
    "overlap_backwards[overlap_backwards.smd_id_2022 == 'smd_1C08']"
   ]
  },
  {
   "cell_type": "code",
   "execution_count": 17,
   "metadata": {},
   "outputs": [
    {
     "data": {
      "text/html": [
       "<div>\n",
       "<style scoped>\n",
       "    .dataframe tbody tr th:only-of-type {\n",
       "        vertical-align: middle;\n",
       "    }\n",
       "\n",
       "    .dataframe tbody tr th {\n",
       "        vertical-align: top;\n",
       "    }\n",
       "\n",
       "    .dataframe thead th {\n",
       "        text-align: right;\n",
       "    }\n",
       "</style>\n",
       "<table border=\"1\" class=\"dataframe\">\n",
       "  <thead>\n",
       "    <tr style=\"text-align: right;\">\n",
       "      <th></th>\n",
       "      <th>smd_id_2012</th>\n",
       "      <th>district_area_2012</th>\n",
       "      <th>smd_id_2022</th>\n",
       "      <th>district_area_2022</th>\n",
       "      <th>overlap_area</th>\n",
       "      <th>overlap_perc</th>\n",
       "      <th>district_rank</th>\n",
       "    </tr>\n",
       "  </thead>\n",
       "  <tbody>\n",
       "    <tr>\n",
       "      <th>162</th>\n",
       "      <td>smd_1B08</td>\n",
       "      <td>96186.90</td>\n",
       "      <td>smd_2022_1A08</td>\n",
       "      <td>80997.35</td>\n",
       "      <td>41104.32</td>\n",
       "      <td>0.43</td>\n",
       "      <td>1.00</td>\n",
       "    </tr>\n",
       "    <tr>\n",
       "      <th>237</th>\n",
       "      <td>smd_1B08</td>\n",
       "      <td>96186.90</td>\n",
       "      <td>smd_2022_1B09</td>\n",
       "      <td>108656.14</td>\n",
       "      <td>30462.69</td>\n",
       "      <td>0.32</td>\n",
       "      <td>2.00</td>\n",
       "    </tr>\n",
       "    <tr>\n",
       "      <th>60</th>\n",
       "      <td>smd_1B08</td>\n",
       "      <td>96186.90</td>\n",
       "      <td>smd_2022_1A09</td>\n",
       "      <td>127755.47</td>\n",
       "      <td>24619.90</td>\n",
       "      <td>0.26</td>\n",
       "      <td>3.00</td>\n",
       "    </tr>\n",
       "    <tr>\n",
       "      <th>217</th>\n",
       "      <td>smd_1B08</td>\n",
       "      <td>96186.90</td>\n",
       "      <td>smd_2022_1B03</td>\n",
       "      <td>219595.07</td>\n",
       "      <td>0.00</td>\n",
       "      <td>0.00</td>\n",
       "      <td>4.00</td>\n",
       "    </tr>\n",
       "    <tr>\n",
       "      <th>251</th>\n",
       "      <td>smd_1B08</td>\n",
       "      <td>96186.90</td>\n",
       "      <td>smd_2022_1B06</td>\n",
       "      <td>132533.63</td>\n",
       "      <td>0.00</td>\n",
       "      <td>0.00</td>\n",
       "      <td>5.00</td>\n",
       "    </tr>\n",
       "    <tr>\n",
       "      <th>1982</th>\n",
       "      <td>smd_1B08</td>\n",
       "      <td>96186.90</td>\n",
       "      <td>NaN</td>\n",
       "      <td>nan</td>\n",
       "      <td>0.00</td>\n",
       "      <td>0.00</td>\n",
       "      <td>6.00</td>\n",
       "    </tr>\n",
       "    <tr>\n",
       "      <th>87</th>\n",
       "      <td>smd_1B08</td>\n",
       "      <td>96186.90</td>\n",
       "      <td>smd_2022_1A01</td>\n",
       "      <td>85597.19</td>\n",
       "      <td>0.00</td>\n",
       "      <td>0.00</td>\n",
       "      <td>7.00</td>\n",
       "    </tr>\n",
       "    <tr>\n",
       "      <th>115</th>\n",
       "      <td>smd_1B08</td>\n",
       "      <td>96186.90</td>\n",
       "      <td>smd_2022_1A10</td>\n",
       "      <td>163553.17</td>\n",
       "      <td>0.00</td>\n",
       "      <td>0.00</td>\n",
       "      <td>8.00</td>\n",
       "    </tr>\n",
       "  </tbody>\n",
       "</table>\n",
       "</div>"
      ],
      "text/plain": [
       "     smd_id_2012  district_area_2012    smd_id_2022  district_area_2022  \\\n",
       "162     smd_1B08            96186.90  smd_2022_1A08            80997.35   \n",
       "237     smd_1B08            96186.90  smd_2022_1B09           108656.14   \n",
       "60      smd_1B08            96186.90  smd_2022_1A09           127755.47   \n",
       "217     smd_1B08            96186.90  smd_2022_1B03           219595.07   \n",
       "251     smd_1B08            96186.90  smd_2022_1B06           132533.63   \n",
       "1982    smd_1B08            96186.90            NaN                 nan   \n",
       "87      smd_1B08            96186.90  smd_2022_1A01            85597.19   \n",
       "115     smd_1B08            96186.90  smd_2022_1A10           163553.17   \n",
       "\n",
       "      overlap_area  overlap_perc  district_rank  \n",
       "162       41104.32          0.43           1.00  \n",
       "237       30462.69          0.32           2.00  \n",
       "60        24619.90          0.26           3.00  \n",
       "217           0.00          0.00           4.00  \n",
       "251           0.00          0.00           5.00  \n",
       "1982          0.00          0.00           6.00  \n",
       "87            0.00          0.00           7.00  \n",
       "115           0.00          0.00           8.00  "
      ]
     },
     "execution_count": 17,
     "metadata": {},
     "output_type": "execute_result"
    }
   ],
   "source": [
    "overlap_forwards[overlap_forwards.smd_id_2012 == 'smd_1B08']"
   ]
  },
  {
   "cell_type": "code",
   "execution_count": null,
   "metadata": {},
   "outputs": [],
   "source": []
  }
 ],
 "metadata": {
  "kernelspec": {
   "display_name": "Python 3",
   "language": "python",
   "name": "python3"
  },
  "language_info": {
   "codemirror_mode": {
    "name": "ipython",
    "version": 3
   },
   "file_extension": ".py",
   "mimetype": "text/x-python",
   "name": "python",
   "nbconvert_exporter": "python",
   "pygments_lexer": "ipython3",
   "version": "3.7.1"
  }
 },
 "nbformat": 4,
 "nbformat_minor": 4
}
