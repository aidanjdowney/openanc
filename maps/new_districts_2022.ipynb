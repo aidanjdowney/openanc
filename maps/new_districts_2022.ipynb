{
 "cells": [
  {
   "cell_type": "markdown",
   "metadata": {},
   "source": [
    "# New Districts 2022\n",
    "\n",
    "What district names are totally new in 2022?"
   ]
  },
  {
   "cell_type": "code",
   "execution_count": 1,
   "metadata": {},
   "outputs": [],
   "source": [
    "import pandas as pd\n",
    "import geopandas as gp"
   ]
  },
  {
   "cell_type": "code",
   "execution_count": 2,
   "metadata": {},
   "outputs": [],
   "source": [
    "districts = pd.read_csv('../data/districts.csv')"
   ]
  },
  {
   "cell_type": "code",
   "execution_count": 3,
   "metadata": {},
   "outputs": [],
   "source": [
    "new_map = gp.read_file('to-mapbox-2022-smd-data.geojson')"
   ]
  },
  {
   "cell_type": "code",
   "execution_count": 6,
   "metadata": {},
   "outputs": [],
   "source": [
    "comp = pd.merge(new_map, districts, how='left', on='smd_id')"
   ]
  },
  {
   "cell_type": "code",
   "execution_count": 11,
   "metadata": {},
   "outputs": [
    {
     "data": {
      "text/plain": [
       "['smd_1C09',\n",
       " 'smd_1D06',\n",
       " 'smd_1D07',\n",
       " 'smd_1E01',\n",
       " 'smd_1E02',\n",
       " 'smd_1E03',\n",
       " 'smd_1E04',\n",
       " 'smd_1E05',\n",
       " 'smd_1E05',\n",
       " 'smd_1E05',\n",
       " 'smd_1E06',\n",
       " 'smd_1E07',\n",
       " 'smd_2A09',\n",
       " 'smd_2C04',\n",
       " 'smd_2G01',\n",
       " 'smd_2G02',\n",
       " 'smd_2G03',\n",
       " 'smd_2G04',\n",
       " 'smd_2G05',\n",
       " 'smd_2G05',\n",
       " 'smd_2G06',\n",
       " 'smd_3/4G01',\n",
       " 'smd_3/4G02',\n",
       " 'smd_3/4G03',\n",
       " 'smd_3/4G04',\n",
       " 'smd_3/4G05',\n",
       " 'smd_3/4G06',\n",
       " 'smd_3/4G07',\n",
       " 'smd_3A01',\n",
       " 'smd_3A02',\n",
       " 'smd_3A03',\n",
       " 'smd_3A04',\n",
       " 'smd_3A05',\n",
       " 'smd_3B06',\n",
       " 'smd_3E06',\n",
       " 'smd_3E07',\n",
       " 'smd_3E08',\n",
       " 'smd_4B10',\n",
       " 'smd_4D07',\n",
       " 'smd_4D08',\n",
       " 'smd_4E01',\n",
       " 'smd_4E02',\n",
       " 'smd_4E03',\n",
       " 'smd_4E04',\n",
       " 'smd_4E05',\n",
       " 'smd_4E06',\n",
       " 'smd_5A09',\n",
       " 'smd_5B06',\n",
       " 'smd_5B07',\n",
       " 'smd_5D08',\n",
       " 'smd_5D09',\n",
       " 'smd_5F01',\n",
       " 'smd_5F02',\n",
       " 'smd_5F03',\n",
       " 'smd_5F04',\n",
       " 'smd_5F05',\n",
       " 'smd_5F06',\n",
       " 'smd_5F07',\n",
       " 'smd_6C07',\n",
       " 'smd_6D08',\n",
       " 'smd_6E08',\n",
       " 'smd_6E09',\n",
       " 'smd_7B08',\n",
       " 'smd_7B09',\n",
       " 'smd_7C08',\n",
       " 'smd_7C09',\n",
       " 'smd_7D08',\n",
       " 'smd_7D09',\n",
       " 'smd_7D10',\n",
       " 'smd_7F08',\n",
       " 'smd_8C08',\n",
       " 'smd_8D08',\n",
       " 'smd_8E08',\n",
       " 'smd_8E09',\n",
       " 'smd_8F01',\n",
       " 'smd_8F02',\n",
       " 'smd_8F03',\n",
       " 'smd_8F04',\n",
       " 'smd_8F05']"
      ]
     },
     "execution_count": 11,
     "metadata": {},
     "output_type": "execute_result"
    }
   ],
   "source": [
    "comp[comp.anc_id_y.isnull()].smd_id.tolist()"
   ]
  },
  {
   "cell_type": "code",
   "execution_count": null,
   "metadata": {},
   "outputs": [],
   "source": []
  },
  {
   "cell_type": "code",
   "execution_count": null,
   "metadata": {},
   "outputs": [],
   "source": []
  }
 ],
 "metadata": {
  "kernelspec": {
   "display_name": "Python 3",
   "language": "python",
   "name": "python3"
  },
  "language_info": {
   "codemirror_mode": {
    "name": "ipython",
    "version": 3
   },
   "file_extension": ".py",
   "mimetype": "text/x-python",
   "name": "python",
   "nbconvert_exporter": "python",
   "pygments_lexer": "ipython3",
   "version": "3.7.1"
  }
 },
 "nbformat": 4,
 "nbformat_minor": 4
}
