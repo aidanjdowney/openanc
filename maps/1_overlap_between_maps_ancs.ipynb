{
 "cells": [
  {
   "cell_type": "markdown",
   "metadata": {},
   "source": [
    "# 1) Overlap Between Maps - ANCs\n",
    "\n",
    "For a new redistricting map, show what old ANCs overlap with each new ANC.\n",
    "\n",
    "Make sure rtree is installed in your local environment. See this notebook for your previous struggles: https://github.com/devinbrady/dc-parking/blob/main/Spatial-Join.ipynb"
   ]
  },
  {
   "cell_type": "code",
   "execution_count": 1,
   "metadata": {},
   "outputs": [],
   "source": [
    "import pandas as pd\n",
    "import geopandas as gpd\n",
    "pd.set_option('display.float_format', lambda x: '%.2f' % x)"
   ]
  },
  {
   "cell_type": "code",
   "execution_count": 2,
   "metadata": {},
   "outputs": [],
   "source": [
    "# Use this projection for measuring distances in meters\n",
    "# https://octo.dc.gov/page/coordinate-system-standards\n",
    "dc_crs = ('epsg', '26985')\n",
    "\n",
    "# Use WGS84 for saving GeoJSON for display in QGIS\n",
    "output_crs = ('epsg', '4326')"
   ]
  },
  {
   "cell_type": "code",
   "execution_count": 3,
   "metadata": {},
   "outputs": [],
   "source": [
    "# Read in data\n",
    "previous_map = gpd.read_file('anc-2012.geojson')\n",
    "new_map = gpd.read_file('anc-2022.geojson')"
   ]
  },
  {
   "cell_type": "code",
   "execution_count": 5,
   "metadata": {},
   "outputs": [],
   "source": [
    "# # Set column names on the new map\n",
    "# new_map['smd_name'] = new_map['SMD_ID']\n",
    "# new_map['smd_id'] = 'smd_2022_' + new_map['SMD_ID']\n",
    "# new_map.rename(columns={'ANC_ID': 'anc_id'}, inplace=True)\n",
    "\n",
    "# # We only need these columns going forward\n",
    "# map_columns = ['smd_id', 'smd_name', 'anc_id', 'geometry']\n",
    "\n",
    "# # Save out the new map for later steps\n",
    "# # new_map[map_columns].to_file('to-mapbox-2022-smd-data-overlap.geojson', driver='GeoJSON')"
   ]
  },
  {
   "cell_type": "code",
   "execution_count": 6,
   "metadata": {},
   "outputs": [],
   "source": [
    "# Convert to local coordinate reference system\n",
    "previous_map = previous_map.to_crs(dc_crs)\n",
    "new_map = new_map.to_crs(dc_crs)"
   ]
  },
  {
   "cell_type": "code",
   "execution_count": 7,
   "metadata": {},
   "outputs": [],
   "source": [
    "previous_map['district_area'] = previous_map.geometry.area\n",
    "new_map['district_area'] = new_map.geometry.area"
   ]
  },
  {
   "cell_type": "code",
   "execution_count": 8,
   "metadata": {},
   "outputs": [],
   "source": [
    "def calculate_overlap(map_a, map_b, suffix_a, suffix_b, id_field):\n",
    "\n",
    "    overlap = map_a[overlap_columns].overlay(\n",
    "        map_b[overlap_columns], how='identity', keep_geom_type=False\n",
    "    )\n",
    "    \n",
    "    overlap.rename(columns={\n",
    "        id_field + '_1': id_field + suffix_a\n",
    "        , id_field + '_2': id_field + suffix_b\n",
    "        , 'district_area_1': 'district_area' + suffix_a\n",
    "        , 'district_area_2': 'district_area' + suffix_b\n",
    "    }, inplace=True)\n",
    "\n",
    "    overlap['overlap_area'] = overlap.geometry.area\n",
    "    overlap['overlap_perc'] = overlap['overlap_area'] / overlap['district_area' + suffix_a]\n",
    "    \n",
    "    overlap['district_rank'] = overlap.groupby(id_field + suffix_a).overlap_perc.rank(ascending=False)\n",
    "    overlap.sort_values(by=[id_field + suffix_a, 'overlap_area'], ascending=[True, False], inplace=True)\n",
    "    \n",
    "    overlap.drop('geometry', axis=1, inplace=True)\n",
    "    \n",
    "    return overlap"
   ]
  },
  {
   "cell_type": "code",
   "execution_count": 9,
   "metadata": {},
   "outputs": [],
   "source": [
    "# Calculate the overlap\n",
    "overlap_columns = ['anc_id', 'district_area', 'geometry']"
   ]
  },
  {
   "cell_type": "code",
   "execution_count": 10,
   "metadata": {},
   "outputs": [],
   "source": [
    "# Backwards - how much of each new district is made up of the old districts? \n",
    "# Use this for the frontend list for each new district. \n",
    "overlap_backwards = calculate_overlap(\n",
    "    new_map[overlap_columns], previous_map[overlap_columns], '_2022', '_2012', 'anc_id')"
   ]
  },
  {
   "cell_type": "code",
   "execution_count": 11,
   "metadata": {},
   "outputs": [],
   "source": [
    "# Forwards - how much of each old district went into this new district? \n",
    "# Use this for colors for continuity\n",
    "overlap_forwards = calculate_overlap(\n",
    "    previous_map[overlap_columns], new_map[overlap_columns], '_2012', '_2022', 'anc_id')"
   ]
  },
  {
   "cell_type": "code",
   "execution_count": 12,
   "metadata": {},
   "outputs": [],
   "source": [
    "# Save results\n",
    "columns_for_csv = [c for c in overlap_backwards.columns if c != 'geometry']\n",
    "overlap_backwards[columns_for_csv].to_csv('overlap_backwards_anc.csv', index=False)\n",
    "overlap_forwards[columns_for_csv].to_csv('overlap_forwards_anc.csv', index=False)"
   ]
  },
  {
   "cell_type": "code",
   "execution_count": 13,
   "metadata": {},
   "outputs": [
    {
     "data": {
      "text/plain": [
       "46"
      ]
     },
     "execution_count": 13,
     "metadata": {},
     "output_type": "execute_result"
    }
   ],
   "source": [
    "# Should be 46\n",
    "(overlap_backwards.district_rank == 1).sum()"
   ]
  },
  {
   "cell_type": "code",
   "execution_count": 14,
   "metadata": {},
   "outputs": [
    {
     "data": {
      "text/plain": [
       "40"
      ]
     },
     "execution_count": 14,
     "metadata": {},
     "output_type": "execute_result"
    }
   ],
   "source": [
    "# Should be 40\n",
    "(overlap_forwards.district_rank == 1).sum()"
   ]
  },
  {
   "cell_type": "markdown",
   "metadata": {},
   "source": [
    "## Examples"
   ]
  },
  {
   "cell_type": "markdown",
   "metadata": {},
   "source": [
    "Every old district that is in this new district:"
   ]
  },
  {
   "cell_type": "code",
   "execution_count": 15,
   "metadata": {},
   "outputs": [
    {
     "data": {
      "text/html": [
       "<div>\n",
       "<style scoped>\n",
       "    .dataframe tbody tr th:only-of-type {\n",
       "        vertical-align: middle;\n",
       "    }\n",
       "\n",
       "    .dataframe tbody tr th {\n",
       "        vertical-align: top;\n",
       "    }\n",
       "\n",
       "    .dataframe thead th {\n",
       "        text-align: right;\n",
       "    }\n",
       "</style>\n",
       "<table border=\"1\" class=\"dataframe\">\n",
       "  <thead>\n",
       "    <tr style=\"text-align: right;\">\n",
       "      <th></th>\n",
       "      <th>anc_id_2012</th>\n",
       "      <th>district_area_2012</th>\n",
       "      <th>anc_id_2022</th>\n",
       "      <th>district_area_2022</th>\n",
       "      <th>overlap_area</th>\n",
       "      <th>overlap_perc</th>\n",
       "      <th>district_rank</th>\n",
       "    </tr>\n",
       "  </thead>\n",
       "  <tbody>\n",
       "    <tr>\n",
       "      <th>16</th>\n",
       "      <td>anc_1A</td>\n",
       "      <td>1663391.93</td>\n",
       "      <td>anc_1C_2022</td>\n",
       "      <td>1224285.30</td>\n",
       "      <td>0.06</td>\n",
       "      <td>0.00</td>\n",
       "      <td>5.00</td>\n",
       "    </tr>\n",
       "    <tr>\n",
       "      <th>17</th>\n",
       "      <td>anc_1B</td>\n",
       "      <td>2671190.98</td>\n",
       "      <td>anc_1C_2022</td>\n",
       "      <td>1224285.30</td>\n",
       "      <td>0.08</td>\n",
       "      <td>0.00</td>\n",
       "      <td>6.00</td>\n",
       "    </tr>\n",
       "    <tr>\n",
       "      <th>11</th>\n",
       "      <td>anc_1C</td>\n",
       "      <td>1285108.96</td>\n",
       "      <td>anc_1C_2022</td>\n",
       "      <td>1224285.30</td>\n",
       "      <td>1222983.56</td>\n",
       "      <td>0.95</td>\n",
       "      <td>1.00</td>\n",
       "    </tr>\n",
       "    <tr>\n",
       "      <th>12</th>\n",
       "      <td>anc_1D</td>\n",
       "      <td>947589.98</td>\n",
       "      <td>anc_1C_2022</td>\n",
       "      <td>1224285.30</td>\n",
       "      <td>0.06</td>\n",
       "      <td>0.00</td>\n",
       "      <td>5.00</td>\n",
       "    </tr>\n",
       "    <tr>\n",
       "      <th>13</th>\n",
       "      <td>anc_2B</td>\n",
       "      <td>2160613.45</td>\n",
       "      <td>anc_1C_2022</td>\n",
       "      <td>1224285.30</td>\n",
       "      <td>0.08</td>\n",
       "      <td>0.00</td>\n",
       "      <td>6.00</td>\n",
       "    </tr>\n",
       "    <tr>\n",
       "      <th>14</th>\n",
       "      <td>anc_2D</td>\n",
       "      <td>801770.73</td>\n",
       "      <td>anc_1C_2022</td>\n",
       "      <td>1224285.30</td>\n",
       "      <td>0.36</td>\n",
       "      <td>0.00</td>\n",
       "      <td>5.00</td>\n",
       "    </tr>\n",
       "    <tr>\n",
       "      <th>15</th>\n",
       "      <td>anc_3C</td>\n",
       "      <td>5293720.75</td>\n",
       "      <td>anc_1C_2022</td>\n",
       "      <td>1224285.30</td>\n",
       "      <td>1301.09</td>\n",
       "      <td>0.00</td>\n",
       "      <td>4.00</td>\n",
       "    </tr>\n",
       "  </tbody>\n",
       "</table>\n",
       "</div>"
      ],
      "text/plain": [
       "   anc_id_2012  district_area_2012  anc_id_2022  district_area_2022  \\\n",
       "16      anc_1A          1663391.93  anc_1C_2022          1224285.30   \n",
       "17      anc_1B          2671190.98  anc_1C_2022          1224285.30   \n",
       "11      anc_1C          1285108.96  anc_1C_2022          1224285.30   \n",
       "12      anc_1D           947589.98  anc_1C_2022          1224285.30   \n",
       "13      anc_2B          2160613.45  anc_1C_2022          1224285.30   \n",
       "14      anc_2D           801770.73  anc_1C_2022          1224285.30   \n",
       "15      anc_3C          5293720.75  anc_1C_2022          1224285.30   \n",
       "\n",
       "    overlap_area  overlap_perc  district_rank  \n",
       "16          0.06          0.00           5.00  \n",
       "17          0.08          0.00           6.00  \n",
       "11    1222983.56          0.95           1.00  \n",
       "12          0.06          0.00           5.00  \n",
       "13          0.08          0.00           6.00  \n",
       "14          0.36          0.00           5.00  \n",
       "15       1301.09          0.00           4.00  "
      ]
     },
     "execution_count": 15,
     "metadata": {},
     "output_type": "execute_result"
    }
   ],
   "source": [
    "overlap_forwards[overlap_forwards.anc_id_2022 == 'anc_1C_2022']"
   ]
  },
  {
   "cell_type": "markdown",
   "metadata": {},
   "source": [
    "Every new district that is made up of parts of this old district:"
   ]
  },
  {
   "cell_type": "code",
   "execution_count": 16,
   "metadata": {},
   "outputs": [
    {
     "data": {
      "text/html": [
       "<div>\n",
       "<style scoped>\n",
       "    .dataframe tbody tr th:only-of-type {\n",
       "        vertical-align: middle;\n",
       "    }\n",
       "\n",
       "    .dataframe tbody tr th {\n",
       "        vertical-align: top;\n",
       "    }\n",
       "\n",
       "    .dataframe thead th {\n",
       "        text-align: right;\n",
       "    }\n",
       "</style>\n",
       "<table border=\"1\" class=\"dataframe\">\n",
       "  <thead>\n",
       "    <tr style=\"text-align: right;\">\n",
       "      <th></th>\n",
       "      <th>anc_id_2012</th>\n",
       "      <th>district_area_2012</th>\n",
       "      <th>anc_id_2022</th>\n",
       "      <th>district_area_2022</th>\n",
       "      <th>overlap_area</th>\n",
       "      <th>overlap_perc</th>\n",
       "      <th>district_rank</th>\n",
       "    </tr>\n",
       "  </thead>\n",
       "  <tbody>\n",
       "    <tr>\n",
       "      <th>11</th>\n",
       "      <td>anc_1C</td>\n",
       "      <td>1285108.96</td>\n",
       "      <td>anc_1C_2022</td>\n",
       "      <td>1224285.30</td>\n",
       "      <td>1222983.56</td>\n",
       "      <td>0.95</td>\n",
       "      <td>1.00</td>\n",
       "    </tr>\n",
       "    <tr>\n",
       "      <th>5</th>\n",
       "      <td>anc_1C</td>\n",
       "      <td>1285108.96</td>\n",
       "      <td>anc_1B_2022</td>\n",
       "      <td>1464265.71</td>\n",
       "      <td>60488.04</td>\n",
       "      <td>0.05</td>\n",
       "      <td>2.00</td>\n",
       "    </tr>\n",
       "    <tr>\n",
       "      <th>35</th>\n",
       "      <td>anc_1C</td>\n",
       "      <td>1285108.96</td>\n",
       "      <td>anc_3C_2022</td>\n",
       "      <td>4725916.27</td>\n",
       "      <td>744.92</td>\n",
       "      <td>0.00</td>\n",
       "      <td>3.00</td>\n",
       "    </tr>\n",
       "    <tr>\n",
       "      <th>0</th>\n",
       "      <td>anc_1C</td>\n",
       "      <td>1285108.96</td>\n",
       "      <td>anc_1A_2022</td>\n",
       "      <td>1125853.81</td>\n",
       "      <td>678.23</td>\n",
       "      <td>0.00</td>\n",
       "      <td>4.00</td>\n",
       "    </tr>\n",
       "    <tr>\n",
       "      <th>18</th>\n",
       "      <td>anc_1C</td>\n",
       "      <td>1285108.96</td>\n",
       "      <td>anc_1D_2022</td>\n",
       "      <td>1075325.75</td>\n",
       "      <td>213.94</td>\n",
       "      <td>0.00</td>\n",
       "      <td>5.00</td>\n",
       "    </tr>\n",
       "    <tr>\n",
       "      <th>30</th>\n",
       "      <td>anc_1C</td>\n",
       "      <td>1285108.96</td>\n",
       "      <td>anc_2D_2022</td>\n",
       "      <td>795976.64</td>\n",
       "      <td>0.25</td>\n",
       "      <td>0.00</td>\n",
       "      <td>6.00</td>\n",
       "    </tr>\n",
       "    <tr>\n",
       "      <th>24</th>\n",
       "      <td>anc_1C</td>\n",
       "      <td>1285108.96</td>\n",
       "      <td>anc_2B_2022</td>\n",
       "      <td>1318654.34</td>\n",
       "      <td>0.02</td>\n",
       "      <td>0.00</td>\n",
       "      <td>7.00</td>\n",
       "    </tr>\n",
       "    <tr>\n",
       "      <th>238</th>\n",
       "      <td>anc_1C</td>\n",
       "      <td>1285108.96</td>\n",
       "      <td>NaN</td>\n",
       "      <td>nan</td>\n",
       "      <td>0.00</td>\n",
       "      <td>0.00</td>\n",
       "      <td>8.00</td>\n",
       "    </tr>\n",
       "  </tbody>\n",
       "</table>\n",
       "</div>"
      ],
      "text/plain": [
       "    anc_id_2012  district_area_2012  anc_id_2022  district_area_2022  \\\n",
       "11       anc_1C          1285108.96  anc_1C_2022          1224285.30   \n",
       "5        anc_1C          1285108.96  anc_1B_2022          1464265.71   \n",
       "35       anc_1C          1285108.96  anc_3C_2022          4725916.27   \n",
       "0        anc_1C          1285108.96  anc_1A_2022          1125853.81   \n",
       "18       anc_1C          1285108.96  anc_1D_2022          1075325.75   \n",
       "30       anc_1C          1285108.96  anc_2D_2022           795976.64   \n",
       "24       anc_1C          1285108.96  anc_2B_2022          1318654.34   \n",
       "238      anc_1C          1285108.96          NaN                 nan   \n",
       "\n",
       "     overlap_area  overlap_perc  district_rank  \n",
       "11     1222983.56          0.95           1.00  \n",
       "5        60488.04          0.05           2.00  \n",
       "35         744.92          0.00           3.00  \n",
       "0          678.23          0.00           4.00  \n",
       "18         213.94          0.00           5.00  \n",
       "30           0.25          0.00           6.00  \n",
       "24           0.02          0.00           7.00  \n",
       "238          0.00          0.00           8.00  "
      ]
     },
     "execution_count": 16,
     "metadata": {},
     "output_type": "execute_result"
    }
   ],
   "source": [
    "overlap_forwards[overlap_forwards.anc_id_2012 == 'anc_1C']"
   ]
  },
  {
   "cell_type": "markdown",
   "metadata": {},
   "source": [
    "Every new district that this old district went to make: "
   ]
  },
  {
   "cell_type": "code",
   "execution_count": 24,
   "metadata": {},
   "outputs": [
    {
     "data": {
      "text/html": [
       "<div>\n",
       "<style scoped>\n",
       "    .dataframe tbody tr th:only-of-type {\n",
       "        vertical-align: middle;\n",
       "    }\n",
       "\n",
       "    .dataframe tbody tr th {\n",
       "        vertical-align: top;\n",
       "    }\n",
       "\n",
       "    .dataframe thead th {\n",
       "        text-align: right;\n",
       "    }\n",
       "</style>\n",
       "<table border=\"1\" class=\"dataframe\">\n",
       "  <thead>\n",
       "    <tr style=\"text-align: right;\">\n",
       "      <th></th>\n",
       "      <th>anc_id_2022</th>\n",
       "      <th>district_area_2022</th>\n",
       "      <th>anc_id_2012</th>\n",
       "      <th>district_area_2012</th>\n",
       "      <th>overlap_area</th>\n",
       "      <th>overlap_perc</th>\n",
       "      <th>district_rank</th>\n",
       "    </tr>\n",
       "  </thead>\n",
       "  <tbody>\n",
       "    <tr>\n",
       "      <th>9</th>\n",
       "      <td>anc_1D_2022</td>\n",
       "      <td>1075325.75</td>\n",
       "      <td>anc_1D</td>\n",
       "      <td>947589.98</td>\n",
       "      <td>947550.24</td>\n",
       "      <td>0.88</td>\n",
       "      <td>1.00</td>\n",
       "    </tr>\n",
       "    <tr>\n",
       "      <th>22</th>\n",
       "      <td>anc_1D_2022</td>\n",
       "      <td>1075325.75</td>\n",
       "      <td>anc_1A</td>\n",
       "      <td>1663391.93</td>\n",
       "      <td>127437.69</td>\n",
       "      <td>0.12</td>\n",
       "      <td>2.00</td>\n",
       "    </tr>\n",
       "    <tr>\n",
       "      <th>3</th>\n",
       "      <td>anc_1D_2022</td>\n",
       "      <td>1075325.75</td>\n",
       "      <td>anc_1C</td>\n",
       "      <td>1285108.96</td>\n",
       "      <td>213.94</td>\n",
       "      <td>0.00</td>\n",
       "      <td>3.00</td>\n",
       "    </tr>\n",
       "    <tr>\n",
       "      <th>70</th>\n",
       "      <td>anc_1D_2022</td>\n",
       "      <td>1075325.75</td>\n",
       "      <td>anc_3C</td>\n",
       "      <td>5293720.75</td>\n",
       "      <td>123.82</td>\n",
       "      <td>0.00</td>\n",
       "      <td>4.00</td>\n",
       "    </tr>\n",
       "    <tr>\n",
       "      <th>77</th>\n",
       "      <td>anc_1D_2022</td>\n",
       "      <td>1075325.75</td>\n",
       "      <td>anc_4A</td>\n",
       "      <td>7739216.58</td>\n",
       "      <td>0.03</td>\n",
       "      <td>0.00</td>\n",
       "      <td>5.00</td>\n",
       "    </tr>\n",
       "    <tr>\n",
       "      <th>14</th>\n",
       "      <td>anc_1D_2022</td>\n",
       "      <td>1075325.75</td>\n",
       "      <td>anc_4C</td>\n",
       "      <td>3139126.04</td>\n",
       "      <td>0.03</td>\n",
       "      <td>0.00</td>\n",
       "      <td>6.00</td>\n",
       "    </tr>\n",
       "    <tr>\n",
       "      <th>241</th>\n",
       "      <td>anc_1D_2022</td>\n",
       "      <td>1075325.75</td>\n",
       "      <td>NaN</td>\n",
       "      <td>nan</td>\n",
       "      <td>0.00</td>\n",
       "      <td>0.00</td>\n",
       "      <td>7.00</td>\n",
       "    </tr>\n",
       "  </tbody>\n",
       "</table>\n",
       "</div>"
      ],
      "text/plain": [
       "     anc_id_2022  district_area_2022 anc_id_2012  district_area_2012  \\\n",
       "9    anc_1D_2022          1075325.75      anc_1D           947589.98   \n",
       "22   anc_1D_2022          1075325.75      anc_1A          1663391.93   \n",
       "3    anc_1D_2022          1075325.75      anc_1C          1285108.96   \n",
       "70   anc_1D_2022          1075325.75      anc_3C          5293720.75   \n",
       "77   anc_1D_2022          1075325.75      anc_4A          7739216.58   \n",
       "14   anc_1D_2022          1075325.75      anc_4C          3139126.04   \n",
       "241  anc_1D_2022          1075325.75         NaN                 nan   \n",
       "\n",
       "     overlap_area  overlap_perc  district_rank  \n",
       "9       947550.24          0.88           1.00  \n",
       "22      127437.69          0.12           2.00  \n",
       "3          213.94          0.00           3.00  \n",
       "70         123.82          0.00           4.00  \n",
       "77           0.03          0.00           5.00  \n",
       "14           0.03          0.00           6.00  \n",
       "241          0.00          0.00           7.00  "
      ]
     },
     "execution_count": 24,
     "metadata": {},
     "output_type": "execute_result"
    }
   ],
   "source": [
    "overlap_backwards[overlap_backwards.anc_id_2022 == 'anc_1C_2022']"
   ]
  },
  {
   "cell_type": "code",
   "execution_count": 21,
   "metadata": {},
   "outputs": [
    {
     "data": {
      "text/html": [
       "<div>\n",
       "<style scoped>\n",
       "    .dataframe tbody tr th:only-of-type {\n",
       "        vertical-align: middle;\n",
       "    }\n",
       "\n",
       "    .dataframe tbody tr th {\n",
       "        vertical-align: top;\n",
       "    }\n",
       "\n",
       "    .dataframe thead th {\n",
       "        text-align: right;\n",
       "    }\n",
       "</style>\n",
       "<table border=\"1\" class=\"dataframe\">\n",
       "  <thead>\n",
       "    <tr style=\"text-align: right;\">\n",
       "      <th></th>\n",
       "      <th>anc_id_2022</th>\n",
       "      <th>district_area_2022</th>\n",
       "      <th>anc_id_2012</th>\n",
       "      <th>district_area_2012</th>\n",
       "      <th>overlap_area</th>\n",
       "      <th>overlap_perc</th>\n",
       "      <th>district_rank</th>\n",
       "    </tr>\n",
       "  </thead>\n",
       "  <tbody>\n",
       "    <tr>\n",
       "      <th>0</th>\n",
       "      <td>anc_1A_2022</td>\n",
       "      <td>1125853.81</td>\n",
       "      <td>anc_1C</td>\n",
       "      <td>1285108.96</td>\n",
       "      <td>678.23</td>\n",
       "      <td>0.00</td>\n",
       "      <td>3.00</td>\n",
       "    </tr>\n",
       "    <tr>\n",
       "      <th>1</th>\n",
       "      <td>anc_1B_2022</td>\n",
       "      <td>1464265.71</td>\n",
       "      <td>anc_1C</td>\n",
       "      <td>1285108.96</td>\n",
       "      <td>60488.04</td>\n",
       "      <td>0.04</td>\n",
       "      <td>2.00</td>\n",
       "    </tr>\n",
       "    <tr>\n",
       "      <th>2</th>\n",
       "      <td>anc_1C_2022</td>\n",
       "      <td>1224285.30</td>\n",
       "      <td>anc_1C</td>\n",
       "      <td>1285108.96</td>\n",
       "      <td>1222983.56</td>\n",
       "      <td>1.00</td>\n",
       "      <td>1.00</td>\n",
       "    </tr>\n",
       "    <tr>\n",
       "      <th>3</th>\n",
       "      <td>anc_1D_2022</td>\n",
       "      <td>1075325.75</td>\n",
       "      <td>anc_1C</td>\n",
       "      <td>1285108.96</td>\n",
       "      <td>213.94</td>\n",
       "      <td>0.00</td>\n",
       "      <td>3.00</td>\n",
       "    </tr>\n",
       "    <tr>\n",
       "      <th>4</th>\n",
       "      <td>anc_2B_2022</td>\n",
       "      <td>1318654.34</td>\n",
       "      <td>anc_1C</td>\n",
       "      <td>1285108.96</td>\n",
       "      <td>0.02</td>\n",
       "      <td>0.00</td>\n",
       "      <td>5.00</td>\n",
       "    </tr>\n",
       "    <tr>\n",
       "      <th>5</th>\n",
       "      <td>anc_2D_2022</td>\n",
       "      <td>795976.64</td>\n",
       "      <td>anc_1C</td>\n",
       "      <td>1285108.96</td>\n",
       "      <td>0.25</td>\n",
       "      <td>0.00</td>\n",
       "      <td>3.00</td>\n",
       "    </tr>\n",
       "    <tr>\n",
       "      <th>6</th>\n",
       "      <td>anc_3C_2022</td>\n",
       "      <td>4725916.27</td>\n",
       "      <td>anc_1C</td>\n",
       "      <td>1285108.96</td>\n",
       "      <td>744.92</td>\n",
       "      <td>0.00</td>\n",
       "      <td>4.00</td>\n",
       "    </tr>\n",
       "  </tbody>\n",
       "</table>\n",
       "</div>"
      ],
      "text/plain": [
       "   anc_id_2022  district_area_2022 anc_id_2012  district_area_2012  \\\n",
       "0  anc_1A_2022          1125853.81      anc_1C          1285108.96   \n",
       "1  anc_1B_2022          1464265.71      anc_1C          1285108.96   \n",
       "2  anc_1C_2022          1224285.30      anc_1C          1285108.96   \n",
       "3  anc_1D_2022          1075325.75      anc_1C          1285108.96   \n",
       "4  anc_2B_2022          1318654.34      anc_1C          1285108.96   \n",
       "5  anc_2D_2022           795976.64      anc_1C          1285108.96   \n",
       "6  anc_3C_2022          4725916.27      anc_1C          1285108.96   \n",
       "\n",
       "   overlap_area  overlap_perc  district_rank  \n",
       "0        678.23          0.00           3.00  \n",
       "1      60488.04          0.04           2.00  \n",
       "2    1222983.56          1.00           1.00  \n",
       "3        213.94          0.00           3.00  \n",
       "4          0.02          0.00           5.00  \n",
       "5          0.25          0.00           3.00  \n",
       "6        744.92          0.00           4.00  "
      ]
     },
     "execution_count": 21,
     "metadata": {},
     "output_type": "execute_result"
    }
   ],
   "source": [
    "overlap_backwards[overlap_backwards.anc_id_2012 == 'anc_1C']"
   ]
  },
  {
   "cell_type": "code",
   "execution_count": 23,
   "metadata": {},
   "outputs": [
    {
     "data": {
      "text/plain": [
       "40.000000886563384"
      ]
     },
     "execution_count": 23,
     "metadata": {},
     "output_type": "execute_result"
    }
   ],
   "source": [
    "overlap_forwards.overlap_perc.sum()"
   ]
  },
  {
   "cell_type": "code",
   "execution_count": 22,
   "metadata": {},
   "outputs": [
    {
     "data": {
      "text/plain": [
       "46.00000000017819"
      ]
     },
     "execution_count": 22,
     "metadata": {},
     "output_type": "execute_result"
    }
   ],
   "source": [
    "overlap_backwards.overlap_perc.sum()"
   ]
  },
  {
   "cell_type": "code",
   "execution_count": null,
   "metadata": {},
   "outputs": [],
   "source": []
  }
 ],
 "metadata": {
  "kernelspec": {
   "display_name": "Python 3",
   "language": "python",
   "name": "python3"
  },
  "language_info": {
   "codemirror_mode": {
    "name": "ipython",
    "version": 3
   },
   "file_extension": ".py",
   "mimetype": "text/x-python",
   "name": "python",
   "nbconvert_exporter": "python",
   "pygments_lexer": "ipython3",
   "version": "3.7.1"
  }
 },
 "nbformat": 4,
 "nbformat_minor": 4
}
