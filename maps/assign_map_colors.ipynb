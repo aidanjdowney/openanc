{
 "cells": [
  {
   "cell_type": "markdown",
   "metadata": {},
   "source": [
    "# Assign Map Colors\n",
    "\n",
    "For a new map after redistricing, try to make the colors match when switching between map versions.\n",
    "\n",
    "Goal: If 1C01 is light blue on the 2012 map, then the same area should also be light blue on the 2022 map. The district number might have changed, though! "
   ]
  },
  {
   "cell_type": "code",
   "execution_count": 1,
   "metadata": {},
   "outputs": [],
   "source": [
    "import pandas as pd\n",
    "import geopandas as gpd"
   ]
  },
  {
   "cell_type": "code",
   "execution_count": 2,
   "metadata": {},
   "outputs": [],
   "source": [
    "districts = pd.read_csv('../data/districts.csv')\n",
    "overlap = pd.read_csv('overlap_forwards.csv')"
   ]
  },
  {
   "cell_type": "code",
   "execution_count": 3,
   "metadata": {},
   "outputs": [],
   "source": [
    "map_2022 = gpd.read_file('Single_Member_District_from_2023.geojson')"
   ]
  },
  {
   "cell_type": "code",
   "execution_count": 4,
   "metadata": {},
   "outputs": [],
   "source": [
    "map_2022['smd_name'] = map_2022['SMD_ID']\n",
    "map_2022['smd_id'] = 'smd_' + map_2022['SMD_ID']\n",
    "map_2022.rename(columns={'ANC_ID': 'anc_id'}, inplace=True)"
   ]
  },
  {
   "cell_type": "code",
   "execution_count": 5,
   "metadata": {},
   "outputs": [],
   "source": [
    "# We only need these columns going forward\n",
    "map_columns = ['smd_id', 'smd_name', 'anc_id', 'geometry']\n",
    "map_2022 = map_2022[map_columns].copy()"
   ]
  },
  {
   "cell_type": "code",
   "execution_count": 6,
   "metadata": {},
   "outputs": [],
   "source": [
    "overlap_top_match = overlap[overlap.district_rank == 1].copy()"
   ]
  },
  {
   "cell_type": "code",
   "execution_count": 7,
   "metadata": {},
   "outputs": [],
   "source": [
    "# Left join the 2022 map to the 2012 district overlap\n",
    "district_overlap = pd.merge(\n",
    "    districts[['smd_id', 'map_color_id']], overlap_top_match, how='left', left_on='smd_id', right_on='smd_id_2012'\n",
    ")\n",
    "\n",
    "# Drop this duplicate column to avoid confusion and collision\n",
    "district_overlap.drop(columns=['smd_id'], inplace=True)\n",
    "\n",
    "map_2022_colors = map_2022.merge(\n",
    "    district_overlap, how='left', left_on='smd_id', right_on='smd_id_2022'\n",
    ")"
   ]
  },
  {
   "cell_type": "code",
   "execution_count": 8,
   "metadata": {},
   "outputs": [],
   "source": [
    "map_2022_colors['map_color_id'] = map_2022_colors['map_color_id'].fillna(13)"
   ]
  },
  {
   "cell_type": "code",
   "execution_count": 9,
   "metadata": {},
   "outputs": [],
   "source": [
    "# Make sure this column in an integer. Because it was previously NULL, pandas set it a decimal\n",
    "map_2022_colors['map_color_id'] = map_2022_colors['map_color_id'].astype('int64')"
   ]
  },
  {
   "cell_type": "code",
   "execution_count": 10,
   "metadata": {},
   "outputs": [],
   "source": [
    "map_2022_colors['qgis_label'] = '2022_' + map_2022_colors['smd_name']"
   ]
  },
  {
   "cell_type": "code",
   "execution_count": 11,
   "metadata": {},
   "outputs": [
    {
     "data": {
      "text/html": [
       "<div>\n",
       "<style scoped>\n",
       "    .dataframe tbody tr th:only-of-type {\n",
       "        vertical-align: middle;\n",
       "    }\n",
       "\n",
       "    .dataframe tbody tr th {\n",
       "        vertical-align: top;\n",
       "    }\n",
       "\n",
       "    .dataframe thead th {\n",
       "        text-align: right;\n",
       "    }\n",
       "</style>\n",
       "<table border=\"1\" class=\"dataframe\">\n",
       "  <thead>\n",
       "    <tr style=\"text-align: right;\">\n",
       "      <th></th>\n",
       "      <th>smd_id</th>\n",
       "      <th>smd_name</th>\n",
       "      <th>anc_id</th>\n",
       "      <th>geometry</th>\n",
       "      <th>map_color_id</th>\n",
       "      <th>smd_id_2022</th>\n",
       "      <th>district_area_2022</th>\n",
       "      <th>smd_id_2012</th>\n",
       "      <th>district_area_2012</th>\n",
       "      <th>overlap_area</th>\n",
       "      <th>overlap_perc</th>\n",
       "      <th>district_rank</th>\n",
       "      <th>qgis_label</th>\n",
       "    </tr>\n",
       "  </thead>\n",
       "  <tbody>\n",
       "    <tr>\n",
       "      <th>0</th>\n",
       "      <td>smd_1C08</td>\n",
       "      <td>1C08</td>\n",
       "      <td>1C</td>\n",
       "      <td>POLYGON ((-77.03649 38.92274, -77.03663 38.922...</td>\n",
       "      <td>8</td>\n",
       "      <td>smd_1C08</td>\n",
       "      <td>128342.785633</td>\n",
       "      <td>smd_1C08</td>\n",
       "      <td>139664.389254</td>\n",
       "      <td>92014.851455</td>\n",
       "      <td>0.658828</td>\n",
       "      <td>1.0</td>\n",
       "      <td>2022_1C08</td>\n",
       "    </tr>\n",
       "    <tr>\n",
       "      <th>1</th>\n",
       "      <td>smd_1C07</td>\n",
       "      <td>1C07</td>\n",
       "      <td>1C</td>\n",
       "      <td>POLYGON ((-77.03918 38.92494, -77.03921 38.924...</td>\n",
       "      <td>7</td>\n",
       "      <td>smd_1C07</td>\n",
       "      <td>129160.040163</td>\n",
       "      <td>smd_1C07</td>\n",
       "      <td>203187.796445</td>\n",
       "      <td>111510.190211</td>\n",
       "      <td>0.548804</td>\n",
       "      <td>1.0</td>\n",
       "      <td>2022_1C07</td>\n",
       "    </tr>\n",
       "    <tr>\n",
       "      <th>2</th>\n",
       "      <td>smd_1C03</td>\n",
       "      <td>1C03</td>\n",
       "      <td>1C</td>\n",
       "      <td>POLYGON ((-77.04269 38.92267, -77.04282 38.922...</td>\n",
       "      <td>3</td>\n",
       "      <td>smd_1C03</td>\n",
       "      <td>119796.170816</td>\n",
       "      <td>smd_1C03</td>\n",
       "      <td>119796.342840</td>\n",
       "      <td>119796.031763</td>\n",
       "      <td>0.999997</td>\n",
       "      <td>1.0</td>\n",
       "      <td>2022_1C03</td>\n",
       "    </tr>\n",
       "    <tr>\n",
       "      <th>3</th>\n",
       "      <td>smd_1C02</td>\n",
       "      <td>1C02</td>\n",
       "      <td>1C</td>\n",
       "      <td>POLYGON ((-77.04478 38.91906, -77.04484 38.919...</td>\n",
       "      <td>13</td>\n",
       "      <td>NaN</td>\n",
       "      <td>NaN</td>\n",
       "      <td>NaN</td>\n",
       "      <td>NaN</td>\n",
       "      <td>NaN</td>\n",
       "      <td>NaN</td>\n",
       "      <td>NaN</td>\n",
       "      <td>2022_1C02</td>\n",
       "    </tr>\n",
       "    <tr>\n",
       "      <th>4</th>\n",
       "      <td>smd_1C01</td>\n",
       "      <td>1C01</td>\n",
       "      <td>1C</td>\n",
       "      <td>POLYGON ((-77.04168 38.91875, -77.04180 38.918...</td>\n",
       "      <td>1</td>\n",
       "      <td>smd_1C01</td>\n",
       "      <td>135254.012713</td>\n",
       "      <td>smd_1C01</td>\n",
       "      <td>154959.758434</td>\n",
       "      <td>127584.174939</td>\n",
       "      <td>0.823337</td>\n",
       "      <td>1.0</td>\n",
       "      <td>2022_1C01</td>\n",
       "    </tr>\n",
       "  </tbody>\n",
       "</table>\n",
       "</div>"
      ],
      "text/plain": [
       "     smd_id smd_name anc_id  \\\n",
       "0  smd_1C08     1C08     1C   \n",
       "1  smd_1C07     1C07     1C   \n",
       "2  smd_1C03     1C03     1C   \n",
       "3  smd_1C02     1C02     1C   \n",
       "4  smd_1C01     1C01     1C   \n",
       "\n",
       "                                            geometry  map_color_id  \\\n",
       "0  POLYGON ((-77.03649 38.92274, -77.03663 38.922...             8   \n",
       "1  POLYGON ((-77.03918 38.92494, -77.03921 38.924...             7   \n",
       "2  POLYGON ((-77.04269 38.92267, -77.04282 38.922...             3   \n",
       "3  POLYGON ((-77.04478 38.91906, -77.04484 38.919...            13   \n",
       "4  POLYGON ((-77.04168 38.91875, -77.04180 38.918...             1   \n",
       "\n",
       "  smd_id_2022  district_area_2022 smd_id_2012  district_area_2012  \\\n",
       "0    smd_1C08       128342.785633    smd_1C08       139664.389254   \n",
       "1    smd_1C07       129160.040163    smd_1C07       203187.796445   \n",
       "2    smd_1C03       119796.170816    smd_1C03       119796.342840   \n",
       "3         NaN                 NaN         NaN                 NaN   \n",
       "4    smd_1C01       135254.012713    smd_1C01       154959.758434   \n",
       "\n",
       "    overlap_area  overlap_perc  district_rank qgis_label  \n",
       "0   92014.851455      0.658828            1.0  2022_1C08  \n",
       "1  111510.190211      0.548804            1.0  2022_1C07  \n",
       "2  119796.031763      0.999997            1.0  2022_1C03  \n",
       "3            NaN           NaN            NaN  2022_1C02  \n",
       "4  127584.174939      0.823337            1.0  2022_1C01  "
      ]
     },
     "execution_count": 11,
     "metadata": {},
     "output_type": "execute_result"
    }
   ],
   "source": [
    "map_2022_colors.head()"
   ]
  },
  {
   "cell_type": "code",
   "execution_count": 12,
   "metadata": {},
   "outputs": [
    {
     "data": {
      "text/plain": [
       "map_color_id\n",
       "1     29\n",
       "2     26\n",
       "3     27\n",
       "4     24\n",
       "5     23\n",
       "6     22\n",
       "7     23\n",
       "8     25\n",
       "9     24\n",
       "10    26\n",
       "11    24\n",
       "12    23\n",
       "13    82\n",
       "dtype: int64"
      ]
     },
     "execution_count": 12,
     "metadata": {},
     "output_type": "execute_result"
    }
   ],
   "source": [
    "map_2022_colors.groupby('map_color_id').size()"
   ]
  },
  {
   "cell_type": "code",
   "execution_count": 13,
   "metadata": {},
   "outputs": [],
   "source": [
    "map_2022_colors[map_columns + ['map_color_id', 'qgis_label']].to_file(\n",
    "    'to-mapbox-2022-smd-data-initial.geojson', driver='GeoJSON')"
   ]
  },
  {
   "cell_type": "code",
   "execution_count": 14,
   "metadata": {},
   "outputs": [],
   "source": [
    "# no_geo = [c for c in map_2022_overlap.columns if c != 'geometry']\n",
    "# map_2022_overlap[no_geo].sort_values(by='smd_id').to_clipboard()"
   ]
  },
  {
   "cell_type": "code",
   "execution_count": null,
   "metadata": {},
   "outputs": [],
   "source": []
  },
  {
   "cell_type": "code",
   "execution_count": null,
   "metadata": {},
   "outputs": [],
   "source": []
  },
  {
   "cell_type": "code",
   "execution_count": null,
   "metadata": {},
   "outputs": [],
   "source": []
  }
 ],
 "metadata": {
  "kernelspec": {
   "display_name": "Python 3",
   "language": "python",
   "name": "python3"
  },
  "language_info": {
   "codemirror_mode": {
    "name": "ipython",
    "version": 3
   },
   "file_extension": ".py",
   "mimetype": "text/x-python",
   "name": "python",
   "nbconvert_exporter": "python",
   "pygments_lexer": "ipython3",
   "version": "3.7.1"
  }
 },
 "nbformat": 4,
 "nbformat_minor": 2
}
