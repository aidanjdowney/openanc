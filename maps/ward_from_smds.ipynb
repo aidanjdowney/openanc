{
 "cells": [
  {
   "cell_type": "markdown",
   "metadata": {},
   "source": [
    "# Wards from SMDs\n",
    "\n",
    "The goal is a GeoJSON of ward boundaries. Because the ward boundaries in their standalone shapefile can be different that their component SMDs, especially in the Potomac, it's best to build a ward map from the SMD shapefile. The SMD shapefile needs to be dissolved into a Ward shapefile, and this can be done in QGIS."
   ]
  },
  {
   "cell_type": "code",
   "execution_count": 1,
   "metadata": {},
   "outputs": [],
   "source": [
    "import pandas as pd\n",
    "import geopandas as gpd"
   ]
  },
  {
   "cell_type": "code",
   "execution_count": 2,
   "metadata": {},
   "outputs": [],
   "source": [
    "smds = gpd.read_file('../uploads/to-mapbox-smd-2022-data.geojson')"
   ]
  },
  {
   "cell_type": "code",
   "execution_count": 3,
   "metadata": {},
   "outputs": [],
   "source": [
    "districts = pd.read_csv('../data/districts.csv')"
   ]
  },
  {
   "cell_type": "code",
   "execution_count": 4,
   "metadata": {},
   "outputs": [],
   "source": [
    "smd_districts = smds[['geometry', 'smd_id']].merge(districts[['smd_id', 'ward_id']], how='inner', on='smd_id')"
   ]
  },
  {
   "cell_type": "code",
   "execution_count": 5,
   "metadata": {},
   "outputs": [
    {
     "data": {
      "text/html": [
       "<div>\n",
       "<style scoped>\n",
       "    .dataframe tbody tr th:only-of-type {\n",
       "        vertical-align: middle;\n",
       "    }\n",
       "\n",
       "    .dataframe tbody tr th {\n",
       "        vertical-align: top;\n",
       "    }\n",
       "\n",
       "    .dataframe thead th {\n",
       "        text-align: right;\n",
       "    }\n",
       "</style>\n",
       "<table border=\"1\" class=\"dataframe\">\n",
       "  <thead>\n",
       "    <tr style=\"text-align: right;\">\n",
       "      <th></th>\n",
       "      <th>geometry</th>\n",
       "      <th>smd_id</th>\n",
       "      <th>ward_id</th>\n",
       "    </tr>\n",
       "  </thead>\n",
       "  <tbody>\n",
       "    <tr>\n",
       "      <th>0</th>\n",
       "      <td>POLYGON ((-77.03242 38.92657, -77.03246 38.926...</td>\n",
       "      <td>smd_2022_1A01</td>\n",
       "      <td>ward_1_2022</td>\n",
       "    </tr>\n",
       "    <tr>\n",
       "      <th>1</th>\n",
       "      <td>POLYGON ((-77.03646 38.93330, -77.03630 38.933...</td>\n",
       "      <td>smd_2022_1A02</td>\n",
       "      <td>ward_1_2022</td>\n",
       "    </tr>\n",
       "    <tr>\n",
       "      <th>2</th>\n",
       "      <td>POLYGON ((-77.03322 38.92749, -77.03321 38.927...</td>\n",
       "      <td>smd_2022_1A03</td>\n",
       "      <td>ward_1_2022</td>\n",
       "    </tr>\n",
       "    <tr>\n",
       "      <th>3</th>\n",
       "      <td>POLYGON ((-77.02973 38.93629, -77.02984 38.936...</td>\n",
       "      <td>smd_2022_1A04</td>\n",
       "      <td>ward_1_2022</td>\n",
       "    </tr>\n",
       "    <tr>\n",
       "      <th>4</th>\n",
       "      <td>POLYGON ((-77.03646 38.93330, -77.03646 38.933...</td>\n",
       "      <td>smd_2022_1A05</td>\n",
       "      <td>ward_1_2022</td>\n",
       "    </tr>\n",
       "    <tr>\n",
       "      <th>...</th>\n",
       "      <td>...</td>\n",
       "      <td>...</td>\n",
       "      <td>...</td>\n",
       "    </tr>\n",
       "    <tr>\n",
       "      <th>340</th>\n",
       "      <td>POLYGON ((-76.99154 38.87730, -76.99154 38.877...</td>\n",
       "      <td>smd_2022_8F01</td>\n",
       "      <td>ward_8_2022</td>\n",
       "    </tr>\n",
       "    <tr>\n",
       "      <th>341</th>\n",
       "      <td>POLYGON ((-77.00910 38.87648, -77.00910 38.875...</td>\n",
       "      <td>smd_2022_8F02</td>\n",
       "      <td>ward_8_2022</td>\n",
       "    </tr>\n",
       "    <tr>\n",
       "      <th>342</th>\n",
       "      <td>POLYGON ((-77.00562 38.88052, -77.00551 38.880...</td>\n",
       "      <td>smd_2022_8F03</td>\n",
       "      <td>ward_8_2022</td>\n",
       "    </tr>\n",
       "    <tr>\n",
       "      <th>343</th>\n",
       "      <td>POLYGON ((-77.00906 38.87929, -77.00907 38.878...</td>\n",
       "      <td>smd_2022_8F04</td>\n",
       "      <td>ward_8_2022</td>\n",
       "    </tr>\n",
       "    <tr>\n",
       "      <th>344</th>\n",
       "      <td>POLYGON ((-77.00906 38.87929, -77.00887 38.879...</td>\n",
       "      <td>smd_2022_8F05</td>\n",
       "      <td>ward_8_2022</td>\n",
       "    </tr>\n",
       "  </tbody>\n",
       "</table>\n",
       "<p>345 rows × 3 columns</p>\n",
       "</div>"
      ],
      "text/plain": [
       "                                              geometry         smd_id  \\\n",
       "0    POLYGON ((-77.03242 38.92657, -77.03246 38.926...  smd_2022_1A01   \n",
       "1    POLYGON ((-77.03646 38.93330, -77.03630 38.933...  smd_2022_1A02   \n",
       "2    POLYGON ((-77.03322 38.92749, -77.03321 38.927...  smd_2022_1A03   \n",
       "3    POLYGON ((-77.02973 38.93629, -77.02984 38.936...  smd_2022_1A04   \n",
       "4    POLYGON ((-77.03646 38.93330, -77.03646 38.933...  smd_2022_1A05   \n",
       "..                                                 ...            ...   \n",
       "340  POLYGON ((-76.99154 38.87730, -76.99154 38.877...  smd_2022_8F01   \n",
       "341  POLYGON ((-77.00910 38.87648, -77.00910 38.875...  smd_2022_8F02   \n",
       "342  POLYGON ((-77.00562 38.88052, -77.00551 38.880...  smd_2022_8F03   \n",
       "343  POLYGON ((-77.00906 38.87929, -77.00907 38.878...  smd_2022_8F04   \n",
       "344  POLYGON ((-77.00906 38.87929, -77.00887 38.879...  smd_2022_8F05   \n",
       "\n",
       "         ward_id  \n",
       "0    ward_1_2022  \n",
       "1    ward_1_2022  \n",
       "2    ward_1_2022  \n",
       "3    ward_1_2022  \n",
       "4    ward_1_2022  \n",
       "..           ...  \n",
       "340  ward_8_2022  \n",
       "341  ward_8_2022  \n",
       "342  ward_8_2022  \n",
       "343  ward_8_2022  \n",
       "344  ward_8_2022  \n",
       "\n",
       "[345 rows x 3 columns]"
      ]
     },
     "execution_count": 5,
     "metadata": {},
     "output_type": "execute_result"
    }
   ],
   "source": [
    "smd_districts"
   ]
  },
  {
   "cell_type": "code",
   "execution_count": 6,
   "metadata": {},
   "outputs": [],
   "source": [
    "smd_districts.to_file('smd-with-wards-2022.geojson', driver='GeoJSON')"
   ]
  },
  {
   "cell_type": "code",
   "execution_count": null,
   "metadata": {},
   "outputs": [],
   "source": []
  }
 ],
 "metadata": {
  "kernelspec": {
   "display_name": "Python 3",
   "language": "python",
   "name": "python3"
  },
  "language_info": {
   "codemirror_mode": {
    "name": "ipython",
    "version": 3
   },
   "file_extension": ".py",
   "mimetype": "text/x-python",
   "name": "python",
   "nbconvert_exporter": "python",
   "pygments_lexer": "ipython3",
   "version": "3.7.1"
  }
 },
 "nbformat": 4,
 "nbformat_minor": 4
}
