{
 "cells": [
  {
   "cell_type": "markdown",
   "id": "cc768a45",
   "metadata": {},
   "source": [
    "# Pickups by Date 2024\n",
    "\n",
    "Figure out when petitions dropped. "
   ]
  },
  {
   "cell_type": "code",
   "execution_count": 1,
   "id": "7b09b342",
   "metadata": {},
   "outputs": [],
   "source": [
    "import os\n",
    "os.chdir('../')"
   ]
  },
  {
   "cell_type": "code",
   "execution_count": 2,
   "id": "019e9cc7",
   "metadata": {},
   "outputs": [],
   "source": [
    "import pandas as pd"
   ]
  },
  {
   "cell_type": "code",
   "execution_count": 3,
   "id": "cf9ddea1",
   "metadata": {},
   "outputs": [],
   "source": [
    "candidates = pd.read_csv('data/candidates.csv')\n",
    "candidates['pickup_date'] = pd.to_datetime(candidates['pickup_date'])\n",
    "candidates['filed_date'] = pd.to_datetime(candidates['filed_date'])"
   ]
  },
  {
   "cell_type": "code",
   "execution_count": 4,
   "id": "0fdf2a26",
   "metadata": {},
   "outputs": [
    {
     "data": {
      "text/plain": [
       "pickup_date\n",
       "2020-06-26    42\n",
       "2020-06-28     1\n",
       "2020-06-29    32\n",
       "2020-06-30    28\n",
       "2020-07-01     7\n",
       "2020-07-02    11\n",
       "2020-07-06    19\n",
       "2020-07-07    11\n",
       "2020-07-08     7\n",
       "2020-07-09    13\n",
       "2020-07-10    14\n",
       "2020-07-13    14\n",
       "2020-07-14     9\n",
       "2020-07-15    13\n",
       "2020-07-16    12\n",
       "2020-07-17    16\n",
       "2020-07-20     9\n",
       "2020-07-21    12\n",
       "2020-07-22    13\n",
       "2020-07-23     3\n",
       "2020-07-24     7\n",
       "2020-07-27    13\n",
       "2020-07-28    14\n",
       "2020-07-29    15\n",
       "2020-07-30    13\n",
       "2020-07-31    14\n",
       "2020-08-03    14\n",
       "2020-08-04    13\n",
       "2020-08-05    10\n",
       "2024-07-01    45\n",
       "2024-07-02    16\n",
       "2024-07-03    22\n",
       "2024-07-05    15\n",
       "2024-07-06     1\n",
       "2024-07-08    14\n",
       "2024-07-09    11\n",
       "2024-07-10    15\n",
       "2024-07-11     9\n",
       "2024-07-12    12\n",
       "2024-07-15    11\n",
       "2024-07-16    11\n",
       "2024-07-17    12\n",
       "2024-07-18    16\n",
       "2024-07-19    12\n",
       "2024-07-22    12\n",
       "2024-07-23    19\n",
       "2024-07-24    10\n",
       "2024-07-25    12\n",
       "2024-07-26    16\n",
       "2024-07-29    14\n",
       "dtype: int64"
      ]
     },
     "execution_count": 4,
     "metadata": {},
     "output_type": "execute_result"
    }
   ],
   "source": [
    "candidates.groupby('pickup_date').size()"
   ]
  },
  {
   "cell_type": "code",
   "execution_count": null,
   "id": "1f3dae06",
   "metadata": {},
   "outputs": [],
   "source": []
  }
 ],
 "metadata": {
  "kernelspec": {
   "display_name": "Python 3 (ipykernel)",
   "language": "python",
   "name": "python3"
  },
  "language_info": {
   "codemirror_mode": {
    "name": "ipython",
    "version": 3
   },
   "file_extension": ".py",
   "mimetype": "text/x-python",
   "name": "python",
   "nbconvert_exporter": "python",
   "pygments_lexer": "ipython3",
   "version": "3.10.3"
  }
 },
 "nbformat": 4,
 "nbformat_minor": 5
}
