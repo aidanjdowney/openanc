{
 "cells": [
  {
   "cell_type": "markdown",
   "metadata": {},
   "source": [
    "Update commissioners after election results."
   ]
  },
  {
   "cell_type": "code",
   "execution_count": 1,
   "metadata": {},
   "outputs": [],
   "source": [
    "import os\n",
    "os.chdir('../')\n",
    "\n",
    "import pytz\n",
    "import pandas as pd\n",
    "from datetime import datetime\n",
    "\n",
    "from scripts.common import list_commissioners"
   ]
  },
  {
   "cell_type": "code",
   "execution_count": 2,
   "metadata": {},
   "outputs": [],
   "source": [
    "people = pd.read_csv('data/people.csv')\n",
    "commissioners = list_commissioners()\n",
    "results = pd.read_csv('data/results.csv')\n",
    "candidates = pd.read_csv('data/candidates.csv')\n",
    "write_in_winners = pd.read_csv('data/write_in_winners.csv')"
   ]
  },
  {
   "cell_type": "code",
   "execution_count": 3,
   "metadata": {},
   "outputs": [],
   "source": [
    "results_cand = pd.merge(results, candidates, how='inner', on=['candidate_id', 'smd_id'])\n",
    "results_cand_people = pd.merge(results_cand, people, how='inner', on='person_id')\n",
    "results_cand_people_comm = pd.merge(\n",
    "    results_cand_people, commissioners, how='inner', on=['person_id', 'smd_id'])"
   ]
  },
  {
   "cell_type": "markdown",
   "metadata": {},
   "source": [
    "Current commissioners who won re-election. Their `end_date` in the Google Sheet should be set to `2023-01-02`"
   ]
  },
  {
   "cell_type": "code",
   "execution_count": 4,
   "metadata": {},
   "outputs": [
    {
     "data": {
      "text/html": [
       "<div>\n",
       "<style scoped>\n",
       "    .dataframe tbody tr th:only-of-type {\n",
       "        vertical-align: middle;\n",
       "    }\n",
       "\n",
       "    .dataframe tbody tr th {\n",
       "        vertical-align: top;\n",
       "    }\n",
       "\n",
       "    .dataframe thead th {\n",
       "        text-align: right;\n",
       "    }\n",
       "</style>\n",
       "<table border=\"1\" class=\"dataframe\">\n",
       "  <thead>\n",
       "    <tr style=\"text-align: right;\">\n",
       "      <th></th>\n",
       "      <th>person_id</th>\n",
       "      <th>smd_id</th>\n",
       "      <th>full_name</th>\n",
       "      <th>end_date</th>\n",
       "    </tr>\n",
       "  </thead>\n",
       "  <tbody>\n",
       "    <tr>\n",
       "      <th>1</th>\n",
       "      <td>10003</td>\n",
       "      <td>smd_1A03</td>\n",
       "      <td>Zach Rybarczyk</td>\n",
       "      <td>2023-01-02 00:00:00-05:00</td>\n",
       "    </tr>\n",
       "    <tr>\n",
       "      <th>2</th>\n",
       "      <td>10005</td>\n",
       "      <td>smd_1A05</td>\n",
       "      <td>Christine Miller</td>\n",
       "      <td>2023-01-02 00:00:00-05:00</td>\n",
       "    </tr>\n",
       "    <tr>\n",
       "      <th>5</th>\n",
       "      <td>10008</td>\n",
       "      <td>smd_1A08</td>\n",
       "      <td>Kent C. Boese</td>\n",
       "      <td>2023-01-02 00:00:00-05:00</td>\n",
       "    </tr>\n",
       "    <tr>\n",
       "      <th>6</th>\n",
       "      <td>10009</td>\n",
       "      <td>smd_1A09</td>\n",
       "      <td>Michael Wray</td>\n",
       "      <td>2023-01-02 00:00:00-05:00</td>\n",
       "    </tr>\n",
       "    <tr>\n",
       "      <th>7</th>\n",
       "      <td>10010</td>\n",
       "      <td>smd_1A10</td>\n",
       "      <td>Rashida Brown</td>\n",
       "      <td>2023-01-02 00:00:00-05:00</td>\n",
       "    </tr>\n",
       "    <tr>\n",
       "      <th>...</th>\n",
       "      <td>...</td>\n",
       "      <td>...</td>\n",
       "      <td>...</td>\n",
       "      <td>...</td>\n",
       "    </tr>\n",
       "    <tr>\n",
       "      <th>283</th>\n",
       "      <td>10149</td>\n",
       "      <td>smd_5A05</td>\n",
       "      <td>Ronnie Edwards</td>\n",
       "      <td>2023-01-02 00:00:00-05:00</td>\n",
       "    </tr>\n",
       "    <tr>\n",
       "      <th>285</th>\n",
       "      <td>10232</td>\n",
       "      <td>smd_7D02</td>\n",
       "      <td>Siraaj M. Hasan</td>\n",
       "      <td>2023-01-02 00:00:00-05:00</td>\n",
       "    </tr>\n",
       "    <tr>\n",
       "      <th>287</th>\n",
       "      <td>10016</td>\n",
       "      <td>smd_1B04</td>\n",
       "      <td>Deborah Thomas</td>\n",
       "      <td>2023-01-02 00:00:00-05:00</td>\n",
       "    </tr>\n",
       "    <tr>\n",
       "      <th>289</th>\n",
       "      <td>10119</td>\n",
       "      <td>smd_4A07</td>\n",
       "      <td>Marlene Moss</td>\n",
       "      <td>2023-01-02 00:00:00-05:00</td>\n",
       "    </tr>\n",
       "    <tr>\n",
       "      <th>290</th>\n",
       "      <td>10151</td>\n",
       "      <td>smd_5A07</td>\n",
       "      <td>Sandi Washington</td>\n",
       "      <td>2023-01-02 00:00:00-05:00</td>\n",
       "    </tr>\n",
       "  </tbody>\n",
       "</table>\n",
       "<p>146 rows × 4 columns</p>\n",
       "</div>"
      ],
      "text/plain": [
       "     person_id    smd_id         full_name                  end_date\n",
       "1        10003  smd_1A03    Zach Rybarczyk 2023-01-02 00:00:00-05:00\n",
       "2        10005  smd_1A05  Christine Miller 2023-01-02 00:00:00-05:00\n",
       "5        10008  smd_1A08     Kent C. Boese 2023-01-02 00:00:00-05:00\n",
       "6        10009  smd_1A09      Michael Wray 2023-01-02 00:00:00-05:00\n",
       "7        10010  smd_1A10     Rashida Brown 2023-01-02 00:00:00-05:00\n",
       "..         ...       ...               ...                       ...\n",
       "283      10149  smd_5A05    Ronnie Edwards 2023-01-02 00:00:00-05:00\n",
       "285      10232  smd_7D02   Siraaj M. Hasan 2023-01-02 00:00:00-05:00\n",
       "287      10016  smd_1B04    Deborah Thomas 2023-01-02 00:00:00-05:00\n",
       "289      10119  smd_4A07      Marlene Moss 2023-01-02 00:00:00-05:00\n",
       "290      10151  smd_5A07  Sandi Washington 2023-01-02 00:00:00-05:00\n",
       "\n",
       "[146 rows x 4 columns]"
      ]
     },
     "execution_count": 4,
     "metadata": {},
     "output_type": "execute_result"
    }
   ],
   "source": [
    "won_reelection = results_cand_people_comm.loc[\n",
    "    (results_cand_people_comm.winner) & (results_cand_people_comm.is_current)\n",
    "    , ['person_id','smd_id','full_name', 'end_date']] #.to_clipboard(index=False)\n",
    "\n",
    "won_reelection"
   ]
  },
  {
   "cell_type": "markdown",
   "metadata": {},
   "source": [
    "Current commissioners who lost re-election. Their `end_date` in the Google Sheet should remain `2021-01-02`. "
   ]
  },
  {
   "cell_type": "code",
   "execution_count": 5,
   "metadata": {},
   "outputs": [
    {
     "data": {
      "text/html": [
       "<div>\n",
       "<style scoped>\n",
       "    .dataframe tbody tr th:only-of-type {\n",
       "        vertical-align: middle;\n",
       "    }\n",
       "\n",
       "    .dataframe tbody tr th {\n",
       "        vertical-align: top;\n",
       "    }\n",
       "\n",
       "    .dataframe thead th {\n",
       "        text-align: right;\n",
       "    }\n",
       "</style>\n",
       "<table border=\"1\" class=\"dataframe\">\n",
       "  <thead>\n",
       "    <tr style=\"text-align: right;\">\n",
       "      <th></th>\n",
       "      <th>person_id</th>\n",
       "      <th>smd_id</th>\n",
       "      <th>full_name</th>\n",
       "      <th>end_date</th>\n",
       "    </tr>\n",
       "  </thead>\n",
       "  <tbody>\n",
       "    <tr>\n",
       "      <th>279</th>\n",
       "      <td>10019</td>\n",
       "      <td>smd_1B08</td>\n",
       "      <td>Joshua Ryan Mater</td>\n",
       "      <td>2021-01-02 00:00:00-05:00</td>\n",
       "    </tr>\n",
       "    <tr>\n",
       "      <th>253</th>\n",
       "      <td>10025</td>\n",
       "      <td>smd_1C03</td>\n",
       "      <td>Ted Guthrie</td>\n",
       "      <td>2021-01-02 00:00:00-05:00</td>\n",
       "    </tr>\n",
       "    <tr>\n",
       "      <th>16</th>\n",
       "      <td>10026</td>\n",
       "      <td>smd_1C04</td>\n",
       "      <td>John V. Zottoli</td>\n",
       "      <td>2021-01-02 00:00:00-05:00</td>\n",
       "    </tr>\n",
       "    <tr>\n",
       "      <th>218</th>\n",
       "      <td>10030</td>\n",
       "      <td>smd_1C08</td>\n",
       "      <td>Chris Jackson</td>\n",
       "      <td>2021-01-02 00:00:00-05:00</td>\n",
       "    </tr>\n",
       "    <tr>\n",
       "      <th>27</th>\n",
       "      <td>10044</td>\n",
       "      <td>smd_2B01</td>\n",
       "      <td>Matthew H. Sampson</td>\n",
       "      <td>2021-01-02 00:00:00-05:00</td>\n",
       "    </tr>\n",
       "    <tr>\n",
       "      <th>245</th>\n",
       "      <td>10051</td>\n",
       "      <td>smd_2B09</td>\n",
       "      <td>Ed Hanlon</td>\n",
       "      <td>2021-01-02 00:00:00-05:00</td>\n",
       "    </tr>\n",
       "    <tr>\n",
       "      <th>256</th>\n",
       "      <td>10071</td>\n",
       "      <td>smd_2F07</td>\n",
       "      <td>Kevin J. Sylvester</td>\n",
       "      <td>2021-01-02 00:00:00-05:00</td>\n",
       "    </tr>\n",
       "    <tr>\n",
       "      <th>43</th>\n",
       "      <td>10072</td>\n",
       "      <td>smd_2F08</td>\n",
       "      <td>Janice Ferebee</td>\n",
       "      <td>2021-01-02 00:00:00-05:00</td>\n",
       "    </tr>\n",
       "    <tr>\n",
       "      <th>92</th>\n",
       "      <td>10361</td>\n",
       "      <td>smd_5B05</td>\n",
       "      <td>John J. Feeley, Jr.</td>\n",
       "      <td>2021-01-02 00:00:00-05:00</td>\n",
       "    </tr>\n",
       "    <tr>\n",
       "      <th>263</th>\n",
       "      <td>10180</td>\n",
       "      <td>smd_5E10</td>\n",
       "      <td>Nancy Darlene Jones</td>\n",
       "      <td>2021-01-02 00:00:00-05:00</td>\n",
       "    </tr>\n",
       "    <tr>\n",
       "      <th>112</th>\n",
       "      <td>10181</td>\n",
       "      <td>smd_6A01</td>\n",
       "      <td>Marie-Claire Brown</td>\n",
       "      <td>2021-01-02 00:00:00-05:00</td>\n",
       "    </tr>\n",
       "    <tr>\n",
       "      <th>139</th>\n",
       "      <td>10222</td>\n",
       "      <td>smd_7B05</td>\n",
       "      <td>Villareal \"VJ\" Johnson II</td>\n",
       "      <td>2021-01-02 00:00:00-05:00</td>\n",
       "    </tr>\n",
       "    <tr>\n",
       "      <th>239</th>\n",
       "      <td>10238</td>\n",
       "      <td>smd_7E02</td>\n",
       "      <td>Linda S. Green</td>\n",
       "      <td>2021-01-02 00:00:00-05:00</td>\n",
       "    </tr>\n",
       "    <tr>\n",
       "      <th>240</th>\n",
       "      <td>10241</td>\n",
       "      <td>smd_7E05</td>\n",
       "      <td>Victor L. Horton</td>\n",
       "      <td>2021-01-02 00:00:00-05:00</td>\n",
       "    </tr>\n",
       "    <tr>\n",
       "      <th>197</th>\n",
       "      <td>10247</td>\n",
       "      <td>smd_7F04</td>\n",
       "      <td>C Exum</td>\n",
       "      <td>2021-01-02 00:00:00-05:00</td>\n",
       "    </tr>\n",
       "    <tr>\n",
       "      <th>159</th>\n",
       "      <td>10261</td>\n",
       "      <td>smd_8B05</td>\n",
       "      <td>Betty Scippio</td>\n",
       "      <td>2021-01-02 00:00:00-05:00</td>\n",
       "    </tr>\n",
       "    <tr>\n",
       "      <th>163</th>\n",
       "      <td>10266</td>\n",
       "      <td>smd_8C03</td>\n",
       "      <td>Robbie Woodland</td>\n",
       "      <td>2021-01-02 00:00:00-05:00</td>\n",
       "    </tr>\n",
       "    <tr>\n",
       "      <th>164</th>\n",
       "      <td>10267</td>\n",
       "      <td>smd_8C04</td>\n",
       "      <td>Regina Sharlita Pixley</td>\n",
       "      <td>2021-01-02 00:00:00-05:00</td>\n",
       "    </tr>\n",
       "    <tr>\n",
       "      <th>168</th>\n",
       "      <td>10276</td>\n",
       "      <td>smd_8D06</td>\n",
       "      <td>LaVerne R. Glenn</td>\n",
       "      <td>2021-01-02 00:00:00-05:00</td>\n",
       "    </tr>\n",
       "    <tr>\n",
       "      <th>242</th>\n",
       "      <td>10282</td>\n",
       "      <td>smd_8E05</td>\n",
       "      <td>Christopher L. Hawthorne</td>\n",
       "      <td>2021-01-02 00:00:00-05:00</td>\n",
       "    </tr>\n",
       "    <tr>\n",
       "      <th>190</th>\n",
       "      <td>10283</td>\n",
       "      <td>smd_8E06</td>\n",
       "      <td>Karlene \"K\" Armstead</td>\n",
       "      <td>2021-01-02 00:00:00-05:00</td>\n",
       "    </tr>\n",
       "    <tr>\n",
       "      <th>243</th>\n",
       "      <td>10284</td>\n",
       "      <td>smd_8E07</td>\n",
       "      <td>Stephen A. Slaughter</td>\n",
       "      <td>2021-01-02 00:00:00-05:00</td>\n",
       "    </tr>\n",
       "  </tbody>\n",
       "</table>\n",
       "</div>"
      ],
      "text/plain": [
       "     person_id    smd_id                  full_name                  end_date\n",
       "279      10019  smd_1B08          Joshua Ryan Mater 2021-01-02 00:00:00-05:00\n",
       "253      10025  smd_1C03                Ted Guthrie 2021-01-02 00:00:00-05:00\n",
       "16       10026  smd_1C04            John V. Zottoli 2021-01-02 00:00:00-05:00\n",
       "218      10030  smd_1C08              Chris Jackson 2021-01-02 00:00:00-05:00\n",
       "27       10044  smd_2B01         Matthew H. Sampson 2021-01-02 00:00:00-05:00\n",
       "245      10051  smd_2B09                  Ed Hanlon 2021-01-02 00:00:00-05:00\n",
       "256      10071  smd_2F07         Kevin J. Sylvester 2021-01-02 00:00:00-05:00\n",
       "43       10072  smd_2F08             Janice Ferebee 2021-01-02 00:00:00-05:00\n",
       "92       10361  smd_5B05        John J. Feeley, Jr. 2021-01-02 00:00:00-05:00\n",
       "263      10180  smd_5E10        Nancy Darlene Jones 2021-01-02 00:00:00-05:00\n",
       "112      10181  smd_6A01         Marie-Claire Brown 2021-01-02 00:00:00-05:00\n",
       "139      10222  smd_7B05  Villareal \"VJ\" Johnson II 2021-01-02 00:00:00-05:00\n",
       "239      10238  smd_7E02             Linda S. Green 2021-01-02 00:00:00-05:00\n",
       "240      10241  smd_7E05           Victor L. Horton 2021-01-02 00:00:00-05:00\n",
       "197      10247  smd_7F04                     C Exum 2021-01-02 00:00:00-05:00\n",
       "159      10261  smd_8B05              Betty Scippio 2021-01-02 00:00:00-05:00\n",
       "163      10266  smd_8C03            Robbie Woodland 2021-01-02 00:00:00-05:00\n",
       "164      10267  smd_8C04     Regina Sharlita Pixley 2021-01-02 00:00:00-05:00\n",
       "168      10276  smd_8D06           LaVerne R. Glenn 2021-01-02 00:00:00-05:00\n",
       "242      10282  smd_8E05   Christopher L. Hawthorne 2021-01-02 00:00:00-05:00\n",
       "190      10283  smd_8E06       Karlene \"K\" Armstead 2021-01-02 00:00:00-05:00\n",
       "243      10284  smd_8E07       Stephen A. Slaughter 2021-01-02 00:00:00-05:00"
      ]
     },
     "execution_count": 5,
     "metadata": {},
     "output_type": "execute_result"
    }
   ],
   "source": [
    "lost_reelection = results_cand_people_comm.loc[\n",
    "    ~(results_cand_people_comm.winner) & (results_cand_people_comm.is_current)\n",
    "    , ['person_id','smd_id','full_name', 'end_date']] #.to_clipboard()\n",
    "\n",
    "lost_reelection.sort_values(by='smd_id')"
   ]
  },
  {
   "cell_type": "code",
   "execution_count": 6,
   "metadata": {},
   "outputs": [
    {
     "data": {
      "text/plain": [
       "22"
      ]
     },
     "execution_count": 6,
     "metadata": {},
     "output_type": "execute_result"
    }
   ],
   "source": [
    "len(lost_reelection)"
   ]
  },
  {
   "cell_type": "markdown",
   "metadata": {},
   "source": [
    "Ballot winners who need to be added to the Google Sheet. "
   ]
  },
  {
   "cell_type": "code",
   "execution_count": 7,
   "metadata": {},
   "outputs": [
    {
     "data": {
      "text/html": [
       "<div>\n",
       "<style scoped>\n",
       "    .dataframe tbody tr th:only-of-type {\n",
       "        vertical-align: middle;\n",
       "    }\n",
       "\n",
       "    .dataframe tbody tr th {\n",
       "        vertical-align: top;\n",
       "    }\n",
       "\n",
       "    .dataframe thead th {\n",
       "        text-align: right;\n",
       "    }\n",
       "</style>\n",
       "<table border=\"1\" class=\"dataframe\">\n",
       "  <thead>\n",
       "    <tr style=\"text-align: right;\">\n",
       "      <th></th>\n",
       "      <th>person_id</th>\n",
       "      <th>smd_id</th>\n",
       "      <th>full_name</th>\n",
       "    </tr>\n",
       "  </thead>\n",
       "  <tbody>\n",
       "  </tbody>\n",
       "</table>\n",
       "</div>"
      ],
      "text/plain": [
       "Empty DataFrame\n",
       "Columns: [person_id, smd_id, full_name]\n",
       "Index: []"
      ]
     },
     "execution_count": 7,
     "metadata": {},
     "output_type": "execute_result"
    }
   ],
   "source": [
    "results_cand_people.loc[\n",
    "    results_cand_people.winner & ~results_cand_people.person_id.isin(commissioners.person_id)\n",
    "    , ['person_id', 'smd_id', 'full_name']\n",
    "    ].sort_values(by='smd_id') #.to_clipboard(index=False)"
   ]
  },
  {
   "cell_type": "markdown",
   "metadata": {},
   "source": [
    "Write-in winners who need to be added to the Google Sheet"
   ]
  },
  {
   "cell_type": "code",
   "execution_count": 8,
   "metadata": {},
   "outputs": [
    {
     "data": {
      "text/html": [
       "<div>\n",
       "<style scoped>\n",
       "    .dataframe tbody tr th:only-of-type {\n",
       "        vertical-align: middle;\n",
       "    }\n",
       "\n",
       "    .dataframe tbody tr th {\n",
       "        vertical-align: top;\n",
       "    }\n",
       "\n",
       "    .dataframe thead th {\n",
       "        text-align: right;\n",
       "    }\n",
       "</style>\n",
       "<table border=\"1\" class=\"dataframe\">\n",
       "  <thead>\n",
       "    <tr style=\"text-align: right;\">\n",
       "      <th></th>\n",
       "      <th>person_id</th>\n",
       "      <th>smd_id</th>\n",
       "      <th>write_in_winner_name</th>\n",
       "    </tr>\n",
       "  </thead>\n",
       "  <tbody>\n",
       "  </tbody>\n",
       "</table>\n",
       "</div>"
      ],
      "text/plain": [
       "Empty DataFrame\n",
       "Columns: [person_id, smd_id, write_in_winner_name]\n",
       "Index: []"
      ]
     },
     "execution_count": 8,
     "metadata": {},
     "output_type": "execute_result"
    }
   ],
   "source": [
    "write_in_winners.loc[\n",
    "    write_in_winners.person_id.notnull() &\n",
    "    ~write_in_winners.person_id.isin(commissioners.person_id)\n",
    "    , ['person_id', 'smd_id', 'write_in_winner_name']\n",
    "].sort_values(by='smd_id') #.to_clipboard(index=False)"
   ]
  },
  {
   "cell_type": "markdown",
   "metadata": {},
   "source": [
    "Districts that had no winner in 2020"
   ]
  },
  {
   "cell_type": "code",
   "execution_count": 14,
   "metadata": {},
   "outputs": [],
   "source": [
    "write_in_winners['SMD'] = write_in_winners.smd_id.str.replace('smd_','')"
   ]
  },
  {
   "cell_type": "code",
   "execution_count": 17,
   "metadata": {},
   "outputs": [
    {
     "data": {
      "text/plain": [
       "'2A08, 5A04, 7E03, 7F07, 8B07, 8E03'"
      ]
     },
     "execution_count": 17,
     "metadata": {},
     "output_type": "execute_result"
    }
   ],
   "source": [
    "', '.join(sorted(write_in_winners[write_in_winners.person_id.isnull()]['SMD'].tolist()))"
   ]
  },
  {
   "cell_type": "code",
   "execution_count": null,
   "metadata": {},
   "outputs": [],
   "source": []
  }
 ],
 "metadata": {
  "kernelspec": {
   "display_name": "Python 3",
   "language": "python",
   "name": "python3"
  },
  "language_info": {
   "codemirror_mode": {
    "name": "ipython",
    "version": 3
   },
   "file_extension": ".py",
   "mimetype": "text/x-python",
   "name": "python",
   "nbconvert_exporter": "python",
   "pygments_lexer": "ipython3",
   "version": "3.7.1"
  }
 },
 "nbformat": 4,
 "nbformat_minor": 4
}
