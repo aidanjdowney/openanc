{
 "cells": [
  {
   "cell_type": "markdown",
   "id": "8b571a2e",
   "metadata": {},
   "source": [
    "Question from Aman George: I had a question for you for a resolution I'm drafting - do you know (or is there somewhere else that collects) how many first-time Commissioners there are this term?"
   ]
  },
  {
   "cell_type": "code",
   "execution_count": 1,
   "id": "8d5e36e9",
   "metadata": {},
   "outputs": [],
   "source": [
    "import pandas as pd"
   ]
  },
  {
   "cell_type": "code",
   "execution_count": 2,
   "id": "db2a3b5c",
   "metadata": {},
   "outputs": [],
   "source": [
    "comm = pd.read_csv('../data/commissioners.csv')"
   ]
  },
  {
   "cell_type": "code",
   "execution_count": 7,
   "id": "f5d45471",
   "metadata": {},
   "outputs": [],
   "source": [
    "comm_23 = comm[comm.end_date == '2025-01-02'].copy()\n",
    "comm_earlier = comm[comm.end_date != '2025-01-02'].copy()"
   ]
  },
  {
   "cell_type": "code",
   "execution_count": 11,
   "id": "668547ff",
   "metadata": {},
   "outputs": [
    {
     "data": {
      "text/plain": [
       "128"
      ]
     },
     "execution_count": 11,
     "metadata": {},
     "output_type": "execute_result"
    }
   ],
   "source": [
    "comm_23.person_id.isin(comm_earlier.person_id).sum()"
   ]
  },
  {
   "cell_type": "code",
   "execution_count": 16,
   "id": "0f8a8373",
   "metadata": {},
   "outputs": [
    {
     "data": {
      "text/plain": [
       "325"
      ]
     },
     "execution_count": 16,
     "metadata": {},
     "output_type": "execute_result"
    }
   ],
   "source": [
    "len(comm_23)"
   ]
  },
  {
   "cell_type": "code",
   "execution_count": 19,
   "id": "f52aead1",
   "metadata": {},
   "outputs": [
    {
     "data": {
      "text/plain": [
       "197"
      ]
     },
     "execution_count": 19,
     "metadata": {},
     "output_type": "execute_result"
    }
   ],
   "source": [
    "new_commissioners = (~ comm_23.person_id.isin(comm_earlier.person_id)).sum()\n",
    "new_commissioners"
   ]
  },
  {
   "cell_type": "code",
   "execution_count": 15,
   "id": "4c825af2",
   "metadata": {},
   "outputs": [
    {
     "data": {
      "text/html": [
       "<div>\n",
       "<style scoped>\n",
       "    .dataframe tbody tr th:only-of-type {\n",
       "        vertical-align: middle;\n",
       "    }\n",
       "\n",
       "    .dataframe tbody tr th {\n",
       "        vertical-align: top;\n",
       "    }\n",
       "\n",
       "    .dataframe thead th {\n",
       "        text-align: right;\n",
       "    }\n",
       "</style>\n",
       "<table border=\"1\" class=\"dataframe\">\n",
       "  <thead>\n",
       "    <tr style=\"text-align: right;\">\n",
       "      <th></th>\n",
       "      <th>person_id</th>\n",
       "      <th>smd_id</th>\n",
       "      <th>commissioner_name</th>\n",
       "      <th>start_date</th>\n",
       "      <th>end_date</th>\n",
       "    </tr>\n",
       "  </thead>\n",
       "  <tbody>\n",
       "    <tr>\n",
       "      <th>378</th>\n",
       "      <td>10316</td>\n",
       "      <td>smd_2022_2E02</td>\n",
       "      <td>Christopher \"Topher\" Mathews</td>\n",
       "      <td>2023-01-02</td>\n",
       "      <td>2025-01-02</td>\n",
       "    </tr>\n",
       "    <tr>\n",
       "      <th>411</th>\n",
       "      <td>10370</td>\n",
       "      <td>smd_2022_5D06</td>\n",
       "      <td>Kathy Henderson</td>\n",
       "      <td>2023-01-02</td>\n",
       "      <td>2025-01-02</td>\n",
       "    </tr>\n",
       "    <tr>\n",
       "      <th>416</th>\n",
       "      <td>10375</td>\n",
       "      <td>smd_2022_5E06</td>\n",
       "      <td>Kirby Vining</td>\n",
       "      <td>2023-01-02</td>\n",
       "      <td>2025-01-02</td>\n",
       "    </tr>\n",
       "    <tr>\n",
       "      <th>422</th>\n",
       "      <td>10393</td>\n",
       "      <td>smd_2022_2G01</td>\n",
       "      <td>Tony Brown</td>\n",
       "      <td>2023-01-02</td>\n",
       "      <td>2025-01-02</td>\n",
       "    </tr>\n",
       "    <tr>\n",
       "      <th>440</th>\n",
       "      <td>10427</td>\n",
       "      <td>smd_2022_8B06</td>\n",
       "      <td>Alyce K. McFarland</td>\n",
       "      <td>2023-01-02</td>\n",
       "      <td>2025-01-02</td>\n",
       "    </tr>\n",
       "    <tr>\n",
       "      <th>...</th>\n",
       "      <td>...</td>\n",
       "      <td>...</td>\n",
       "      <td>...</td>\n",
       "      <td>...</td>\n",
       "      <td>...</td>\n",
       "    </tr>\n",
       "    <tr>\n",
       "      <th>774</th>\n",
       "      <td>11669</td>\n",
       "      <td>smd_2022_3B04</td>\n",
       "      <td>J. Kevin Carroll</td>\n",
       "      <td>2023-01-02</td>\n",
       "      <td>2025-01-02</td>\n",
       "    </tr>\n",
       "    <tr>\n",
       "      <th>775</th>\n",
       "      <td>11670</td>\n",
       "      <td>smd_2022_7F08</td>\n",
       "      <td>Leonard Eugene Bishop</td>\n",
       "      <td>2023-01-02</td>\n",
       "      <td>2025-01-02</td>\n",
       "    </tr>\n",
       "    <tr>\n",
       "      <th>776</th>\n",
       "      <td>11671</td>\n",
       "      <td>smd_2022_7E07</td>\n",
       "      <td>Evette (S.L.) Lang</td>\n",
       "      <td>2023-01-02</td>\n",
       "      <td>2025-01-02</td>\n",
       "    </tr>\n",
       "    <tr>\n",
       "      <th>777</th>\n",
       "      <td>11672</td>\n",
       "      <td>smd_2022_7C03</td>\n",
       "      <td>Carlos Richardson</td>\n",
       "      <td>2023-01-02</td>\n",
       "      <td>2025-01-02</td>\n",
       "    </tr>\n",
       "    <tr>\n",
       "      <th>778</th>\n",
       "      <td>11673</td>\n",
       "      <td>smd_2022_6E02</td>\n",
       "      <td>George Viedma</td>\n",
       "      <td>2023-01-02</td>\n",
       "      <td>2025-01-02</td>\n",
       "    </tr>\n",
       "  </tbody>\n",
       "</table>\n",
       "<p>197 rows × 5 columns</p>\n",
       "</div>"
      ],
      "text/plain": [
       "     person_id         smd_id             commissioner_name  start_date  \\\n",
       "378      10316  smd_2022_2E02  Christopher \"Topher\" Mathews  2023-01-02   \n",
       "411      10370  smd_2022_5D06               Kathy Henderson  2023-01-02   \n",
       "416      10375  smd_2022_5E06                  Kirby Vining  2023-01-02   \n",
       "422      10393  smd_2022_2G01                    Tony Brown  2023-01-02   \n",
       "440      10427  smd_2022_8B06            Alyce K. McFarland  2023-01-02   \n",
       "..         ...            ...                           ...         ...   \n",
       "774      11669  smd_2022_3B04              J. Kevin Carroll  2023-01-02   \n",
       "775      11670  smd_2022_7F08         Leonard Eugene Bishop  2023-01-02   \n",
       "776      11671  smd_2022_7E07            Evette (S.L.) Lang  2023-01-02   \n",
       "777      11672  smd_2022_7C03             Carlos Richardson  2023-01-02   \n",
       "778      11673  smd_2022_6E02                 George Viedma  2023-01-02   \n",
       "\n",
       "       end_date  \n",
       "378  2025-01-02  \n",
       "411  2025-01-02  \n",
       "416  2025-01-02  \n",
       "422  2025-01-02  \n",
       "440  2025-01-02  \n",
       "..          ...  \n",
       "774  2025-01-02  \n",
       "775  2025-01-02  \n",
       "776  2025-01-02  \n",
       "777  2025-01-02  \n",
       "778  2025-01-02  \n",
       "\n",
       "[197 rows x 5 columns]"
      ]
     },
     "execution_count": 15,
     "metadata": {},
     "output_type": "execute_result"
    }
   ],
   "source": [
    "comm_23.loc[~ comm_23.person_id.isin(comm_earlier.person_id), :]"
   ]
  },
  {
   "cell_type": "code",
   "execution_count": null,
   "id": "72f95768",
   "metadata": {},
   "outputs": [],
   "source": []
  }
 ],
 "metadata": {
  "kernelspec": {
   "display_name": "Python 3 (ipykernel)",
   "language": "python",
   "name": "python3"
  },
  "language_info": {
   "codemirror_mode": {
    "name": "ipython",
    "version": 3
   },
   "file_extension": ".py",
   "mimetype": "text/x-python",
   "name": "python",
   "nbconvert_exporter": "python",
   "pygments_lexer": "ipython3",
   "version": "3.10.3"
  }
 },
 "nbformat": 4,
 "nbformat_minor": 5
}
