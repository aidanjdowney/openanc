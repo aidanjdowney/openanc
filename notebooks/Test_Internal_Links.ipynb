{
 "cells": [
  {
   "cell_type": "markdown",
   "metadata": {},
   "source": [
    "# Test Internal Links\n",
    "\n",
    "Scan HTML pages to confirm that all internal links are working."
   ]
  },
  {
   "cell_type": "code",
   "execution_count": 1,
   "metadata": {},
   "outputs": [],
   "source": [
    "import os\n",
    "import pandas as pd\n",
    "from pathlib import Path\n",
    "from bs4 import BeautifulSoup\n",
    "from tqdm.notebook import tqdm\n",
    "pd.options.display.max_colwidth = 100"
   ]
  },
  {
   "cell_type": "code",
   "execution_count": 2,
   "metadata": {},
   "outputs": [],
   "source": [
    "here = Path.cwd()\n",
    "html_root = (here / '../docs/').resolve()"
   ]
  },
  {
   "cell_type": "code",
   "execution_count": 3,
   "metadata": {},
   "outputs": [],
   "source": [
    "html_files = sorted(list(html_root.rglob('*.html')))\n",
    "# html_files = []\n",
    "\n",
    "# Add the Mapbox CSVs to test their links as well\n",
    "html_files += [Path(html_root / '../uploads/to-mapbox-label-points-2012-data.csv').resolve()]\n",
    "html_files += [Path(html_root / '../uploads/to-mapbox-label-points-2022-data.csv').resolve()]"
   ]
  },
  {
   "cell_type": "code",
   "execution_count": 4,
   "metadata": {},
   "outputs": [
    {
     "data": {
      "application/vnd.jupyter.widget-view+json": {
       "model_id": "8ae11450a07c4626a1848dc3290c84d6",
       "version_major": 2,
       "version_minor": 0
      },
      "text/plain": [
       "HBox(children=(FloatProgress(value=0.0, max=2073.0), HTML(value='')))"
      ]
     },
     "metadata": {},
     "output_type": "display_data"
    },
    {
     "name": "stdout",
     "output_type": "stream",
     "text": [
      "\n"
     ]
    }
   ],
   "source": [
    "df = pd.DataFrame()\n",
    "\n",
    "for h in tqdm(html_files):\n",
    "\n",
    "    if h.suffix == '.html':\n",
    "        with h.open('r') as f:\n",
    "            html_text = f.read()\n",
    "        link_source = h\n",
    "        \n",
    "    elif h.suffix == '.csv':\n",
    "        temp_df = pd.read_csv(h)\n",
    "        html_text = pd.DataFrame(temp_df['map_display_box']).to_string(index=False)\n",
    "        link_source = Path(html_root / 'index.html')\n",
    "        \n",
    "    else:\n",
    "        raise Exception(f'Unsupported file type: {h}')\n",
    "        \n",
    "\n",
    "    df_file = pd.DataFrame()\n",
    "    soup = BeautifulSoup(html_text, features='html.parser')\n",
    "    links = [link.get('href') for link in soup.find_all('a')]\n",
    "    \n",
    "    df_file['destination'] = links\n",
    "    df_file['source'] = link_source\n",
    "    \n",
    "    df = pd.concat([df, df_file], ignore_index=True)"
   ]
  },
  {
   "cell_type": "code",
   "execution_count": null,
   "metadata": {},
   "outputs": [],
   "source": []
  },
  {
   "cell_type": "code",
   "execution_count": 6,
   "metadata": {},
   "outputs": [],
   "source": [
    "df['is_local'] = True\n",
    "df.loc[df.destination.str.contains('http'), 'is_local'] = False\n",
    "df_local = df[df.is_local].copy()"
   ]
  },
  {
   "cell_type": "code",
   "execution_count": 7,
   "metadata": {},
   "outputs": [],
   "source": [
    "df_local['destination_resolved'] = df_local.apply(\n",
    "    lambda x: (Path(x.source).parent / Path(x.destination)).resolve(), axis=1\n",
    ")"
   ]
  },
  {
   "cell_type": "code",
   "execution_count": 8,
   "metadata": {},
   "outputs": [
    {
     "data": {
      "text/plain": [
       "25607"
      ]
     },
     "execution_count": 8,
     "metadata": {},
     "output_type": "execute_result"
    }
   ],
   "source": [
    "# Total number of links\n",
    "len(df_local)"
   ]
  },
  {
   "cell_type": "code",
   "execution_count": 9,
   "metadata": {},
   "outputs": [
    {
     "data": {
      "text/plain": [
       "4265"
      ]
     },
     "execution_count": 9,
     "metadata": {},
     "output_type": "execute_result"
    }
   ],
   "source": [
    "# Unique link destinations\n",
    "len(df_local.destination.unique())\n",
    "# todo: find orphan HTML pages, those not linked by anything else"
   ]
  },
  {
   "cell_type": "code",
   "execution_count": 10,
   "metadata": {},
   "outputs": [
    {
     "data": {
      "text/plain": [
       "2070"
      ]
     },
     "execution_count": 10,
     "metadata": {},
     "output_type": "execute_result"
    }
   ],
   "source": [
    "# Unique link destinations\n",
    "len(df_local.destination_resolved.unique())\n",
    "# todo: "
   ]
  },
  {
   "cell_type": "code",
   "execution_count": 11,
   "metadata": {},
   "outputs": [
    {
     "data": {
      "text/plain": [
       "2070"
      ]
     },
     "execution_count": 11,
     "metadata": {},
     "output_type": "execute_result"
    }
   ],
   "source": [
    "# Unique link sources\n",
    "len(df_local.source.unique())"
   ]
  },
  {
   "cell_type": "code",
   "execution_count": 12,
   "metadata": {},
   "outputs": [],
   "source": [
    "df_local['exists'] = df_local.apply(\n",
    "    lambda x: (Path(x.source).parent / Path(x.destination)).resolve().exists(), axis=1\n",
    ")"
   ]
  },
  {
   "cell_type": "code",
   "execution_count": 13,
   "metadata": {},
   "outputs": [],
   "source": [
    "# links_to_check = df[df.is_local].groupby('destination').size()\n",
    "# links_to_check"
   ]
  },
  {
   "cell_type": "code",
   "execution_count": 14,
   "metadata": {},
   "outputs": [],
   "source": [
    "df_local['is_broken'] = (df_local.is_local) & ~(df_local.exists)"
   ]
  },
  {
   "cell_type": "code",
   "execution_count": 15,
   "metadata": {},
   "outputs": [],
   "source": [
    "df_local['source_filename'] = df_local.source.apply(lambda x: Path(x).name)"
   ]
  },
  {
   "cell_type": "code",
   "execution_count": 16,
   "metadata": {},
   "outputs": [
    {
     "data": {
      "text/plain": [
       "0"
      ]
     },
     "execution_count": 16,
     "metadata": {},
     "output_type": "execute_result"
    }
   ],
   "source": [
    "df_local.is_broken.sum()"
   ]
  },
  {
   "cell_type": "code",
   "execution_count": 17,
   "metadata": {},
   "outputs": [
    {
     "data": {
      "text/plain": [
       "[]"
      ]
     },
     "execution_count": 17,
     "metadata": {},
     "output_type": "execute_result"
    }
   ],
   "source": [
    "df_local[df_local.is_broken].source.unique().tolist()"
   ]
  },
  {
   "cell_type": "code",
   "execution_count": 18,
   "metadata": {},
   "outputs": [
    {
     "data": {
      "text/plain": [
       "[]"
      ]
     },
     "execution_count": 18,
     "metadata": {},
     "output_type": "execute_result"
    }
   ],
   "source": [
    "# Find orphan HTML pages, those not linked by anything else\n",
    "[x for x in df_local.destination_resolved.unique() if x not in df_local.source.unique()]"
   ]
  },
  {
   "cell_type": "code",
   "execution_count": 19,
   "metadata": {},
   "outputs": [
    {
     "data": {
      "text/plain": [
       "[]"
      ]
     },
     "execution_count": 19,
     "metadata": {},
     "output_type": "execute_result"
    }
   ],
   "source": [
    "[x for x in df_local.source.unique() if x not in df_local.destination_resolved.unique()]"
   ]
  },
  {
   "cell_type": "code",
   "execution_count": 20,
   "metadata": {},
   "outputs": [],
   "source": [
    "# df_local[df_local.destination_resolved == Path('/Users/devin/Projects/openanc/uploads')].iloc[0].squeeze()"
   ]
  },
  {
   "cell_type": "code",
   "execution_count": 21,
   "metadata": {},
   "outputs": [],
   "source": [
    "# sorted(list(df_local[df_local.is_broken].destination.unique()))"
   ]
  },
  {
   "cell_type": "code",
   "execution_count": 22,
   "metadata": {},
   "outputs": [],
   "source": [
    "# df_local[df_local['source_filename'] == '1A.html']"
   ]
  },
  {
   "cell_type": "markdown",
   "metadata": {},
   "source": [
    "## External Links"
   ]
  },
  {
   "cell_type": "code",
   "execution_count": 23,
   "metadata": {},
   "outputs": [],
   "source": [
    "# df[~df.is_local].destination.unique()"
   ]
  },
  {
   "cell_type": "code",
   "execution_count": 24,
   "metadata": {},
   "outputs": [],
   "source": [
    "# Path('/Users/devin/Projects/openanc/uploads/to-mapbox-label-points-2012-data.csv').suffix"
   ]
  },
  {
   "cell_type": "code",
   "execution_count": 25,
   "metadata": {},
   "outputs": [],
   "source": [
    "# df_local[df_local['source'].str.contains('.csv')]"
   ]
  },
  {
   "cell_type": "code",
   "execution_count": 26,
   "metadata": {},
   "outputs": [],
   "source": [
    "# Path(html_root / 'index.html')"
   ]
  },
  {
   "cell_type": "code",
   "execution_count": 27,
   "metadata": {},
   "outputs": [
    {
     "data": {
      "text/html": [
       "<div>\n",
       "<style scoped>\n",
       "    .dataframe tbody tr th:only-of-type {\n",
       "        vertical-align: middle;\n",
       "    }\n",
       "\n",
       "    .dataframe tbody tr th {\n",
       "        vertical-align: top;\n",
       "    }\n",
       "\n",
       "    .dataframe thead th {\n",
       "        text-align: right;\n",
       "    }\n",
       "</style>\n",
       "<table border=\"1\" class=\"dataframe\">\n",
       "  <thead>\n",
       "    <tr style=\"text-align: right;\">\n",
       "      <th></th>\n",
       "      <th>destination</th>\n",
       "      <th>source</th>\n",
       "      <th>is_local</th>\n",
       "      <th>destination_resolved</th>\n",
       "      <th>exists</th>\n",
       "      <th>is_broken</th>\n",
       "      <th>source_filename</th>\n",
       "    </tr>\n",
       "  </thead>\n",
       "  <tbody>\n",
       "    <tr>\n",
       "      <th>15</th>\n",
       "      <td>index.html</td>\n",
       "      <td>/Users/devin/Projects/openanc/docs/about.html</td>\n",
       "      <td>True</td>\n",
       "      <td>/Users/devin/Projects/openanc/docs/index.html</td>\n",
       "      <td>True</td>\n",
       "      <td>False</td>\n",
       "      <td>about.html</td>\n",
       "    </tr>\n",
       "    <tr>\n",
       "      <th>16</th>\n",
       "      <td>list.html</td>\n",
       "      <td>/Users/devin/Projects/openanc/docs/about.html</td>\n",
       "      <td>True</td>\n",
       "      <td>/Users/devin/Projects/openanc/docs/list.html</td>\n",
       "      <td>True</td>\n",
       "      <td>False</td>\n",
       "      <td>about.html</td>\n",
       "    </tr>\n",
       "    <tr>\n",
       "      <th>17</th>\n",
       "      <td>people/index.html</td>\n",
       "      <td>/Users/devin/Projects/openanc/docs/about.html</td>\n",
       "      <td>True</td>\n",
       "      <td>/Users/devin/Projects/openanc/docs/people/index.html</td>\n",
       "      <td>True</td>\n",
       "      <td>False</td>\n",
       "      <td>about.html</td>\n",
       "    </tr>\n",
       "    <tr>\n",
       "      <th>18</th>\n",
       "      <td>about.html</td>\n",
       "      <td>/Users/devin/Projects/openanc/docs/about.html</td>\n",
       "      <td>True</td>\n",
       "      <td>/Users/devin/Projects/openanc/docs/about.html</td>\n",
       "      <td>True</td>\n",
       "      <td>False</td>\n",
       "      <td>about.html</td>\n",
       "    </tr>\n",
       "    <tr>\n",
       "      <th>20</th>\n",
       "      <td>index.html</td>\n",
       "      <td>/Users/devin/Projects/openanc/docs/about.html</td>\n",
       "      <td>True</td>\n",
       "      <td>/Users/devin/Projects/openanc/docs/index.html</td>\n",
       "      <td>True</td>\n",
       "      <td>False</td>\n",
       "      <td>about.html</td>\n",
       "    </tr>\n",
       "    <tr>\n",
       "      <th>...</th>\n",
       "      <td>...</td>\n",
       "      <td>...</td>\n",
       "      <td>...</td>\n",
       "      <td>...</td>\n",
       "      <td>...</td>\n",
       "      <td>...</td>\n",
       "      <td>...</td>\n",
       "    </tr>\n",
       "    <tr>\n",
       "      <th>30808</th>\n",
       "      <td>map_2022/ancs/districts/8F01.html</td>\n",
       "      <td>/Users/devin/Projects/openanc/docs/index.html</td>\n",
       "      <td>True</td>\n",
       "      <td>/Users/devin/Projects/openanc/docs/map_2022/ancs/districts/8F01.html</td>\n",
       "      <td>True</td>\n",
       "      <td>False</td>\n",
       "      <td>index.html</td>\n",
       "    </tr>\n",
       "    <tr>\n",
       "      <th>30809</th>\n",
       "      <td>map_2022/ancs/districts/8F02.html</td>\n",
       "      <td>/Users/devin/Projects/openanc/docs/index.html</td>\n",
       "      <td>True</td>\n",
       "      <td>/Users/devin/Projects/openanc/docs/map_2022/ancs/districts/8F02.html</td>\n",
       "      <td>True</td>\n",
       "      <td>False</td>\n",
       "      <td>index.html</td>\n",
       "    </tr>\n",
       "    <tr>\n",
       "      <th>30810</th>\n",
       "      <td>map_2022/ancs/districts/8F03.html</td>\n",
       "      <td>/Users/devin/Projects/openanc/docs/index.html</td>\n",
       "      <td>True</td>\n",
       "      <td>/Users/devin/Projects/openanc/docs/map_2022/ancs/districts/8F03.html</td>\n",
       "      <td>True</td>\n",
       "      <td>False</td>\n",
       "      <td>index.html</td>\n",
       "    </tr>\n",
       "    <tr>\n",
       "      <th>30811</th>\n",
       "      <td>map_2022/ancs/districts/8F04.html</td>\n",
       "      <td>/Users/devin/Projects/openanc/docs/index.html</td>\n",
       "      <td>True</td>\n",
       "      <td>/Users/devin/Projects/openanc/docs/map_2022/ancs/districts/8F04.html</td>\n",
       "      <td>True</td>\n",
       "      <td>False</td>\n",
       "      <td>index.html</td>\n",
       "    </tr>\n",
       "    <tr>\n",
       "      <th>30812</th>\n",
       "      <td>map_2022/ancs/districts/8F05.html</td>\n",
       "      <td>/Users/devin/Projects/openanc/docs/index.html</td>\n",
       "      <td>True</td>\n",
       "      <td>/Users/devin/Projects/openanc/docs/map_2022/ancs/districts/8F05.html</td>\n",
       "      <td>True</td>\n",
       "      <td>False</td>\n",
       "      <td>index.html</td>\n",
       "    </tr>\n",
       "  </tbody>\n",
       "</table>\n",
       "<p>25607 rows × 7 columns</p>\n",
       "</div>"
      ],
      "text/plain": [
       "                             destination  \\\n",
       "15                            index.html   \n",
       "16                             list.html   \n",
       "17                     people/index.html   \n",
       "18                            about.html   \n",
       "20                            index.html   \n",
       "...                                  ...   \n",
       "30808  map_2022/ancs/districts/8F01.html   \n",
       "30809  map_2022/ancs/districts/8F02.html   \n",
       "30810  map_2022/ancs/districts/8F03.html   \n",
       "30811  map_2022/ancs/districts/8F04.html   \n",
       "30812  map_2022/ancs/districts/8F05.html   \n",
       "\n",
       "                                              source  is_local  \\\n",
       "15     /Users/devin/Projects/openanc/docs/about.html      True   \n",
       "16     /Users/devin/Projects/openanc/docs/about.html      True   \n",
       "17     /Users/devin/Projects/openanc/docs/about.html      True   \n",
       "18     /Users/devin/Projects/openanc/docs/about.html      True   \n",
       "20     /Users/devin/Projects/openanc/docs/about.html      True   \n",
       "...                                              ...       ...   \n",
       "30808  /Users/devin/Projects/openanc/docs/index.html      True   \n",
       "30809  /Users/devin/Projects/openanc/docs/index.html      True   \n",
       "30810  /Users/devin/Projects/openanc/docs/index.html      True   \n",
       "30811  /Users/devin/Projects/openanc/docs/index.html      True   \n",
       "30812  /Users/devin/Projects/openanc/docs/index.html      True   \n",
       "\n",
       "                                                       destination_resolved  \\\n",
       "15                            /Users/devin/Projects/openanc/docs/index.html   \n",
       "16                             /Users/devin/Projects/openanc/docs/list.html   \n",
       "17                     /Users/devin/Projects/openanc/docs/people/index.html   \n",
       "18                            /Users/devin/Projects/openanc/docs/about.html   \n",
       "20                            /Users/devin/Projects/openanc/docs/index.html   \n",
       "...                                                                     ...   \n",
       "30808  /Users/devin/Projects/openanc/docs/map_2022/ancs/districts/8F01.html   \n",
       "30809  /Users/devin/Projects/openanc/docs/map_2022/ancs/districts/8F02.html   \n",
       "30810  /Users/devin/Projects/openanc/docs/map_2022/ancs/districts/8F03.html   \n",
       "30811  /Users/devin/Projects/openanc/docs/map_2022/ancs/districts/8F04.html   \n",
       "30812  /Users/devin/Projects/openanc/docs/map_2022/ancs/districts/8F05.html   \n",
       "\n",
       "       exists  is_broken source_filename  \n",
       "15       True      False      about.html  \n",
       "16       True      False      about.html  \n",
       "17       True      False      about.html  \n",
       "18       True      False      about.html  \n",
       "20       True      False      about.html  \n",
       "...       ...        ...             ...  \n",
       "30808    True      False      index.html  \n",
       "30809    True      False      index.html  \n",
       "30810    True      False      index.html  \n",
       "30811    True      False      index.html  \n",
       "30812    True      False      index.html  \n",
       "\n",
       "[25607 rows x 7 columns]"
      ]
     },
     "execution_count": 27,
     "metadata": {},
     "output_type": "execute_result"
    }
   ],
   "source": [
    "df_local"
   ]
  },
  {
   "cell_type": "code",
   "execution_count": null,
   "metadata": {},
   "outputs": [],
   "source": []
  }
 ],
 "metadata": {
  "kernelspec": {
   "display_name": "Python 3",
   "language": "python",
   "name": "python3"
  },
  "language_info": {
   "codemirror_mode": {
    "name": "ipython",
    "version": 3
   },
   "file_extension": ".py",
   "mimetype": "text/x-python",
   "name": "python",
   "nbconvert_exporter": "python",
   "pygments_lexer": "ipython3",
   "version": "3.7.1"
  }
 },
 "nbformat": 4,
 "nbformat_minor": 4
}
