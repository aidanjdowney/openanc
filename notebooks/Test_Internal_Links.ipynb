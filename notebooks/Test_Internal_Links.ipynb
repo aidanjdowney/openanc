{
 "cells": [
  {
   "cell_type": "markdown",
   "metadata": {},
   "source": [
    "# Test Internal Links\n",
    "\n",
    "Scan HTML pages to confirm that all internal links are working."
   ]
  },
  {
   "cell_type": "code",
   "execution_count": 1,
   "metadata": {},
   "outputs": [],
   "source": [
    "import os\n",
    "import pandas as pd\n",
    "from pathlib import Path\n",
    "from bs4 import BeautifulSoup\n",
    "from tqdm.notebook import tqdm"
   ]
  },
  {
   "cell_type": "code",
   "execution_count": 2,
   "metadata": {},
   "outputs": [],
   "source": [
    "here = Path.cwd()\n",
    "html_root = (here / '../docs/').resolve()"
   ]
  },
  {
   "cell_type": "code",
   "execution_count": 3,
   "metadata": {},
   "outputs": [],
   "source": [
    "html_files = sorted(list(html_root.rglob('*.html')))\n",
    "\n",
    "# Add the Mapbox CSVs to test their links as well\n",
    "html_files += [Path(html_root / '../uploads/to-mapbox-label-points-2012-data.csv').resolve()]\n",
    "html_files += [Path(html_root / '../uploads/to-mapbox-label-points-2022-data.csv').resolve()]"
   ]
  },
  {
   "cell_type": "code",
   "execution_count": 4,
   "metadata": {},
   "outputs": [
    {
     "data": {
      "application/vnd.jupyter.widget-view+json": {
       "model_id": "7b0cf34c8ad8433a86ac4197aea3466c",
       "version_major": 2,
       "version_minor": 0
      },
      "text/plain": [
       "HBox(children=(FloatProgress(value=0.0, max=2072.0), HTML(value='')))"
      ]
     },
     "metadata": {},
     "output_type": "display_data"
    },
    {
     "name": "stdout",
     "output_type": "stream",
     "text": [
      "\n"
     ]
    }
   ],
   "source": [
    "df = pd.DataFrame()\n",
    "\n",
    "for h in tqdm(html_files):\n",
    "\n",
    "    with h.open('r') as f:\n",
    "        html_text = f.read()\n",
    "\n",
    "    df_file = pd.DataFrame()\n",
    "    soup = BeautifulSoup(html_text, features='html.parser')\n",
    "    links = [link.get('href') for link in soup.find_all('a')]\n",
    "    \n",
    "    df_file['destination'] = links\n",
    "    df_file['source'] = h\n",
    "    \n",
    "    df = pd.concat([df, df_file], ignore_index=True)"
   ]
  },
  {
   "cell_type": "code",
   "execution_count": 5,
   "metadata": {},
   "outputs": [],
   "source": [
    "df['is_local'] = True\n",
    "df.loc[df.destination.str.contains('http'), 'is_local'] = False\n",
    "df_local = df[df.is_local].copy()"
   ]
  },
  {
   "cell_type": "code",
   "execution_count": 6,
   "metadata": {},
   "outputs": [],
   "source": [
    "df_local['destination_resolved'] = df_local.apply(\n",
    "    lambda x: (Path(x.source).parent / Path(x.destination)).resolve(), axis=1\n",
    ")"
   ]
  },
  {
   "cell_type": "code",
   "execution_count": 7,
   "metadata": {},
   "outputs": [
    {
     "data": {
      "text/plain": [
       "25601"
      ]
     },
     "execution_count": 7,
     "metadata": {},
     "output_type": "execute_result"
    }
   ],
   "source": [
    "# Total number of links\n",
    "len(df_local)"
   ]
  },
  {
   "cell_type": "code",
   "execution_count": 8,
   "metadata": {},
   "outputs": [
    {
     "data": {
      "text/plain": [
       "4264"
      ]
     },
     "execution_count": 8,
     "metadata": {},
     "output_type": "execute_result"
    }
   ],
   "source": [
    "# Unique link destinations\n",
    "len(df_local.destination.unique())\n",
    "# todo: find orphan HTML pages, those not linked by anything else"
   ]
  },
  {
   "cell_type": "code",
   "execution_count": 9,
   "metadata": {},
   "outputs": [
    {
     "data": {
      "text/plain": [
       "2070"
      ]
     },
     "execution_count": 9,
     "metadata": {},
     "output_type": "execute_result"
    }
   ],
   "source": [
    "# Unique link destinations\n",
    "len(df_local.destination_resolved.unique())\n",
    "# todo: "
   ]
  },
  {
   "cell_type": "code",
   "execution_count": 10,
   "metadata": {},
   "outputs": [
    {
     "data": {
      "text/plain": [
       "2072"
      ]
     },
     "execution_count": 10,
     "metadata": {},
     "output_type": "execute_result"
    }
   ],
   "source": [
    "# Unique link sources\n",
    "len(df_local.source.unique())"
   ]
  },
  {
   "cell_type": "code",
   "execution_count": 11,
   "metadata": {},
   "outputs": [],
   "source": [
    "df_local['exists'] = df_local.apply(\n",
    "    lambda x: (Path(x.source).parent / Path(x.destination)).resolve().exists(), axis=1\n",
    ")"
   ]
  },
  {
   "cell_type": "code",
   "execution_count": 12,
   "metadata": {},
   "outputs": [],
   "source": [
    "# links_to_check = df[df.is_local].groupby('destination').size()\n",
    "# links_to_check"
   ]
  },
  {
   "cell_type": "code",
   "execution_count": 13,
   "metadata": {},
   "outputs": [],
   "source": [
    "df_local['is_broken'] = (df_local.is_local) & ~(df_local.exists)"
   ]
  },
  {
   "cell_type": "code",
   "execution_count": 14,
   "metadata": {},
   "outputs": [],
   "source": [
    "df_local['source_filename'] = df_local.source.apply(lambda x: Path(x).name)"
   ]
  },
  {
   "cell_type": "code",
   "execution_count": 15,
   "metadata": {},
   "outputs": [
    {
     "data": {
      "text/plain": [
       "0"
      ]
     },
     "execution_count": 15,
     "metadata": {},
     "output_type": "execute_result"
    }
   ],
   "source": [
    "df_local.is_broken.sum()"
   ]
  },
  {
   "cell_type": "code",
   "execution_count": 16,
   "metadata": {},
   "outputs": [
    {
     "data": {
      "text/plain": [
       "[]"
      ]
     },
     "execution_count": 16,
     "metadata": {},
     "output_type": "execute_result"
    }
   ],
   "source": [
    "df_local[df_local.is_broken].source.unique().tolist()"
   ]
  },
  {
   "cell_type": "code",
   "execution_count": 17,
   "metadata": {},
   "outputs": [
    {
     "data": {
      "text/plain": [
       "[PosixPath('/Users/devin/Projects/openanc/uploads')]"
      ]
     },
     "execution_count": 17,
     "metadata": {},
     "output_type": "execute_result"
    }
   ],
   "source": [
    "# Find orphan HTML pages, those not linked by anything else\n",
    "[x for x in df_local.destination_resolved.unique() if x not in df_local.source.unique()]"
   ]
  },
  {
   "cell_type": "code",
   "execution_count": 18,
   "metadata": {},
   "outputs": [
    {
     "data": {
      "text/plain": [
       "[PosixPath('/Users/devin/Projects/openanc/docs/404.html'),\n",
       " PosixPath('/Users/devin/Projects/openanc/uploads/to-mapbox-label-points-2012-data.csv'),\n",
       " PosixPath('/Users/devin/Projects/openanc/uploads/to-mapbox-label-points-2022-data.csv')]"
      ]
     },
     "execution_count": 18,
     "metadata": {},
     "output_type": "execute_result"
    }
   ],
   "source": [
    "[x for x in df_local.source.unique() if x not in df_local.destination_resolved.unique()]"
   ]
  },
  {
   "cell_type": "code",
   "execution_count": 29,
   "metadata": {},
   "outputs": [
    {
     "data": {
      "text/plain": [
       "destination                                                              \n",
       "source                  /Users/devin/Projects/openanc/uploads/to-mapbo...\n",
       "is_local                                                             True\n",
       "destination_resolved                /Users/devin/Projects/openanc/uploads\n",
       "exists                                                               True\n",
       "is_broken                                                           False\n",
       "source_filename                      to-mapbox-label-points-2012-data.csv\n",
       "Name: 30156, dtype: object"
      ]
     },
     "execution_count": 29,
     "metadata": {},
     "output_type": "execute_result"
    }
   ],
   "source": [
    "df_local[df_local.destination_resolved == Path('/Users/devin/Projects/openanc/uploads')].iloc[0].squeeze()"
   ]
  },
  {
   "cell_type": "code",
   "execution_count": 19,
   "metadata": {},
   "outputs": [],
   "source": [
    "# sorted(list(df_local[df_local.is_broken].destination.unique()))"
   ]
  },
  {
   "cell_type": "code",
   "execution_count": 20,
   "metadata": {},
   "outputs": [],
   "source": [
    "# df_local[df_local['source_filename'] == '1A.html']"
   ]
  },
  {
   "cell_type": "markdown",
   "metadata": {},
   "source": [
    "## External Links"
   ]
  },
  {
   "cell_type": "code",
   "execution_count": 21,
   "metadata": {},
   "outputs": [],
   "source": [
    "# df[~df.is_local].destination.unique()"
   ]
  },
  {
   "cell_type": "code",
   "execution_count": null,
   "metadata": {},
   "outputs": [],
   "source": []
  }
 ],
 "metadata": {
  "kernelspec": {
   "display_name": "Python 3",
   "language": "python",
   "name": "python3"
  },
  "language_info": {
   "codemirror_mode": {
    "name": "ipython",
    "version": 3
   },
   "file_extension": ".py",
   "mimetype": "text/x-python",
   "name": "python",
   "nbconvert_exporter": "python",
   "pygments_lexer": "ipython3",
   "version": "3.7.1"
  }
 },
 "nbformat": 4,
 "nbformat_minor": 4
}
