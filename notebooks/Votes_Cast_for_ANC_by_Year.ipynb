{
 "cells": [
  {
   "cell_type": "markdown",
   "id": "a46e5e83",
   "metadata": {},
   "source": [
    "# Votes Cast for ANC by Year\n",
    "\n",
    "How many votes were cast for ANC candidates each year? Include write-ins, exclude under votes, compare to the topline races. "
   ]
  },
  {
   "cell_type": "code",
   "execution_count": 1,
   "id": "354969c3",
   "metadata": {},
   "outputs": [],
   "source": [
    "import pandas as pd"
   ]
  },
  {
   "cell_type": "code",
   "execution_count": null,
   "id": "4cb6ce86",
   "metadata": {},
   "outputs": [],
   "source": []
  },
  {
   "cell_type": "code",
   "execution_count": 2,
   "id": "95a5364a",
   "metadata": {},
   "outputs": [],
   "source": [
    "df = pd.read_csv(f'../data/dcboe/election_results/November_3_2020_General_Election_Certified_Results.csv')\n",
    "df = df.rename(columns={\n",
    "    'Candidate': 'candidate_name'\n",
    "    , 'ContestName': 'contest_name'\n",
    "    , 'ContestNumber': 'contest_number'\n",
    "    , 'Votes': 'votes'\n",
    "})"
   ]
  },
  {
   "cell_type": "code",
   "execution_count": 11,
   "id": "085a9e77",
   "metadata": {},
   "outputs": [
    {
     "data": {
      "text/plain": [
       "candidate_name\n",
       "DEM Joseph R. Biden - Kamala D. Harris    317323\n",
       "IND Brock Pierce - Karla Ballard             693\n",
       "IND Gloria La Riva - Sunil Freeman           855\n",
       "LIB Jo Jorgensen - Jeremy \"Spike\" Cohe      2036\n",
       "REP Donald J. Trump - Michael R. Pence     18586\n",
       "STG Howie Hawkins - Angela Walker           1726\n",
       "Write-in                                    3137\n",
       "total                                     344356\n",
       "Name: votes, dtype: int64"
      ]
     },
     "execution_count": 11,
     "metadata": {},
     "output_type": "execute_result"
    }
   ],
   "source": [
    "# Topline race\n",
    "topline_results = (\n",
    "    df[df['contest_name'] == 'ELECTORS OF PRESIDENT AND VICE PRESIDENT OF THE UNITED STATES']\n",
    "    .groupby('candidate_name')\n",
    "    .votes.sum()\n",
    ")\n",
    "\n",
    "topline_results['total'] = topline_results.sum()\n",
    "topline_results"
   ]
  },
  {
   "cell_type": "markdown",
   "id": "6ab222ae",
   "metadata": {},
   "source": [
    "Find the most important race of this election cycle. "
   ]
  },
  {
   "cell_type": "code",
   "execution_count": 10,
   "id": "f52431ad",
   "metadata": {},
   "outputs": [],
   "source": [
    "# df.groupby('contest_name').votes.sum().sort_values(ascending=False).head(10)"
   ]
  },
  {
   "cell_type": "code",
   "execution_count": 15,
   "id": "8d4901a7",
   "metadata": {},
   "outputs": [
    {
     "data": {
      "text/plain": [
       "250988"
      ]
     },
     "execution_count": 15,
     "metadata": {},
     "output_type": "execute_result"
    }
   ],
   "source": [
    "anc = df[df['contest_name'].str.contains('SINGLE MEMBER DISTRICT')].copy()\n",
    "anc.votes.sum()"
   ]
  },
  {
   "cell_type": "code",
   "execution_count": 19,
   "id": "b3612cd3",
   "metadata": {},
   "outputs": [
    {
     "data": {
      "text/plain": [
       "candidate_name\n",
       "Write-in                     11644\n",
       "Drew Courtney                 2848\n",
       "Edward Daniels                2053\n",
       "Patrick K. Parlej             1573\n",
       "Pierre Hines                  1467\n",
       "Joel Kelty                    1354\n",
       "Andy Litsky                   1316\n",
       "Geoff Bromaghim               1242\n",
       "Corey Holman                  1186\n",
       "Fredrica (\"Rikki\") Kramer     1178\n",
       "Name: votes, dtype: int64"
      ]
     },
     "execution_count": 19,
     "metadata": {},
     "output_type": "execute_result"
    }
   ],
   "source": [
    "anc.groupby('candidate_name').votes.sum().sort_values(ascending=False).head(10)"
   ]
  },
  {
   "cell_type": "code",
   "execution_count": null,
   "id": "aedd8047",
   "metadata": {},
   "outputs": [],
   "source": []
  }
 ],
 "metadata": {
  "kernelspec": {
   "display_name": "Python 3 (ipykernel)",
   "language": "python",
   "name": "python3"
  },
  "language_info": {
   "codemirror_mode": {
    "name": "ipython",
    "version": 3
   },
   "file_extension": ".py",
   "mimetype": "text/x-python",
   "name": "python",
   "nbconvert_exporter": "python",
   "pygments_lexer": "ipython3",
   "version": "3.10.3"
  }
 },
 "nbformat": 4,
 "nbformat_minor": 5
}
