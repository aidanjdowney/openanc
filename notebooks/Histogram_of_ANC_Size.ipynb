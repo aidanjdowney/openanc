{
 "cells": [
  {
   "cell_type": "markdown",
   "metadata": {},
   "source": [
    "# Histogram of SMDs per ANC\n",
    "\n",
    "To contribute to discussions about the ideal size of ANCs, make a chart of the current distribution. "
   ]
  },
  {
   "cell_type": "code",
   "execution_count": 1,
   "metadata": {},
   "outputs": [],
   "source": [
    "import numpy as np\n",
    "import pandas as pd\n",
    "# import dataframe_image as dfi\n",
    "from matplotlib import pyplot as plt"
   ]
  },
  {
   "cell_type": "code",
   "execution_count": 2,
   "metadata": {},
   "outputs": [],
   "source": [
    "districts = pd.read_csv('../data/districts.csv')\n",
    "districts = districts[districts.redistricting_year == 2022].copy()"
   ]
  },
  {
   "cell_type": "code",
   "execution_count": 3,
   "metadata": {},
   "outputs": [],
   "source": [
    "anc_count = districts.groupby('anc_id').size()"
   ]
  },
  {
   "cell_type": "code",
   "execution_count": 4,
   "metadata": {},
   "outputs": [
    {
     "data": {
      "text/html": [
       "<div>\n",
       "<style scoped>\n",
       "    .dataframe tbody tr th:only-of-type {\n",
       "        vertical-align: middle;\n",
       "    }\n",
       "\n",
       "    .dataframe tbody tr th {\n",
       "        vertical-align: top;\n",
       "    }\n",
       "\n",
       "    .dataframe thead th {\n",
       "        text-align: right;\n",
       "    }\n",
       "</style>\n",
       "<table border=\"1\" class=\"dataframe\">\n",
       "  <thead>\n",
       "    <tr style=\"text-align: right;\">\n",
       "      <th></th>\n",
       "      <th>N</th>\n",
       "      <th>perc</th>\n",
       "    </tr>\n",
       "  </thead>\n",
       "  <tbody>\n",
       "    <tr>\n",
       "      <th>2</th>\n",
       "      <td>1</td>\n",
       "      <td>0.021739</td>\n",
       "    </tr>\n",
       "    <tr>\n",
       "      <th>3</th>\n",
       "      <td>0</td>\n",
       "      <td>0.000000</td>\n",
       "    </tr>\n",
       "    <tr>\n",
       "      <th>4</th>\n",
       "      <td>1</td>\n",
       "      <td>0.021739</td>\n",
       "    </tr>\n",
       "    <tr>\n",
       "      <th>5</th>\n",
       "      <td>2</td>\n",
       "      <td>0.043478</td>\n",
       "    </tr>\n",
       "    <tr>\n",
       "      <th>6</th>\n",
       "      <td>5</td>\n",
       "      <td>0.108696</td>\n",
       "    </tr>\n",
       "    <tr>\n",
       "      <th>7</th>\n",
       "      <td>14</td>\n",
       "      <td>0.304348</td>\n",
       "    </tr>\n",
       "    <tr>\n",
       "      <th>8</th>\n",
       "      <td>9</td>\n",
       "      <td>0.195652</td>\n",
       "    </tr>\n",
       "    <tr>\n",
       "      <th>9</th>\n",
       "      <td>11</td>\n",
       "      <td>0.239130</td>\n",
       "    </tr>\n",
       "    <tr>\n",
       "      <th>10</th>\n",
       "      <td>3</td>\n",
       "      <td>0.065217</td>\n",
       "    </tr>\n",
       "  </tbody>\n",
       "</table>\n",
       "</div>"
      ],
      "text/plain": [
       "     N      perc\n",
       "2    1  0.021739\n",
       "3    0  0.000000\n",
       "4    1  0.021739\n",
       "5    2  0.043478\n",
       "6    5  0.108696\n",
       "7   14  0.304348\n",
       "8    9  0.195652\n",
       "9   11  0.239130\n",
       "10   3  0.065217"
      ]
     },
     "execution_count": 4,
     "metadata": {},
     "output_type": "execute_result"
    }
   ],
   "source": [
    "stats = pd.DataFrame(anc_count.value_counts().sort_index(), columns=['N'])\n",
    "stats['perc'] = stats['N'] / stats['N'].sum()\n",
    "stats.loc[3] = 0\n",
    "# stats.loc[11] = 0\n",
    "stats = stats.loc[stats.index.sort_values()]\n",
    "stats"
   ]
  },
  {
   "cell_type": "code",
   "execution_count": 5,
   "metadata": {},
   "outputs": [
    {
     "data": {
      "image/png": "[encoded data removed]",
      "text/plain": [
       "<Figure size 600x500 with 1 Axes>"
      ]
     },
     "metadata": {},
     "output_type": "display_data"
    }
   ],
   "source": [
    "ax = stats['N'].plot(x=stats.index, kind='bar', figsize=(6,5))\n",
    "ax.xaxis.grid(alpha=0)\n",
    "plt.xticks(rotation=0)\n",
    "plt.title('Current ANC Sizes')\n",
    "plt.xlabel('Number of commissioners per ANC')\n",
    "_ = plt.ylabel('Count of ANCs')\n",
    "# plt.savefig('anc_histogram.png')"
   ]
  },
  {
   "cell_type": "code",
   "execution_count": 6,
   "metadata": {},
   "outputs": [
    {
     "data": {
      "text/plain": [
       "2"
      ]
     },
     "execution_count": 6,
     "metadata": {},
     "output_type": "execute_result"
    }
   ],
   "source": [
    "anc_count.min()"
   ]
  },
  {
   "cell_type": "code",
   "execution_count": 7,
   "metadata": {},
   "outputs": [
    {
     "data": {
      "text/plain": [
       "7.5"
      ]
     },
     "execution_count": 7,
     "metadata": {},
     "output_type": "execute_result"
    }
   ],
   "source": [
    "anc_count.median()"
   ]
  },
  {
   "cell_type": "code",
   "execution_count": 8,
   "metadata": {},
   "outputs": [
    {
     "data": {
      "text/plain": [
       "10"
      ]
     },
     "execution_count": 8,
     "metadata": {},
     "output_type": "execute_result"
    }
   ],
   "source": [
    "anc_count.max()"
   ]
  },
  {
   "cell_type": "code",
   "execution_count": 9,
   "metadata": {},
   "outputs": [
    {
     "data": {
      "text/plain": [
       "46"
      ]
     },
     "execution_count": 9,
     "metadata": {},
     "output_type": "execute_result"
    }
   ],
   "source": [
    "stats.N.sum()"
   ]
  },
  {
   "cell_type": "markdown",
   "metadata": {},
   "source": [
    "## Breakout by Ward\n",
    "\n",
    "Do different wards have odd numbers in their ANCs?"
   ]
  },
  {
   "cell_type": "code",
   "execution_count": 10,
   "metadata": {},
   "outputs": [],
   "source": [
    "# Allocate the split ANCs entirely to the wards where most of their SMDs are located\n",
    "districts_ward_allocated = districts.copy()\n",
    "\n",
    "districts_ward_allocated.loc[districts_ward_allocated['smd_id'].isin([\n",
    "    'smd_2022_3/4G05', 'smd_2022_3/4G06', 'smd_2022_3/4G07'\n",
    "]), 'ward_id'] = 'ward_4_2022'\n",
    "\n",
    "districts_ward_allocated.loc[districts_ward_allocated['smd_id'].isin([\n",
    "    'smd_2022_8F04', 'smd_2022_8F05'\n",
    "]), 'ward_id'] = 'ward_8_2022'"
   ]
  },
  {
   "cell_type": "code",
   "execution_count": 11,
   "metadata": {},
   "outputs": [],
   "source": [
    "ward_anc_count = districts_ward_allocated.groupby(['ward_id', 'anc_id']).size().reset_index(name='N')"
   ]
  },
  {
   "cell_type": "code",
   "execution_count": 12,
   "metadata": {},
   "outputs": [
    {
     "data": {
      "text/html": [
       "<div>\n",
       "<style scoped>\n",
       "    .dataframe tbody tr th:only-of-type {\n",
       "        vertical-align: middle;\n",
       "    }\n",
       "\n",
       "    .dataframe tbody tr th {\n",
       "        vertical-align: top;\n",
       "    }\n",
       "\n",
       "    .dataframe thead th {\n",
       "        text-align: right;\n",
       "    }\n",
       "</style>\n",
       "<table border=\"1\" class=\"dataframe\">\n",
       "  <thead>\n",
       "    <tr style=\"text-align: right;\">\n",
       "      <th>N</th>\n",
       "      <th>2</th>\n",
       "      <th>4</th>\n",
       "      <th>5</th>\n",
       "      <th>6</th>\n",
       "      <th>7</th>\n",
       "      <th>8</th>\n",
       "      <th>9</th>\n",
       "      <th>10</th>\n",
       "    </tr>\n",
       "    <tr>\n",
       "      <th>ward_id</th>\n",
       "      <th></th>\n",
       "      <th></th>\n",
       "      <th></th>\n",
       "      <th></th>\n",
       "      <th></th>\n",
       "      <th></th>\n",
       "      <th></th>\n",
       "      <th></th>\n",
       "    </tr>\n",
       "  </thead>\n",
       "  <tbody>\n",
       "    <tr>\n",
       "      <th>ward_1_2022</th>\n",
       "      <td>0</td>\n",
       "      <td>0</td>\n",
       "      <td>0</td>\n",
       "      <td>0</td>\n",
       "      <td>2</td>\n",
       "      <td>0</td>\n",
       "      <td>2</td>\n",
       "      <td>1</td>\n",
       "    </tr>\n",
       "    <tr>\n",
       "      <th>ward_2_2022</th>\n",
       "      <td>1</td>\n",
       "      <td>1</td>\n",
       "      <td>0</td>\n",
       "      <td>1</td>\n",
       "      <td>0</td>\n",
       "      <td>2</td>\n",
       "      <td>2</td>\n",
       "      <td>0</td>\n",
       "    </tr>\n",
       "    <tr>\n",
       "      <th>ward_3_2022</th>\n",
       "      <td>0</td>\n",
       "      <td>0</td>\n",
       "      <td>1</td>\n",
       "      <td>2</td>\n",
       "      <td>1</td>\n",
       "      <td>2</td>\n",
       "      <td>0</td>\n",
       "      <td>0</td>\n",
       "    </tr>\n",
       "    <tr>\n",
       "      <th>ward_4_2022</th>\n",
       "      <td>0</td>\n",
       "      <td>0</td>\n",
       "      <td>0</td>\n",
       "      <td>1</td>\n",
       "      <td>3</td>\n",
       "      <td>1</td>\n",
       "      <td>0</td>\n",
       "      <td>1</td>\n",
       "    </tr>\n",
       "    <tr>\n",
       "      <th>ward_5_2022</th>\n",
       "      <td>0</td>\n",
       "      <td>0</td>\n",
       "      <td>0</td>\n",
       "      <td>1</td>\n",
       "      <td>3</td>\n",
       "      <td>0</td>\n",
       "      <td>2</td>\n",
       "      <td>0</td>\n",
       "    </tr>\n",
       "    <tr>\n",
       "      <th>ward_6_2022</th>\n",
       "      <td>0</td>\n",
       "      <td>0</td>\n",
       "      <td>0</td>\n",
       "      <td>0</td>\n",
       "      <td>2</td>\n",
       "      <td>1</td>\n",
       "      <td>2</td>\n",
       "      <td>0</td>\n",
       "    </tr>\n",
       "    <tr>\n",
       "      <th>ward_7_2022</th>\n",
       "      <td>0</td>\n",
       "      <td>0</td>\n",
       "      <td>0</td>\n",
       "      <td>0</td>\n",
       "      <td>1</td>\n",
       "      <td>1</td>\n",
       "      <td>2</td>\n",
       "      <td>1</td>\n",
       "    </tr>\n",
       "    <tr>\n",
       "      <th>ward_8_2022</th>\n",
       "      <td>0</td>\n",
       "      <td>0</td>\n",
       "      <td>1</td>\n",
       "      <td>0</td>\n",
       "      <td>2</td>\n",
       "      <td>2</td>\n",
       "      <td>1</td>\n",
       "      <td>0</td>\n",
       "    </tr>\n",
       "  </tbody>\n",
       "</table>\n",
       "</div>"
      ],
      "text/plain": [
       "N            2   4   5   6   7   8   9   10\n",
       "ward_id                                    \n",
       "ward_1_2022   0   0   0   0   2   0   2   1\n",
       "ward_2_2022   1   1   0   1   0   2   2   0\n",
       "ward_3_2022   0   0   1   2   1   2   0   0\n",
       "ward_4_2022   0   0   0   1   3   1   0   1\n",
       "ward_5_2022   0   0   0   1   3   0   2   0\n",
       "ward_6_2022   0   0   0   0   2   1   2   0\n",
       "ward_7_2022   0   0   0   0   1   1   2   1\n",
       "ward_8_2022   0   0   1   0   2   2   1   0"
      ]
     },
     "execution_count": 12,
     "metadata": {},
     "output_type": "execute_result"
    }
   ],
   "source": [
    "pivot_ward_anc = pd.pivot_table(\n",
    "    data=ward_anc_count\n",
    "    , index='ward_id'\n",
    "    , columns='N'\n",
    "    , aggfunc='size'\n",
    "    , fill_value=0\n",
    ")\n",
    "pivot_ward_anc"
   ]
  },
  {
   "cell_type": "code",
   "execution_count": 13,
   "metadata": {},
   "outputs": [
    {
     "data": {
      "text/html": [
       "<style type=\"text/css\">\n",
       "#T_69bd3_row0_col0, #T_69bd3_row0_col1, #T_69bd3_row0_col2, #T_69bd3_row0_col3, #T_69bd3_row0_col5, #T_69bd3_row1_col2, #T_69bd3_row1_col4, #T_69bd3_row1_col7, #T_69bd3_row2_col0, #T_69bd3_row2_col1, #T_69bd3_row2_col6, #T_69bd3_row2_col7, #T_69bd3_row3_col0, #T_69bd3_row3_col1, #T_69bd3_row3_col2, #T_69bd3_row3_col6, #T_69bd3_row4_col0, #T_69bd3_row4_col1, #T_69bd3_row4_col2, #T_69bd3_row4_col5, #T_69bd3_row4_col7, #T_69bd3_row5_col0, #T_69bd3_row5_col1, #T_69bd3_row5_col2, #T_69bd3_row5_col3, #T_69bd3_row5_col7, #T_69bd3_row6_col0, #T_69bd3_row6_col1, #T_69bd3_row6_col2, #T_69bd3_row6_col3, #T_69bd3_row7_col0, #T_69bd3_row7_col1, #T_69bd3_row7_col3, #T_69bd3_row7_col7 {\n",
       "  background-color: #fff7fb;\n",
       "  color: #000000;\n",
       "}\n",
       "#T_69bd3_row0_col4, #T_69bd3_row0_col6, #T_69bd3_row1_col5, #T_69bd3_row1_col6, #T_69bd3_row2_col3, #T_69bd3_row2_col5, #T_69bd3_row4_col6, #T_69bd3_row5_col4, #T_69bd3_row5_col6, #T_69bd3_row6_col6, #T_69bd3_row7_col4, #T_69bd3_row7_col5 {\n",
       "  background-color: #2685bb;\n",
       "  color: #f1f1f1;\n",
       "}\n",
       "#T_69bd3_row0_col7, #T_69bd3_row1_col0, #T_69bd3_row1_col1, #T_69bd3_row1_col3, #T_69bd3_row2_col2, #T_69bd3_row2_col4, #T_69bd3_row3_col3, #T_69bd3_row3_col5, #T_69bd3_row3_col7, #T_69bd3_row4_col3, #T_69bd3_row5_col5, #T_69bd3_row6_col4, #T_69bd3_row6_col5, #T_69bd3_row6_col7, #T_69bd3_row7_col2, #T_69bd3_row7_col6 {\n",
       "  background-color: #b4c4df;\n",
       "  color: #000000;\n",
       "}\n",
       "#T_69bd3_row3_col4, #T_69bd3_row4_col4 {\n",
       "  background-color: #023858;\n",
       "  color: #f1f1f1;\n",
       "}\n",
       "</style>\n",
       "<table id=\"T_69bd3\">\n",
       "  <thead>\n",
       "    <tr>\n",
       "      <th class=\"index_name level0\" >N</th>\n",
       "      <th id=\"T_69bd3_level0_col0\" class=\"col_heading level0 col0\" >2</th>\n",
       "      <th id=\"T_69bd3_level0_col1\" class=\"col_heading level0 col1\" >4</th>\n",
       "      <th id=\"T_69bd3_level0_col2\" class=\"col_heading level0 col2\" >5</th>\n",
       "      <th id=\"T_69bd3_level0_col3\" class=\"col_heading level0 col3\" >6</th>\n",
       "      <th id=\"T_69bd3_level0_col4\" class=\"col_heading level0 col4\" >7</th>\n",
       "      <th id=\"T_69bd3_level0_col5\" class=\"col_heading level0 col5\" >8</th>\n",
       "      <th id=\"T_69bd3_level0_col6\" class=\"col_heading level0 col6\" >9</th>\n",
       "      <th id=\"T_69bd3_level0_col7\" class=\"col_heading level0 col7\" >10</th>\n",
       "    </tr>\n",
       "    <tr>\n",
       "      <th class=\"index_name level0\" >ward_id</th>\n",
       "      <th class=\"blank col0\" >&nbsp;</th>\n",
       "      <th class=\"blank col1\" >&nbsp;</th>\n",
       "      <th class=\"blank col2\" >&nbsp;</th>\n",
       "      <th class=\"blank col3\" >&nbsp;</th>\n",
       "      <th class=\"blank col4\" >&nbsp;</th>\n",
       "      <th class=\"blank col5\" >&nbsp;</th>\n",
       "      <th class=\"blank col6\" >&nbsp;</th>\n",
       "      <th class=\"blank col7\" >&nbsp;</th>\n",
       "    </tr>\n",
       "  </thead>\n",
       "  <tbody>\n",
       "    <tr>\n",
       "      <th id=\"T_69bd3_level0_row0\" class=\"row_heading level0 row0\" >ward_1_2022</th>\n",
       "      <td id=\"T_69bd3_row0_col0\" class=\"data row0 col0\" >0</td>\n",
       "      <td id=\"T_69bd3_row0_col1\" class=\"data row0 col1\" >0</td>\n",
       "      <td id=\"T_69bd3_row0_col2\" class=\"data row0 col2\" >0</td>\n",
       "      <td id=\"T_69bd3_row0_col3\" class=\"data row0 col3\" >0</td>\n",
       "      <td id=\"T_69bd3_row0_col4\" class=\"data row0 col4\" >2</td>\n",
       "      <td id=\"T_69bd3_row0_col5\" class=\"data row0 col5\" >0</td>\n",
       "      <td id=\"T_69bd3_row0_col6\" class=\"data row0 col6\" >2</td>\n",
       "      <td id=\"T_69bd3_row0_col7\" class=\"data row0 col7\" >1</td>\n",
       "    </tr>\n",
       "    <tr>\n",
       "      <th id=\"T_69bd3_level0_row1\" class=\"row_heading level0 row1\" >ward_2_2022</th>\n",
       "      <td id=\"T_69bd3_row1_col0\" class=\"data row1 col0\" >1</td>\n",
       "      <td id=\"T_69bd3_row1_col1\" class=\"data row1 col1\" >1</td>\n",
       "      <td id=\"T_69bd3_row1_col2\" class=\"data row1 col2\" >0</td>\n",
       "      <td id=\"T_69bd3_row1_col3\" class=\"data row1 col3\" >1</td>\n",
       "      <td id=\"T_69bd3_row1_col4\" class=\"data row1 col4\" >0</td>\n",
       "      <td id=\"T_69bd3_row1_col5\" class=\"data row1 col5\" >2</td>\n",
       "      <td id=\"T_69bd3_row1_col6\" class=\"data row1 col6\" >2</td>\n",
       "      <td id=\"T_69bd3_row1_col7\" class=\"data row1 col7\" >0</td>\n",
       "    </tr>\n",
       "    <tr>\n",
       "      <th id=\"T_69bd3_level0_row2\" class=\"row_heading level0 row2\" >ward_3_2022</th>\n",
       "      <td id=\"T_69bd3_row2_col0\" class=\"data row2 col0\" >0</td>\n",
       "      <td id=\"T_69bd3_row2_col1\" class=\"data row2 col1\" >0</td>\n",
       "      <td id=\"T_69bd3_row2_col2\" class=\"data row2 col2\" >1</td>\n",
       "      <td id=\"T_69bd3_row2_col3\" class=\"data row2 col3\" >2</td>\n",
       "      <td id=\"T_69bd3_row2_col4\" class=\"data row2 col4\" >1</td>\n",
       "      <td id=\"T_69bd3_row2_col5\" class=\"data row2 col5\" >2</td>\n",
       "      <td id=\"T_69bd3_row2_col6\" class=\"data row2 col6\" >0</td>\n",
       "      <td id=\"T_69bd3_row2_col7\" class=\"data row2 col7\" >0</td>\n",
       "    </tr>\n",
       "    <tr>\n",
       "      <th id=\"T_69bd3_level0_row3\" class=\"row_heading level0 row3\" >ward_4_2022</th>\n",
       "      <td id=\"T_69bd3_row3_col0\" class=\"data row3 col0\" >0</td>\n",
       "      <td id=\"T_69bd3_row3_col1\" class=\"data row3 col1\" >0</td>\n",
       "      <td id=\"T_69bd3_row3_col2\" class=\"data row3 col2\" >0</td>\n",
       "      <td id=\"T_69bd3_row3_col3\" class=\"data row3 col3\" >1</td>\n",
       "      <td id=\"T_69bd3_row3_col4\" class=\"data row3 col4\" >3</td>\n",
       "      <td id=\"T_69bd3_row3_col5\" class=\"data row3 col5\" >1</td>\n",
       "      <td id=\"T_69bd3_row3_col6\" class=\"data row3 col6\" >0</td>\n",
       "      <td id=\"T_69bd3_row3_col7\" class=\"data row3 col7\" >1</td>\n",
       "    </tr>\n",
       "    <tr>\n",
       "      <th id=\"T_69bd3_level0_row4\" class=\"row_heading level0 row4\" >ward_5_2022</th>\n",
       "      <td id=\"T_69bd3_row4_col0\" class=\"data row4 col0\" >0</td>\n",
       "      <td id=\"T_69bd3_row4_col1\" class=\"data row4 col1\" >0</td>\n",
       "      <td id=\"T_69bd3_row4_col2\" class=\"data row4 col2\" >0</td>\n",
       "      <td id=\"T_69bd3_row4_col3\" class=\"data row4 col3\" >1</td>\n",
       "      <td id=\"T_69bd3_row4_col4\" class=\"data row4 col4\" >3</td>\n",
       "      <td id=\"T_69bd3_row4_col5\" class=\"data row4 col5\" >0</td>\n",
       "      <td id=\"T_69bd3_row4_col6\" class=\"data row4 col6\" >2</td>\n",
       "      <td id=\"T_69bd3_row4_col7\" class=\"data row4 col7\" >0</td>\n",
       "    </tr>\n",
       "    <tr>\n",
       "      <th id=\"T_69bd3_level0_row5\" class=\"row_heading level0 row5\" >ward_6_2022</th>\n",
       "      <td id=\"T_69bd3_row5_col0\" class=\"data row5 col0\" >0</td>\n",
       "      <td id=\"T_69bd3_row5_col1\" class=\"data row5 col1\" >0</td>\n",
       "      <td id=\"T_69bd3_row5_col2\" class=\"data row5 col2\" >0</td>\n",
       "      <td id=\"T_69bd3_row5_col3\" class=\"data row5 col3\" >0</td>\n",
       "      <td id=\"T_69bd3_row5_col4\" class=\"data row5 col4\" >2</td>\n",
       "      <td id=\"T_69bd3_row5_col5\" class=\"data row5 col5\" >1</td>\n",
       "      <td id=\"T_69bd3_row5_col6\" class=\"data row5 col6\" >2</td>\n",
       "      <td id=\"T_69bd3_row5_col7\" class=\"data row5 col7\" >0</td>\n",
       "    </tr>\n",
       "    <tr>\n",
       "      <th id=\"T_69bd3_level0_row6\" class=\"row_heading level0 row6\" >ward_7_2022</th>\n",
       "      <td id=\"T_69bd3_row6_col0\" class=\"data row6 col0\" >0</td>\n",
       "      <td id=\"T_69bd3_row6_col1\" class=\"data row6 col1\" >0</td>\n",
       "      <td id=\"T_69bd3_row6_col2\" class=\"data row6 col2\" >0</td>\n",
       "      <td id=\"T_69bd3_row6_col3\" class=\"data row6 col3\" >0</td>\n",
       "      <td id=\"T_69bd3_row6_col4\" class=\"data row6 col4\" >1</td>\n",
       "      <td id=\"T_69bd3_row6_col5\" class=\"data row6 col5\" >1</td>\n",
       "      <td id=\"T_69bd3_row6_col6\" class=\"data row6 col6\" >2</td>\n",
       "      <td id=\"T_69bd3_row6_col7\" class=\"data row6 col7\" >1</td>\n",
       "    </tr>\n",
       "    <tr>\n",
       "      <th id=\"T_69bd3_level0_row7\" class=\"row_heading level0 row7\" >ward_8_2022</th>\n",
       "      <td id=\"T_69bd3_row7_col0\" class=\"data row7 col0\" >0</td>\n",
       "      <td id=\"T_69bd3_row7_col1\" class=\"data row7 col1\" >0</td>\n",
       "      <td id=\"T_69bd3_row7_col2\" class=\"data row7 col2\" >1</td>\n",
       "      <td id=\"T_69bd3_row7_col3\" class=\"data row7 col3\" >0</td>\n",
       "      <td id=\"T_69bd3_row7_col4\" class=\"data row7 col4\" >2</td>\n",
       "      <td id=\"T_69bd3_row7_col5\" class=\"data row7 col5\" >2</td>\n",
       "      <td id=\"T_69bd3_row7_col6\" class=\"data row7 col6\" >1</td>\n",
       "      <td id=\"T_69bd3_row7_col7\" class=\"data row7 col7\" >0</td>\n",
       "    </tr>\n",
       "  </tbody>\n",
       "</table>\n"
      ],
      "text/plain": [
       "<pandas.io.formats.style.Styler at 0x113b79f30>"
      ]
     },
     "execution_count": 13,
     "metadata": {},
     "output_type": "execute_result"
    }
   ],
   "source": [
    "# pivot_ward_anc[4] = 0\n",
    "# pivot_ward_anc[11] = 0\n",
    "pivot_ward_anc = pivot_ward_anc[pivot_ward_anc.columns.sort_values()]\n",
    "\n",
    "# pivot_ward_anc['Total'] = pivot_ward_anc.sum(axis=1)\n",
    "# pivot_ward_anc.loc['Total'] = pivot_ward_anc.sum(axis=0)\n",
    "\n",
    "pivot_ward_anc_styled = pivot_ward_anc.style.background_gradient(\n",
    "    cmap='PuBu'\n",
    "    , axis=None\n",
    ")\n",
    "\n",
    "# dfi.export(pivot_ward_anc_styled, 'pivot_ward_anc.png')\n",
    "pivot_ward_anc_styled"
   ]
  },
  {
   "cell_type": "code",
   "execution_count": 14,
   "metadata": {},
   "outputs": [
    {
     "data": {
      "text/plain": [
       "anc_id\n",
       "anc_1A_2022    10\n",
       "anc_4B_2022    10\n",
       "anc_7D_2022    10\n",
       "dtype: int64"
      ]
     },
     "execution_count": 14,
     "metadata": {},
     "output_type": "execute_result"
    }
   ],
   "source": [
    "anc_count[anc_count == 10]"
   ]
  },
  {
   "cell_type": "code",
   "execution_count": null,
   "metadata": {},
   "outputs": [],
   "source": []
  }
 ],
 "metadata": {
  "kernelspec": {
   "display_name": "Python 3 (ipykernel)",
   "language": "python",
   "name": "python3"
  },
  "language_info": {
   "codemirror_mode": {
    "name": "ipython",
    "version": 3
   },
   "file_extension": ".py",
   "mimetype": "text/x-python",
   "name": "python",
   "nbconvert_exporter": "python",
   "pygments_lexer": "ipython3",
   "version": "3.10.3"
  }
 },
 "nbformat": 4,
 "nbformat_minor": 4
}
