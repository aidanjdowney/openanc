{
 "cells": [
  {
   "cell_type": "markdown",
   "id": "ef0c1b01",
   "metadata": {},
   "source": [
    "# External ID Reset\n",
    "\n",
    "Salvage the external IDs I can from existing tables."
   ]
  },
  {
   "cell_type": "code",
   "execution_count": 1,
   "id": "584d6a7a",
   "metadata": {},
   "outputs": [],
   "source": [
    "import os\n",
    "os.chdir('../')\n",
    "\n",
    "import pandas as pd\n",
    "from scripts.data_transformations import confirm_key_uniqueness\n",
    "from scripts.common import hash_dataframe"
   ]
  },
  {
   "cell_type": "code",
   "execution_count": 2,
   "id": "bc679d89",
   "metadata": {},
   "outputs": [],
   "source": [
    "candidates = pd.read_csv('data/candidates.csv')\n",
    "people = pd.read_csv('data/people.csv')\n",
    "cp = pd.merge(candidates, people, how='inner', on='person_id')"
   ]
  },
  {
   "cell_type": "code",
   "execution_count": 3,
   "id": "d511d561",
   "metadata": {},
   "outputs": [],
   "source": [
    "# Confirm that external_id is unique - it should be, and it is\n",
    "confirm_key_uniqueness('data/candidates.csv', 'external_id')"
   ]
  },
  {
   "cell_type": "code",
   "execution_count": 8,
   "id": "21f0b078",
   "metadata": {},
   "outputs": [
    {
     "data": {
      "text/html": [
       "<div>\n",
       "<style scoped>\n",
       "    .dataframe tbody tr th:only-of-type {\n",
       "        vertical-align: middle;\n",
       "    }\n",
       "\n",
       "    .dataframe tbody tr th {\n",
       "        vertical-align: top;\n",
       "    }\n",
       "\n",
       "    .dataframe thead th {\n",
       "        text-align: right;\n",
       "    }\n",
       "</style>\n",
       "<table border=\"1\" class=\"dataframe\">\n",
       "  <thead>\n",
       "    <tr style=\"text-align: right;\">\n",
       "      <th></th>\n",
       "      <th>external_id</th>\n",
       "      <th>person_id</th>\n",
       "      <th>source</th>\n",
       "      <th>full_name</th>\n",
       "    </tr>\n",
       "  </thead>\n",
       "  <tbody>\n",
       "    <tr>\n",
       "      <th>0</th>\n",
       "      <td>fbcfd3f6b447c45fb65e455da966c98b2462654e9a8abe...</td>\n",
       "      <td>10285</td>\n",
       "      <td>candidates</td>\n",
       "      <td>Dieter Lehmann Morales</td>\n",
       "    </tr>\n",
       "    <tr>\n",
       "      <th>3</th>\n",
       "      <td>93619b5aa6e7a651f0d0db86887f91ea74a4ce64d4cc8f...</td>\n",
       "      <td>10003</td>\n",
       "      <td>candidates</td>\n",
       "      <td>Zach Rybarczyk</td>\n",
       "    </tr>\n",
       "    <tr>\n",
       "      <th>4</th>\n",
       "      <td>1c69d59e11bbdd3f7ad6c7f4fa5eca2cf109db6017dd02...</td>\n",
       "      <td>10005</td>\n",
       "      <td>candidates</td>\n",
       "      <td>Christine Miller</td>\n",
       "    </tr>\n",
       "    <tr>\n",
       "      <th>6</th>\n",
       "      <td>b22ba95ab2f748013492092ef9c9e208c7f00490b657c9...</td>\n",
       "      <td>10287</td>\n",
       "      <td>candidates</td>\n",
       "      <td>Sean McGrath</td>\n",
       "    </tr>\n",
       "    <tr>\n",
       "      <th>7</th>\n",
       "      <td>7698e60172dc04aa59a4e3c4e1b15c6ca6226234b67b1b...</td>\n",
       "      <td>10288</td>\n",
       "      <td>candidates</td>\n",
       "      <td>Judson Wood</td>\n",
       "    </tr>\n",
       "    <tr>\n",
       "      <th>...</th>\n",
       "      <td>...</td>\n",
       "      <td>...</td>\n",
       "      <td>...</td>\n",
       "      <td>...</td>\n",
       "    </tr>\n",
       "    <tr>\n",
       "      <th>1459</th>\n",
       "      <td>c661fb7e9a8640f3944a19d91f47e7789a93282c2ad3ea...</td>\n",
       "      <td>11901</td>\n",
       "      <td>candidates</td>\n",
       "      <td>Samuel Pastore</td>\n",
       "    </tr>\n",
       "    <tr>\n",
       "      <th>1460</th>\n",
       "      <td>4d593bb341d15a1c75b28c0f42a8756793cfd5b24f802a...</td>\n",
       "      <td>11902</td>\n",
       "      <td>candidates</td>\n",
       "      <td>Ivey Wohlfeld</td>\n",
       "    </tr>\n",
       "    <tr>\n",
       "      <th>1461</th>\n",
       "      <td>c3abb9615158c01a8902830db3a0a15ccf8dc1e7d68a19...</td>\n",
       "      <td>11903</td>\n",
       "      <td>candidates</td>\n",
       "      <td>Constantina Batchelor</td>\n",
       "    </tr>\n",
       "    <tr>\n",
       "      <th>1462</th>\n",
       "      <td>f009155ddee95f86eaedfa2e9b3fcb5b467bc719ff37fc...</td>\n",
       "      <td>11904</td>\n",
       "      <td>candidates</td>\n",
       "      <td>Cassandra M. Matthews</td>\n",
       "    </tr>\n",
       "    <tr>\n",
       "      <th>1463</th>\n",
       "      <td>6d99f6ed8393bee3f60179b0a064bcf34415202778c26c...</td>\n",
       "      <td>11905</td>\n",
       "      <td>candidates</td>\n",
       "      <td>Antti Koskenrouta</td>\n",
       "    </tr>\n",
       "  </tbody>\n",
       "</table>\n",
       "<p>1434 rows × 4 columns</p>\n",
       "</div>"
      ],
      "text/plain": [
       "                                            external_id  person_id  \\\n",
       "0     fbcfd3f6b447c45fb65e455da966c98b2462654e9a8abe...      10285   \n",
       "3     93619b5aa6e7a651f0d0db86887f91ea74a4ce64d4cc8f...      10003   \n",
       "4     1c69d59e11bbdd3f7ad6c7f4fa5eca2cf109db6017dd02...      10005   \n",
       "6     b22ba95ab2f748013492092ef9c9e208c7f00490b657c9...      10287   \n",
       "7     7698e60172dc04aa59a4e3c4e1b15c6ca6226234b67b1b...      10288   \n",
       "...                                                 ...        ...   \n",
       "1459  c661fb7e9a8640f3944a19d91f47e7789a93282c2ad3ea...      11901   \n",
       "1460  4d593bb341d15a1c75b28c0f42a8756793cfd5b24f802a...      11902   \n",
       "1461  c3abb9615158c01a8902830db3a0a15ccf8dc1e7d68a19...      11903   \n",
       "1462  f009155ddee95f86eaedfa2e9b3fcb5b467bc719ff37fc...      11904   \n",
       "1463  6d99f6ed8393bee3f60179b0a064bcf34415202778c26c...      11905   \n",
       "\n",
       "          source               full_name  \n",
       "0     candidates  Dieter Lehmann Morales  \n",
       "3     candidates          Zach Rybarczyk  \n",
       "4     candidates        Christine Miller  \n",
       "6     candidates            Sean McGrath  \n",
       "7     candidates             Judson Wood  \n",
       "...          ...                     ...  \n",
       "1459  candidates          Samuel Pastore  \n",
       "1460  candidates           Ivey Wohlfeld  \n",
       "1461  candidates   Constantina Batchelor  \n",
       "1462  candidates   Cassandra M. Matthews  \n",
       "1463  candidates       Antti Koskenrouta  \n",
       "\n",
       "[1434 rows x 4 columns]"
      ]
     },
     "execution_count": 8,
     "metadata": {},
     "output_type": "execute_result"
    }
   ],
   "source": [
    "cp['source'] = 'candidates'\n",
    "cp.sort_values(by='candidate_id', inplace=True)\n",
    "to_external_id_table = cp.loc[cp.external_id.notnull(), ['external_id', 'person_id', 'source', 'full_name']]\n",
    "to_external_id_table"
   ]
  },
  {
   "cell_type": "code",
   "execution_count": 9,
   "id": "166a8184",
   "metadata": {},
   "outputs": [],
   "source": [
    "to_external_id_table.to_clipboard(index=False)"
   ]
  },
  {
   "cell_type": "code",
   "execution_count": null,
   "id": "64bd25e0",
   "metadata": {},
   "outputs": [],
   "source": []
  },
  {
   "cell_type": "code",
   "execution_count": null,
   "id": "88095bde",
   "metadata": {},
   "outputs": [],
   "source": []
  }
 ],
 "metadata": {
  "kernelspec": {
   "display_name": "Python 3 (ipykernel)",
   "language": "python",
   "name": "python3"
  },
  "language_info": {
   "codemirror_mode": {
    "name": "ipython",
    "version": 3
   },
   "file_extension": ".py",
   "mimetype": "text/x-python",
   "name": "python",
   "nbconvert_exporter": "python",
   "pygments_lexer": "ipython3",
   "version": "3.10.3"
  }
 },
 "nbformat": 4,
 "nbformat_minor": 5
}
