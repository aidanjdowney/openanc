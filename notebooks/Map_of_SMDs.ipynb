{
 "cells": [
  {
   "cell_type": "markdown",
   "metadata": {},
   "source": [
    "Make a GeoJSON file containing shapes for a subset of SMDs, for example, the members of the Rainbow Caucus."
   ]
  },
  {
   "cell_type": "code",
   "execution_count": 1,
   "metadata": {},
   "outputs": [],
   "source": [
    "import os\n",
    "os.chdir('../')\n",
    "import pandas as pd\n",
    "import geopandas as gpd\n",
    "from scripts.common import list_commissioners"
   ]
  },
  {
   "cell_type": "code",
   "execution_count": 2,
   "metadata": {},
   "outputs": [],
   "source": [
    "districts = pd.read_csv('data/districts.csv')\n",
    "comm = list_commissioners()\n",
    "people = pd.read_csv('data/people.csv')"
   ]
  },
  {
   "cell_type": "code",
   "execution_count": 3,
   "metadata": {},
   "outputs": [],
   "source": [
    "smd = gpd.read_file('uploads/to-mapbox-smd-data.geojson')"
   ]
  },
  {
   "cell_type": "code",
   "execution_count": 4,
   "metadata": {},
   "outputs": [],
   "source": [
    "person_ids_in_caucus = [\n",
    "10288, 10008, 10009, 10012, 10468, 10500, 10020, 10022, 10029, 10445, 10048, 10311, 10312, 10052, 10318, 10066, 10068, 10320, 10521, 10078, 10329, 10106, 10495, 10121, 10156, 10366, 10380, 10203, 10206, 10207, 10210, 10390, 10227\n",
    "]"
   ]
  },
  {
   "cell_type": "code",
   "execution_count": 5,
   "metadata": {},
   "outputs": [],
   "source": [
    "# comm[comm.person_id.isin(person_ids_in_caucus)][\n",
    "#     ['smd_id', 'is_current', 'is_future']\n",
    "# ]"
   ]
  },
  {
   "cell_type": "code",
   "execution_count": 6,
   "metadata": {},
   "outputs": [],
   "source": [
    "smds_in_caucus = comm[comm.person_id.isin(person_ids_in_caucus)]['smd_id']"
   ]
  },
  {
   "cell_type": "code",
   "execution_count": 7,
   "metadata": {},
   "outputs": [],
   "source": [
    "smd['in_rainbow_caucus'] = smd['smd_id'].isin(smds_in_caucus)\n",
    "\n",
    "shapes_to_save = smd[[\n",
    "    'smd_id'\n",
    "    , 'anc_id'\n",
    "    , 'ward'\n",
    "    , 'current_commissioner'\n",
    "    , 'commissioner_elect'\n",
    "    , 'map_display_box'\n",
    "    , 'in_rainbow_caucus'\n",
    "    , 'geometry'\n",
    "]].copy()"
   ]
  },
  {
   "cell_type": "markdown",
   "metadata": {},
   "source": [
    "I had to delete the `crs` line from this GeoJSON to get Mapbox to accept it as a Dataset. "
   ]
  },
  {
   "cell_type": "code",
   "execution_count": 8,
   "metadata": {},
   "outputs": [],
   "source": [
    "shapes_to_save.crs = None\n",
    "shapes_to_save.to_file(\n",
    "    'uploads/rainbow_caucus.geojson', driver='GeoJSON'\n",
    ")"
   ]
  },
  {
   "cell_type": "code",
   "execution_count": 9,
   "metadata": {},
   "outputs": [
    {
     "data": {
      "text/html": [
       "<div>\n",
       "<style scoped>\n",
       "    .dataframe tbody tr th:only-of-type {\n",
       "        vertical-align: middle;\n",
       "    }\n",
       "\n",
       "    .dataframe tbody tr th {\n",
       "        vertical-align: top;\n",
       "    }\n",
       "\n",
       "    .dataframe thead th {\n",
       "        text-align: right;\n",
       "    }\n",
       "</style>\n",
       "<table border=\"1\" class=\"dataframe\">\n",
       "  <thead>\n",
       "    <tr style=\"text-align: right;\">\n",
       "      <th></th>\n",
       "      <th>smd_id</th>\n",
       "      <th>anc_id</th>\n",
       "      <th>ward</th>\n",
       "      <th>current_commissioner</th>\n",
       "      <th>commissioner_elect</th>\n",
       "      <th>map_display_box</th>\n",
       "      <th>in_rainbow_caucus</th>\n",
       "      <th>geometry</th>\n",
       "    </tr>\n",
       "  </thead>\n",
       "  <tbody>\n",
       "    <tr>\n",
       "      <th>0</th>\n",
       "      <td>smd_1A01</td>\n",
       "      <td>1A</td>\n",
       "      <td>1</td>\n",
       "      <td>Layla Bonnot</td>\n",
       "      <td>None</td>\n",
       "      <td>&lt;b&gt;District 1A01&lt;/b&gt;&lt;br/&gt;&lt;a href=\"ancs/distric...</td>\n",
       "      <td>False</td>\n",
       "      <td>MULTIPOLYGON (((-77.03523 38.93743, -77.03480 ...</td>\n",
       "    </tr>\n",
       "    <tr>\n",
       "      <th>1</th>\n",
       "      <td>smd_1A02</td>\n",
       "      <td>1A</td>\n",
       "      <td>1</td>\n",
       "      <td>Teresa A. Edmondson</td>\n",
       "      <td>Dieter Lehmann Morales</td>\n",
       "      <td>&lt;b&gt;District 1A02&lt;/b&gt;&lt;br/&gt;&lt;a href=\"ancs/distric...</td>\n",
       "      <td>False</td>\n",
       "      <td>MULTIPOLYGON (((-77.03221 38.93249, -77.03097 ...</td>\n",
       "    </tr>\n",
       "    <tr>\n",
       "      <th>2</th>\n",
       "      <td>smd_1A03</td>\n",
       "      <td>1A</td>\n",
       "      <td>1</td>\n",
       "      <td>Zach Rybarczyk</td>\n",
       "      <td>None</td>\n",
       "      <td>&lt;b&gt;District 1A03&lt;/b&gt;&lt;br/&gt;&lt;a href=\"ancs/distric...</td>\n",
       "      <td>False</td>\n",
       "      <td>MULTIPOLYGON (((-77.03263 38.92873, -77.03263 ...</td>\n",
       "    </tr>\n",
       "    <tr>\n",
       "      <th>3</th>\n",
       "      <td>smd_1A04</td>\n",
       "      <td>1A</td>\n",
       "      <td>1</td>\n",
       "      <td>Matthew Goldschmidt</td>\n",
       "      <td>Chris Hall</td>\n",
       "      <td>&lt;b&gt;District 1A04&lt;/b&gt;&lt;br/&gt;&lt;a href=\"ancs/distric...</td>\n",
       "      <td>False</td>\n",
       "      <td>MULTIPOLYGON (((-77.02972 38.93250, -77.02972 ...</td>\n",
       "    </tr>\n",
       "    <tr>\n",
       "      <th>4</th>\n",
       "      <td>smd_1A05</td>\n",
       "      <td>1A</td>\n",
       "      <td>1</td>\n",
       "      <td>Christine Miller</td>\n",
       "      <td>None</td>\n",
       "      <td>&lt;b&gt;District 1A05&lt;/b&gt;&lt;br/&gt;&lt;a href=\"ancs/distric...</td>\n",
       "      <td>False</td>\n",
       "      <td>MULTIPOLYGON (((-77.03274 38.93149, -77.03271 ...</td>\n",
       "    </tr>\n",
       "  </tbody>\n",
       "</table>\n",
       "</div>"
      ],
      "text/plain": [
       "     smd_id anc_id  ward current_commissioner      commissioner_elect  \\\n",
       "0  smd_1A01     1A     1         Layla Bonnot                    None   \n",
       "1  smd_1A02     1A     1  Teresa A. Edmondson  Dieter Lehmann Morales   \n",
       "2  smd_1A03     1A     1       Zach Rybarczyk                    None   \n",
       "3  smd_1A04     1A     1  Matthew Goldschmidt              Chris Hall   \n",
       "4  smd_1A05     1A     1     Christine Miller                    None   \n",
       "\n",
       "                                     map_display_box  in_rainbow_caucus  \\\n",
       "0  <b>District 1A01</b><br/><a href=\"ancs/distric...              False   \n",
       "1  <b>District 1A02</b><br/><a href=\"ancs/distric...              False   \n",
       "2  <b>District 1A03</b><br/><a href=\"ancs/distric...              False   \n",
       "3  <b>District 1A04</b><br/><a href=\"ancs/distric...              False   \n",
       "4  <b>District 1A05</b><br/><a href=\"ancs/distric...              False   \n",
       "\n",
       "                                            geometry  \n",
       "0  MULTIPOLYGON (((-77.03523 38.93743, -77.03480 ...  \n",
       "1  MULTIPOLYGON (((-77.03221 38.93249, -77.03097 ...  \n",
       "2  MULTIPOLYGON (((-77.03263 38.92873, -77.03263 ...  \n",
       "3  MULTIPOLYGON (((-77.02972 38.93250, -77.02972 ...  \n",
       "4  MULTIPOLYGON (((-77.03274 38.93149, -77.03271 ...  "
      ]
     },
     "execution_count": 9,
     "metadata": {},
     "output_type": "execute_result"
    }
   ],
   "source": [
    "shapes_to_save.head()"
   ]
  }
 ],
 "metadata": {
  "kernelspec": {
   "display_name": "Python 3",
   "language": "python",
   "name": "python3"
  },
  "language_info": {
   "codemirror_mode": {
    "name": "ipython",
    "version": 3
   },
   "file_extension": ".py",
   "mimetype": "text/x-python",
   "name": "python",
   "nbconvert_exporter": "python",
   "pygments_lexer": "ipython3",
   "version": "3.7.1"
  }
 },
 "nbformat": 4,
 "nbformat_minor": 4
}
