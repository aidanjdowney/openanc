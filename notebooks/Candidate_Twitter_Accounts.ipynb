{
 "cells": [
  {
   "cell_type": "markdown",
   "id": "dbd31824",
   "metadata": {},
   "source": [
    "# Candidate Twitter Accounts\n",
    "\n",
    "Create table for other people to look for twitter accounts of candidates"
   ]
  },
  {
   "cell_type": "code",
   "execution_count": 1,
   "id": "3a500ad8",
   "metadata": {},
   "outputs": [],
   "source": [
    "import pandas as pd\n",
    "import os\n",
    "os.chdir('..')"
   ]
  },
  {
   "cell_type": "code",
   "execution_count": 4,
   "id": "76ecd891",
   "metadata": {},
   "outputs": [],
   "source": [
    "candidates = pd.read_csv('data/candidates.csv')\n",
    "candidates = candidates[candidates.election_year == 2022].copy()\n",
    "people = pd.read_csv('data/people.csv')\n",
    "\n",
    "cp = pd.merge(candidates, people, on='person_id', how='inner')"
   ]
  },
  {
   "cell_type": "code",
   "execution_count": 13,
   "id": "4ce4599f",
   "metadata": {},
   "outputs": [],
   "source": [
    "cp[['person_id', 'smd_id', 'full_name', 'twitter_link']].sort_values(by='smd_id').to_clipboard(index=False)"
   ]
  },
  {
   "cell_type": "code",
   "execution_count": null,
   "id": "ddd62adb",
   "metadata": {},
   "outputs": [],
   "source": []
  }
 ],
 "metadata": {
  "kernelspec": {
   "display_name": "Python 3 (ipykernel)",
   "language": "python",
   "name": "python3"
  },
  "language_info": {
   "codemirror_mode": {
    "name": "ipython",
    "version": 3
   },
   "file_extension": ".py",
   "mimetype": "text/x-python",
   "name": "python",
   "nbconvert_exporter": "python",
   "pygments_lexer": "ipython3",
   "version": "3.10.3"
  }
 },
 "nbformat": 4,
 "nbformat_minor": 5
}
