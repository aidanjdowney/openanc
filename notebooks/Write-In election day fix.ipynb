{
 "cells": [
  {
   "cell_type": "markdown",
   "id": "8d3d0dbc",
   "metadata": {},
   "source": [
    "# Write-In election day fix"
   ]
  },
  {
   "cell_type": "code",
   "execution_count": 2,
   "id": "abfccb99",
   "metadata": {},
   "outputs": [],
   "source": [
    "import tabula\n",
    "import pandas as pd\n",
    "from pathlib import Path\n"
   ]
  },
  {
   "cell_type": "code",
   "execution_count": 8,
   "id": "b48894f5",
   "metadata": {},
   "outputs": [
    {
     "name": "stdout",
     "output_type": "stream",
     "text": [
      "\n",
      "input: General-24-Write-in-Candidates-11052024.pdf\n",
      "  Write-in Candidate's Name                                      Office Party  \\\n",
      "0              Liam Goodwin   Advisory Neighborhood Commissioner 6/8F05   N/A   \n",
      "1              Tori Collins  Advisory Neighborhood Commissioner 6/8/F05   N/A   \n",
      "2               Sam Sanders   Advisory Neighborhood Commissioner 6/8F05   N/A   \n",
      "4          Frederick Nelson     Advisory Neighborhood Commissioner 8D07   N/A   \n",
      "\n",
      "  Date Form Filed  \n",
      "0       10/4/2024  \n",
      "1       11/1/2024  \n",
      "2       10/8/2024  \n",
      "4       9/10/2024  \n",
      "   Write-in Candidate's Name                                      Office  \\\n",
      "60     Cassandra M. Matthews     Advisory Neighborhood Commissioner 8D03   \n",
      "0               Liam Goodwin   Advisory Neighborhood Commissioner 6/8F05   \n",
      "1               Tori Collins  Advisory Neighborhood Commissioner 6/8/F05   \n",
      "2                Sam Sanders   Advisory Neighborhood Commissioner 6/8F05   \n",
      "4           Frederick Nelson     Advisory Neighborhood Commissioner 8D07   \n",
      "\n",
      "   Party Date Form Filed  \n",
      "60   N/A      10/25/2024  \n",
      "0    N/A       10/4/2024  \n",
      "1    N/A       11/1/2024  \n",
      "2    N/A       10/8/2024  \n",
      "4    N/A       9/10/2024  \n",
      "Number of write-in candidates: 49\n"
     ]
    }
   ],
   "source": [
    "wu_input_pdf = Path('~/Dropbox/OpenANC/DCBOE candidate lists 2024/General-24-Write-in-Candidates-11052024.pdf')\n",
    "wu_output_xlsx = Path('data/dcboe/excel-clean/dcboe-write-in-2024-11-05.xlsx')\n",
    "\n",
    "print(f'\\ninput: {wu_input_pdf.name}')\n",
    "\n",
    "wu_dfs = tabula.read_pdf(wu_input_pdf, pages='all')\n",
    "\n",
    "for idx, _ in enumerate(wu_dfs):\n",
    "    if idx > 0:\n",
    "        wu_dfs[idx].loc[len(wu_dfs[idx])+1] = wu_dfs[idx].columns\n",
    "        wu_dfs[idx].columns = [\"Write-in Candidate's Name\", \"Office\", \"Party\", \"Date Form Filed\"]\n",
    "        print(wu_dfs[idx])\n",
    "\n",
    "\n",
    "\n",
    "wu_df = pd.concat(wu_dfs)\n",
    "\n",
    "print(wu_df.tail())\n",
    "wu_df = wu_df[wu_df.Office.str.contains('Advisory')].copy()\n",
    "wu_df.rename(columns={\"Write-in Candidate's Name\": 'Name'}, inplace=True)\n",
    "\n",
    "print(f'Number of write-in candidates: {wu_df.Name.notnull().sum()}')\n",
    "\n",
    "\n",
    "spelling_variations = [\n",
    "    'Advisory Neighborhood Commissioner'\n",
    "    , 'Advisory Neighbohood Commissioner'\n",
    "    , 'Advisory Neighborhhod Commissioner'\n",
    "    , 'Advisory Neighborhood Commisioner'\n",
    "    , 'Advisory Neighborhood commissioner'\n",
    "]\n",
    "\n",
    "for sp in spelling_variations:\n",
    "    wu_df['Office'] = wu_df['Office'].str.replace(sp, '').str.strip()\n",
    "\n",
    "\n",
    "wu_df['Name'] = wu_df['Name'].str.replace('*', '', regex=False).str.strip()\n",
    "\n",
    "columns_to_excel = ['Office', 'Name']\n",
    "# wu_df[columns_to_excel].to_excel(wu_output_xlsx, index=False)\n",
    "# print(f'output: {wu_output_xlsx.name}')\n",
    "# print(wu_df[columns_to_excel])"
   ]
  },
  {
   "cell_type": "code",
   "execution_count": 9,
   "id": "e87af00d",
   "metadata": {},
   "outputs": [
    {
     "data": {
      "text/html": [
       "<div>\n",
       "<style scoped>\n",
       "    .dataframe tbody tr th:only-of-type {\n",
       "        vertical-align: middle;\n",
       "    }\n",
       "\n",
       "    .dataframe tbody tr th {\n",
       "        vertical-align: top;\n",
       "    }\n",
       "\n",
       "    .dataframe thead th {\n",
       "        text-align: right;\n",
       "    }\n",
       "</style>\n",
       "<table border=\"1\" class=\"dataframe\">\n",
       "  <thead>\n",
       "    <tr style=\"text-align: right;\">\n",
       "      <th></th>\n",
       "      <th>Write-in Candidate's Name</th>\n",
       "      <th>Office</th>\n",
       "      <th>Party</th>\n",
       "      <th>Date Form Filed</th>\n",
       "    </tr>\n",
       "  </thead>\n",
       "  <tbody>\n",
       "    <tr>\n",
       "      <th>0</th>\n",
       "      <td>Liam Goodwin</td>\n",
       "      <td>Advisory Neighborhood Commissioner 6/8F05</td>\n",
       "      <td>N/A</td>\n",
       "      <td>10/4/2024</td>\n",
       "    </tr>\n",
       "    <tr>\n",
       "      <th>1</th>\n",
       "      <td>Tori Collins</td>\n",
       "      <td>Advisory Neighborhood Commissioner 6/8/F05</td>\n",
       "      <td>N/A</td>\n",
       "      <td>11/1/2024</td>\n",
       "    </tr>\n",
       "    <tr>\n",
       "      <th>2</th>\n",
       "      <td>Sam Sanders</td>\n",
       "      <td>Advisory Neighborhood Commissioner 6/8F05</td>\n",
       "      <td>N/A</td>\n",
       "      <td>10/8/2024</td>\n",
       "    </tr>\n",
       "    <tr>\n",
       "      <th>4</th>\n",
       "      <td>Frederick Nelson</td>\n",
       "      <td>Advisory Neighborhood Commissioner 8D07</td>\n",
       "      <td>N/A</td>\n",
       "      <td>9/10/2024</td>\n",
       "    </tr>\n",
       "  </tbody>\n",
       "</table>\n",
       "</div>"
      ],
      "text/plain": [
       "  Write-in Candidate's Name                                      Office Party  \\\n",
       "0              Liam Goodwin   Advisory Neighborhood Commissioner 6/8F05   N/A   \n",
       "1              Tori Collins  Advisory Neighborhood Commissioner 6/8/F05   N/A   \n",
       "2               Sam Sanders   Advisory Neighborhood Commissioner 6/8F05   N/A   \n",
       "4          Frederick Nelson     Advisory Neighborhood Commissioner 8D07   N/A   \n",
       "\n",
       "  Date Form Filed  \n",
       "0       10/4/2024  \n",
       "1       11/1/2024  \n",
       "2       10/8/2024  \n",
       "4       9/10/2024  "
      ]
     },
     "execution_count": 9,
     "metadata": {},
     "output_type": "execute_result"
    }
   ],
   "source": [
    "wu_dfs[1]"
   ]
  },
  {
   "cell_type": "code",
   "execution_count": null,
   "id": "82cad52a",
   "metadata": {},
   "outputs": [],
   "source": []
  }
 ],
 "metadata": {
  "kernelspec": {
   "display_name": "Python 3 (ipykernel)",
   "language": "python",
   "name": "python3"
  },
  "language_info": {
   "codemirror_mode": {
    "name": "ipython",
    "version": 3
   },
   "file_extension": ".py",
   "mimetype": "text/x-python",
   "name": "python",
   "nbconvert_exporter": "python",
   "pygments_lexer": "ipython3",
   "version": "3.10.3"
  }
 },
 "nbformat": 4,
 "nbformat_minor": 5
}
