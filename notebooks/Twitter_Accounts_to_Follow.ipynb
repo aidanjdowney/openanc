{
 "cells": [
  {
   "cell_type": "markdown",
   "metadata": {},
   "source": [
    "# Twitter Accounts to Follow\n",
    "\n",
    "@OpenANC should generally follow all current commissioners and candidates."
   ]
  },
  {
   "cell_type": "code",
   "execution_count": 1,
   "metadata": {},
   "outputs": [],
   "source": [
    "import os\n",
    "os.chdir('../')"
   ]
  },
  {
   "cell_type": "code",
   "execution_count": 2,
   "metadata": {},
   "outputs": [],
   "source": [
    "import time\n",
    "import tweepy\n",
    "import random\n",
    "import pandas as pd\n",
    "\n",
    "from scripts.data_transformations import list_commissioners\n",
    "\n",
    "consumer_key = os.environ.get('TWITTER_API_KEY')\n",
    "consumer_secret = os.environ.get('TWITTER_API_KEY_SECRET')\n",
    "access_key = os.environ.get('TWITTER_ACCESS_TOKEN')\n",
    "access_secret = os.environ.get('TWITTER_ACCESS_TOKEN_SECRET')"
   ]
  },
  {
   "cell_type": "code",
   "execution_count": 3,
   "metadata": {},
   "outputs": [],
   "source": [
    "people = pd.read_csv('data/people.csv')\n",
    "candidates = pd.read_csv('data/candidates.csv')\n",
    "candidate_statuses = pd.read_csv('data/candidate_statuses.csv')\n",
    "commissioners = list_commissioners(status='current')\n",
    "\n",
    "people_candidates = pd.merge(people, candidates, how='inner', on='person_id')\n",
    "people_candidates_status = pd.merge(people_candidates, candidate_statuses, how='inner', on='candidate_status')\n",
    "people_candidates_active = people_candidates_status[\n",
    "    (people_candidates_status['count_as_candidate'])\n",
    "    & (people_candidates_status['election_year'] == 2022)\n",
    "].copy()\n",
    "\n",
    "people_commissioners = pd.merge(people, commissioners, how='inner', on='person_id')\n",
    "\n",
    "# Group all twitter links for active candidates and current commissioners in one list\n",
    "twitter_links = pd.concat([people_commissioners.twitter_link, people_candidates_active.twitter_link])"
   ]
  },
  {
   "cell_type": "code",
   "execution_count": 4,
   "metadata": {},
   "outputs": [],
   "source": [
    "twitter_handles = (\n",
    "    twitter_links[twitter_links.notnull()]\n",
    "    .str.replace('https://twitter.com/', '')\n",
    "    .str.lower()\n",
    ")\n",
    "\n",
    "list_of_handles = sorted(twitter_handles.unique())"
   ]
  },
  {
   "cell_type": "code",
   "execution_count": 5,
   "metadata": {},
   "outputs": [],
   "source": [
    "auth = tweepy.OAuthHandler(consumer_key, consumer_secret)\n",
    "auth.set_access_token(access_key, access_secret)\n",
    "api = tweepy.API(auth)"
   ]
  },
  {
   "cell_type": "code",
   "execution_count": 6,
   "metadata": {},
   "outputs": [],
   "source": [
    "openanc_follows = []\n",
    "for user in tweepy.Cursor(api.friends, screen_name='OpenANC').items():\n",
    "    openanc_follows += [user.screen_name.lower()]\n",
    "    time.sleep(1)"
   ]
  },
  {
   "cell_type": "code",
   "execution_count": 7,
   "metadata": {},
   "outputs": [
    {
     "data": {
      "text/plain": [
       "40"
      ]
     },
     "execution_count": 7,
     "metadata": {},
     "output_type": "execute_result"
    }
   ],
   "source": [
    "should_follow = [t for t in list_of_handles if t not in openanc_follows]\n",
    "len(should_follow)"
   ]
  },
  {
   "cell_type": "code",
   "execution_count": 10,
   "metadata": {},
   "outputs": [],
   "source": [
    "# # Pick 5 at random\n",
    "# follow_me = random.sample(should_follow, 5)\n",
    "\n",
    "# for f in follow_me:\n",
    "#     print('https://twitter.com/' + f)"
   ]
  },
  {
   "cell_type": "code",
   "execution_count": 9,
   "metadata": {},
   "outputs": [
    {
     "name": "stdout",
     "output_type": "stream",
     "text": [
      "https://twitter.com/laroya_ward4\n",
      "https://twitter.com/latestchristian\n",
      "https://twitter.com/laurenrogersdc\n",
      "https://twitter.com/leftofdacenter\n",
      "https://twitter.com/lucrsaintgenies\n",
      "https://twitter.com/matt_brandeburg\n",
      "https://twitter.com/mattlafortune\n",
      "https://twitter.com/maxdevilliers\n",
      "https://twitter.com/michael_sriqui\n",
      "https://twitter.com/michaelzeldin\n",
      "https://twitter.com/mikeindeecee1\n",
      "https://twitter.com/milleranc1a05\n",
      "https://twitter.com/mshankle\n",
      "https://twitter.com/msmansaray\n",
      "https://twitter.com/mwraydc\n",
      "https://twitter.com/oblivious_dude\n",
      "https://twitter.com/petergosselin\n",
      "https://twitter.com/pritapiekara\n",
      "https://twitter.com/qcolonroosevelt\n",
      "https://twitter.com/raamin5b04\n",
      "https://twitter.com/randydaledowns\n",
      "https://twitter.com/rashidabrowndc\n",
      "https://twitter.com/ready_4_dc\n",
      "https://twitter.com/reneelbowser\n",
      "https://twitter.com/revwendy3\n",
      "https://twitter.com/sabelharris\n",
      "https://twitter.com/santi4dc\n",
      "https://twitter.com/sherenejoseph\n",
      "https://twitter.com/soundpolicy\n",
      "https://twitter.com/teamalgward7\n",
      "https://twitter.com/thad3a01\n",
      "https://twitter.com/theeblackanglo\n",
      "https://twitter.com/tlbrown1221\n",
      "https://twitter.com/tmholcomb\n",
      "https://twitter.com/tommarabello\n",
      "https://twitter.com/vincejvan\n",
      "https://twitter.com/vjkapur\n",
      "https://twitter.com/william_herbig\n",
      "https://twitter.com/yannik_in_2a01\n",
      "https://twitter.com/yasminkiki\n"
     ]
    }
   ],
   "source": [
    "for f in should_follow:\n",
    "    print('https://twitter.com/' + f)"
   ]
  },
  {
   "cell_type": "code",
   "execution_count": null,
   "metadata": {},
   "outputs": [],
   "source": []
  }
 ],
 "metadata": {
  "kernelspec": {
   "display_name": "Python 3",
   "language": "python",
   "name": "python3"
  },
  "language_info": {
   "codemirror_mode": {
    "name": "ipython",
    "version": 3
   },
   "file_extension": ".py",
   "mimetype": "text/x-python",
   "name": "python",
   "nbconvert_exporter": "python",
   "pygments_lexer": "ipython3",
   "version": "3.7.1"
  }
 },
 "nbformat": 4,
 "nbformat_minor": 4
}
