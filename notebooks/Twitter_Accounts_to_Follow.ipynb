{
 "cells": [
  {
   "cell_type": "markdown",
   "metadata": {},
   "source": [
    "# Twitter Accounts to Follow\n",
    "\n",
    "@OpenANC should generally follow all current commissioners and candidates."
   ]
  },
  {
   "cell_type": "code",
   "execution_count": 1,
   "metadata": {},
   "outputs": [],
   "source": [
    "import os\n",
    "os.chdir('../')"
   ]
  },
  {
   "cell_type": "code",
   "execution_count": 2,
   "metadata": {},
   "outputs": [],
   "source": [
    "import time\n",
    "import tweepy\n",
    "import random\n",
    "import pandas as pd\n",
    "from tqdm import tqdm\n",
    "\n",
    "from scripts.data_transformations import list_commissioners\n",
    "\n",
    "consumer_key = os.environ.get('TWITTER_API_KEY')\n",
    "consumer_secret = os.environ.get('TWITTER_API_KEY_SECRET')\n",
    "access_key = os.environ.get('TWITTER_ACCESS_TOKEN')\n",
    "access_secret = os.environ.get('TWITTER_ACCESS_TOKEN_SECRET')"
   ]
  },
  {
   "cell_type": "code",
   "execution_count": 3,
   "metadata": {},
   "outputs": [],
   "source": [
    "ancs = pd.read_csv('data/ancs.csv')\n",
    "people = pd.read_csv('data/people.csv')\n",
    "candidates = pd.read_csv('data/candidates.csv')\n",
    "candidate_statuses = pd.read_csv('data/candidate_statuses.csv')\n",
    "commissioners = list_commissioners(status='current')\n",
    "\n",
    "people_candidates = pd.merge(people, candidates, how='inner', on='person_id')\n",
    "people_candidates_status = pd.merge(people_candidates, candidate_statuses, how='inner', on='candidate_status')\n",
    "people_candidates_active = people_candidates_status[\n",
    "    (people_candidates_status['count_as_candidate'])\n",
    "    & (people_candidates_status['election_year'] == 2022)\n",
    "].copy()\n",
    "\n",
    "people_commissioners = pd.merge(people, commissioners, how='inner', on='person_id')\n",
    "\n",
    "# Group all twitter links for active candidates, current commissioners, and commissions in one list\n",
    "twitter_links = pd.concat([\n",
    "    people_commissioners.twitter_link\n",
    "    , people_candidates_active.twitter_link\n",
    "    , ancs.twitter_link\n",
    "])"
   ]
  },
  {
   "cell_type": "code",
   "execution_count": 4,
   "metadata": {},
   "outputs": [
    {
     "data": {
      "text/plain": [
       "237"
      ]
     },
     "execution_count": 4,
     "metadata": {},
     "output_type": "execute_result"
    }
   ],
   "source": [
    "twitter_handles = (\n",
    "    twitter_links[twitter_links.notnull()]\n",
    "    .str.replace('https://twitter.com/', '')\n",
    "    .str.lower()\n",
    ")\n",
    "\n",
    "list_of_handles = sorted(twitter_handles.unique())\n",
    "len(list_of_handles)"
   ]
  },
  {
   "cell_type": "code",
   "execution_count": 5,
   "metadata": {},
   "outputs": [],
   "source": [
    "auth = tweepy.OAuthHandler(consumer_key, consumer_secret)\n",
    "auth.set_access_token(access_key, access_secret)\n",
    "api = tweepy.API(auth)"
   ]
  },
  {
   "cell_type": "code",
   "execution_count": 6,
   "metadata": {},
   "outputs": [
    {
     "name": "stdout",
     "output_type": "stream",
     "text": [
      "CPU times: user 441 ms, sys: 46.4 ms, total: 488 ms\n",
      "Wall time: 1min 10s\n"
     ]
    }
   ],
   "source": [
    "%%time\n",
    "\n",
    "openanc_follows = []\n",
    "for page_result in tweepy.Cursor(api.friends, screen_name='OpenANC').pages():\n",
    "    \n",
    "    for user in page_result:\n",
    "        openanc_follows += [user.screen_name.lower()]\n",
    "\n",
    "    time.sleep(5)"
   ]
  },
  {
   "cell_type": "code",
   "execution_count": 7,
   "metadata": {},
   "outputs": [
    {
     "data": {
      "text/plain": [
       "2"
      ]
     },
     "execution_count": 7,
     "metadata": {},
     "output_type": "execute_result"
    }
   ],
   "source": [
    "should_follow = [t for t in list_of_handles if t not in openanc_follows]\n",
    "len(should_follow)"
   ]
  },
  {
   "cell_type": "code",
   "execution_count": 18,
   "metadata": {},
   "outputs": [],
   "source": [
    "# for f in should_follow:\n",
    "#     print('https://twitter.com/' + f)"
   ]
  },
  {
   "cell_type": "markdown",
   "metadata": {},
   "source": [
    "List of twitter accounts that OpenANC follows that are NOT in the database. "
   ]
  },
  {
   "cell_type": "code",
   "execution_count": 17,
   "metadata": {},
   "outputs": [
    {
     "name": "stdout",
     "output_type": "stream",
     "text": [
      "https://twitter.com/johnzottoli\n",
      "https://twitter.com/cmoney_htx\n",
      "https://twitter.com/snikiddyschmeow\n"
     ]
    }
   ],
   "source": [
    "known_non_commissioners = [\n",
    "    'bradyhunch'\n",
    "    , 'mapbox'\n",
    "    , 'vote4dc'\n",
    "    , 'ancsof'\n",
    "    , 'opendatadc'\n",
    "    , 'kenyanmcduffie'\n",
    "    , 'brianneknadeau'\n",
    "    , 'cmlewisgeorgew4'\n",
    "    , 'chmnmendelson'\n",
    "    , 'anitabondsdc'\n",
    "    , 'trayonwhite'    \n",
    "    , 'marycheh'\n",
    "    , 'charlesallen'\n",
    "    , 'planitmichael'\n",
    "    , 'heycaseywattsup'\n",
    "    , '_matthewthomas'\n",
    "    , 'infinitebuffalo'\n",
    "    , 'revwendy3'\n",
    "    , 'allinsea'\n",
    "    , 'lorenzoward7dc'\n",
    "]\n",
    "\n",
    "followed_but_not_in_db = [\n",
    "    t for t in openanc_follows if (t not in list_of_handles and t not in known_non_commissioners)\n",
    "]\n",
    "\n",
    "for f in followed_but_not_in_db:\n",
    "    print('https://twitter.com/' + f)"
   ]
  },
  {
   "cell_type": "code",
   "execution_count": null,
   "metadata": {},
   "outputs": [],
   "source": []
  },
  {
   "cell_type": "code",
   "execution_count": null,
   "metadata": {},
   "outputs": [],
   "source": []
  },
  {
   "cell_type": "code",
   "execution_count": null,
   "metadata": {},
   "outputs": [],
   "source": []
  }
 ],
 "metadata": {
  "kernelspec": {
   "display_name": "Python 3",
   "language": "python",
   "name": "python3"
  },
  "language_info": {
   "codemirror_mode": {
    "name": "ipython",
    "version": 3
   },
   "file_extension": ".py",
   "mimetype": "text/x-python",
   "name": "python",
   "nbconvert_exporter": "python",
   "pygments_lexer": "ipython3",
   "version": "3.7.1"
  }
 },
 "nbformat": 4,
 "nbformat_minor": 4
}
