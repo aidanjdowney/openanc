{
 "cells": [
  {
   "cell_type": "markdown",
   "metadata": {},
   "source": [
    "# Twitter Accounts to Follow\n",
    "\n",
    "@OpenANC should generally follow all current commissioners and candidates."
   ]
  },
  {
   "cell_type": "code",
   "execution_count": 1,
   "metadata": {},
   "outputs": [],
   "source": [
    "import os\n",
    "os.chdir('../')"
   ]
  },
  {
   "cell_type": "code",
   "execution_count": 2,
   "metadata": {},
   "outputs": [],
   "source": [
    "import time\n",
    "import tweepy\n",
    "import random\n",
    "import pandas as pd\n",
    "from tqdm import tqdm\n",
    "\n",
    "from scripts.data_transformations import list_commissioners"
   ]
  },
  {
   "cell_type": "code",
   "execution_count": 3,
   "metadata": {},
   "outputs": [],
   "source": [
    "ancs = pd.read_csv('data/ancs.csv')\n",
    "people = pd.read_csv('data/people.csv')\n",
    "candidates = pd.read_csv('data/candidates.csv')\n",
    "candidate_statuses = pd.read_csv('data/candidate_statuses.csv')\n",
    "commissioners = list_commissioners()\n",
    "commissioners = commissioners[(commissioners.is_current) | (commissioners.is_future)].copy()\n",
    "\n",
    "people_candidates = pd.merge(people, candidates, how='inner', on='person_id')\n",
    "people_candidates_status = pd.merge(people_candidates, candidate_statuses, how='inner', on='candidate_status')\n",
    "people_candidates_active = people_candidates_status[\n",
    "    (people_candidates_status['count_as_candidate'])\n",
    "    & (people_candidates_status['election_year'] == 2022)\n",
    "].copy()\n",
    "\n",
    "people_commissioners = pd.merge(people, commissioners, how='inner', on='person_id')\n",
    "\n",
    "# Group all twitter links for active candidates, current commissioners, and commissions in one list\n",
    "twitter_links = pd.concat([\n",
    "    people_commissioners.twitter_link\n",
    "    , people_candidates_active.twitter_link\n",
    "    , ancs.twitter_link\n",
    "])"
   ]
  },
  {
   "cell_type": "code",
   "execution_count": 4,
   "metadata": {},
   "outputs": [
    {
     "data": {
      "text/plain": [
       "207"
      ]
     },
     "execution_count": 4,
     "metadata": {},
     "output_type": "execute_result"
    }
   ],
   "source": [
    "twitter_handles = (\n",
    "    twitter_links[twitter_links.notnull()]\n",
    "    .str.replace('https://twitter.com/', '', regex=False)\n",
    "    .str.lower()\n",
    ")\n",
    "\n",
    "list_of_handles = sorted(twitter_handles.unique())\n",
    "len(list_of_handles)"
   ]
  },
  {
   "cell_type": "code",
   "execution_count": 5,
   "metadata": {},
   "outputs": [],
   "source": [
    "client = tweepy.Client(bearer_token=os.environ['TWITTER_BEARER_TOKEN'])"
   ]
  },
  {
   "cell_type": "code",
   "execution_count": 6,
   "metadata": {},
   "outputs": [],
   "source": [
    "# client.get_user(username='openanc')\n",
    "openanc_user_id = 1282848701090795526"
   ]
  },
  {
   "cell_type": "code",
   "execution_count": 7,
   "metadata": {},
   "outputs": [],
   "source": [
    "client_response = client.get_users_following(id=openanc_user_id, max_results=500)"
   ]
  },
  {
   "cell_type": "code",
   "execution_count": 8,
   "metadata": {},
   "outputs": [],
   "source": [
    "openanc_follows = []\n",
    "\n",
    "for f in client_response.data:\n",
    "    openanc_follows += [f.username.lower()]"
   ]
  },
  {
   "cell_type": "code",
   "execution_count": 9,
   "metadata": {},
   "outputs": [
    {
     "data": {
      "text/plain": [
       "3"
      ]
     },
     "execution_count": 9,
     "metadata": {},
     "output_type": "execute_result"
    }
   ],
   "source": [
    "should_follow = [t for t in list_of_handles if t not in openanc_follows]\n",
    "len(should_follow)"
   ]
  },
  {
   "cell_type": "code",
   "execution_count": 10,
   "metadata": {},
   "outputs": [
    {
     "name": "stdout",
     "output_type": "stream",
     "text": [
      "https://twitter.com/4c03_e\n",
      "https://twitter.com/bridgets_dc\n",
      "https://twitter.com/gordonbybike\n"
     ]
    }
   ],
   "source": [
    "for f in should_follow:\n",
    "    print('https://twitter.com/' + f)"
   ]
  },
  {
   "cell_type": "markdown",
   "metadata": {},
   "source": [
    "List of twitter accounts that OpenANC follows that are NOT in the database. "
   ]
  },
  {
   "cell_type": "code",
   "execution_count": 11,
   "metadata": {},
   "outputs": [],
   "source": [
    "# This list is accounts that @OpenANC follows but we know that they are not current commissioners or candidates.\n",
    "known_non_commissioners = [\n",
    "    'bradyhunch'\n",
    "    , 'mapbox'\n",
    "    , 'vote4dc'\n",
    "    , 'ancsof'\n",
    "    , 'opendatadc'\n",
    "    , 'kenyanmcduffie'\n",
    "    , 'brianneknadeau'\n",
    "    , 'cmlewisgeorgew4'\n",
    "    , 'chmnmendelson'\n",
    "    , 'anitabondsdc'\n",
    "    , 'trayonwhite'    \n",
    "    , 'marycheh'\n",
    "    , 'charlesallen'\n",
    "    , 'planitmichael'\n",
    "    , 'heycaseywattsup'\n",
    "    , '_matthewthomas'\n",
    "    , 'infinitebuffalo'\n",
    "    , 'revwendy3'\n",
    "    , 'allinsea'\n",
    "    , 'lorenzoward7dc'\n",
    "    , 'openancbot'\n",
    "    , 'anccostello'\n",
    "    , 'renalovinmyself'\n",
    "    , '4e05candidate'\n",
    "    , 'oanc_dc'\n",
    "    , 'anthony_dale_'\n",
    "]"
   ]
  },
  {
   "cell_type": "code",
   "execution_count": 12,
   "metadata": {},
   "outputs": [
    {
     "name": "stdout",
     "output_type": "stream",
     "text": [
      "https://twitter.com/uecindc\n",
      "https://twitter.com/iamaru\n",
      "https://twitter.com/vincejvan\n",
      "https://twitter.com/william_herbig\n",
      "https://twitter.com/tlbrown1221\n",
      "https://twitter.com/reneelbowser\n",
      "https://twitter.com/ready_4_dc\n",
      "https://twitter.com/randydaledowns\n",
      "https://twitter.com/msmansaray\n",
      "https://twitter.com/milleranc1a05\n",
      "https://twitter.com/mikeindeecee1\n",
      "https://twitter.com/michael_sriqui\n",
      "https://twitter.com/maxdevilliers\n",
      "https://twitter.com/matt_brandeburg\n",
      "https://twitter.com/latestchristian\n",
      "https://twitter.com/kyle_mulhall_dc\n",
      "https://twitter.com/kirsten6b\n",
      "https://twitter.com/heymsrebecca\n",
      "https://twitter.com/gigi_anc2c03\n",
      "https://twitter.com/finkjm\n",
      "https://twitter.com/fanning_2\n",
      "https://twitter.com/ericsmithlaw1\n",
      "https://twitter.com/danielorlaskey\n",
      "https://twitter.com/drewcourt_6c06\n",
      "https://twitter.com/chascadwell\n",
      "https://twitter.com/cbotstein\n",
      "https://twitter.com/blairtamara\n",
      "https://twitter.com/anc5e08\n",
      "https://twitter.com/alexfor2f08\n",
      "https://twitter.com/alanwehler\n",
      "https://twitter.com/_victoriarclark\n",
      "https://twitter.com/4e05_e\n",
      "https://twitter.com/votebradley4dc\n",
      "https://twitter.com/eriklindsjo\n",
      "https://twitter.com/chelseaanc1d05\n",
      "https://twitter.com/steveholtzman3\n",
      "https://twitter.com/sondragilbert\n",
      "https://twitter.com/anc6b10\n",
      "https://twitter.com/abocq\n",
      "https://twitter.com/anc2f02\n",
      "https://twitter.com/geoffbromaghim\n",
      "https://twitter.com/stanwall\n",
      "https://twitter.com/audainanc7d05\n",
      "https://twitter.com/anc6b08\n",
      "https://twitter.com/donnabarbisch\n",
      "https://twitter.com/michelleyan26\n",
      "https://twitter.com/1handsometaurus\n",
      "https://twitter.com/margareteileenn\n",
      "https://twitter.com/feejaysee\n",
      "https://twitter.com/adamhoyt\n",
      "https://twitter.com/audreyaduckett\n",
      "https://twitter.com/themonikanemeth\n",
      "https://twitter.com/sydellebelle\n",
      "https://twitter.com/jasonhamacher\n",
      "https://twitter.com/candacetiana\n",
      "https://twitter.com/dcshawtea\n",
      "https://twitter.com/benjamin_hart82\n",
      "https://twitter.com/5e09commish\n",
      "https://twitter.com/kentboesedc\n",
      "https://twitter.com/lifeontheedgewd\n",
      "https://twitter.com/vedarasheed\n",
      "https://twitter.com/mixedgirlspeaks\n",
      "https://twitter.com/dc_jack\n",
      "https://twitter.com/connieknchang\n",
      "https://twitter.com/debanc1c05\n",
      "https://twitter.com/latoyam01766637\n",
      "https://twitter.com/laylabonnot\n",
      "https://twitter.com/patrickparlej\n",
      "https://twitter.com/jaredweissanc\n",
      "https://twitter.com/tillertitan\n",
      "https://twitter.com/commisharmstead\n",
      "https://twitter.com/ericbehna\n",
      "https://twitter.com/bgc4dc\n",
      "https://twitter.com/algward7\n",
      "https://twitter.com/coreyholman\n",
      "https://twitter.com/beaufinleyanc3c\n",
      "https://twitter.com/chiomaward7\n",
      "https://twitter.com/zachbisrael\n",
      "https://twitter.com/ancjonah\n"
     ]
    }
   ],
   "source": [
    "followed_but_not_in_db = [\n",
    "    t for t in openanc_follows if (t not in list_of_handles and t not in known_non_commissioners)\n",
    "]\n",
    "\n",
    "for f in followed_but_not_in_db:\n",
    "    print('https://twitter.com/' + f)"
   ]
  },
  {
   "cell_type": "code",
   "execution_count": null,
   "metadata": {},
   "outputs": [],
   "source": []
  },
  {
   "cell_type": "code",
   "execution_count": null,
   "metadata": {},
   "outputs": [],
   "source": []
  }
 ],
 "metadata": {
  "kernelspec": {
   "display_name": "Python 3 (ipykernel)",
   "language": "python",
   "name": "python3"
  },
  "language_info": {
   "codemirror_mode": {
    "name": "ipython",
    "version": 3
   },
   "file_extension": ".py",
   "mimetype": "text/x-python",
   "name": "python",
   "nbconvert_exporter": "python",
   "pygments_lexer": "ipython3",
   "version": "3.10.3"
  }
 },
 "nbformat": 4,
 "nbformat_minor": 4
}
