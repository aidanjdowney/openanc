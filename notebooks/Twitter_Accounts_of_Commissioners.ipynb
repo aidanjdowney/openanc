{
 "cells": [
  {
   "cell_type": "markdown",
   "metadata": {},
   "source": [
    "List of twitter accounts of commissioners active in 2021-2023"
   ]
  },
  {
   "cell_type": "code",
   "execution_count": 1,
   "metadata": {},
   "outputs": [],
   "source": [
    "import os\n",
    "os.chdir('../')\n",
    "\n",
    "import pytz\n",
    "import pandas as pd\n",
    "from datetime import datetime\n",
    "\n",
    "from scripts.common import list_commissioners, build_results_candidate_people"
   ]
  },
  {
   "cell_type": "code",
   "execution_count": 2,
   "metadata": {},
   "outputs": [],
   "source": [
    "# Commissioners active in 2021\n",
    "date_point_2021 = datetime(2021, 1, 5, tzinfo=pytz.timezone('America/New_York'))\n",
    "commissioners_2021 = list_commissioners(status='current', date_point=date_point_2021)"
   ]
  },
  {
   "cell_type": "code",
   "execution_count": 3,
   "metadata": {},
   "outputs": [],
   "source": [
    "# commissioners_2021[commissioners_2021['is_current']]\n",
    "people = pd.read_csv('data/people.csv')\n",
    "districts = pd.read_csv('data/districts.csv')"
   ]
  },
  {
   "cell_type": "code",
   "execution_count": 4,
   "metadata": {},
   "outputs": [],
   "source": [
    "dc = pd.merge(districts, commissioners_2021, how='left', on='smd_id')\n",
    "dcp = pd.merge(dc, people, how='left', on='person_id')"
   ]
  },
  {
   "cell_type": "code",
   "execution_count": 5,
   "metadata": {},
   "outputs": [],
   "source": [
    "dcp['start'] = dcp['start_date'].dt.date\n",
    "dcp['end'] = dcp['end_date'].dt.date"
   ]
  },
  {
   "cell_type": "code",
   "execution_count": 6,
   "metadata": {},
   "outputs": [],
   "source": [
    "twttr = dcp[['smd_id', 'person_id', 'full_name', 'start', 'end', 'twitter_link']].sort_values(by='smd_id')"
   ]
  },
  {
   "cell_type": "code",
   "execution_count": 7,
   "metadata": {},
   "outputs": [
    {
     "data": {
      "text/html": [
       "<div>\n",
       "<style scoped>\n",
       "    .dataframe tbody tr th:only-of-type {\n",
       "        vertical-align: middle;\n",
       "    }\n",
       "\n",
       "    .dataframe tbody tr th {\n",
       "        vertical-align: top;\n",
       "    }\n",
       "\n",
       "    .dataframe thead th {\n",
       "        text-align: right;\n",
       "    }\n",
       "</style>\n",
       "<table border=\"1\" class=\"dataframe\">\n",
       "  <thead>\n",
       "    <tr style=\"text-align: right;\">\n",
       "      <th></th>\n",
       "      <th>smd_id</th>\n",
       "      <th>person_id</th>\n",
       "      <th>full_name</th>\n",
       "      <th>start</th>\n",
       "      <th>end</th>\n",
       "      <th>twitter_link</th>\n",
       "    </tr>\n",
       "  </thead>\n",
       "  <tbody>\n",
       "    <tr>\n",
       "      <th>0</th>\n",
       "      <td>smd_1A01</td>\n",
       "      <td>10001.0</td>\n",
       "      <td>Layla Bonnot</td>\n",
       "      <td>2019-01-02</td>\n",
       "      <td>2023-01-02</td>\n",
       "      <td>https://twitter.com/LaylaBonnot</td>\n",
       "    </tr>\n",
       "    <tr>\n",
       "      <th>1</th>\n",
       "      <td>smd_1A02</td>\n",
       "      <td>10285.0</td>\n",
       "      <td>Dieter Lehmann Morales</td>\n",
       "      <td>2021-01-02</td>\n",
       "      <td>2023-01-02</td>\n",
       "      <td>NaN</td>\n",
       "    </tr>\n",
       "    <tr>\n",
       "      <th>2</th>\n",
       "      <td>smd_1A03</td>\n",
       "      <td>10003.0</td>\n",
       "      <td>Zach Rybarczyk</td>\n",
       "      <td>2019-01-02</td>\n",
       "      <td>2023-01-02</td>\n",
       "      <td>NaN</td>\n",
       "    </tr>\n",
       "    <tr>\n",
       "      <th>3</th>\n",
       "      <td>smd_1A04</td>\n",
       "      <td>10496.0</td>\n",
       "      <td>Chris Hall</td>\n",
       "      <td>2021-01-02</td>\n",
       "      <td>2023-01-02</td>\n",
       "      <td>NaN</td>\n",
       "    </tr>\n",
       "    <tr>\n",
       "      <th>4</th>\n",
       "      <td>smd_1A05</td>\n",
       "      <td>10005.0</td>\n",
       "      <td>Christine Miller</td>\n",
       "      <td>2019-01-02</td>\n",
       "      <td>2023-01-02</td>\n",
       "      <td>https://twitter.com/MillerANC1A05</td>\n",
       "    </tr>\n",
       "    <tr>\n",
       "      <th>...</th>\n",
       "      <td>...</td>\n",
       "      <td>...</td>\n",
       "      <td>...</td>\n",
       "      <td>...</td>\n",
       "      <td>...</td>\n",
       "      <td>...</td>\n",
       "    </tr>\n",
       "    <tr>\n",
       "      <th>291</th>\n",
       "      <td>smd_8E03</td>\n",
       "      <td>NaN</td>\n",
       "      <td>NaN</td>\n",
       "      <td>NaT</td>\n",
       "      <td>NaT</td>\n",
       "      <td>NaN</td>\n",
       "    </tr>\n",
       "    <tr>\n",
       "      <th>292</th>\n",
       "      <td>smd_8E04</td>\n",
       "      <td>10281.0</td>\n",
       "      <td>Kendall Simmons</td>\n",
       "      <td>2019-01-02</td>\n",
       "      <td>2023-01-02</td>\n",
       "      <td>NaN</td>\n",
       "    </tr>\n",
       "    <tr>\n",
       "      <th>293</th>\n",
       "      <td>smd_8E05</td>\n",
       "      <td>10441.0</td>\n",
       "      <td>Shaquan Hudson</td>\n",
       "      <td>2021-01-02</td>\n",
       "      <td>2023-01-02</td>\n",
       "      <td>NaN</td>\n",
       "    </tr>\n",
       "    <tr>\n",
       "      <th>294</th>\n",
       "      <td>smd_8E06</td>\n",
       "      <td>10442.0</td>\n",
       "      <td>Brittany Geneva Cummings</td>\n",
       "      <td>2021-01-02</td>\n",
       "      <td>2023-01-02</td>\n",
       "      <td>https://twitter.com/bgc4dc</td>\n",
       "    </tr>\n",
       "    <tr>\n",
       "      <th>295</th>\n",
       "      <td>smd_8E07</td>\n",
       "      <td>10443.0</td>\n",
       "      <td>Jeannina \"W8 Matters\" Williams</td>\n",
       "      <td>2021-01-02</td>\n",
       "      <td>2023-01-02</td>\n",
       "      <td>NaN</td>\n",
       "    </tr>\n",
       "  </tbody>\n",
       "</table>\n",
       "<p>296 rows × 6 columns</p>\n",
       "</div>"
      ],
      "text/plain": [
       "       smd_id  person_id                       full_name       start  \\\n",
       "0    smd_1A01    10001.0                    Layla Bonnot  2019-01-02   \n",
       "1    smd_1A02    10285.0          Dieter Lehmann Morales  2021-01-02   \n",
       "2    smd_1A03    10003.0                  Zach Rybarczyk  2019-01-02   \n",
       "3    smd_1A04    10496.0                      Chris Hall  2021-01-02   \n",
       "4    smd_1A05    10005.0                Christine Miller  2019-01-02   \n",
       "..        ...        ...                             ...         ...   \n",
       "291  smd_8E03        NaN                             NaN         NaT   \n",
       "292  smd_8E04    10281.0                 Kendall Simmons  2019-01-02   \n",
       "293  smd_8E05    10441.0                  Shaquan Hudson  2021-01-02   \n",
       "294  smd_8E06    10442.0        Brittany Geneva Cummings  2021-01-02   \n",
       "295  smd_8E07    10443.0  Jeannina \"W8 Matters\" Williams  2021-01-02   \n",
       "\n",
       "            end                       twitter_link  \n",
       "0    2023-01-02    https://twitter.com/LaylaBonnot  \n",
       "1    2023-01-02                                NaN  \n",
       "2    2023-01-02                                NaN  \n",
       "3    2023-01-02                                NaN  \n",
       "4    2023-01-02  https://twitter.com/MillerANC1A05  \n",
       "..          ...                                ...  \n",
       "291         NaT                                NaN  \n",
       "292  2023-01-02                                NaN  \n",
       "293  2023-01-02                                NaN  \n",
       "294  2023-01-02         https://twitter.com/bgc4dc  \n",
       "295  2023-01-02                                NaN  \n",
       "\n",
       "[296 rows x 6 columns]"
      ]
     },
     "execution_count": 7,
     "metadata": {},
     "output_type": "execute_result"
    }
   ],
   "source": [
    "twttr.to_clipboard(index=False)\n",
    "twttr"
   ]
  },
  {
   "cell_type": "code",
   "execution_count": 8,
   "metadata": {},
   "outputs": [
    {
     "data": {
      "text/plain": [
       "164"
      ]
     },
     "execution_count": 8,
     "metadata": {},
     "output_type": "execute_result"
    }
   ],
   "source": [
    "twttr.twitter_link.notnull().sum()"
   ]
  },
  {
   "cell_type": "code",
   "execution_count": 9,
   "metadata": {
    "scrolled": false
   },
   "outputs": [],
   "source": [
    "# twttr[twttr.person_id.notnull()]['person_id'].tolist()"
   ]
  },
  {
   "cell_type": "code",
   "execution_count": null,
   "metadata": {},
   "outputs": [],
   "source": []
  }
 ],
 "metadata": {
  "kernelspec": {
   "display_name": "Python 3",
   "language": "python",
   "name": "python3"
  },
  "language_info": {
   "codemirror_mode": {
    "name": "ipython",
    "version": 3
   },
   "file_extension": ".py",
   "mimetype": "text/x-python",
   "name": "python",
   "nbconvert_exporter": "python",
   "pygments_lexer": "ipython3",
   "version": "3.7.1"
  }
 },
 "nbformat": 4,
 "nbformat_minor": 4
}
