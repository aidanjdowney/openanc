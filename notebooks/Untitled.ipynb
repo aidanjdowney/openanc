{
 "cells": [
  {
   "cell_type": "markdown",
   "id": "66fd341e",
   "metadata": {},
   "source": [
    "# Read DCBOE candidate list"
   ]
  },
  {
   "cell_type": "code",
   "execution_count": 1,
   "id": "cffebf2e",
   "metadata": {},
   "outputs": [],
   "source": [
    "pdf_path = \"/Users/devin/Dropbox/OpenANC/DCBOE candidate lists 2024/2024-General-ANC-Candidates-07122024b.pdf\""
   ]
  },
  {
   "cell_type": "code",
   "execution_count": 2,
   "id": "be2ffe58",
   "metadata": {},
   "outputs": [],
   "source": [
    "from pypdf import PdfReader\n",
    "\n",
    "reader = PdfReader(pdf_path)\n",
    "number_of_pages = len(reader.pages)\n",
    "page = reader.pages[0]\n",
    "text = page.extract_text()"
   ]
  },
  {
   "cell_type": "code",
   "execution_count": 3,
   "id": "0f54913e",
   "metadata": {},
   "outputs": [
    {
     "data": {
      "text/plain": [
       "['List of Advisory Neighborhood Commissioner Candidates ',\n",
       " ' November 5, 2024 General Election',\n",
       " 'ANC-SMD Name Address Zip Phone Date of Pick-up Date Filed Email Address',\n",
       " '1A01',\n",
       " '1A02 Dieter Lehmann Morales 3460 14th St. NW, Apt# 049 20010 214-620-1422 7/1/24 dlehmannmorales@gmail.com',\n",
       " '1A03',\n",
       " '1A04 Jeremy Sherman 1309 Park Rd. NW, Unit# 001 20010 443-218-2298 7/1/24 sherman4anc@gmail.com',\n",
       " '1A05 Christine Miller 1530 Monroe St. NW 20010 202-809-3388 7/1/24 kcmiller12000@gmail.com',\n",
       " '1A06 Anthony Thomas-Davis 1390 Kenyon St. NW, Apt# 708 20010 773-895-0295 7/3/24 athomas-davis@outlook.com',\n",
       " '1A07 Mukta Ghorpadey 3501 13th St. NW, Apt# 309 20010 202-813-0986 7/3/24 mghorpadey@gmail.com',\n",
       " '1A08',\n",
       " '1A09',\n",
       " '1A10 Billy Easley II 1135 Harvard St. NW, Apt# 1 20009 214-448-3544 7/1/24 easleyforanc@gmail.com',\n",
       " '1A10 Vida Rangel 3223 11th St. NW 20010 202-643-8443 7/1/24 info@voteforvida.com',\n",
       " '1B01 Matt Fay 416 U St. NW 20001 202-746-2354 7/10/24 fayforanc@gmail.com',\n",
       " '1B02',\n",
       " '1B03 Jamie S. Sycamore 909 W St. NW, Apt  #B 20001 585-880-4606 7/1/24 jamiessycamore@gmail.com',\n",
       " '1B03 J. Swiderski 1100 Euclid St. NW 20009 412-526-6313 7/1/24 swiderski+anc@ftml.net',\n",
       " '1B04',\n",
       " '1B05 Alan Kensek 2101 16th St. NW, Apt# 101 20009 202-525-5405 7/5/24 alankensekjr@comcast.net',\n",
       " '1B06',\n",
       " '1B07',\n",
       " '1B08 Sabel Harris 1301 U St. NW, Apt# 303 20009 202-798-0451 7/3/24 sabel@sabelfordc.com',\n",
       " '1B09 Stephen Hanrahan 1226 Euclid St. NW 20009 917-386-8855 7/11/24 stephenhanrahan94@gmail.com',\n",
       " '1C01 Daniel Michelson-Horowitz 1871 California St. NW Apt #1 20009 267-566-0891 7/10/24 danieljmh@gmail.com',\n",
       " '1C02',\n",
       " '1C03 Peter Wood 1839 Kalorama Ave. NW Apt# 1 20009 563-528-3630 7/1/24 7/12/24 peter.david.arnould.wood@gmail.com',\n",
       " '1C04',\n",
       " '1C05',\n",
       " '1C06 Lynda Laughlin 1705 Lanier Pl. NW, Apt# 108 20009 215-681-9316 7/3/24 lynda.laughlin@gmail.com',\n",
       " '1C07',\n",
       " '1C08',\n",
       " '1C09 Katherine Swanson 2509 17th St. NW 20009 817-897-1420 7/3/24 katherineswansonpalmer@gmail.com',\n",
       " '1D01',\n",
       " '1D02',\n",
       " '1D03 Erika Nunez 1901 Ingleside Ter. NW Apt #101 20010 202-618-0745 7/11/24 erika.anc1d03@gmail.com',\n",
       " '1D04',\n",
       " '1D05',\n",
       " '1D06',\n",
       " '1D07',\n",
       " '1E01 Radha Arghal 3573 Warder St. NW, Apt# 8 20010 202-750-0743 7/5/24 radha.anc01e01@gmail.com',\n",
       " '1E02',\n",
       " '1E03',\n",
       " '1E04 Rashida Brown 430 Irving St. NW Apt# 106 20010 202-903-4561 7/8/24 rashidabrownforanc@gmail.com',\n",
       " '1E05 Philip Newland 609 Gresham Pl. NW Apt #1 20001 202-290-4817 7/12/24 newland.philip15@gmail.com',\n",
       " '1E06 Josh Jacobson 2605 Sherman Ave. NW 20001 202-780-6297 7/1/24 josh@joshforanc.com',\n",
       " '1E07 Brian Footer 2112 8th St. NW Apt #507 20001 202-580-5490 7/9/24 bfooterforanc@gmail.com',\n",
       " '2A01',\n",
       " '2A02',\n",
       " '2A03 Trupti Patel 950 25th St. NW, Apt# 425N 20037 202-337-1081 7/1/24 patel_trupti@hotmail.com',\n",
       " '2A04',\n",
       " '2A05 Luke Z. Chadwick 2440 Virginia Ave. NW, Apt# D1201 20037 202-607-3388 7/2/24 anclukechadwick@gmail.com',\n",
       " '2A06',\n",
       " '2A07',\n",
       " '2A08 James Harnett (withdrew 7/4/24) 2221 I St. NW, Apt# 321 20037 202-854-0654 7/3/24 harnett.james@gmail.com',\n",
       " '2A08 Jim Malec 1099 22nd St. NW #105 20037 202-251-3939 7/9/24 malecforanc@gmail.com',\n",
       " '2A09',\n",
       " '2B01',\n",
       " '2B02 Jeffrey Reuckgauer 2130 P St. NW, Apt# 711 20037 202-630-1455 7/2/24 jardupontanc@gmail.com',\n",
       " '2B03 Vincent E. Slatt 1735 New Hampshire Ave. NW 20009 202-854-1215 7/2/24 vincente2b03@gmail.com',\n",
       " '2B04',\n",
       " '2B05 Alex Marshall . 20036 202-669-1542 7/9/24 alexmarshalldc@gmail.com',\n",
       " '2B06 Matt Johnson 1260 21st St. NW Apt #906 20036 202-495-8706 7/12/24 mattfor2b06@gmail.com',\n",
       " '2B07',\n",
       " '2B08 Zach Adams 1621 T St. NW Apt# 405 20009 202-430-6628 7/3/24 zachfor2b08@gmail.com',\n",
       " '2B09 Christopher Davis 1701 16th St. NW, Apt# 223 20009 202-709-7202 7/5/24 davis.w.christopher@gmail.com',\n",
       " '2C01 Michael D. Shankle 916 G St. NW Apt #203 20001 617-304-4372 7/12/24 michael.shankle@gmail.com',\n",
       " '2C02',\n",
       " '7/12/2024',\n",
       " '5:19 PM',\n",
       " 'Page 1']"
      ]
     },
     "execution_count": 3,
     "metadata": {},
     "output_type": "execute_result"
    }
   ],
   "source": [
    "text_split = text.split('\\n')\n",
    "text_split"
   ]
  },
  {
   "cell_type": "code",
   "execution_count": 4,
   "id": "4138e8df",
   "metadata": {},
   "outputs": [
    {
     "name": "stderr",
     "output_type": "stream",
     "text": [
      "Failed to import jpype dependencies. Fallback to subprocess.\n",
      "No module named 'jpype'\n",
      "Error from tabula-java:\n",
      "The operation couldn’t be completed. Unable to locate a Java Runtime.\n",
      "Please visit http://www.java.com for information on installing Java.\n",
      "\n",
      "\n",
      "\n"
     ]
    },
    {
     "ename": "CalledProcessError",
     "evalue": "Command '['java', '-Djava.awt.headless=true', '-Dfile.encoding=UTF8', '-jar', '/Users/devin/Projects/_environments/openanc310/lib/python3.10/site-packages/tabula/tabula-1.0.5-jar-with-dependencies.jar', '--pages', 'all', '--guess', '--format', 'JSON', '/Users/devin/Dropbox/OpenANC/DCBOE candidate lists 2024/2024-General-ANC-Candidates-07122024b.pdf']' returned non-zero exit status 1.",
     "output_type": "error",
     "traceback": [
      "\u001b[0;31m---------------------------------------------------------------------------\u001b[0m",
      "\u001b[0;31mCalledProcessError\u001b[0m                        Traceback (most recent call last)",
      "Cell \u001b[0;32mIn[4], line 4\u001b[0m\n\u001b[1;32m      1\u001b[0m \u001b[38;5;28;01mimport\u001b[39;00m \u001b[38;5;21;01mtabula\u001b[39;00m\n\u001b[1;32m      3\u001b[0m \u001b[38;5;66;03m# Read pdf into list of DataFrame\u001b[39;00m\n\u001b[0;32m----> 4\u001b[0m dfs \u001b[38;5;241m=\u001b[39m \u001b[43mtabula\u001b[49m\u001b[38;5;241;43m.\u001b[39;49m\u001b[43mread_pdf\u001b[49m\u001b[43m(\u001b[49m\u001b[43mpdf_path\u001b[49m\u001b[43m,\u001b[49m\u001b[43m \u001b[49m\u001b[43mpages\u001b[49m\u001b[38;5;241;43m=\u001b[39;49m\u001b[38;5;124;43m'\u001b[39;49m\u001b[38;5;124;43mall\u001b[39;49m\u001b[38;5;124;43m'\u001b[39;49m\u001b[43m)\u001b[49m\n\u001b[1;32m      6\u001b[0m \u001b[38;5;66;03m# Read remote pdf into list of DataFrame\u001b[39;00m\n\u001b[1;32m      7\u001b[0m dfs2 \u001b[38;5;241m=\u001b[39m tabula\u001b[38;5;241m.\u001b[39mread_pdf(\u001b[38;5;124m\"\u001b[39m\u001b[38;5;124mhttps://github.com/tabulapdf/tabula-java/raw/master/src/test/resources/technology/tabula/arabic.pdf\u001b[39m\u001b[38;5;124m\"\u001b[39m)\n",
      "File \u001b[0;32m~/Projects/_environments/openanc310/lib/python3.10/site-packages/tabula/io.py:400\u001b[0m, in \u001b[0;36mread_pdf\u001b[0;34m(input_path, output_format, encoding, java_options, pandas_options, multiple_tables, user_agent, use_raw_url, pages, guess, area, relative_area, lattice, stream, password, silent, columns, relative_columns, format, batch, output_path, force_subprocess, options)\u001b[0m\n\u001b[1;32m    397\u001b[0m     \u001b[38;5;28;01mraise\u001b[39;00m \u001b[38;5;167;01mValueError\u001b[39;00m(\u001b[38;5;124mf\u001b[39m\u001b[38;5;124m\"\u001b[39m\u001b[38;5;132;01m{\u001b[39;00mpath\u001b[38;5;132;01m}\u001b[39;00m\u001b[38;5;124m is empty. Check the file, or download it manually.\u001b[39m\u001b[38;5;124m\"\u001b[39m)\n\u001b[1;32m    399\u001b[0m \u001b[38;5;28;01mtry\u001b[39;00m:\n\u001b[0;32m--> 400\u001b[0m     output \u001b[38;5;241m=\u001b[39m \u001b[43m_run\u001b[49m\u001b[43m(\u001b[49m\n\u001b[1;32m    401\u001b[0m \u001b[43m        \u001b[49m\u001b[43mtabula_options\u001b[49m\u001b[43m,\u001b[49m\n\u001b[1;32m    402\u001b[0m \u001b[43m        \u001b[49m\u001b[43mjava_options\u001b[49m\u001b[43m,\u001b[49m\n\u001b[1;32m    403\u001b[0m \u001b[43m        \u001b[49m\u001b[43mpath\u001b[49m\u001b[43m,\u001b[49m\n\u001b[1;32m    404\u001b[0m \u001b[43m        \u001b[49m\u001b[43mencoding\u001b[49m\u001b[38;5;241;43m=\u001b[39;49m\u001b[43mencoding\u001b[49m\u001b[43m,\u001b[49m\n\u001b[1;32m    405\u001b[0m \u001b[43m        \u001b[49m\u001b[43mforce_subprocess\u001b[49m\u001b[38;5;241;43m=\u001b[39;49m\u001b[43mforce_subprocess\u001b[49m\u001b[43m,\u001b[49m\n\u001b[1;32m    406\u001b[0m \u001b[43m    \u001b[49m\u001b[43m)\u001b[49m\n\u001b[1;32m    407\u001b[0m \u001b[38;5;28;01mfinally\u001b[39;00m:\n\u001b[1;32m    408\u001b[0m     \u001b[38;5;28;01mif\u001b[39;00m temporary:\n",
      "File \u001b[0;32m~/Projects/_environments/openanc310/lib/python3.10/site-packages/tabula/io.py:86\u001b[0m, in \u001b[0;36m_run\u001b[0;34m(options, java_options, path, encoding, force_subprocess)\u001b[0m\n\u001b[1;32m     83\u001b[0m \u001b[38;5;28;01melif\u001b[39;00m \u001b[38;5;28mset\u001b[39m(java_options) \u001b[38;5;241m-\u001b[39m IGNORED_JAVA_OPTIONS:\n\u001b[1;32m     84\u001b[0m     logger\u001b[38;5;241m.\u001b[39mwarning(\u001b[38;5;124m\"\u001b[39m\u001b[38;5;124mjava_options is ignored until rebooting the Python process.\u001b[39m\u001b[38;5;124m\"\u001b[39m)\n\u001b[0;32m---> 86\u001b[0m \u001b[38;5;28;01mreturn\u001b[39;00m \u001b[43m_tabula_vm\u001b[49m\u001b[38;5;241;43m.\u001b[39;49m\u001b[43mcall_tabula_java\u001b[49m\u001b[43m(\u001b[49m\u001b[43moptions\u001b[49m\u001b[43m,\u001b[49m\u001b[43m \u001b[49m\u001b[43mpath\u001b[49m\u001b[43m)\u001b[49m\n",
      "File \u001b[0;32m~/Projects/_environments/openanc310/lib/python3.10/site-packages/tabula/backend.py:122\u001b[0m, in \u001b[0;36mSubprocessTabula.call_tabula_java\u001b[0;34m(self, options, path)\u001b[0m\n\u001b[1;32m    119\u001b[0m     args\u001b[38;5;241m.\u001b[39mappend(path)\n\u001b[1;32m    121\u001b[0m \u001b[38;5;28;01mtry\u001b[39;00m:\n\u001b[0;32m--> 122\u001b[0m     result \u001b[38;5;241m=\u001b[39m \u001b[43msubprocess\u001b[49m\u001b[38;5;241;43m.\u001b[39;49m\u001b[43mrun\u001b[49m\u001b[43m(\u001b[49m\n\u001b[1;32m    123\u001b[0m \u001b[43m        \u001b[49m\u001b[43margs\u001b[49m\u001b[43m,\u001b[49m\n\u001b[1;32m    124\u001b[0m \u001b[43m        \u001b[49m\u001b[43mstdout\u001b[49m\u001b[38;5;241;43m=\u001b[39;49m\u001b[43msubprocess\u001b[49m\u001b[38;5;241;43m.\u001b[39;49m\u001b[43mPIPE\u001b[49m\u001b[43m,\u001b[49m\n\u001b[1;32m    125\u001b[0m \u001b[43m        \u001b[49m\u001b[43mstderr\u001b[49m\u001b[38;5;241;43m=\u001b[39;49m\u001b[43msubprocess\u001b[49m\u001b[38;5;241;43m.\u001b[39;49m\u001b[43mPIPE\u001b[49m\u001b[43m,\u001b[49m\n\u001b[1;32m    126\u001b[0m \u001b[43m        \u001b[49m\u001b[43mstdin\u001b[49m\u001b[38;5;241;43m=\u001b[39;49m\u001b[43msubprocess\u001b[49m\u001b[38;5;241;43m.\u001b[39;49m\u001b[43mDEVNULL\u001b[49m\u001b[43m,\u001b[49m\n\u001b[1;32m    127\u001b[0m \u001b[43m        \u001b[49m\u001b[43mcheck\u001b[49m\u001b[38;5;241;43m=\u001b[39;49m\u001b[38;5;28;43;01mTrue\u001b[39;49;00m\u001b[43m,\u001b[49m\n\u001b[1;32m    128\u001b[0m \u001b[43m    \u001b[49m\u001b[43m)\u001b[49m\n\u001b[1;32m    129\u001b[0m     \u001b[38;5;28;01mif\u001b[39;00m result\u001b[38;5;241m.\u001b[39mstderr:\n\u001b[1;32m    130\u001b[0m         logger\u001b[38;5;241m.\u001b[39mwarning(\u001b[38;5;124mf\u001b[39m\u001b[38;5;124m\"\u001b[39m\u001b[38;5;124mGot stderr: \u001b[39m\u001b[38;5;132;01m{\u001b[39;00mresult\u001b[38;5;241m.\u001b[39mstderr\u001b[38;5;241m.\u001b[39mdecode(\u001b[38;5;28mself\u001b[39m\u001b[38;5;241m.\u001b[39mencoding)\u001b[38;5;132;01m}\u001b[39;00m\u001b[38;5;124m\"\u001b[39m)\n",
      "File \u001b[0;32m~/.pyenv/versions/3.10.3/lib/python3.10/subprocess.py:524\u001b[0m, in \u001b[0;36mrun\u001b[0;34m(input, capture_output, timeout, check, *popenargs, **kwargs)\u001b[0m\n\u001b[1;32m    522\u001b[0m     retcode \u001b[38;5;241m=\u001b[39m process\u001b[38;5;241m.\u001b[39mpoll()\n\u001b[1;32m    523\u001b[0m     \u001b[38;5;28;01mif\u001b[39;00m check \u001b[38;5;129;01mand\u001b[39;00m retcode:\n\u001b[0;32m--> 524\u001b[0m         \u001b[38;5;28;01mraise\u001b[39;00m CalledProcessError(retcode, process\u001b[38;5;241m.\u001b[39margs,\n\u001b[1;32m    525\u001b[0m                                  output\u001b[38;5;241m=\u001b[39mstdout, stderr\u001b[38;5;241m=\u001b[39mstderr)\n\u001b[1;32m    526\u001b[0m \u001b[38;5;28;01mreturn\u001b[39;00m CompletedProcess(process\u001b[38;5;241m.\u001b[39margs, retcode, stdout, stderr)\n",
      "\u001b[0;31mCalledProcessError\u001b[0m: Command '['java', '-Djava.awt.headless=true', '-Dfile.encoding=UTF8', '-jar', '/Users/devin/Projects/_environments/openanc310/lib/python3.10/site-packages/tabula/tabula-1.0.5-jar-with-dependencies.jar', '--pages', 'all', '--guess', '--format', 'JSON', '/Users/devin/Dropbox/OpenANC/DCBOE candidate lists 2024/2024-General-ANC-Candidates-07122024b.pdf']' returned non-zero exit status 1."
     ]
    }
   ],
   "source": [
    "import tabula\n",
    "\n",
    "# Read pdf into list of DataFrame\n",
    "dfs = tabula.read_pdf(pdf_path, pages='all')\n",
    "\n",
    "# Read remote pdf into list of DataFrame\n",
    "dfs2 = tabula.read_pdf(\"https://github.com/tabulapdf/tabula-java/raw/master/src/test/resources/technology/tabula/arabic.pdf\")\n",
    "\n",
    "# convert PDF into CSV file\n",
    "tabula.convert_into(\"test.pdf\", \"output.csv\", output_format=\"csv\", pages='all')\n",
    "\n",
    "# convert all PDFs in a directory\n",
    "tabula.convert_into_by_batch(\"input_directory\", output_format='csv', pages='all')"
   ]
  },
  {
   "cell_type": "code",
   "execution_count": null,
   "id": "7cd47456",
   "metadata": {},
   "outputs": [],
   "source": [
    "dir(tabula)"
   ]
  },
  {
   "cell_type": "code",
   "execution_count": null,
   "id": "77a63d32",
   "metadata": {},
   "outputs": [],
   "source": []
  }
 ],
 "metadata": {
  "kernelspec": {
   "display_name": "Python 3 (ipykernel)",
   "language": "python",
   "name": "python3"
  },
  "language_info": {
   "codemirror_mode": {
    "name": "ipython",
    "version": 3
   },
   "file_extension": ".py",
   "mimetype": "text/x-python",
   "name": "python",
   "nbconvert_exporter": "python",
   "pygments_lexer": "ipython3",
   "version": "3.10.3"
  }
 },
 "nbformat": 4,
 "nbformat_minor": 5
}
