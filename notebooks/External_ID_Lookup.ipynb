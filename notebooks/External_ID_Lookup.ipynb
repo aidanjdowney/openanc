{
 "cells": [
  {
   "cell_type": "markdown",
   "id": "779622a5",
   "metadata": {},
   "source": [
    "# External ID Lookup\n",
    "\n",
    "Create a new table with one row per external_id, with the person_id that it corresponds to."
   ]
  },
  {
   "cell_type": "code",
   "execution_count": 1,
   "id": "c6180b99",
   "metadata": {},
   "outputs": [],
   "source": [
    "import os\n",
    "os.chdir('..')\n",
    "\n",
    "import pandas as pd"
   ]
  },
  {
   "cell_type": "code",
   "execution_count": 2,
   "id": "a9e96395",
   "metadata": {},
   "outputs": [],
   "source": [
    "people = pd.read_csv('data/people.csv')"
   ]
  },
  {
   "cell_type": "code",
   "execution_count": 3,
   "id": "96b05d79",
   "metadata": {},
   "outputs": [
    {
     "data": {
      "text/plain": [
       "['94aa6bf43202356ced3ffe79b90da22607bd8a1d821ed4a296390eb0',\n",
       " 'cca02dff0ab960320376773aba8e11d8071161aecbf4abd14b971ca6',\n",
       " '3720a25a371e99c6c93c78a4747e64fc6d6d281dfc9c2b0bab89f7db']"
      ]
     },
     "execution_count": 3,
     "metadata": {},
     "output_type": "execute_result"
    }
   ],
   "source": [
    "people[people.hash_ids.notnull()].hash_ids.str.split(', ')[225]"
   ]
  },
  {
   "cell_type": "code",
   "execution_count": 4,
   "id": "18b586eb",
   "metadata": {},
   "outputs": [],
   "source": [
    "people['external_id_list'] = people.hash_ids.str.split(', ')"
   ]
  },
  {
   "cell_type": "code",
   "execution_count": 9,
   "id": "9ba1cb1c",
   "metadata": {},
   "outputs": [],
   "source": [
    "external_id_list = []\n",
    "\n",
    "for idx, row in people[people.hash_ids.notnull()].iterrows():\n",
    "    \n",
    "    for eid in row.external_id_list:\n",
    "        external_id_list += [[eid, row.person_id]]"
   ]
  },
  {
   "cell_type": "code",
   "execution_count": 10,
   "id": "4e2eb908",
   "metadata": {},
   "outputs": [],
   "source": [
    "# external_id_lookup = (\n",
    "#     pd.DataFrame\n",
    "#     .from_dict(external_id_dict, orient='index', columns=['person_id'])\n",
    "#     .reset_index()\n",
    "#     .rename(columns={'index': 'external_id'})\n",
    "# )"
   ]
  },
  {
   "cell_type": "code",
   "execution_count": 11,
   "id": "840a23cf",
   "metadata": {},
   "outputs": [
    {
     "data": {
      "text/html": [
       "<div>\n",
       "<style scoped>\n",
       "    .dataframe tbody tr th:only-of-type {\n",
       "        vertical-align: middle;\n",
       "    }\n",
       "\n",
       "    .dataframe tbody tr th {\n",
       "        vertical-align: top;\n",
       "    }\n",
       "\n",
       "    .dataframe thead th {\n",
       "        text-align: right;\n",
       "    }\n",
       "</style>\n",
       "<table border=\"1\" class=\"dataframe\">\n",
       "  <thead>\n",
       "    <tr style=\"text-align: right;\">\n",
       "      <th></th>\n",
       "      <th>external_id</th>\n",
       "      <th>person_id</th>\n",
       "    </tr>\n",
       "  </thead>\n",
       "  <tbody>\n",
       "    <tr>\n",
       "      <th>0</th>\n",
       "      <td>94aa6bf43202356ced3ffe79b90da22607bd8a1d821ed4...</td>\n",
       "      <td>10227</td>\n",
       "    </tr>\n",
       "    <tr>\n",
       "      <th>1</th>\n",
       "      <td>cca02dff0ab960320376773aba8e11d8071161aecbf4ab...</td>\n",
       "      <td>10227</td>\n",
       "    </tr>\n",
       "    <tr>\n",
       "      <th>2</th>\n",
       "      <td>3720a25a371e99c6c93c78a4747e64fc6d6d281dfc9c2b...</td>\n",
       "      <td>10227</td>\n",
       "    </tr>\n",
       "  </tbody>\n",
       "</table>\n",
       "</div>"
      ],
      "text/plain": [
       "                                         external_id  person_id\n",
       "0  94aa6bf43202356ced3ffe79b90da22607bd8a1d821ed4...      10227\n",
       "1  cca02dff0ab960320376773aba8e11d8071161aecbf4ab...      10227\n",
       "2  3720a25a371e99c6c93c78a4747e64fc6d6d281dfc9c2b...      10227"
      ]
     },
     "execution_count": 11,
     "metadata": {},
     "output_type": "execute_result"
    }
   ],
   "source": [
    "external_id_lookup = (\n",
    "    pd.DataFrame(external_id_list,columns=['external_id', 'person_id'])\n",
    "#     .reset_index()\n",
    "#     .rename(columns={'index': 'external_id'})\n",
    ")\n",
    "external_id_lookup"
   ]
  },
  {
   "cell_type": "code",
   "execution_count": null,
   "id": "622ae767",
   "metadata": {},
   "outputs": [],
   "source": []
  },
  {
   "cell_type": "code",
   "execution_count": 12,
   "id": "47d785a3",
   "metadata": {},
   "outputs": [],
   "source": [
    "# external_id_lookup.to_csv('data/external_id_person_id_lookup.csv', index=False)"
   ]
  },
  {
   "cell_type": "markdown",
   "id": "a70e6d6e",
   "metadata": {},
   "source": [
    "## Assemble existing external_id - person_id pairs"
   ]
  },
  {
   "cell_type": "code",
   "execution_count": null,
   "id": "c8e59719",
   "metadata": {},
   "outputs": [],
   "source": [
    "candidates = pd.read_csv('data/candidates.csv')\n"
   ]
  }
 ],
 "metadata": {
  "kernelspec": {
   "display_name": "Python 3 (ipykernel)",
   "language": "python",
   "name": "python3"
  },
  "language_info": {
   "codemirror_mode": {
    "name": "ipython",
    "version": 3
   },
   "file_extension": ".py",
   "mimetype": "text/x-python",
   "name": "python",
   "nbconvert_exporter": "python",
   "pygments_lexer": "ipython3",
   "version": "3.10.3"
  }
 },
 "nbformat": 4,
 "nbformat_minor": 5
}
