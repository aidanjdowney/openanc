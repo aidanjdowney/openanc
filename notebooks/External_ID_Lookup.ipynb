{
 "cells": [
  {
   "cell_type": "markdown",
   "id": "0b4d8ad7",
   "metadata": {},
   "source": [
    "# External ID Lookup\n",
    "\n",
    "Create a new table with one row per external_id, with the person_id that it corresponds to."
   ]
  },
  {
   "cell_type": "code",
   "execution_count": 1,
   "id": "26b48313",
   "metadata": {},
   "outputs": [],
   "source": [
    "import os\n",
    "os.chdir('..')\n",
    "\n",
    "import pandas as pd"
   ]
  },
  {
   "cell_type": "code",
   "execution_count": 2,
   "id": "0f749f0c",
   "metadata": {},
   "outputs": [],
   "source": [
    "people = pd.read_csv('data/people.csv')"
   ]
  },
  {
   "cell_type": "code",
   "execution_count": 3,
   "id": "ba771851",
   "metadata": {},
   "outputs": [
    {
     "data": {
      "text/plain": [
       "['94aa6bf43202356ced3ffe79b90da22607bd8a1d821ed4a296390eb0',\n",
       " 'cca02dff0ab960320376773aba8e11d8071161aecbf4abd14b971ca6',\n",
       " '3720a25a371e99c6c93c78a4747e64fc6d6d281dfc9c2b0bab89f7db']"
      ]
     },
     "execution_count": 3,
     "metadata": {},
     "output_type": "execute_result"
    }
   ],
   "source": [
    "people[people.hash_ids.notnull()].hash_ids.str.split(', ')[225]"
   ]
  },
  {
   "cell_type": "code",
   "execution_count": 4,
   "id": "2e1f117c",
   "metadata": {},
   "outputs": [],
   "source": [
    "people['external_id_list'] = people.hash_ids.str.split(', ')"
   ]
  },
  {
   "cell_type": "code",
   "execution_count": 5,
   "id": "28face4a",
   "metadata": {},
   "outputs": [],
   "source": [
    "external_id_list = []\n",
    "\n",
    "for idx, row in people[people.hash_ids.notnull()].iterrows():\n",
    "    \n",
    "    for eid in row.external_id_list:\n",
    "        external_id_list += [[eid, row.person_id]]"
   ]
  },
  {
   "cell_type": "code",
   "execution_count": 6,
   "id": "a9c6812d",
   "metadata": {},
   "outputs": [],
   "source": [
    "# external_id_lookup = (\n",
    "#     pd.DataFrame\n",
    "#     .from_dict(external_id_dict, orient='index', columns=['person_id'])\n",
    "#     .reset_index()\n",
    "#     .rename(columns={'index': 'external_id'})\n",
    "# )"
   ]
  },
  {
   "cell_type": "code",
   "execution_count": 7,
   "id": "c8f6df1e",
   "metadata": {},
   "outputs": [
    {
     "data": {
      "text/html": [
       "<div>\n",
       "<style scoped>\n",
       "    .dataframe tbody tr th:only-of-type {\n",
       "        vertical-align: middle;\n",
       "    }\n",
       "\n",
       "    .dataframe tbody tr th {\n",
       "        vertical-align: top;\n",
       "    }\n",
       "\n",
       "    .dataframe thead th {\n",
       "        text-align: right;\n",
       "    }\n",
       "</style>\n",
       "<table border=\"1\" class=\"dataframe\">\n",
       "  <thead>\n",
       "    <tr style=\"text-align: right;\">\n",
       "      <th></th>\n",
       "      <th>external_id</th>\n",
       "      <th>person_id</th>\n",
       "    </tr>\n",
       "  </thead>\n",
       "  <tbody>\n",
       "    <tr>\n",
       "      <th>0</th>\n",
       "      <td>94aa6bf43202356ced3ffe79b90da22607bd8a1d821ed4...</td>\n",
       "      <td>10227</td>\n",
       "    </tr>\n",
       "    <tr>\n",
       "      <th>1</th>\n",
       "      <td>cca02dff0ab960320376773aba8e11d8071161aecbf4ab...</td>\n",
       "      <td>10227</td>\n",
       "    </tr>\n",
       "    <tr>\n",
       "      <th>2</th>\n",
       "      <td>3720a25a371e99c6c93c78a4747e64fc6d6d281dfc9c2b...</td>\n",
       "      <td>10227</td>\n",
       "    </tr>\n",
       "  </tbody>\n",
       "</table>\n",
       "</div>"
      ],
      "text/plain": [
       "                                         external_id  person_id\n",
       "0  94aa6bf43202356ced3ffe79b90da22607bd8a1d821ed4...      10227\n",
       "1  cca02dff0ab960320376773aba8e11d8071161aecbf4ab...      10227\n",
       "2  3720a25a371e99c6c93c78a4747e64fc6d6d281dfc9c2b...      10227"
      ]
     },
     "execution_count": 7,
     "metadata": {},
     "output_type": "execute_result"
    }
   ],
   "source": [
    "external_id_lookup = (\n",
    "    pd.DataFrame(external_id_list,columns=['external_id', 'person_id'])\n",
    "#     .reset_index()\n",
    "#     .rename(columns={'index': 'external_id'})\n",
    ")\n",
    "external_id_lookup"
   ]
  },
  {
   "cell_type": "code",
   "execution_count": null,
   "id": "ba068640",
   "metadata": {},
   "outputs": [],
   "source": []
  },
  {
   "cell_type": "code",
   "execution_count": 8,
   "id": "a29cf1c8",
   "metadata": {},
   "outputs": [],
   "source": [
    "# external_id_lookup.to_csv('data/external_id_person_id_lookup.csv', index=False)"
   ]
  },
  {
   "cell_type": "markdown",
   "id": "fbe26381",
   "metadata": {},
   "source": [
    "## Assemble existing external_id - person_id pairs"
   ]
  },
  {
   "cell_type": "code",
   "execution_count": 15,
   "id": "03553170",
   "metadata": {},
   "outputs": [],
   "source": [
    "candidates = pd.read_csv('data/candidates.csv')"
   ]
  },
  {
   "cell_type": "code",
   "execution_count": 20,
   "id": "1ff88f1f",
   "metadata": {},
   "outputs": [],
   "source": [
    "external_grouped_by_person = (\n",
    "    candidates.loc[candidates.external_id.notnull(), ['external_id', 'person_id']]\n",
    "    .groupby('person_id')\n",
    "    .external_id.apply(', '.join)\n",
    "    .reset_index()\n",
    ")"
   ]
  },
  {
   "cell_type": "code",
   "execution_count": 21,
   "id": "45d1d788",
   "metadata": {},
   "outputs": [],
   "source": [
    "people_to_gsheets = pd.merge(people, external_grouped_by_person, how='left', on='person_id')"
   ]
  },
  {
   "cell_type": "code",
   "execution_count": 24,
   "id": "5040df85",
   "metadata": {},
   "outputs": [],
   "source": [
    "people_to_gsheets[['person_id', 'external_id']].to_clipboard(index=False)"
   ]
  },
  {
   "cell_type": "code",
   "execution_count": null,
   "id": "2505b300",
   "metadata": {},
   "outputs": [],
   "source": []
  }
 ],
 "metadata": {
  "kernelspec": {
   "display_name": "Python 3 (ipykernel)",
   "language": "python",
   "name": "python3"
  },
  "language_info": {
   "codemirror_mode": {
    "name": "ipython",
    "version": 3
   },
   "file_extension": ".py",
   "mimetype": "text/x-python",
   "name": "python",
   "nbconvert_exporter": "python",
   "pygments_lexer": "ipython3",
   "version": "3.10.3"
  }
 },
 "nbformat": 4,
 "nbformat_minor": 5
}
