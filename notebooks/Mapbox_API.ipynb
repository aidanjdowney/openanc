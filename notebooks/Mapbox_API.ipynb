{
 "cells": [
  {
   "cell_type": "markdown",
   "metadata": {},
   "source": [
    "# Mapbox API\n",
    "\n",
    "Use the Mapbox Tiling Service to update the data in our tilesets with new candidate information. "
   ]
  },
  {
   "cell_type": "code",
   "execution_count": 1,
   "metadata": {},
   "outputs": [],
   "source": [
    "import os\n",
    "import mapbox\n",
    "import requests\n",
    "from pathlib import Path"
   ]
  },
  {
   "cell_type": "code",
   "execution_count": 2,
   "metadata": {},
   "outputs": [
    {
     "data": {
      "text/plain": [
       "PosixPath('/Users/devin/Projects/openanc/uploads/to-mapbox-smd-2012-data.geojson')"
      ]
     },
     "execution_count": 2,
     "metadata": {},
     "output_type": "execute_result"
    }
   ],
   "source": [
    "# file_to_upload = Path('../uploads/to-mapbox-label-points-2012-data.csv')\n",
    "file_to_upload = Path('../uploads/to-mapbox-smd-2012-data.geojson')\n",
    "\n",
    "file_to_upload.resolve()"
   ]
  },
  {
   "cell_type": "code",
   "execution_count": 3,
   "metadata": {},
   "outputs": [
    {
     "data": {
      "text/plain": [
       "<Response [400]>"
      ]
     },
     "execution_count": 3,
     "metadata": {},
     "output_type": "execute_result"
    }
   ],
   "source": [
    "username = 'devinbrady'\n",
    "\n",
    "# tileset_name = 'label_points-1hpryp'\n",
    "# tileset_id = 'devinbrady.a2avuvua'\n",
    "\n",
    "tileset_name = 'smd-0jwnar'\n",
    "tileset_id = 'devinbrady.3ltfmuwd'\n",
    "\n",
    "mapbox_token = os.environ['MAPBOX_ACCESS_TOKEN']\n",
    "headers_dict = {'Content-Type':'application/octet-stream'}\n",
    "\n",
    "with open(file_to_upload, 'rb') as f:\n",
    "    data = f.read()\n",
    "\n",
    "files_dict = {'file': data}\n",
    "    \n",
    "r = requests.put(\n",
    "    f'https://api.mapbox.com/tilesets/v1/sources/{username}/{tileset_name}?access_token={mapbox_token}'\n",
    "    , files=files_dict\n",
    "    , headers=headers_dict\n",
    ")\n",
    "\n",
    "r"
   ]
  },
  {
   "cell_type": "code",
   "execution_count": 4,
   "metadata": {},
   "outputs": [
    {
     "data": {
      "text/plain": [
       "'{\"message\":\"No file data in request. Expected 1 file named \\\\\"file\\\\\".\"}'"
      ]
     },
     "execution_count": 4,
     "metadata": {},
     "output_type": "execute_result"
    }
   ],
   "source": [
    "r.text"
   ]
  },
  {
   "cell_type": "code",
   "execution_count": null,
   "metadata": {},
   "outputs": [],
   "source": []
  },
  {
   "cell_type": "code",
   "execution_count": null,
   "metadata": {},
   "outputs": [],
   "source": []
  }
 ],
 "metadata": {
  "kernelspec": {
   "display_name": "Python 3",
   "language": "python",
   "name": "python3"
  },
  "language_info": {
   "codemirror_mode": {
    "name": "ipython",
    "version": 3
   },
   "file_extension": ".py",
   "mimetype": "text/x-python",
   "name": "python",
   "nbconvert_exporter": "python",
   "pygments_lexer": "ipython3",
   "version": "3.7.1"
  }
 },
 "nbformat": 4,
 "nbformat_minor": 4
}
