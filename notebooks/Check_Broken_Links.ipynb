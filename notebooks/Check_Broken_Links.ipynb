{
 "cells": [
  {
   "cell_type": "markdown",
   "metadata": {},
   "source": [
    "# Check Broken Links"
   ]
  },
  {
   "cell_type": "code",
   "execution_count": 1,
   "metadata": {},
   "outputs": [],
   "source": [
    "import os\n",
    "import pandas as pd\n",
    "from glob import glob\n",
    "from bs4 import BeautifulSoup"
   ]
  },
  {
   "cell_type": "code",
   "execution_count": 2,
   "metadata": {},
   "outputs": [],
   "source": [
    "html_root = '../docs/'"
   ]
  },
  {
   "cell_type": "code",
   "execution_count": 3,
   "metadata": {},
   "outputs": [],
   "source": [
    "# html_files = [f for f in os.listdir(html_root) if '.html' in f]\n",
    "html_files = sorted([y for x in os.walk(html_root) for y in glob(os.path.join(x[0], '*.html'))])"
   ]
  },
  {
   "cell_type": "code",
   "execution_count": 4,
   "metadata": {},
   "outputs": [],
   "source": [
    "df = pd.DataFrame()\n",
    "\n",
    "for h in html_files:\n",
    "\n",
    "    with open(h, 'r') as f:\n",
    "        html_text = f.read()\n",
    "\n",
    "    df_file = pd.DataFrame()\n",
    "    soup = BeautifulSoup(html_text, features='html.parser')\n",
    "    links = [link.get('href') for link in soup.find_all('a')]\n",
    "    \n",
    "    df_file['destination'] = links\n",
    "    df_file['source'] = h\n",
    "    \n",
    "    df = pd.concat([df, df_file], ignore_index=True)"
   ]
  },
  {
   "cell_type": "code",
   "execution_count": 6,
   "metadata": {},
   "outputs": [],
   "source": [
    "df['is_local'] = True\n",
    "df.loc[df.destination.str.contains('http'), 'is_local'] = False"
   ]
  },
  {
   "cell_type": "code",
   "execution_count": 9,
   "metadata": {},
   "outputs": [],
   "source": [
    "df['exists'] = df['destination'].apply(lambda x: os.path.exists(html_root + x))"
   ]
  },
  {
   "cell_type": "code",
   "execution_count": 7,
   "metadata": {},
   "outputs": [],
   "source": [
    "links_to_check = df[df.is_local].groupby('destination').size()\n",
    "# links_to_check"
   ]
  },
  {
   "cell_type": "code",
   "execution_count": 8,
   "metadata": {},
   "outputs": [],
   "source": [
    "df['is_broken'] = (df.is_local) & ~(df.exists)"
   ]
  },
  {
   "cell_type": "code",
   "execution_count": 9,
   "metadata": {},
   "outputs": [
    {
     "data": {
      "text/plain": [
       "758"
      ]
     },
     "execution_count": 9,
     "metadata": {},
     "output_type": "execute_result"
    }
   ],
   "source": [
    "df.is_broken.sum()"
   ]
  },
  {
   "cell_type": "code",
   "execution_count": 10,
   "metadata": {},
   "outputs": [
    {
     "data": {
      "text/plain": [
       "['counts.html', 'list.html']"
      ]
     },
     "execution_count": 10,
     "metadata": {},
     "output_type": "execute_result"
    }
   ],
   "source": [
    "df[df.is_broken].source.unique().tolist()"
   ]
  },
  {
   "cell_type": "code",
   "execution_count": 10,
   "metadata": {},
   "outputs": [
    {
     "data": {
      "text/html": [
       "<div>\n",
       "<style scoped>\n",
       "    .dataframe tbody tr th:only-of-type {\n",
       "        vertical-align: middle;\n",
       "    }\n",
       "\n",
       "    .dataframe tbody tr th {\n",
       "        vertical-align: top;\n",
       "    }\n",
       "\n",
       "    .dataframe thead th {\n",
       "        text-align: right;\n",
       "    }\n",
       "</style>\n",
       "<table border=\"1\" class=\"dataframe\">\n",
       "  <thead>\n",
       "    <tr style=\"text-align: right;\">\n",
       "      <th></th>\n",
       "      <th>destination</th>\n",
       "      <th>source</th>\n",
       "      <th>is_local</th>\n",
       "      <th>exists</th>\n",
       "    </tr>\n",
       "  </thead>\n",
       "  <tbody>\n",
       "    <tr>\n",
       "      <th>0</th>\n",
       "      <td>about.html</td>\n",
       "      <td>../docs/index.html</td>\n",
       "      <td>True</td>\n",
       "      <td>True</td>\n",
       "    </tr>\n",
       "    <tr>\n",
       "      <th>1</th>\n",
       "      <td>https://en.wikipedia.org/wiki/Advisory_Neighbo...</td>\n",
       "      <td>../docs/about.html</td>\n",
       "      <td>False</td>\n",
       "      <td>False</td>\n",
       "    </tr>\n",
       "    <tr>\n",
       "      <th>2</th>\n",
       "      <td>https://anc.dc.gov/</td>\n",
       "      <td>../docs/about.html</td>\n",
       "      <td>False</td>\n",
       "      <td>False</td>\n",
       "    </tr>\n",
       "    <tr>\n",
       "      <th>3</th>\n",
       "      <td>https://opendata.dc.gov/datasets/single-member...</td>\n",
       "      <td>../docs/about.html</td>\n",
       "      <td>False</td>\n",
       "      <td>False</td>\n",
       "    </tr>\n",
       "    <tr>\n",
       "      <th>4</th>\n",
       "      <td>http://www.thegreatermarin.org/</td>\n",
       "      <td>../docs/about.html</td>\n",
       "      <td>False</td>\n",
       "      <td>False</td>\n",
       "    </tr>\n",
       "    <tr>\n",
       "      <th>...</th>\n",
       "      <td>...</td>\n",
       "      <td>...</td>\n",
       "      <td>...</td>\n",
       "      <td>...</td>\n",
       "    </tr>\n",
       "    <tr>\n",
       "      <th>30748</th>\n",
       "      <td>../../people/people_list.html</td>\n",
       "      <td>../docs/people/Earl_E_Biglow.html</td>\n",
       "      <td>True</td>\n",
       "      <td>False</td>\n",
       "    </tr>\n",
       "    <tr>\n",
       "      <th>30749</th>\n",
       "      <td>../../counts.html</td>\n",
       "      <td>../docs/people/Earl_E_Biglow.html</td>\n",
       "      <td>True</td>\n",
       "      <td>False</td>\n",
       "    </tr>\n",
       "    <tr>\n",
       "      <th>30750</th>\n",
       "      <td>../../about.html</td>\n",
       "      <td>../docs/people/Earl_E_Biglow.html</td>\n",
       "      <td>True</td>\n",
       "      <td>False</td>\n",
       "    </tr>\n",
       "    <tr>\n",
       "      <th>30751</th>\n",
       "      <td>https://twitter.com/OpenANC</td>\n",
       "      <td>../docs/people/Earl_E_Biglow.html</td>\n",
       "      <td>False</td>\n",
       "      <td>False</td>\n",
       "    </tr>\n",
       "    <tr>\n",
       "      <th>30752</th>\n",
       "      <td>../../index.html</td>\n",
       "      <td>../docs/people/Earl_E_Biglow.html</td>\n",
       "      <td>True</td>\n",
       "      <td>False</td>\n",
       "    </tr>\n",
       "  </tbody>\n",
       "</table>\n",
       "<p>30753 rows × 4 columns</p>\n",
       "</div>"
      ],
      "text/plain": [
       "                                             destination  \\\n",
       "0                                             about.html   \n",
       "1      https://en.wikipedia.org/wiki/Advisory_Neighbo...   \n",
       "2                                    https://anc.dc.gov/   \n",
       "3      https://opendata.dc.gov/datasets/single-member...   \n",
       "4                        http://www.thegreatermarin.org/   \n",
       "...                                                  ...   \n",
       "30748                      ../../people/people_list.html   \n",
       "30749                                  ../../counts.html   \n",
       "30750                                   ../../about.html   \n",
       "30751                        https://twitter.com/OpenANC   \n",
       "30752                                   ../../index.html   \n",
       "\n",
       "                                  source  is_local  exists  \n",
       "0                     ../docs/index.html      True    True  \n",
       "1                     ../docs/about.html     False   False  \n",
       "2                     ../docs/about.html     False   False  \n",
       "3                     ../docs/about.html     False   False  \n",
       "4                     ../docs/about.html     False   False  \n",
       "...                                  ...       ...     ...  \n",
       "30748  ../docs/people/Earl_E_Biglow.html      True   False  \n",
       "30749  ../docs/people/Earl_E_Biglow.html      True   False  \n",
       "30750  ../docs/people/Earl_E_Biglow.html      True   False  \n",
       "30751  ../docs/people/Earl_E_Biglow.html     False   False  \n",
       "30752  ../docs/people/Earl_E_Biglow.html      True   False  \n",
       "\n",
       "[30753 rows x 4 columns]"
      ]
     },
     "execution_count": 10,
     "metadata": {},
     "output_type": "execute_result"
    }
   ],
   "source": [
    "df"
   ]
  },
  {
   "cell_type": "code",
   "execution_count": 13,
   "metadata": {},
   "outputs": [
    {
     "data": {
      "text/plain": [
       "True"
      ]
     },
     "execution_count": 13,
     "metadata": {},
     "output_type": "execute_result"
    }
   ],
   "source": [
    "os.path.exists(html_root + 'index.html')"
   ]
  },
  {
   "cell_type": "code",
   "execution_count": null,
   "metadata": {},
   "outputs": [],
   "source": []
  }
 ],
 "metadata": {
  "kernelspec": {
   "display_name": "Python 3",
   "language": "python",
   "name": "python3"
  },
  "language_info": {
   "codemirror_mode": {
    "name": "ipython",
    "version": 3
   },
   "file_extension": ".py",
   "mimetype": "text/x-python",
   "name": "python",
   "nbconvert_exporter": "python",
   "pygments_lexer": "ipython3",
   "version": "3.7.1"
  }
 },
 "nbformat": 4,
 "nbformat_minor": 4
}
