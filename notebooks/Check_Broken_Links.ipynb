{
 "cells": [
  {
   "cell_type": "markdown",
   "metadata": {},
   "source": [
    "# Check Broken Links"
   ]
  },
  {
   "cell_type": "code",
   "execution_count": 1,
   "metadata": {},
   "outputs": [],
   "source": [
    "import requests\n",
    "from bs4 import BeautifulSoup\n",
    "from concurrent.futures import ThreadPoolExecutor"
   ]
  },
  {
   "cell_type": "code",
   "execution_count": 2,
   "metadata": {},
   "outputs": [],
   "source": [
    "def get_broken_links(url):\n",
    "    # source: https://brianli.com/2021/06/how-to-find-broken-links-with-python/\n",
    "\n",
    "    # Set root domain.\n",
    "    root_domain = 'openanc.org'\n",
    "#     root_domain = 'file:///Users/devin/Projects/openanc/docs/'\n",
    "    \n",
    "    # Internal function for validating HTTP status code.\n",
    "    def _validate_url(url):\n",
    "        r = requests.head(url)\n",
    "        if r.status_code == 404:\n",
    "            broken_links.append(url)\n",
    "            \n",
    "    # Make request to URL.      \n",
    "    data = requests.get(url).text\n",
    "    \n",
    "    # Parse HTML from request.\n",
    "    soup = BeautifulSoup(data, features=\"html.parser\")\n",
    "    \n",
    "    # Create a list containing all links with the root domain.\n",
    "    links = [link.get(\"href\") for link in soup.find_all(\"a\")]\n",
    "    print(links)\n",
    "    \n",
    "    # Initialize list for broken links.\n",
    "    broken_links = []\n",
    "    \n",
    "    # Loop through links checking for 404 responses, and append to list.\n",
    "    with ThreadPoolExecutor(max_workers=8) as executor:\n",
    "        executor.map(_validate_url, links)\n",
    "        \n",
    "    return broken_links"
   ]
  },
  {
   "cell_type": "code",
   "execution_count": 3,
   "metadata": {},
   "outputs": [
    {
     "name": "stdout",
     "output_type": "stream",
     "text": [
      "['index.html', 'index.html', 'ancs/anc1a.html', 'ancs/districts/1a01.html', 'ancs/districts/1a02.html', 'ancs/districts/1a03.html', 'ancs/districts/1a04.html', 'ancs/districts/1a05.html', 'ancs/districts/1a06.html', 'ancs/districts/1a07.html', 'ancs/districts/1a08.html', 'ancs/districts/1a09.html', 'ancs/districts/1a10.html', 'ancs/districts/1a11.html', 'ancs/districts/1a12.html', 'ancs/anc1b.html', 'ancs/districts/1b01.html', 'ancs/districts/1b02.html', 'ancs/districts/1b03.html', 'ancs/districts/1b04.html', 'ancs/districts/1b05.html', 'ancs/districts/1b06.html', 'ancs/districts/1b07.html', 'ancs/districts/1b08.html', 'ancs/districts/1b09.html', 'ancs/districts/1b10.html', 'ancs/districts/1b11.html', 'ancs/districts/1b12.html', 'ancs/anc1c.html', 'ancs/districts/1c01.html', 'ancs/districts/1c02.html', 'ancs/districts/1c03.html', 'ancs/districts/1c04.html', 'ancs/districts/1c05.html', 'ancs/districts/1c06.html', 'ancs/districts/1c07.html', 'ancs/districts/1c08.html', 'ancs/anc1d.html', 'ancs/districts/1d01.html', 'ancs/districts/1d02.html', 'ancs/districts/1d03.html', 'ancs/districts/1d04.html', 'ancs/districts/1d05.html', 'ancs/anc2a.html', 'ancs/districts/2a01.html', 'ancs/districts/2a02.html', 'ancs/districts/2a03.html', 'ancs/districts/2a04.html', 'ancs/districts/2a05.html', 'ancs/districts/2a06.html', 'ancs/districts/2a07.html', 'ancs/districts/2a08.html', 'ancs/anc2b.html', 'ancs/districts/2b01.html', 'ancs/districts/2b02.html', 'ancs/districts/2b03.html', 'ancs/districts/2b04.html', 'ancs/districts/2b05.html', 'ancs/districts/2b06.html', 'ancs/districts/2b07.html', 'ancs/districts/2b08.html', 'ancs/districts/2b09.html', 'ancs/anc2c.html', 'ancs/districts/2c01.html', 'ancs/districts/2c02.html', 'ancs/districts/2c03.html', 'ancs/anc2d.html', 'ancs/districts/2d01.html', 'ancs/districts/2d02.html', 'ancs/anc2e.html', 'ancs/districts/2e01.html', 'ancs/districts/2e02.html', 'ancs/districts/2e03.html', 'ancs/districts/2e04.html', 'ancs/districts/2e05.html', 'ancs/districts/2e06.html', 'ancs/districts/2e07.html', 'ancs/districts/2e08.html', 'ancs/anc2f.html', 'ancs/districts/2f01.html', 'ancs/districts/2f02.html', 'ancs/districts/2f03.html', 'ancs/districts/2f04.html', 'ancs/districts/2f05.html', 'ancs/districts/2f06.html', 'ancs/districts/2f07.html', 'ancs/districts/2f08.html', 'ancs/anc3b.html', 'ancs/districts/3b01.html', 'ancs/districts/3b02.html', 'ancs/districts/3b03.html', 'ancs/districts/3b04.html', 'ancs/districts/3b05.html', 'ancs/anc3c.html', 'ancs/districts/3c01.html', 'ancs/districts/3c02.html', 'ancs/districts/3c03.html', 'ancs/districts/3c04.html', 'ancs/districts/3c05.html', 'ancs/districts/3c06.html', 'ancs/districts/3c07.html', 'ancs/districts/3c08.html', 'ancs/districts/3c09.html', 'ancs/anc3d.html', 'ancs/districts/3d01.html', 'ancs/districts/3d02.html', 'ancs/districts/3d03.html', 'ancs/districts/3d04.html', 'ancs/districts/3d05.html', 'ancs/districts/3d06.html', 'ancs/districts/3d07.html', 'ancs/districts/3d08.html', 'ancs/districts/3d09.html', 'ancs/districts/3d10.html', 'ancs/anc3e.html', 'ancs/districts/3e01.html', 'ancs/districts/3e02.html', 'ancs/districts/3e03.html', 'ancs/districts/3e04.html', 'ancs/districts/3e05.html', 'ancs/anc3f.html', 'ancs/districts/3f01.html', 'ancs/districts/3f02.html', 'ancs/districts/3f03.html', 'ancs/districts/3f04.html', 'ancs/districts/3f05.html', 'ancs/districts/3f06.html', 'ancs/districts/3f07.html', 'ancs/anc3g.html', 'ancs/districts/3g01.html', 'ancs/districts/3g02.html', 'ancs/districts/3g03.html', 'ancs/districts/3g04.html', 'ancs/districts/3g05.html', 'ancs/districts/3g06.html', 'ancs/districts/3g07.html', 'ancs/anc4a.html', 'ancs/districts/4a01.html', 'ancs/districts/4a02.html', 'ancs/districts/4a03.html', 'ancs/districts/4a04.html', 'ancs/districts/4a05.html', 'ancs/districts/4a06.html', 'ancs/districts/4a07.html', 'ancs/districts/4a08.html', 'ancs/anc4b.html', 'ancs/districts/4b01.html', 'ancs/districts/4b02.html', 'ancs/districts/4b03.html', 'ancs/districts/4b04.html', 'ancs/districts/4b05.html', 'ancs/districts/4b06.html', 'ancs/districts/4b07.html', 'ancs/districts/4b08.html', 'ancs/districts/4b09.html', 'ancs/anc4c.html', 'ancs/districts/4c01.html', 'ancs/districts/4c02.html', 'ancs/districts/4c03.html', 'ancs/districts/4c04.html', 'ancs/districts/4c05.html', 'ancs/districts/4c06.html', 'ancs/districts/4c07.html', 'ancs/districts/4c08.html', 'ancs/districts/4c09.html', 'ancs/districts/4c10.html', 'ancs/anc4d.html', 'ancs/districts/4d01.html', 'ancs/districts/4d02.html', 'ancs/districts/4d03.html', 'ancs/districts/4d04.html', 'ancs/districts/4d05.html', 'ancs/districts/4d06.html', 'ancs/anc5a.html', 'ancs/districts/5a01.html', 'ancs/districts/5a02.html', 'ancs/districts/5a03.html', 'ancs/districts/5a04.html', 'ancs/districts/5a05.html', 'ancs/districts/5a06.html', 'ancs/districts/5a07.html', 'ancs/districts/5a08.html', 'ancs/anc5b.html', 'ancs/districts/5b01.html', 'ancs/districts/5b02.html', 'ancs/districts/5b03.html', 'ancs/districts/5b04.html', 'ancs/districts/5b05.html', 'ancs/anc5c.html', 'ancs/districts/5c01.html', 'ancs/districts/5c02.html', 'ancs/districts/5c03.html', 'ancs/districts/5c04.html', 'ancs/districts/5c05.html', 'ancs/districts/5c06.html', 'ancs/districts/5c07.html', 'ancs/anc5d.html', 'ancs/districts/5d01.html', 'ancs/districts/5d02.html', 'ancs/districts/5d03.html', 'ancs/districts/5d04.html', 'ancs/districts/5d05.html', 'ancs/districts/5d06.html', 'ancs/districts/5d07.html', 'ancs/anc5e.html', 'ancs/districts/5e01.html', 'ancs/districts/5e02.html', 'ancs/districts/5e03.html', 'ancs/districts/5e04.html', 'ancs/districts/5e05.html', 'ancs/districts/5e06.html', 'ancs/districts/5e07.html', 'ancs/districts/5e08.html', 'ancs/districts/5e09.html', 'ancs/districts/5e10.html', 'ancs/anc6a.html', 'ancs/districts/6a01.html', 'ancs/districts/6a02.html', 'ancs/districts/6a03.html', 'ancs/districts/6a04.html', 'ancs/districts/6a05.html', 'ancs/districts/6a06.html', 'ancs/districts/6a07.html', 'ancs/districts/6a08.html', 'ancs/anc6b.html', 'ancs/districts/6b01.html', 'ancs/districts/6b02.html', 'ancs/districts/6b03.html', 'ancs/districts/6b04.html', 'ancs/districts/6b05.html', 'ancs/districts/6b06.html', 'ancs/districts/6b07.html', 'ancs/districts/6b08.html', 'ancs/districts/6b09.html', 'ancs/districts/6b10.html', 'ancs/anc6c.html', 'ancs/districts/6c01.html', 'ancs/districts/6c02.html', 'ancs/districts/6c03.html', 'ancs/districts/6c04.html', 'ancs/districts/6c05.html', 'ancs/districts/6c06.html', 'ancs/anc6d.html', 'ancs/districts/6d01.html', 'ancs/districts/6d02.html', 'ancs/districts/6d03.html', 'ancs/districts/6d04.html', 'ancs/districts/6d05.html', 'ancs/districts/6d06.html', 'ancs/districts/6d07.html', 'ancs/anc6e.html', 'ancs/districts/6e01.html', 'ancs/districts/6e02.html', 'ancs/districts/6e03.html', 'ancs/districts/6e04.html', 'ancs/districts/6e05.html', 'ancs/districts/6e06.html', 'ancs/districts/6e07.html', 'ancs/anc7b.html', 'ancs/districts/7b01.html', 'ancs/districts/7b02.html', 'ancs/districts/7b03.html', 'ancs/districts/7b04.html', 'ancs/districts/7b05.html', 'ancs/districts/7b06.html', 'ancs/districts/7b07.html', 'ancs/anc7c.html', 'ancs/districts/7c01.html', 'ancs/districts/7c02.html', 'ancs/districts/7c03.html', 'ancs/districts/7c04.html', 'ancs/districts/7c05.html', 'ancs/districts/7c06.html', 'ancs/districts/7c07.html', 'ancs/anc7d.html', 'ancs/districts/7d01.html', 'ancs/districts/7d02.html', 'ancs/districts/7d03.html', 'ancs/districts/7d04.html', 'ancs/districts/7d05.html', 'ancs/districts/7d06.html', 'ancs/districts/7d07.html', 'ancs/anc7e.html', 'ancs/districts/7e01.html', 'ancs/districts/7e02.html', 'ancs/districts/7e03.html', 'ancs/districts/7e04.html', 'ancs/districts/7e05.html', 'ancs/districts/7e06.html', 'ancs/districts/7e07.html', 'ancs/anc7f.html', 'ancs/districts/7f01.html', 'ancs/districts/7f02.html', 'ancs/districts/7f03.html', 'ancs/districts/7f04.html', 'ancs/districts/7f05.html', 'ancs/districts/7f06.html', 'ancs/districts/7f07.html', 'ancs/anc8a.html', 'ancs/districts/8a01.html', 'ancs/districts/8a02.html', 'ancs/districts/8a03.html', 'ancs/districts/8a04.html', 'ancs/districts/8a05.html', 'ancs/districts/8a06.html', 'ancs/districts/8a07.html', 'ancs/anc8b.html', 'ancs/districts/8b01.html', 'ancs/districts/8b02.html', 'ancs/districts/8b03.html', 'ancs/districts/8b04.html', 'ancs/districts/8b05.html', 'ancs/districts/8b06.html', 'ancs/districts/8b07.html', 'ancs/anc8c.html', 'ancs/districts/8c01.html', 'ancs/districts/8c02.html', 'ancs/districts/8c03.html', 'ancs/districts/8c04.html', 'ancs/districts/8c05.html', 'ancs/districts/8c06.html', 'ancs/districts/8c07.html', 'ancs/anc8d.html', 'ancs/districts/8d01.html', 'ancs/districts/8d02.html', 'ancs/districts/8d03.html', 'ancs/districts/8d04.html', 'ancs/districts/8d05.html', 'ancs/districts/8d06.html', 'ancs/districts/8d07.html', 'ancs/anc8e.html', 'ancs/districts/8e01.html', 'ancs/districts/8e02.html', 'ancs/districts/8e03.html', 'ancs/districts/8e04.html', 'ancs/districts/8e05.html', 'ancs/districts/8e06.html', 'ancs/districts/8e07.html', 'https://docs.google.com/forms/d/e/1FAIpQLSdt0eG_GnVSM5vqL4OHDFEMn6d2g_La8nj94pUswzt_uY1K-A/viewform', 'index.html', 'list.html', 'counts.html', 'about.html', 'https://twitter.com/OpenANC', 'index.html']\n"
     ]
    }
   ],
   "source": [
    "x = get_broken_links('https://openanc.org/list.html')"
   ]
  },
  {
   "cell_type": "code",
   "execution_count": 5,
   "metadata": {},
   "outputs": [
    {
     "data": {
      "text/plain": [
       "[]"
      ]
     },
     "execution_count": 5,
     "metadata": {},
     "output_type": "execute_result"
    }
   ],
   "source": [
    "x"
   ]
  },
  {
   "cell_type": "code",
   "execution_count": null,
   "metadata": {},
   "outputs": [],
   "source": []
  }
 ],
 "metadata": {
  "kernelspec": {
   "display_name": "Python 3",
   "language": "python",
   "name": "python3"
  },
  "language_info": {
   "codemirror_mode": {
    "name": "ipython",
    "version": 3
   },
   "file_extension": ".py",
   "mimetype": "text/x-python",
   "name": "python",
   "nbconvert_exporter": "python",
   "pygments_lexer": "ipython3",
   "version": "3.7.1"
  }
 },
 "nbformat": 4,
 "nbformat_minor": 4
}
