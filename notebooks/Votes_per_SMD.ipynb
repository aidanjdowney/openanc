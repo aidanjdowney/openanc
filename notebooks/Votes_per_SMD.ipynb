{
 "cells": [
  {
   "cell_type": "markdown",
   "metadata": {},
   "source": [
    "Sum and rank the number of votes cast in each SMD"
   ]
  },
  {
   "cell_type": "code",
   "execution_count": 1,
   "metadata": {},
   "outputs": [],
   "source": [
    "import pandas as pd"
   ]
  },
  {
   "cell_type": "code",
   "execution_count": 2,
   "metadata": {},
   "outputs": [],
   "source": [
    "results = pd.read_csv('../data/results.csv')\n",
    "districts = pd.read_csv('../data/districts.csv')"
   ]
  },
  {
   "cell_type": "code",
   "execution_count": 3,
   "metadata": {},
   "outputs": [],
   "source": [
    "votes_per_smd = pd.DataFrame(results.groupby('smd_id').votes.sum()).reset_index()"
   ]
  },
  {
   "cell_type": "code",
   "execution_count": 4,
   "metadata": {},
   "outputs": [],
   "source": [
    "# Calculate number of SMDs in each Ward and ANC\n",
    "smds_per_ward = pd.DataFrame(districts.groupby('ward').size(), columns=['smds_in_ward']).reset_index()\n",
    "smds_per_anc = pd.DataFrame(districts.groupby('anc_id').size(), columns=['smds_in_anc']).reset_index()"
   ]
  },
  {
   "cell_type": "code",
   "execution_count": 5,
   "metadata": {},
   "outputs": [],
   "source": [
    "divo = pd.merge(districts, votes_per_smd, how='inner', on='smd_id')\n",
    "divo = pd.merge(divo, smds_per_ward, how='inner', on='ward')\n",
    "divo = pd.merge(divo, smds_per_anc, how='inner', on='anc_id')"
   ]
  },
  {
   "cell_type": "code",
   "execution_count": 6,
   "metadata": {},
   "outputs": [],
   "source": [
    "divo['smds_in_dc'] = len(districts)"
   ]
  },
  {
   "cell_type": "code",
   "execution_count": 7,
   "metadata": {},
   "outputs": [],
   "source": [
    "# method = min: assigns the lowest rank when multiple rows are tied\n",
    "divo['rank_dc'] = divo['votes'].rank(method='min', ascending=False)\n",
    "divo['rank_ward'] = divo.groupby('ward').votes.rank(method='min', ascending=False)\n",
    "divo['rank_anc'] = divo.groupby('anc_id').votes.rank(method='min', ascending=False)"
   ]
  },
  {
   "cell_type": "code",
   "execution_count": 8,
   "metadata": {},
   "outputs": [],
   "source": [
    "def make_ordinal(n):\n",
    "    \"\"\"\n",
    "    Convert an integer into its ordinal representation::\n",
    "\n",
    "        make_ordinal(0)   => '0th'\n",
    "        make_ordinal(3)   => '3rd'\n",
    "        make_ordinal(122) => '122nd'\n",
    "        make_ordinal(213) => '213th'\n",
    "    Source: https://stackoverflow.com/a/50992575/3443926\n",
    "    \"\"\"\n",
    "    n = int(n)\n",
    "    suffix = ['th', 'st', 'nd', 'rd', 'th'][min(n % 10, 4)]\n",
    "    if 11 <= (n % 100) <= 13:\n",
    "        suffix = 'th'\n",
    "    return str(n) + suffix"
   ]
  },
  {
   "cell_type": "code",
   "execution_count": 9,
   "metadata": {},
   "outputs": [
    {
     "data": {
      "text/plain": [
       "'4th of 296'"
      ]
     },
     "execution_count": 9,
     "metadata": {},
     "output_type": "execute_result"
    }
   ],
   "source": [
    "f'{make_ordinal(4)} of {len(divo)}'"
   ]
  },
  {
   "cell_type": "code",
   "execution_count": 10,
   "metadata": {},
   "outputs": [],
   "source": [
    "# def ranking_string(ranking, count_in_group):  \n",
    "#     return f'{make_ordinal(ranking)} of {count_in_group}'"
   ]
  },
  {
   "cell_type": "code",
   "execution_count": 11,
   "metadata": {},
   "outputs": [],
   "source": [
    "divo['string_dc'] = divo.apply(\n",
    "    lambda row: f\"{make_ordinal(row['rank_dc'])} out of {row['smds_in_dc']} SMDs\", axis=1)\n",
    "\n",
    "divo['string_ward'] = divo.apply(\n",
    "    lambda row: f\"{make_ordinal(row['rank_ward'])} out of {row['smds_in_ward']} SMDs\", axis=1)\n",
    "\n",
    "divo['string_anc'] = divo.apply(\n",
    "    lambda row: f\"{make_ordinal(row['rank_anc'])} out of {row['smds_in_anc']} SMDs\", axis=1)"
   ]
  },
  {
   "cell_type": "code",
   "execution_count": 12,
   "metadata": {
    "scrolled": false
   },
   "outputs": [
    {
     "data": {
      "text/html": [
       "<div>\n",
       "<style scoped>\n",
       "    .dataframe tbody tr th:only-of-type {\n",
       "        vertical-align: middle;\n",
       "    }\n",
       "\n",
       "    .dataframe tbody tr th {\n",
       "        vertical-align: top;\n",
       "    }\n",
       "\n",
       "    .dataframe thead th {\n",
       "        text-align: right;\n",
       "    }\n",
       "</style>\n",
       "<table border=\"1\" class=\"dataframe\">\n",
       "  <thead>\n",
       "    <tr style=\"text-align: right;\">\n",
       "      <th></th>\n",
       "      <th>smd_id</th>\n",
       "      <th>anc_id</th>\n",
       "      <th>ward</th>\n",
       "      <th>centroid_lon</th>\n",
       "      <th>centroid_lat</th>\n",
       "      <th>area</th>\n",
       "      <th>map_color_id</th>\n",
       "      <th>neighbor_smds</th>\n",
       "      <th>notes</th>\n",
       "      <th>description</th>\n",
       "      <th>...</th>\n",
       "      <th>votes</th>\n",
       "      <th>smds_in_ward</th>\n",
       "      <th>smds_in_anc</th>\n",
       "      <th>smds_in_dc</th>\n",
       "      <th>rank_dc</th>\n",
       "      <th>rank_ward</th>\n",
       "      <th>rank_anc</th>\n",
       "      <th>string_dc</th>\n",
       "      <th>string_ward</th>\n",
       "      <th>string_anc</th>\n",
       "    </tr>\n",
       "  </thead>\n",
       "  <tbody>\n",
       "    <tr>\n",
       "      <th>154</th>\n",
       "      <td>smd_5A04</td>\n",
       "      <td>5A</td>\n",
       "      <td>5</td>\n",
       "      <td>-77.000625</td>\n",
       "      <td>38.937487</td>\n",
       "      <td>941020</td>\n",
       "      <td>4</td>\n",
       "      <td>5A03, 5A05, 5A06, 5A07, 5A08, 5B02, 5B05, 5E01</td>\n",
       "      <td>NaN</td>\n",
       "      <td>NaN</td>\n",
       "      <td>...</td>\n",
       "      <td>3</td>\n",
       "      <td>37</td>\n",
       "      <td>8</td>\n",
       "      <td>296</td>\n",
       "      <td>296.0</td>\n",
       "      <td>37.0</td>\n",
       "      <td>8.0</td>\n",
       "      <td>296th out of 296 SMDs</td>\n",
       "      <td>37th out of 37 SMDs</td>\n",
       "      <td>8th out of 8 SMDs</td>\n",
       "    </tr>\n",
       "    <tr>\n",
       "      <th>62</th>\n",
       "      <td>smd_2E04</td>\n",
       "      <td>2E</td>\n",
       "      <td>2</td>\n",
       "      <td>-77.075688</td>\n",
       "      <td>38.908170</td>\n",
       "      <td>184010</td>\n",
       "      <td>3</td>\n",
       "      <td>2E01, 2E05, 2E08, 3D09</td>\n",
       "      <td>NaN</td>\n",
       "      <td>NaN</td>\n",
       "      <td>...</td>\n",
       "      <td>6</td>\n",
       "      <td>38</td>\n",
       "      <td>8</td>\n",
       "      <td>296</td>\n",
       "      <td>295.0</td>\n",
       "      <td>38.0</td>\n",
       "      <td>8.0</td>\n",
       "      <td>295th out of 296 SMDs</td>\n",
       "      <td>38th out of 38 SMDs</td>\n",
       "      <td>8th out of 8 SMDs</td>\n",
       "    </tr>\n",
       "    <tr>\n",
       "      <th>66</th>\n",
       "      <td>smd_2E08</td>\n",
       "      <td>2E</td>\n",
       "      <td>2</td>\n",
       "      <td>-77.072482</td>\n",
       "      <td>38.907957</td>\n",
       "      <td>108794</td>\n",
       "      <td>7</td>\n",
       "      <td>2E01, 2E02, 2E03, 2E04, 2E05</td>\n",
       "      <td>NaN</td>\n",
       "      <td>NaN</td>\n",
       "      <td>...</td>\n",
       "      <td>13</td>\n",
       "      <td>38</td>\n",
       "      <td>8</td>\n",
       "      <td>296</td>\n",
       "      <td>293.0</td>\n",
       "      <td>36.0</td>\n",
       "      <td>7.0</td>\n",
       "      <td>293rd out of 296 SMDs</td>\n",
       "      <td>36th out of 38 SMDs</td>\n",
       "      <td>7th out of 8 SMDs</td>\n",
       "    </tr>\n",
       "    <tr>\n",
       "      <th>44</th>\n",
       "      <td>smd_2A08</td>\n",
       "      <td>2A</td>\n",
       "      <td>2</td>\n",
       "      <td>-77.044712</td>\n",
       "      <td>38.898829</td>\n",
       "      <td>252413</td>\n",
       "      <td>9</td>\n",
       "      <td>2A01, 2A06, 2A07, 2B05, 2B06</td>\n",
       "      <td>NaN</td>\n",
       "      <td>NaN</td>\n",
       "      <td>...</td>\n",
       "      <td>13</td>\n",
       "      <td>38</td>\n",
       "      <td>8</td>\n",
       "      <td>296</td>\n",
       "      <td>293.0</td>\n",
       "      <td>36.0</td>\n",
       "      <td>8.0</td>\n",
       "      <td>293rd out of 296 SMDs</td>\n",
       "      <td>36th out of 38 SMDs</td>\n",
       "      <td>8th out of 8 SMDs</td>\n",
       "    </tr>\n",
       "    <tr>\n",
       "      <th>95</th>\n",
       "      <td>smd_3D07</td>\n",
       "      <td>3D</td>\n",
       "      <td>3</td>\n",
       "      <td>-77.089375</td>\n",
       "      <td>38.937013</td>\n",
       "      <td>265095</td>\n",
       "      <td>12</td>\n",
       "      <td>3D01, 3D02, 3D10</td>\n",
       "      <td>NaN</td>\n",
       "      <td>NaN</td>\n",
       "      <td>...</td>\n",
       "      <td>21</td>\n",
       "      <td>39</td>\n",
       "      <td>10</td>\n",
       "      <td>296</td>\n",
       "      <td>292.0</td>\n",
       "      <td>39.0</td>\n",
       "      <td>10.0</td>\n",
       "      <td>292nd out of 296 SMDs</td>\n",
       "      <td>39th out of 39 SMDs</td>\n",
       "      <td>10th out of 10 SMDs</td>\n",
       "    </tr>\n",
       "    <tr>\n",
       "      <th>...</th>\n",
       "      <td>...</td>\n",
       "      <td>...</td>\n",
       "      <td>...</td>\n",
       "      <td>...</td>\n",
       "      <td>...</td>\n",
       "      <td>...</td>\n",
       "      <td>...</td>\n",
       "      <td>...</td>\n",
       "      <td>...</td>\n",
       "      <td>...</td>\n",
       "      <td>...</td>\n",
       "      <td>...</td>\n",
       "      <td>...</td>\n",
       "      <td>...</td>\n",
       "      <td>...</td>\n",
       "      <td>...</td>\n",
       "      <td>...</td>\n",
       "      <td>...</td>\n",
       "      <td>...</td>\n",
       "      <td>...</td>\n",
       "      <td>...</td>\n",
       "    </tr>\n",
       "    <tr>\n",
       "      <th>166</th>\n",
       "      <td>smd_5C03</td>\n",
       "      <td>5C</td>\n",
       "      <td>5</td>\n",
       "      <td>-76.953500</td>\n",
       "      <td>38.923021</td>\n",
       "      <td>1335818</td>\n",
       "      <td>11</td>\n",
       "      <td>5C02, 5C04, 7D03</td>\n",
       "      <td>NaN</td>\n",
       "      <td>NaN</td>\n",
       "      <td>...</td>\n",
       "      <td>1523</td>\n",
       "      <td>37</td>\n",
       "      <td>7</td>\n",
       "      <td>296</td>\n",
       "      <td>5.0</td>\n",
       "      <td>2.0</td>\n",
       "      <td>1.0</td>\n",
       "      <td>5th out of 296 SMDs</td>\n",
       "      <td>2nd out of 37 SMDs</td>\n",
       "      <td>1st out of 7 SMDs</td>\n",
       "    </tr>\n",
       "    <tr>\n",
       "      <th>223</th>\n",
       "      <td>smd_6E05</td>\n",
       "      <td>6E</td>\n",
       "      <td>6</td>\n",
       "      <td>-77.018350</td>\n",
       "      <td>38.902531</td>\n",
       "      <td>150004</td>\n",
       "      <td>3</td>\n",
       "      <td>2C01, 2C02, 2F06, 6E04, 6E07</td>\n",
       "      <td>NaN</td>\n",
       "      <td>NaN</td>\n",
       "      <td>...</td>\n",
       "      <td>1634</td>\n",
       "      <td>38</td>\n",
       "      <td>7</td>\n",
       "      <td>296</td>\n",
       "      <td>4.0</td>\n",
       "      <td>3.0</td>\n",
       "      <td>1.0</td>\n",
       "      <td>4th out of 296 SMDs</td>\n",
       "      <td>3rd out of 38 SMDs</td>\n",
       "      <td>1st out of 7 SMDs</td>\n",
       "    </tr>\n",
       "    <tr>\n",
       "      <th>180</th>\n",
       "      <td>smd_5E03</td>\n",
       "      <td>5E</td>\n",
       "      <td>5</td>\n",
       "      <td>-77.001603</td>\n",
       "      <td>38.915308</td>\n",
       "      <td>516348</td>\n",
       "      <td>9</td>\n",
       "      <td>5C05, 5D01, 5E02, 5E04, 5E10, 6C06</td>\n",
       "      <td>NaN</td>\n",
       "      <td>NaN</td>\n",
       "      <td>...</td>\n",
       "      <td>1759</td>\n",
       "      <td>37</td>\n",
       "      <td>10</td>\n",
       "      <td>296</td>\n",
       "      <td>3.0</td>\n",
       "      <td>1.0</td>\n",
       "      <td>1.0</td>\n",
       "      <td>3rd out of 296 SMDs</td>\n",
       "      <td>1st out of 37 SMDs</td>\n",
       "      <td>1st out of 10 SMDs</td>\n",
       "    </tr>\n",
       "    <tr>\n",
       "      <th>211</th>\n",
       "      <td>smd_6C06</td>\n",
       "      <td>6C</td>\n",
       "      <td>6</td>\n",
       "      <td>-77.003400</td>\n",
       "      <td>38.904393</td>\n",
       "      <td>782651</td>\n",
       "      <td>8</td>\n",
       "      <td>5D01, 5E03, 5E04, 5E05, 6A01, 6C04, 6C05, 6E06...</td>\n",
       "      <td>NaN</td>\n",
       "      <td>NaN</td>\n",
       "      <td>...</td>\n",
       "      <td>2945</td>\n",
       "      <td>38</td>\n",
       "      <td>6</td>\n",
       "      <td>296</td>\n",
       "      <td>2.0</td>\n",
       "      <td>2.0</td>\n",
       "      <td>1.0</td>\n",
       "      <td>2nd out of 296 SMDs</td>\n",
       "      <td>2nd out of 38 SMDs</td>\n",
       "      <td>1st out of 6 SMDs</td>\n",
       "    </tr>\n",
       "    <tr>\n",
       "      <th>218</th>\n",
       "      <td>smd_6D07</td>\n",
       "      <td>6D</td>\n",
       "      <td>6</td>\n",
       "      <td>-76.999910</td>\n",
       "      <td>38.874862</td>\n",
       "      <td>1248954</td>\n",
       "      <td>6</td>\n",
       "      <td>6B01, 6B03, 6B04, 6B06, 6D02, 6D05, 6D06, 8A06...</td>\n",
       "      <td>NaN</td>\n",
       "      <td>NaN</td>\n",
       "      <td>...</td>\n",
       "      <td>3116</td>\n",
       "      <td>38</td>\n",
       "      <td>7</td>\n",
       "      <td>296</td>\n",
       "      <td>1.0</td>\n",
       "      <td>1.0</td>\n",
       "      <td>1.0</td>\n",
       "      <td>1st out of 296 SMDs</td>\n",
       "      <td>1st out of 38 SMDs</td>\n",
       "      <td>1st out of 7 SMDs</td>\n",
       "    </tr>\n",
       "  </tbody>\n",
       "</table>\n",
       "<p>296 rows × 21 columns</p>\n",
       "</div>"
      ],
      "text/plain": [
       "       smd_id anc_id  ward  centroid_lon  centroid_lat     area  map_color_id  \\\n",
       "154  smd_5A04     5A     5    -77.000625     38.937487   941020             4   \n",
       "62   smd_2E04     2E     2    -77.075688     38.908170   184010             3   \n",
       "66   smd_2E08     2E     2    -77.072482     38.907957   108794             7   \n",
       "44   smd_2A08     2A     2    -77.044712     38.898829   252413             9   \n",
       "95   smd_3D07     3D     3    -77.089375     38.937013   265095            12   \n",
       "..        ...    ...   ...           ...           ...      ...           ...   \n",
       "166  smd_5C03     5C     5    -76.953500     38.923021  1335818            11   \n",
       "223  smd_6E05     6E     6    -77.018350     38.902531   150004             3   \n",
       "180  smd_5E03     5E     5    -77.001603     38.915308   516348             9   \n",
       "211  smd_6C06     6C     6    -77.003400     38.904393   782651             8   \n",
       "218  smd_6D07     6D     6    -76.999910     38.874862  1248954             6   \n",
       "\n",
       "                                         neighbor_smds notes description  ...  \\\n",
       "154     5A03, 5A05, 5A06, 5A07, 5A08, 5B02, 5B05, 5E01   NaN         NaN  ...   \n",
       "62                              2E01, 2E05, 2E08, 3D09   NaN         NaN  ...   \n",
       "66                        2E01, 2E02, 2E03, 2E04, 2E05   NaN         NaN  ...   \n",
       "44                        2A01, 2A06, 2A07, 2B05, 2B06   NaN         NaN  ...   \n",
       "95                                    3D01, 3D02, 3D10   NaN         NaN  ...   \n",
       "..                                                 ...   ...         ...  ...   \n",
       "166                                   5C02, 5C04, 7D03   NaN         NaN  ...   \n",
       "223                       2C01, 2C02, 2F06, 6E04, 6E07   NaN         NaN  ...   \n",
       "180                 5C05, 5D01, 5E02, 5E04, 5E10, 6C06   NaN         NaN  ...   \n",
       "211  5D01, 5E03, 5E04, 5E05, 6A01, 6C04, 6C05, 6E06...   NaN         NaN  ...   \n",
       "218  6B01, 6B03, 6B04, 6B06, 6D02, 6D05, 6D06, 8A06...   NaN         NaN  ...   \n",
       "\n",
       "    votes  smds_in_ward  smds_in_anc  smds_in_dc  rank_dc  rank_ward  \\\n",
       "154     3            37            8         296    296.0       37.0   \n",
       "62      6            38            8         296    295.0       38.0   \n",
       "66     13            38            8         296    293.0       36.0   \n",
       "44     13            38            8         296    293.0       36.0   \n",
       "95     21            39           10         296    292.0       39.0   \n",
       "..    ...           ...          ...         ...      ...        ...   \n",
       "166  1523            37            7         296      5.0        2.0   \n",
       "223  1634            38            7         296      4.0        3.0   \n",
       "180  1759            37           10         296      3.0        1.0   \n",
       "211  2945            38            6         296      2.0        2.0   \n",
       "218  3116            38            7         296      1.0        1.0   \n",
       "\n",
       "     rank_anc              string_dc          string_ward           string_anc  \n",
       "154       8.0  296th out of 296 SMDs  37th out of 37 SMDs    8th out of 8 SMDs  \n",
       "62        8.0  295th out of 296 SMDs  38th out of 38 SMDs    8th out of 8 SMDs  \n",
       "66        7.0  293rd out of 296 SMDs  36th out of 38 SMDs    7th out of 8 SMDs  \n",
       "44        8.0  293rd out of 296 SMDs  36th out of 38 SMDs    8th out of 8 SMDs  \n",
       "95       10.0  292nd out of 296 SMDs  39th out of 39 SMDs  10th out of 10 SMDs  \n",
       "..        ...                    ...                  ...                  ...  \n",
       "166       1.0    5th out of 296 SMDs   2nd out of 37 SMDs    1st out of 7 SMDs  \n",
       "223       1.0    4th out of 296 SMDs   3rd out of 38 SMDs    1st out of 7 SMDs  \n",
       "180       1.0    3rd out of 296 SMDs   1st out of 37 SMDs   1st out of 10 SMDs  \n",
       "211       1.0    2nd out of 296 SMDs   2nd out of 38 SMDs    1st out of 6 SMDs  \n",
       "218       1.0    1st out of 296 SMDs   1st out of 38 SMDs    1st out of 7 SMDs  \n",
       "\n",
       "[296 rows x 21 columns]"
      ]
     },
     "execution_count": 12,
     "metadata": {},
     "output_type": "execute_result"
    }
   ],
   "source": [
    "divo.sort_values(by='votes')"
   ]
  },
  {
   "cell_type": "code",
   "execution_count": 19,
   "metadata": {},
   "outputs": [],
   "source": [
    "average_votes_by_ward = divo.groupby('ward').votes.mean()\n",
    "average_votes_by_anc = divo.groupby('anc_id').votes.mean()"
   ]
  },
  {
   "cell_type": "code",
   "execution_count": 20,
   "metadata": {},
   "outputs": [
    {
     "data": {
      "text/plain": [
       "847.9324324324324"
      ]
     },
     "execution_count": 20,
     "metadata": {},
     "output_type": "execute_result"
    }
   ],
   "source": [
    "divo.votes.mean()"
   ]
  },
  {
   "cell_type": "code",
   "execution_count": 22,
   "metadata": {},
   "outputs": [
    {
     "data": {
      "text/plain": [
       "1130.3947368421052"
      ]
     },
     "execution_count": 22,
     "metadata": {},
     "output_type": "execute_result"
    }
   ],
   "source": [
    "average_votes_by_ward.max()"
   ]
  },
  {
   "cell_type": "code",
   "execution_count": 23,
   "metadata": {},
   "outputs": [
    {
     "data": {
      "text/plain": [
       "1335.8333333333333"
      ]
     },
     "execution_count": 23,
     "metadata": {},
     "output_type": "execute_result"
    }
   ],
   "source": [
    "average_votes_by_anc.max()"
   ]
  },
  {
   "cell_type": "code",
   "execution_count": null,
   "metadata": {},
   "outputs": [],
   "source": []
  }
 ],
 "metadata": {
  "kernelspec": {
   "display_name": "Python 3",
   "language": "python",
   "name": "python3"
  },
  "language_info": {
   "codemirror_mode": {
    "name": "ipython",
    "version": 3
   },
   "file_extension": ".py",
   "mimetype": "text/x-python",
   "name": "python",
   "nbconvert_exporter": "python",
   "pygments_lexer": "ipython3",
   "version": "3.7.1"
  }
 },
 "nbformat": 4,
 "nbformat_minor": 4
}
