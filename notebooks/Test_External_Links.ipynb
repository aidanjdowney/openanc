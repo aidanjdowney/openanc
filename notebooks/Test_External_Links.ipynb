{
 "cells": [
  {
   "cell_type": "markdown",
   "metadata": {},
   "source": [
    "Confirm that all links in the people database go to working sites. "
   ]
  },
  {
   "cell_type": "code",
   "execution_count": 1,
   "metadata": {},
   "outputs": [],
   "source": [
    "# Move working directory one directory up\n",
    "import os\n",
    "os.chdir('../')\n",
    "\n",
    "import requests\n",
    "import pandas as pd\n",
    "import numpy as np\n",
    "import time\n",
    "from datetime import datetime, timedelta\n",
    "\n",
    "from tqdm import tqdm\n",
    "import random\n",
    "\n",
    "import tweepy\n",
    "\n",
    "from scripts.data_transformations import list_commissioners\n",
    "\n",
    "consumer_key = os.environ.get('TWITTER_API_KEY')\n",
    "consumer_secret = os.environ.get('TWITTER_API_KEY_SECRET')\n",
    "access_key = os.environ.get('TWITTER_ACCESS_TOKEN')\n",
    "access_secret = os.environ.get('TWITTER_ACCESS_TOKEN_SECRET')"
   ]
  },
  {
   "cell_type": "code",
   "execution_count": 2,
   "metadata": {},
   "outputs": [],
   "source": [
    "people = pd.read_csv('data/people.csv')\n",
    "candidates = pd.read_csv('data/candidates.csv')\n",
    "candidate_statuses = pd.read_csv('data/candidate_statuses.csv')\n",
    "commissioners = list_commissioners(status='current')\n",
    "\n",
    "people_candidates = pd.merge(people, candidates, how='inner', on='person_id')\n",
    "people_candidates_status = pd.merge(people_candidates, candidate_statuses, how='inner', on='candidate_status')\n",
    "people_candidates_active = people_candidates_status[\n",
    "    (people_candidates_status['count_as_candidate'])\n",
    "    & (people_candidates_status['election_year'] == 2022)\n",
    "].copy()\n",
    "\n",
    "people_commissioners = pd.merge(people, commissioners, how='inner', on='person_id')\n",
    "\n",
    "# Group all twitter links for active candidates and current commissioners in one list\n",
    "twitter_links = pd.concat([people_commissioners.twitter_link, people_candidates_active.twitter_link])"
   ]
  },
  {
   "cell_type": "markdown",
   "metadata": {},
   "source": [
    "## Twitter"
   ]
  },
  {
   "cell_type": "code",
   "execution_count": 3,
   "metadata": {},
   "outputs": [],
   "source": [
    "auth = tweepy.OAuthHandler(consumer_key, consumer_secret)\n",
    "auth.set_access_token(access_key, access_secret)\n",
    "api = tweepy.API(auth)"
   ]
  },
  {
   "cell_type": "code",
   "execution_count": 4,
   "metadata": {
    "scrolled": true
   },
   "outputs": [],
   "source": [
    "twitter_handles = (\n",
    "    twitter_links[twitter_links.notnull()]\n",
    "    .str.replace('https://twitter.com/', '')\n",
    "    .str.lower()\n",
    ")\n",
    "\n",
    "list_of_handles = sorted(twitter_handles.unique())"
   ]
  },
  {
   "cell_type": "code",
   "execution_count": 5,
   "metadata": {},
   "outputs": [],
   "source": [
    "batch_size = 40\n",
    "num_batches = np.ceil(len(list_of_handles) / batch_size)\n",
    "batches = np.array_split(list_of_handles, num_batches)"
   ]
  },
  {
   "cell_type": "code",
   "execution_count": 6,
   "metadata": {},
   "outputs": [
    {
     "name": "stderr",
     "output_type": "stream",
     "text": [
      "100%|██████████| 6/6 [00:34<00:00,  5.73s/it]\n"
     ]
    }
   ],
   "source": [
    "user_df_list = []\n",
    "\n",
    "for batch in tqdm(batches):\n",
    "    lookup_response = api.lookup_users(screen_names=list(batch))\n",
    "    \n",
    "    temp_df = pd.DataFrame()\n",
    "\n",
    "    for u in lookup_response:\n",
    "        temp_df.loc[u.id, 'screen_name'] = u.screen_name\n",
    "        temp_df.loc[u.id, 'created_at'] = u.created_at\n",
    "        temp_df.loc[u.id, 'followers_count'] = u.followers_count\n",
    "        temp_df.loc[u.id, 'statuses_count'] = u.statuses_count\n",
    "        temp_df.loc[u.id, 'verified'] = u.verified\n",
    "        temp_df.loc[u.id, 'protected'] = u.protected\n",
    "\n",
    "\n",
    "    user_df_list += [temp_df]\n",
    "    \n",
    "    time.sleep(5)"
   ]
  },
  {
   "cell_type": "code",
   "execution_count": 7,
   "metadata": {},
   "outputs": [],
   "source": [
    "user_df = pd.concat(user_df_list)"
   ]
  },
  {
   "cell_type": "code",
   "execution_count": 8,
   "metadata": {},
   "outputs": [],
   "source": [
    "user_df['screen_name_lower'] = user_df['screen_name'].str.lower()\n",
    "# user_df"
   ]
  },
  {
   "cell_type": "code",
   "execution_count": 9,
   "metadata": {},
   "outputs": [],
   "source": [
    "working_screen_name_lower = [s.lower() for s in user_df['screen_name'].tolist()]"
   ]
  },
  {
   "cell_type": "code",
   "execution_count": 10,
   "metadata": {},
   "outputs": [],
   "source": [
    "missing_users = [f for f in list_of_handles if f not in working_screen_name_lower]"
   ]
  },
  {
   "cell_type": "code",
   "execution_count": 11,
   "metadata": {},
   "outputs": [
    {
     "data": {
      "text/plain": [
       "[]"
      ]
     },
     "execution_count": 11,
     "metadata": {},
     "output_type": "execute_result"
    }
   ],
   "source": [
    "missing_users"
   ]
  },
  {
   "cell_type": "code",
   "execution_count": 12,
   "metadata": {},
   "outputs": [
    {
     "data": {
      "text/plain": [
       "0"
      ]
     },
     "execution_count": 12,
     "metadata": {},
     "output_type": "execute_result"
    }
   ],
   "source": [
    "len(missing_users)"
   ]
  },
  {
   "cell_type": "code",
   "execution_count": 13,
   "metadata": {},
   "outputs": [
    {
     "data": {
      "text/plain": [
       "201"
      ]
     },
     "execution_count": 13,
     "metadata": {},
     "output_type": "execute_result"
    }
   ],
   "source": [
    "len(list_of_handles)"
   ]
  },
  {
   "cell_type": "code",
   "execution_count": 14,
   "metadata": {},
   "outputs": [],
   "source": [
    "# todo: extract the twitter account's URL from its profile to see if it's a working website\n",
    "# todo: look for twitter accounts with zero tweets, do not list them on OpenANC\n"
   ]
  },
  {
   "cell_type": "markdown",
   "metadata": {},
   "source": [
    "### Superlatives"
   ]
  },
  {
   "cell_type": "code",
   "execution_count": 15,
   "metadata": {},
   "outputs": [
    {
     "data": {
      "text/html": [
       "<div>\n",
       "<style scoped>\n",
       "    .dataframe tbody tr th:only-of-type {\n",
       "        vertical-align: middle;\n",
       "    }\n",
       "\n",
       "    .dataframe tbody tr th {\n",
       "        vertical-align: top;\n",
       "    }\n",
       "\n",
       "    .dataframe thead th {\n",
       "        text-align: right;\n",
       "    }\n",
       "</style>\n",
       "<table border=\"1\" class=\"dataframe\">\n",
       "  <thead>\n",
       "    <tr style=\"text-align: right;\">\n",
       "      <th></th>\n",
       "      <th>screen_name</th>\n",
       "      <th>created_at</th>\n",
       "      <th>followers_count</th>\n",
       "      <th>statuses_count</th>\n",
       "      <th>verified</th>\n",
       "      <th>protected</th>\n",
       "      <th>screen_name_lower</th>\n",
       "    </tr>\n",
       "  </thead>\n",
       "  <tbody>\n",
       "    <tr>\n",
       "      <th>1550483487756587020</th>\n",
       "      <td>AshtonInDC</td>\n",
       "      <td>2022-07-22 14:11:00</td>\n",
       "      <td>9.0</td>\n",
       "      <td>8.0</td>\n",
       "      <td>False</td>\n",
       "      <td>False</td>\n",
       "      <td>ashtonindc</td>\n",
       "    </tr>\n",
       "    <tr>\n",
       "      <th>1549570676389920769</th>\n",
       "      <td>CommissionerTRS</td>\n",
       "      <td>2022-07-20 01:43:41</td>\n",
       "      <td>10.0</td>\n",
       "      <td>3.0</td>\n",
       "      <td>False</td>\n",
       "      <td>False</td>\n",
       "      <td>commissionertrs</td>\n",
       "    </tr>\n",
       "    <tr>\n",
       "      <th>1545180195858022401</th>\n",
       "      <td>TakemaKeyes</td>\n",
       "      <td>2022-07-07 22:57:33</td>\n",
       "      <td>12.0</td>\n",
       "      <td>12.0</td>\n",
       "      <td>False</td>\n",
       "      <td>False</td>\n",
       "      <td>takemakeyes</td>\n",
       "    </tr>\n",
       "    <tr>\n",
       "      <th>1285376801376698368</th>\n",
       "      <td>LatoyaM01766637</td>\n",
       "      <td>2020-07-21 00:51:35</td>\n",
       "      <td>22.0</td>\n",
       "      <td>0.0</td>\n",
       "      <td>False</td>\n",
       "      <td>False</td>\n",
       "      <td>latoyam01766637</td>\n",
       "    </tr>\n",
       "    <tr>\n",
       "      <th>1438868334926237697</th>\n",
       "      <td>TomMarabello</td>\n",
       "      <td>2021-09-17 14:12:20</td>\n",
       "      <td>24.0</td>\n",
       "      <td>102.0</td>\n",
       "      <td>False</td>\n",
       "      <td>False</td>\n",
       "      <td>tommarabello</td>\n",
       "    </tr>\n",
       "    <tr>\n",
       "      <th>...</th>\n",
       "      <td>...</td>\n",
       "      <td>...</td>\n",
       "      <td>...</td>\n",
       "      <td>...</td>\n",
       "      <td>...</td>\n",
       "      <td>...</td>\n",
       "      <td>...</td>\n",
       "    </tr>\n",
       "    <tr>\n",
       "      <th>33211889</th>\n",
       "      <td>keya_chatterjee</td>\n",
       "      <td>2009-04-19 14:33:28</td>\n",
       "      <td>5322.0</td>\n",
       "      <td>11845.0</td>\n",
       "      <td>False</td>\n",
       "      <td>False</td>\n",
       "      <td>keya_chatterjee</td>\n",
       "    </tr>\n",
       "    <tr>\n",
       "      <th>2196941238</th>\n",
       "      <td>salimadofo</td>\n",
       "      <td>2013-11-16 02:07:57</td>\n",
       "      <td>5439.0</td>\n",
       "      <td>50881.0</td>\n",
       "      <td>True</td>\n",
       "      <td>False</td>\n",
       "      <td>salimadofo</td>\n",
       "    </tr>\n",
       "    <tr>\n",
       "      <th>40059261</th>\n",
       "      <td>sabelharris</td>\n",
       "      <td>2009-05-14 18:53:42</td>\n",
       "      <td>5687.0</td>\n",
       "      <td>10010.0</td>\n",
       "      <td>False</td>\n",
       "      <td>False</td>\n",
       "      <td>sabelharris</td>\n",
       "    </tr>\n",
       "    <tr>\n",
       "      <th>16005449</th>\n",
       "      <td>SeanHolihan</td>\n",
       "      <td>2008-08-27 01:02:45</td>\n",
       "      <td>9921.0</td>\n",
       "      <td>10273.0</td>\n",
       "      <td>False</td>\n",
       "      <td>False</td>\n",
       "      <td>seanholihan</td>\n",
       "    </tr>\n",
       "    <tr>\n",
       "      <th>1180608218059411456</th>\n",
       "      <td>revwendy3</td>\n",
       "      <td>2019-10-05 22:18:43</td>\n",
       "      <td>10853.0</td>\n",
       "      <td>15380.0</td>\n",
       "      <td>True</td>\n",
       "      <td>False</td>\n",
       "      <td>revwendy3</td>\n",
       "    </tr>\n",
       "  </tbody>\n",
       "</table>\n",
       "<p>201 rows × 7 columns</p>\n",
       "</div>"
      ],
      "text/plain": [
       "                         screen_name          created_at  followers_count  \\\n",
       "1550483487756587020       AshtonInDC 2022-07-22 14:11:00              9.0   \n",
       "1549570676389920769  CommissionerTRS 2022-07-20 01:43:41             10.0   \n",
       "1545180195858022401      TakemaKeyes 2022-07-07 22:57:33             12.0   \n",
       "1285376801376698368  LatoyaM01766637 2020-07-21 00:51:35             22.0   \n",
       "1438868334926237697     TomMarabello 2021-09-17 14:12:20             24.0   \n",
       "...                              ...                 ...              ...   \n",
       "33211889             keya_chatterjee 2009-04-19 14:33:28           5322.0   \n",
       "2196941238                salimadofo 2013-11-16 02:07:57           5439.0   \n",
       "40059261                 sabelharris 2009-05-14 18:53:42           5687.0   \n",
       "16005449                 SeanHolihan 2008-08-27 01:02:45           9921.0   \n",
       "1180608218059411456        revwendy3 2019-10-05 22:18:43          10853.0   \n",
       "\n",
       "                     statuses_count verified protected screen_name_lower  \n",
       "1550483487756587020             8.0    False     False        ashtonindc  \n",
       "1549570676389920769             3.0    False     False   commissionertrs  \n",
       "1545180195858022401            12.0    False     False       takemakeyes  \n",
       "1285376801376698368             0.0    False     False   latoyam01766637  \n",
       "1438868334926237697           102.0    False     False      tommarabello  \n",
       "...                             ...      ...       ...               ...  \n",
       "33211889                    11845.0    False     False   keya_chatterjee  \n",
       "2196941238                  50881.0     True     False        salimadofo  \n",
       "40059261                    10010.0    False     False       sabelharris  \n",
       "16005449                    10273.0    False     False       seanholihan  \n",
       "1180608218059411456         15380.0     True     False         revwendy3  \n",
       "\n",
       "[201 rows x 7 columns]"
      ]
     },
     "execution_count": 15,
     "metadata": {},
     "output_type": "execute_result"
    }
   ],
   "source": [
    "user_df.sort_values(by='followers_count')"
   ]
  },
  {
   "cell_type": "code",
   "execution_count": 16,
   "metadata": {},
   "outputs": [
    {
     "data": {
      "text/html": [
       "<div>\n",
       "<style scoped>\n",
       "    .dataframe tbody tr th:only-of-type {\n",
       "        vertical-align: middle;\n",
       "    }\n",
       "\n",
       "    .dataframe tbody tr th {\n",
       "        vertical-align: top;\n",
       "    }\n",
       "\n",
       "    .dataframe thead th {\n",
       "        text-align: right;\n",
       "    }\n",
       "</style>\n",
       "<table border=\"1\" class=\"dataframe\">\n",
       "  <thead>\n",
       "    <tr style=\"text-align: right;\">\n",
       "      <th></th>\n",
       "      <th>screen_name</th>\n",
       "      <th>statuses_count</th>\n",
       "    </tr>\n",
       "  </thead>\n",
       "  <tbody>\n",
       "    <tr>\n",
       "      <th>529532500</th>\n",
       "      <td>20002ist</td>\n",
       "      <td>114987.0</td>\n",
       "    </tr>\n",
       "    <tr>\n",
       "      <th>128000332</th>\n",
       "      <td>TheeBlackAnglo</td>\n",
       "      <td>75693.0</td>\n",
       "    </tr>\n",
       "    <tr>\n",
       "      <th>2196941238</th>\n",
       "      <td>salimadofo</td>\n",
       "      <td>50881.0</td>\n",
       "    </tr>\n",
       "    <tr>\n",
       "      <th>170780048</th>\n",
       "      <td>GeorgetownMet</td>\n",
       "      <td>35435.0</td>\n",
       "    </tr>\n",
       "    <tr>\n",
       "      <th>634260075</th>\n",
       "      <td>haydengise</td>\n",
       "      <td>33165.0</td>\n",
       "    </tr>\n",
       "    <tr>\n",
       "      <th>377706724</th>\n",
       "      <td>Capn_max</td>\n",
       "      <td>32196.0</td>\n",
       "    </tr>\n",
       "    <tr>\n",
       "      <th>17300061</th>\n",
       "      <td>oblivious_dude</td>\n",
       "      <td>31501.0</td>\n",
       "    </tr>\n",
       "    <tr>\n",
       "      <th>1023013209035431936</th>\n",
       "      <td>Evan_Yeats</td>\n",
       "      <td>28250.0</td>\n",
       "    </tr>\n",
       "    <tr>\n",
       "      <th>230908356</th>\n",
       "      <td>nigro4dc</td>\n",
       "      <td>27904.0</td>\n",
       "    </tr>\n",
       "    <tr>\n",
       "      <th>1012044273364226050</th>\n",
       "      <td>ErinPalmerDC</td>\n",
       "      <td>22208.0</td>\n",
       "    </tr>\n",
       "    <tr>\n",
       "      <th>100572484</th>\n",
       "      <td>VinceJVan</td>\n",
       "      <td>21266.0</td>\n",
       "    </tr>\n",
       "    <tr>\n",
       "      <th>15779374</th>\n",
       "      <td>BeltwayChina</td>\n",
       "      <td>18153.0</td>\n",
       "    </tr>\n",
       "    <tr>\n",
       "      <th>1099436203928158208</th>\n",
       "      <td>johnson4b06</td>\n",
       "      <td>16093.0</td>\n",
       "    </tr>\n",
       "    <tr>\n",
       "      <th>28512285</th>\n",
       "      <td>EdwardDaniels</td>\n",
       "      <td>15635.0</td>\n",
       "    </tr>\n",
       "    <tr>\n",
       "      <th>1180608218059411456</th>\n",
       "      <td>revwendy3</td>\n",
       "      <td>15380.0</td>\n",
       "    </tr>\n",
       "    <tr>\n",
       "      <th>705425949198852096</th>\n",
       "      <td>ANCJonah</td>\n",
       "      <td>15056.0</td>\n",
       "    </tr>\n",
       "    <tr>\n",
       "      <th>1062056734171295744</th>\n",
       "      <td>Anc5E08</td>\n",
       "      <td>12459.0</td>\n",
       "    </tr>\n",
       "    <tr>\n",
       "      <th>15322882</th>\n",
       "      <td>tuckcomatus</td>\n",
       "      <td>12086.0</td>\n",
       "    </tr>\n",
       "    <tr>\n",
       "      <th>33211889</th>\n",
       "      <td>keya_chatterjee</td>\n",
       "      <td>11845.0</td>\n",
       "    </tr>\n",
       "    <tr>\n",
       "      <th>26174841</th>\n",
       "      <td>KishanForDC</td>\n",
       "      <td>11313.0</td>\n",
       "    </tr>\n",
       "  </tbody>\n",
       "</table>\n",
       "</div>"
      ],
      "text/plain": [
       "                         screen_name  statuses_count\n",
       "529532500                   20002ist        114987.0\n",
       "128000332             TheeBlackAnglo         75693.0\n",
       "2196941238                salimadofo         50881.0\n",
       "170780048              GeorgetownMet         35435.0\n",
       "634260075                 haydengise         33165.0\n",
       "377706724                   Capn_max         32196.0\n",
       "17300061              oblivious_dude         31501.0\n",
       "1023013209035431936       Evan_Yeats         28250.0\n",
       "230908356                   nigro4dc         27904.0\n",
       "1012044273364226050     ErinPalmerDC         22208.0\n",
       "100572484                  VinceJVan         21266.0\n",
       "15779374                BeltwayChina         18153.0\n",
       "1099436203928158208      johnson4b06         16093.0\n",
       "28512285               EdwardDaniels         15635.0\n",
       "1180608218059411456        revwendy3         15380.0\n",
       "705425949198852096          ANCJonah         15056.0\n",
       "1062056734171295744          Anc5E08         12459.0\n",
       "15322882                 tuckcomatus         12086.0\n",
       "33211889             keya_chatterjee         11845.0\n",
       "26174841                 KishanForDC         11313.0"
      ]
     },
     "execution_count": 16,
     "metadata": {},
     "output_type": "execute_result"
    }
   ],
   "source": [
    "user_df.sort_values(by='statuses_count')[['screen_name', 'statuses_count']].sort_values(\n",
    "    by='statuses_count', ascending=False).head(20)"
   ]
  },
  {
   "cell_type": "code",
   "execution_count": 17,
   "metadata": {},
   "outputs": [
    {
     "data": {
      "text/html": [
       "<div>\n",
       "<style scoped>\n",
       "    .dataframe tbody tr th:only-of-type {\n",
       "        vertical-align: middle;\n",
       "    }\n",
       "\n",
       "    .dataframe tbody tr th {\n",
       "        vertical-align: top;\n",
       "    }\n",
       "\n",
       "    .dataframe thead th {\n",
       "        text-align: right;\n",
       "    }\n",
       "</style>\n",
       "<table border=\"1\" class=\"dataframe\">\n",
       "  <thead>\n",
       "    <tr style=\"text-align: right;\">\n",
       "      <th></th>\n",
       "      <th>screen_name</th>\n",
       "      <th>created_at</th>\n",
       "      <th>followers_count</th>\n",
       "      <th>statuses_count</th>\n",
       "      <th>verified</th>\n",
       "      <th>protected</th>\n",
       "      <th>screen_name_lower</th>\n",
       "    </tr>\n",
       "  </thead>\n",
       "  <tbody>\n",
       "    <tr>\n",
       "      <th>1023013209035431936</th>\n",
       "      <td>Evan_Yeats</td>\n",
       "      <td>2018-07-28 01:12:10</td>\n",
       "      <td>3156.0</td>\n",
       "      <td>28250.0</td>\n",
       "      <td>True</td>\n",
       "      <td>False</td>\n",
       "      <td>evan_yeats</td>\n",
       "    </tr>\n",
       "    <tr>\n",
       "      <th>1377263086520954893</th>\n",
       "      <td>farnan4dc</td>\n",
       "      <td>2021-03-31 14:14:59</td>\n",
       "      <td>1232.0</td>\n",
       "      <td>1324.0</td>\n",
       "      <td>True</td>\n",
       "      <td>False</td>\n",
       "      <td>farnan4dc</td>\n",
       "    </tr>\n",
       "    <tr>\n",
       "      <th>2186167509</th>\n",
       "      <td>latestchristian</td>\n",
       "      <td>2013-11-18 16:31:05</td>\n",
       "      <td>1801.0</td>\n",
       "      <td>4008.0</td>\n",
       "      <td>True</td>\n",
       "      <td>False</td>\n",
       "      <td>latestchristian</td>\n",
       "    </tr>\n",
       "    <tr>\n",
       "      <th>305704907</th>\n",
       "      <td>MoniDiop</td>\n",
       "      <td>2011-05-26 17:22:35</td>\n",
       "      <td>1205.0</td>\n",
       "      <td>6831.0</td>\n",
       "      <td>True</td>\n",
       "      <td>False</td>\n",
       "      <td>monidiop</td>\n",
       "    </tr>\n",
       "    <tr>\n",
       "      <th>1180608218059411456</th>\n",
       "      <td>revwendy3</td>\n",
       "      <td>2019-10-05 22:18:43</td>\n",
       "      <td>10853.0</td>\n",
       "      <td>15380.0</td>\n",
       "      <td>True</td>\n",
       "      <td>False</td>\n",
       "      <td>revwendy3</td>\n",
       "    </tr>\n",
       "    <tr>\n",
       "      <th>2196941238</th>\n",
       "      <td>salimadofo</td>\n",
       "      <td>2013-11-16 02:07:57</td>\n",
       "      <td>5439.0</td>\n",
       "      <td>50881.0</td>\n",
       "      <td>True</td>\n",
       "      <td>False</td>\n",
       "      <td>salimadofo</td>\n",
       "    </tr>\n",
       "    <tr>\n",
       "      <th>2890872052</th>\n",
       "      <td>tmholcomb</td>\n",
       "      <td>2014-11-24 14:43:44</td>\n",
       "      <td>1607.0</td>\n",
       "      <td>2650.0</td>\n",
       "      <td>True</td>\n",
       "      <td>False</td>\n",
       "      <td>tmholcomb</td>\n",
       "    </tr>\n",
       "  </tbody>\n",
       "</table>\n",
       "</div>"
      ],
      "text/plain": [
       "                         screen_name          created_at  followers_count  \\\n",
       "1023013209035431936       Evan_Yeats 2018-07-28 01:12:10           3156.0   \n",
       "1377263086520954893        farnan4dc 2021-03-31 14:14:59           1232.0   \n",
       "2186167509           latestchristian 2013-11-18 16:31:05           1801.0   \n",
       "305704907                   MoniDiop 2011-05-26 17:22:35           1205.0   \n",
       "1180608218059411456        revwendy3 2019-10-05 22:18:43          10853.0   \n",
       "2196941238                salimadofo 2013-11-16 02:07:57           5439.0   \n",
       "2890872052                 tmholcomb 2014-11-24 14:43:44           1607.0   \n",
       "\n",
       "                     statuses_count verified protected screen_name_lower  \n",
       "1023013209035431936         28250.0     True     False        evan_yeats  \n",
       "1377263086520954893          1324.0     True     False         farnan4dc  \n",
       "2186167509                   4008.0     True     False   latestchristian  \n",
       "305704907                    6831.0     True     False          monidiop  \n",
       "1180608218059411456         15380.0     True     False         revwendy3  \n",
       "2196941238                  50881.0     True     False        salimadofo  \n",
       "2890872052                   2650.0     True     False         tmholcomb  "
      ]
     },
     "execution_count": 17,
     "metadata": {},
     "output_type": "execute_result"
    }
   ],
   "source": [
    "user_df[user_df['verified']]"
   ]
  },
  {
   "cell_type": "code",
   "execution_count": 18,
   "metadata": {},
   "outputs": [
    {
     "data": {
      "text/html": [
       "<div>\n",
       "<style scoped>\n",
       "    .dataframe tbody tr th:only-of-type {\n",
       "        vertical-align: middle;\n",
       "    }\n",
       "\n",
       "    .dataframe tbody tr th {\n",
       "        vertical-align: top;\n",
       "    }\n",
       "\n",
       "    .dataframe thead th {\n",
       "        text-align: right;\n",
       "    }\n",
       "</style>\n",
       "<table border=\"1\" class=\"dataframe\">\n",
       "  <thead>\n",
       "    <tr style=\"text-align: right;\">\n",
       "      <th></th>\n",
       "      <th>screen_name</th>\n",
       "      <th>created_at</th>\n",
       "      <th>followers_count</th>\n",
       "      <th>statuses_count</th>\n",
       "      <th>verified</th>\n",
       "      <th>protected</th>\n",
       "      <th>screen_name_lower</th>\n",
       "    </tr>\n",
       "  </thead>\n",
       "  <tbody>\n",
       "    <tr>\n",
       "      <th>128000332</th>\n",
       "      <td>TheeBlackAnglo</td>\n",
       "      <td>2010-03-30 20:43:32</td>\n",
       "      <td>1286.0</td>\n",
       "      <td>75693.0</td>\n",
       "      <td>False</td>\n",
       "      <td>True</td>\n",
       "      <td>theeblackanglo</td>\n",
       "    </tr>\n",
       "  </tbody>\n",
       "</table>\n",
       "</div>"
      ],
      "text/plain": [
       "              screen_name          created_at  followers_count  \\\n",
       "128000332  TheeBlackAnglo 2010-03-30 20:43:32           1286.0   \n",
       "\n",
       "           statuses_count verified protected screen_name_lower  \n",
       "128000332         75693.0    False      True    theeblackanglo  "
      ]
     },
     "execution_count": 18,
     "metadata": {},
     "output_type": "execute_result"
    }
   ],
   "source": [
    "user_df[user_df['protected']]"
   ]
  },
  {
   "cell_type": "code",
   "execution_count": 19,
   "metadata": {},
   "outputs": [
    {
     "data": {
      "text/plain": [
       "405.0"
      ]
     },
     "execution_count": 19,
     "metadata": {},
     "output_type": "execute_result"
    }
   ],
   "source": [
    "user_df['followers_count'].median()"
   ]
  },
  {
   "cell_type": "code",
   "execution_count": 20,
   "metadata": {},
   "outputs": [
    {
     "data": {
      "text/plain": [
       "767.0"
      ]
     },
     "execution_count": 20,
     "metadata": {},
     "output_type": "execute_result"
    }
   ],
   "source": [
    "user_df['statuses_count'].median()"
   ]
  },
  {
   "cell_type": "code",
   "execution_count": 21,
   "metadata": {},
   "outputs": [
    {
     "data": {
      "text/plain": [
       "'2015-03-15'"
      ]
     },
     "execution_count": 21,
     "metadata": {},
     "output_type": "execute_result"
    }
   ],
   "source": [
    "user_df['created_days_ago'] = (datetime.utcnow() - user_df['created_at']).dt.days\n",
    "(datetime.utcnow() - timedelta(days=user_df['created_days_ago'].median())).strftime('%Y-%m-%d')"
   ]
  },
  {
   "cell_type": "markdown",
   "metadata": {},
   "source": [
    "## Websites"
   ]
  },
  {
   "cell_type": "code",
   "execution_count": 22,
   "metadata": {},
   "outputs": [],
   "source": [
    "def check_status_of_links(df, link_column):\n",
    "    \n",
    "    bad_sites = []\n",
    "\n",
    "#     for idx, row in tqdm(df.iterrows(), total=len(df)):\n",
    "    for idx, row in df.iterrows():\n",
    "        if pd.isnull(row[link_column]):\n",
    "            continue\n",
    "\n",
    "        print(f'Checking {row[link_column]} ... ', end='')\n",
    "\n",
    "        r = requests.get(row[link_column])\n",
    "        time.sleep(4)\n",
    "        \n",
    "        print(f'status_code: {r.status_code}')\n",
    "\n",
    "        if r.status_code != 200:\n",
    "            bad_sites += [row[link_column]]\n",
    "\n",
    "        time.sleep(1)\n",
    "        \n",
    "    return bad_sites"
   ]
  },
  {
   "cell_type": "code",
   "execution_count": 23,
   "metadata": {},
   "outputs": [],
   "source": [
    "# ancs = pd.read_csv('../data/ancs.csv')\n",
    "# check_status_of_links(ancs, 'anc_homepage_link')"
   ]
  },
  {
   "cell_type": "code",
   "execution_count": 24,
   "metadata": {},
   "outputs": [],
   "source": [
    "# check_status_of_links(people_candidates_active, 'website_link')"
   ]
  },
  {
   "cell_type": "code",
   "execution_count": 25,
   "metadata": {},
   "outputs": [],
   "source": [
    "# requests.get('http://robbdooling.com')"
   ]
  },
  {
   "cell_type": "code",
   "execution_count": 26,
   "metadata": {},
   "outputs": [],
   "source": [
    "# requests.get('https://meghanforanc.com')"
   ]
  },
  {
   "cell_type": "markdown",
   "metadata": {},
   "source": [
    "## Facebook"
   ]
  },
  {
   "cell_type": "code",
   "execution_count": 27,
   "metadata": {},
   "outputs": [],
   "source": [
    "# check_status_of_links(people_candidates_active, 'facebook_link')"
   ]
  },
  {
   "cell_type": "code",
   "execution_count": null,
   "metadata": {},
   "outputs": [],
   "source": []
  },
  {
   "cell_type": "code",
   "execution_count": null,
   "metadata": {},
   "outputs": [],
   "source": []
  }
 ],
 "metadata": {
  "kernelspec": {
   "display_name": "Python 3",
   "language": "python",
   "name": "python3"
  },
  "language_info": {
   "codemirror_mode": {
    "name": "ipython",
    "version": 3
   },
   "file_extension": ".py",
   "mimetype": "text/x-python",
   "name": "python",
   "nbconvert_exporter": "python",
   "pygments_lexer": "ipython3",
   "version": "3.7.1"
  }
 },
 "nbformat": 4,
 "nbformat_minor": 2
}
