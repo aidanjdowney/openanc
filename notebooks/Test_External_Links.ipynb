{
 "cells": [
  {
   "cell_type": "markdown",
   "metadata": {},
   "source": [
    "Confirm that all links in the people database go to working sites. "
   ]
  },
  {
   "cell_type": "code",
   "execution_count": 1,
   "metadata": {},
   "outputs": [],
   "source": [
    "# Move working directory one directory up\n",
    "import os\n",
    "os.chdir('../')\n",
    "\n",
    "import requests\n",
    "import pandas as pd\n",
    "import numpy as np\n",
    "import time\n",
    "from datetime import datetime, timedelta\n",
    "\n",
    "import os\n",
    "import sys\n",
    "import csv\n",
    "from tqdm import tqdm\n",
    "\n",
    "import tweepy\n",
    "\n",
    "from scripts.data_transformations import list_commissioners\n",
    "\n",
    "consumer_key = os.environ.get('TWITTER_API_KEY')\n",
    "consumer_secret = os.environ.get('TWITTER_API_KEY_SECRET')\n",
    "access_key = os.environ.get('TWITTER_ACCESS_TOKEN')\n",
    "access_secret = os.environ.get('TWITTER_ACCESS_TOKEN_SECRET')"
   ]
  },
  {
   "cell_type": "code",
   "execution_count": 2,
   "metadata": {},
   "outputs": [],
   "source": [
    "people = pd.read_csv('data/people.csv')\n",
    "candidates = pd.read_csv('data/candidates.csv')\n",
    "candidate_statuses = pd.read_csv('data/candidate_statuses.csv')\n",
    "commissioners = list_commissioners(status='current')\n",
    "\n",
    "people_candidates = pd.merge(people, candidates, how='inner', on='person_id')\n",
    "people_candidates_status = pd.merge(people_candidates, candidate_statuses, how='inner', on='candidate_status')\n",
    "people_candidates_active = people_candidates_status[\n",
    "    (people_candidates_status['count_as_candidate'])\n",
    "    & (people_candidates_status['election_year'] == 2022)\n",
    "].copy()\n",
    "\n",
    "people_commissioners = pd.merge(people, commissioners, how='inner', on='person_id')\n",
    "\n",
    "# Group all twitter links for active candidates and current commissioners in one list\n",
    "twitter_links = pd.concat([people_commissioners.twitter_link, people_candidates_active.twitter_link])"
   ]
  },
  {
   "cell_type": "markdown",
   "metadata": {},
   "source": [
    "## Twitter"
   ]
  },
  {
   "cell_type": "code",
   "execution_count": 3,
   "metadata": {},
   "outputs": [],
   "source": [
    "auth = tweepy.OAuthHandler(consumer_key, consumer_secret)\n",
    "auth.set_access_token(access_key, access_secret)\n",
    "api = tweepy.API(auth)"
   ]
  },
  {
   "cell_type": "code",
   "execution_count": 4,
   "metadata": {
    "scrolled": true
   },
   "outputs": [],
   "source": [
    "twitter_handles = (\n",
    "    twitter_links[twitter_links.notnull()]\n",
    "    .str.replace('https://twitter.com/', '')\n",
    "    .str.lower()\n",
    ")\n",
    "\n",
    "list_of_handles = sorted(twitter_handles.unique())"
   ]
  },
  {
   "cell_type": "code",
   "execution_count": 5,
   "metadata": {},
   "outputs": [],
   "source": [
    "batch_size = 40\n",
    "num_batches = np.ceil(len(list_of_handles) / batch_size)\n",
    "batches = np.array_split(list_of_handles, num_batches)"
   ]
  },
  {
   "cell_type": "code",
   "execution_count": 6,
   "metadata": {},
   "outputs": [
    {
     "name": "stderr",
     "output_type": "stream",
     "text": [
      "100%|██████████| 5/5 [00:29<00:00,  5.93s/it]\n"
     ]
    }
   ],
   "source": [
    "user_df_list = []\n",
    "\n",
    "for batch in tqdm(batches):\n",
    "    lookup_response = api.lookup_users(screen_names=list(batch))\n",
    "    \n",
    "    temp_df = pd.DataFrame()\n",
    "\n",
    "    for u in lookup_response:\n",
    "        temp_df.loc[u.id, 'screen_name'] = u.screen_name\n",
    "        temp_df.loc[u.id, 'created_at'] = u.created_at\n",
    "        temp_df.loc[u.id, 'followers_count'] = u.followers_count\n",
    "        temp_df.loc[u.id, 'statuses_count'] = u.statuses_count\n",
    "        temp_df.loc[u.id, 'verified'] = u.verified\n",
    "        temp_df.loc[u.id, 'protected'] = u.protected\n",
    "\n",
    "\n",
    "    user_df_list += [temp_df]\n",
    "    \n",
    "    time.sleep(5)"
   ]
  },
  {
   "cell_type": "code",
   "execution_count": 7,
   "metadata": {},
   "outputs": [],
   "source": [
    "user_df = pd.concat(user_df_list)"
   ]
  },
  {
   "cell_type": "code",
   "execution_count": 8,
   "metadata": {},
   "outputs": [],
   "source": [
    "user_df['screen_name_lower'] = user_df['screen_name'].str.lower()\n",
    "# user_df"
   ]
  },
  {
   "cell_type": "code",
   "execution_count": 9,
   "metadata": {},
   "outputs": [],
   "source": [
    "working_screen_name_lower = [s.lower() for s in user_df['screen_name'].tolist()]"
   ]
  },
  {
   "cell_type": "code",
   "execution_count": 10,
   "metadata": {},
   "outputs": [],
   "source": [
    "missing_users = [f for f in list_of_handles if f not in working_screen_name_lower]"
   ]
  },
  {
   "cell_type": "code",
   "execution_count": 11,
   "metadata": {},
   "outputs": [
    {
     "data": {
      "text/plain": [
       "[]"
      ]
     },
     "execution_count": 11,
     "metadata": {},
     "output_type": "execute_result"
    }
   ],
   "source": [
    "missing_users"
   ]
  },
  {
   "cell_type": "code",
   "execution_count": 12,
   "metadata": {},
   "outputs": [
    {
     "data": {
      "text/plain": [
       "0"
      ]
     },
     "execution_count": 12,
     "metadata": {},
     "output_type": "execute_result"
    }
   ],
   "source": [
    "len(missing_users)"
   ]
  },
  {
   "cell_type": "code",
   "execution_count": 13,
   "metadata": {},
   "outputs": [
    {
     "data": {
      "text/plain": [
       "176"
      ]
     },
     "execution_count": 13,
     "metadata": {},
     "output_type": "execute_result"
    }
   ],
   "source": [
    "len(list_of_handles)"
   ]
  },
  {
   "cell_type": "markdown",
   "metadata": {},
   "source": [
    "### Superlatives"
   ]
  },
  {
   "cell_type": "code",
   "execution_count": 14,
   "metadata": {},
   "outputs": [
    {
     "data": {
      "text/html": [
       "<div>\n",
       "<style scoped>\n",
       "    .dataframe tbody tr th:only-of-type {\n",
       "        vertical-align: middle;\n",
       "    }\n",
       "\n",
       "    .dataframe tbody tr th {\n",
       "        vertical-align: top;\n",
       "    }\n",
       "\n",
       "    .dataframe thead th {\n",
       "        text-align: right;\n",
       "    }\n",
       "</style>\n",
       "<table border=\"1\" class=\"dataframe\">\n",
       "  <thead>\n",
       "    <tr style=\"text-align: right;\">\n",
       "      <th></th>\n",
       "      <th>screen_name</th>\n",
       "      <th>created_at</th>\n",
       "      <th>followers_count</th>\n",
       "      <th>statuses_count</th>\n",
       "      <th>verified</th>\n",
       "      <th>protected</th>\n",
       "      <th>screen_name_lower</th>\n",
       "    </tr>\n",
       "  </thead>\n",
       "  <tbody>\n",
       "    <tr>\n",
       "      <th>1441237047960739843</th>\n",
       "      <td>PatrickForANC</td>\n",
       "      <td>2021-09-24 03:04:53</td>\n",
       "      <td>1.0</td>\n",
       "      <td>0.0</td>\n",
       "      <td>False</td>\n",
       "      <td>False</td>\n",
       "      <td>patrickforanc</td>\n",
       "    </tr>\n",
       "    <tr>\n",
       "      <th>1549570676389920769</th>\n",
       "      <td>CommissionerTRS</td>\n",
       "      <td>2022-07-20 01:43:41</td>\n",
       "      <td>4.0</td>\n",
       "      <td>2.0</td>\n",
       "      <td>False</td>\n",
       "      <td>False</td>\n",
       "      <td>commissionertrs</td>\n",
       "    </tr>\n",
       "    <tr>\n",
       "      <th>47946516</th>\n",
       "      <td>BTurmail</td>\n",
       "      <td>2009-06-17 12:39:56</td>\n",
       "      <td>20.0</td>\n",
       "      <td>0.0</td>\n",
       "      <td>False</td>\n",
       "      <td>False</td>\n",
       "      <td>bturmail</td>\n",
       "    </tr>\n",
       "    <tr>\n",
       "      <th>1285376801376698368</th>\n",
       "      <td>LatoyaM01766637</td>\n",
       "      <td>2020-07-21 00:51:35</td>\n",
       "      <td>21.0</td>\n",
       "      <td>0.0</td>\n",
       "      <td>False</td>\n",
       "      <td>False</td>\n",
       "      <td>latoyam01766637</td>\n",
       "    </tr>\n",
       "    <tr>\n",
       "      <th>1438868334926237697</th>\n",
       "      <td>TomMarabello</td>\n",
       "      <td>2021-09-17 14:12:20</td>\n",
       "      <td>22.0</td>\n",
       "      <td>101.0</td>\n",
       "      <td>False</td>\n",
       "      <td>False</td>\n",
       "      <td>tommarabello</td>\n",
       "    </tr>\n",
       "    <tr>\n",
       "      <th>...</th>\n",
       "      <td>...</td>\n",
       "      <td>...</td>\n",
       "      <td>...</td>\n",
       "      <td>...</td>\n",
       "      <td>...</td>\n",
       "      <td>...</td>\n",
       "      <td>...</td>\n",
       "    </tr>\n",
       "    <tr>\n",
       "      <th>1012044273364226050</th>\n",
       "      <td>ErinPalmerDC</td>\n",
       "      <td>2018-06-27 18:45:32</td>\n",
       "      <td>3789.0</td>\n",
       "      <td>21977.0</td>\n",
       "      <td>False</td>\n",
       "      <td>False</td>\n",
       "      <td>erinpalmerdc</td>\n",
       "    </tr>\n",
       "    <tr>\n",
       "      <th>33211889</th>\n",
       "      <td>keya_chatterjee</td>\n",
       "      <td>2009-04-19 14:33:28</td>\n",
       "      <td>5268.0</td>\n",
       "      <td>11745.0</td>\n",
       "      <td>False</td>\n",
       "      <td>False</td>\n",
       "      <td>keya_chatterjee</td>\n",
       "    </tr>\n",
       "    <tr>\n",
       "      <th>2196941238</th>\n",
       "      <td>salimadofo</td>\n",
       "      <td>2013-11-16 02:07:57</td>\n",
       "      <td>5405.0</td>\n",
       "      <td>50837.0</td>\n",
       "      <td>True</td>\n",
       "      <td>False</td>\n",
       "      <td>salimadofo</td>\n",
       "    </tr>\n",
       "    <tr>\n",
       "      <th>40059261</th>\n",
       "      <td>sabelharris</td>\n",
       "      <td>2009-05-14 18:53:42</td>\n",
       "      <td>5687.0</td>\n",
       "      <td>10006.0</td>\n",
       "      <td>False</td>\n",
       "      <td>False</td>\n",
       "      <td>sabelharris</td>\n",
       "    </tr>\n",
       "    <tr>\n",
       "      <th>1180608218059411456</th>\n",
       "      <td>revwendy3</td>\n",
       "      <td>2019-10-05 22:18:43</td>\n",
       "      <td>10711.0</td>\n",
       "      <td>15210.0</td>\n",
       "      <td>True</td>\n",
       "      <td>False</td>\n",
       "      <td>revwendy3</td>\n",
       "    </tr>\n",
       "  </tbody>\n",
       "</table>\n",
       "<p>176 rows × 7 columns</p>\n",
       "</div>"
      ],
      "text/plain": [
       "                         screen_name          created_at  followers_count  \\\n",
       "1441237047960739843    PatrickForANC 2021-09-24 03:04:53              1.0   \n",
       "1549570676389920769  CommissionerTRS 2022-07-20 01:43:41              4.0   \n",
       "47946516                    BTurmail 2009-06-17 12:39:56             20.0   \n",
       "1285376801376698368  LatoyaM01766637 2020-07-21 00:51:35             21.0   \n",
       "1438868334926237697     TomMarabello 2021-09-17 14:12:20             22.0   \n",
       "...                              ...                 ...              ...   \n",
       "1012044273364226050     ErinPalmerDC 2018-06-27 18:45:32           3789.0   \n",
       "33211889             keya_chatterjee 2009-04-19 14:33:28           5268.0   \n",
       "2196941238                salimadofo 2013-11-16 02:07:57           5405.0   \n",
       "40059261                 sabelharris 2009-05-14 18:53:42           5687.0   \n",
       "1180608218059411456        revwendy3 2019-10-05 22:18:43          10711.0   \n",
       "\n",
       "                     statuses_count verified protected screen_name_lower  \n",
       "1441237047960739843             0.0    False     False     patrickforanc  \n",
       "1549570676389920769             2.0    False     False   commissionertrs  \n",
       "47946516                        0.0    False     False          bturmail  \n",
       "1285376801376698368             0.0    False     False   latoyam01766637  \n",
       "1438868334926237697           101.0    False     False      tommarabello  \n",
       "...                             ...      ...       ...               ...  \n",
       "1012044273364226050         21977.0    False     False      erinpalmerdc  \n",
       "33211889                    11745.0    False     False   keya_chatterjee  \n",
       "2196941238                  50837.0     True     False        salimadofo  \n",
       "40059261                    10006.0    False     False       sabelharris  \n",
       "1180608218059411456         15210.0     True     False         revwendy3  \n",
       "\n",
       "[176 rows x 7 columns]"
      ]
     },
     "execution_count": 14,
     "metadata": {},
     "output_type": "execute_result"
    }
   ],
   "source": [
    "user_df.sort_values(by='followers_count')"
   ]
  },
  {
   "cell_type": "code",
   "execution_count": 15,
   "metadata": {},
   "outputs": [
    {
     "data": {
      "text/html": [
       "<div>\n",
       "<style scoped>\n",
       "    .dataframe tbody tr th:only-of-type {\n",
       "        vertical-align: middle;\n",
       "    }\n",
       "\n",
       "    .dataframe tbody tr th {\n",
       "        vertical-align: top;\n",
       "    }\n",
       "\n",
       "    .dataframe thead th {\n",
       "        text-align: right;\n",
       "    }\n",
       "</style>\n",
       "<table border=\"1\" class=\"dataframe\">\n",
       "  <thead>\n",
       "    <tr style=\"text-align: right;\">\n",
       "      <th></th>\n",
       "      <th>screen_name</th>\n",
       "      <th>created_at</th>\n",
       "      <th>followers_count</th>\n",
       "      <th>statuses_count</th>\n",
       "      <th>verified</th>\n",
       "      <th>protected</th>\n",
       "      <th>screen_name_lower</th>\n",
       "    </tr>\n",
       "  </thead>\n",
       "  <tbody>\n",
       "    <tr>\n",
       "      <th>1296877764818227208</th>\n",
       "      <td>AudainANC7D05</td>\n",
       "      <td>2020-08-21 18:32:18</td>\n",
       "      <td>26.0</td>\n",
       "      <td>0.0</td>\n",
       "      <td>False</td>\n",
       "      <td>False</td>\n",
       "      <td>audainanc7d05</td>\n",
       "    </tr>\n",
       "    <tr>\n",
       "      <th>47946516</th>\n",
       "      <td>BTurmail</td>\n",
       "      <td>2009-06-17 12:39:56</td>\n",
       "      <td>20.0</td>\n",
       "      <td>0.0</td>\n",
       "      <td>False</td>\n",
       "      <td>False</td>\n",
       "      <td>bturmail</td>\n",
       "    </tr>\n",
       "    <tr>\n",
       "      <th>1226154390</th>\n",
       "      <td>5E09Commish</td>\n",
       "      <td>2013-02-27 22:20:44</td>\n",
       "      <td>28.0</td>\n",
       "      <td>0.0</td>\n",
       "      <td>False</td>\n",
       "      <td>False</td>\n",
       "      <td>5e09commish</td>\n",
       "    </tr>\n",
       "    <tr>\n",
       "      <th>1285376801376698368</th>\n",
       "      <td>LatoyaM01766637</td>\n",
       "      <td>2020-07-21 00:51:35</td>\n",
       "      <td>21.0</td>\n",
       "      <td>0.0</td>\n",
       "      <td>False</td>\n",
       "      <td>False</td>\n",
       "      <td>latoyam01766637</td>\n",
       "    </tr>\n",
       "    <tr>\n",
       "      <th>1441237047960739843</th>\n",
       "      <td>PatrickForANC</td>\n",
       "      <td>2021-09-24 03:04:53</td>\n",
       "      <td>1.0</td>\n",
       "      <td>0.0</td>\n",
       "      <td>False</td>\n",
       "      <td>False</td>\n",
       "      <td>patrickforanc</td>\n",
       "    </tr>\n",
       "    <tr>\n",
       "      <th>...</th>\n",
       "      <td>...</td>\n",
       "      <td>...</td>\n",
       "      <td>...</td>\n",
       "      <td>...</td>\n",
       "      <td>...</td>\n",
       "      <td>...</td>\n",
       "      <td>...</td>\n",
       "    </tr>\n",
       "    <tr>\n",
       "      <th>17300061</th>\n",
       "      <td>oblivious_dude</td>\n",
       "      <td>2008-11-11 01:32:11</td>\n",
       "      <td>1525.0</td>\n",
       "      <td>31494.0</td>\n",
       "      <td>False</td>\n",
       "      <td>False</td>\n",
       "      <td>oblivious_dude</td>\n",
       "    </tr>\n",
       "    <tr>\n",
       "      <th>377706724</th>\n",
       "      <td>Capn_max</td>\n",
       "      <td>2011-09-22 00:19:16</td>\n",
       "      <td>592.0</td>\n",
       "      <td>32122.0</td>\n",
       "      <td>False</td>\n",
       "      <td>False</td>\n",
       "      <td>capn_max</td>\n",
       "    </tr>\n",
       "    <tr>\n",
       "      <th>2196941238</th>\n",
       "      <td>salimadofo</td>\n",
       "      <td>2013-11-16 02:07:57</td>\n",
       "      <td>5405.0</td>\n",
       "      <td>50837.0</td>\n",
       "      <td>True</td>\n",
       "      <td>False</td>\n",
       "      <td>salimadofo</td>\n",
       "    </tr>\n",
       "    <tr>\n",
       "      <th>128000332</th>\n",
       "      <td>TheeBlackAnglo</td>\n",
       "      <td>2010-03-30 20:43:32</td>\n",
       "      <td>1290.0</td>\n",
       "      <td>75880.0</td>\n",
       "      <td>False</td>\n",
       "      <td>True</td>\n",
       "      <td>theeblackanglo</td>\n",
       "    </tr>\n",
       "    <tr>\n",
       "      <th>529532500</th>\n",
       "      <td>20002ist</td>\n",
       "      <td>2012-03-19 16:58:37</td>\n",
       "      <td>3502.0</td>\n",
       "      <td>114582.0</td>\n",
       "      <td>False</td>\n",
       "      <td>False</td>\n",
       "      <td>20002ist</td>\n",
       "    </tr>\n",
       "  </tbody>\n",
       "</table>\n",
       "<p>176 rows × 7 columns</p>\n",
       "</div>"
      ],
      "text/plain": [
       "                         screen_name          created_at  followers_count  \\\n",
       "1296877764818227208    AudainANC7D05 2020-08-21 18:32:18             26.0   \n",
       "47946516                    BTurmail 2009-06-17 12:39:56             20.0   \n",
       "1226154390               5E09Commish 2013-02-27 22:20:44             28.0   \n",
       "1285376801376698368  LatoyaM01766637 2020-07-21 00:51:35             21.0   \n",
       "1441237047960739843    PatrickForANC 2021-09-24 03:04:53              1.0   \n",
       "...                              ...                 ...              ...   \n",
       "17300061              oblivious_dude 2008-11-11 01:32:11           1525.0   \n",
       "377706724                   Capn_max 2011-09-22 00:19:16            592.0   \n",
       "2196941238                salimadofo 2013-11-16 02:07:57           5405.0   \n",
       "128000332             TheeBlackAnglo 2010-03-30 20:43:32           1290.0   \n",
       "529532500                   20002ist 2012-03-19 16:58:37           3502.0   \n",
       "\n",
       "                     statuses_count verified protected screen_name_lower  \n",
       "1296877764818227208             0.0    False     False     audainanc7d05  \n",
       "47946516                        0.0    False     False          bturmail  \n",
       "1226154390                      0.0    False     False       5e09commish  \n",
       "1285376801376698368             0.0    False     False   latoyam01766637  \n",
       "1441237047960739843             0.0    False     False     patrickforanc  \n",
       "...                             ...      ...       ...               ...  \n",
       "17300061                    31494.0    False     False    oblivious_dude  \n",
       "377706724                   32122.0    False     False          capn_max  \n",
       "2196941238                  50837.0     True     False        salimadofo  \n",
       "128000332                   75880.0    False      True    theeblackanglo  \n",
       "529532500                  114582.0    False     False          20002ist  \n",
       "\n",
       "[176 rows x 7 columns]"
      ]
     },
     "execution_count": 15,
     "metadata": {},
     "output_type": "execute_result"
    }
   ],
   "source": [
    "user_df.sort_values(by='statuses_count')"
   ]
  },
  {
   "cell_type": "code",
   "execution_count": 16,
   "metadata": {},
   "outputs": [
    {
     "data": {
      "text/html": [
       "<div>\n",
       "<style scoped>\n",
       "    .dataframe tbody tr th:only-of-type {\n",
       "        vertical-align: middle;\n",
       "    }\n",
       "\n",
       "    .dataframe tbody tr th {\n",
       "        vertical-align: top;\n",
       "    }\n",
       "\n",
       "    .dataframe thead th {\n",
       "        text-align: right;\n",
       "    }\n",
       "</style>\n",
       "<table border=\"1\" class=\"dataframe\">\n",
       "  <thead>\n",
       "    <tr style=\"text-align: right;\">\n",
       "      <th></th>\n",
       "      <th>screen_name</th>\n",
       "      <th>created_at</th>\n",
       "      <th>followers_count</th>\n",
       "      <th>statuses_count</th>\n",
       "      <th>verified</th>\n",
       "      <th>protected</th>\n",
       "      <th>screen_name_lower</th>\n",
       "    </tr>\n",
       "  </thead>\n",
       "  <tbody>\n",
       "    <tr>\n",
       "      <th>1023013209035431936</th>\n",
       "      <td>Evan_Yeats</td>\n",
       "      <td>2018-07-28 01:12:10</td>\n",
       "      <td>3125.0</td>\n",
       "      <td>28077.0</td>\n",
       "      <td>True</td>\n",
       "      <td>False</td>\n",
       "      <td>evan_yeats</td>\n",
       "    </tr>\n",
       "    <tr>\n",
       "      <th>1377263086520954893</th>\n",
       "      <td>farnan4dc</td>\n",
       "      <td>2021-03-31 14:14:59</td>\n",
       "      <td>1223.0</td>\n",
       "      <td>1305.0</td>\n",
       "      <td>True</td>\n",
       "      <td>False</td>\n",
       "      <td>farnan4dc</td>\n",
       "    </tr>\n",
       "    <tr>\n",
       "      <th>2186167509</th>\n",
       "      <td>latestchristian</td>\n",
       "      <td>2013-11-18 16:31:05</td>\n",
       "      <td>1789.0</td>\n",
       "      <td>3987.0</td>\n",
       "      <td>True</td>\n",
       "      <td>False</td>\n",
       "      <td>latestchristian</td>\n",
       "    </tr>\n",
       "    <tr>\n",
       "      <th>305704907</th>\n",
       "      <td>MoniDiop</td>\n",
       "      <td>2011-05-26 17:22:35</td>\n",
       "      <td>1193.0</td>\n",
       "      <td>6740.0</td>\n",
       "      <td>True</td>\n",
       "      <td>False</td>\n",
       "      <td>monidiop</td>\n",
       "    </tr>\n",
       "    <tr>\n",
       "      <th>1180608218059411456</th>\n",
       "      <td>revwendy3</td>\n",
       "      <td>2019-10-05 22:18:43</td>\n",
       "      <td>10711.0</td>\n",
       "      <td>15210.0</td>\n",
       "      <td>True</td>\n",
       "      <td>False</td>\n",
       "      <td>revwendy3</td>\n",
       "    </tr>\n",
       "    <tr>\n",
       "      <th>2196941238</th>\n",
       "      <td>salimadofo</td>\n",
       "      <td>2013-11-16 02:07:57</td>\n",
       "      <td>5405.0</td>\n",
       "      <td>50837.0</td>\n",
       "      <td>True</td>\n",
       "      <td>False</td>\n",
       "      <td>salimadofo</td>\n",
       "    </tr>\n",
       "    <tr>\n",
       "      <th>2890872052</th>\n",
       "      <td>tmholcomb</td>\n",
       "      <td>2014-11-24 14:43:44</td>\n",
       "      <td>1605.0</td>\n",
       "      <td>2633.0</td>\n",
       "      <td>True</td>\n",
       "      <td>False</td>\n",
       "      <td>tmholcomb</td>\n",
       "    </tr>\n",
       "  </tbody>\n",
       "</table>\n",
       "</div>"
      ],
      "text/plain": [
       "                         screen_name          created_at  followers_count  \\\n",
       "1023013209035431936       Evan_Yeats 2018-07-28 01:12:10           3125.0   \n",
       "1377263086520954893        farnan4dc 2021-03-31 14:14:59           1223.0   \n",
       "2186167509           latestchristian 2013-11-18 16:31:05           1789.0   \n",
       "305704907                   MoniDiop 2011-05-26 17:22:35           1193.0   \n",
       "1180608218059411456        revwendy3 2019-10-05 22:18:43          10711.0   \n",
       "2196941238                salimadofo 2013-11-16 02:07:57           5405.0   \n",
       "2890872052                 tmholcomb 2014-11-24 14:43:44           1605.0   \n",
       "\n",
       "                     statuses_count verified protected screen_name_lower  \n",
       "1023013209035431936         28077.0     True     False        evan_yeats  \n",
       "1377263086520954893          1305.0     True     False         farnan4dc  \n",
       "2186167509                   3987.0     True     False   latestchristian  \n",
       "305704907                    6740.0     True     False          monidiop  \n",
       "1180608218059411456         15210.0     True     False         revwendy3  \n",
       "2196941238                  50837.0     True     False        salimadofo  \n",
       "2890872052                   2633.0     True     False         tmholcomb  "
      ]
     },
     "execution_count": 16,
     "metadata": {},
     "output_type": "execute_result"
    }
   ],
   "source": [
    "user_df[user_df['verified']]"
   ]
  },
  {
   "cell_type": "code",
   "execution_count": 17,
   "metadata": {},
   "outputs": [
    {
     "data": {
      "text/html": [
       "<div>\n",
       "<style scoped>\n",
       "    .dataframe tbody tr th:only-of-type {\n",
       "        vertical-align: middle;\n",
       "    }\n",
       "\n",
       "    .dataframe tbody tr th {\n",
       "        vertical-align: top;\n",
       "    }\n",
       "\n",
       "    .dataframe thead th {\n",
       "        text-align: right;\n",
       "    }\n",
       "</style>\n",
       "<table border=\"1\" class=\"dataframe\">\n",
       "  <thead>\n",
       "    <tr style=\"text-align: right;\">\n",
       "      <th></th>\n",
       "      <th>screen_name</th>\n",
       "      <th>created_at</th>\n",
       "      <th>followers_count</th>\n",
       "      <th>statuses_count</th>\n",
       "      <th>verified</th>\n",
       "      <th>protected</th>\n",
       "      <th>screen_name_lower</th>\n",
       "    </tr>\n",
       "  </thead>\n",
       "  <tbody>\n",
       "    <tr>\n",
       "      <th>128000332</th>\n",
       "      <td>TheeBlackAnglo</td>\n",
       "      <td>2010-03-30 20:43:32</td>\n",
       "      <td>1290.0</td>\n",
       "      <td>75880.0</td>\n",
       "      <td>False</td>\n",
       "      <td>True</td>\n",
       "      <td>theeblackanglo</td>\n",
       "    </tr>\n",
       "  </tbody>\n",
       "</table>\n",
       "</div>"
      ],
      "text/plain": [
       "              screen_name          created_at  followers_count  \\\n",
       "128000332  TheeBlackAnglo 2010-03-30 20:43:32           1290.0   \n",
       "\n",
       "           statuses_count verified protected screen_name_lower  \n",
       "128000332         75880.0    False      True    theeblackanglo  "
      ]
     },
     "execution_count": 17,
     "metadata": {},
     "output_type": "execute_result"
    }
   ],
   "source": [
    "user_df[user_df['protected']]"
   ]
  },
  {
   "cell_type": "code",
   "execution_count": 18,
   "metadata": {},
   "outputs": [
    {
     "data": {
      "text/plain": [
       "437.0"
      ]
     },
     "execution_count": 18,
     "metadata": {},
     "output_type": "execute_result"
    }
   ],
   "source": [
    "user_df['followers_count'].median()"
   ]
  },
  {
   "cell_type": "code",
   "execution_count": 19,
   "metadata": {},
   "outputs": [
    {
     "data": {
      "text/plain": [
       "839.0"
      ]
     },
     "execution_count": 19,
     "metadata": {},
     "output_type": "execute_result"
    }
   ],
   "source": [
    "user_df['statuses_count'].median()"
   ]
  },
  {
   "cell_type": "code",
   "execution_count": 20,
   "metadata": {},
   "outputs": [
    {
     "data": {
      "text/plain": [
       "'2014-06-16'"
      ]
     },
     "execution_count": 20,
     "metadata": {},
     "output_type": "execute_result"
    }
   ],
   "source": [
    "user_df['created_days_ago'] = (datetime.utcnow() - user_df['created_at']).dt.days\n",
    "(datetime.utcnow() - timedelta(days=user_df['created_days_ago'].median())).strftime('%Y-%m-%d')"
   ]
  },
  {
   "cell_type": "markdown",
   "metadata": {},
   "source": [
    "## Websites"
   ]
  },
  {
   "cell_type": "code",
   "execution_count": 21,
   "metadata": {},
   "outputs": [],
   "source": [
    "def check_status_of_links(df, link_column):\n",
    "    \n",
    "    bad_sites = []\n",
    "\n",
    "#     for idx, row in tqdm(df.iterrows(), total=len(df)):\n",
    "    for idx, row in df.iterrows():\n",
    "        if pd.isnull(row[link_column]):\n",
    "            continue\n",
    "\n",
    "        print(f'Checking {row[link_column]} ... ', end='')\n",
    "\n",
    "        r = requests.get(row[link_column])\n",
    "        time.sleep(4)\n",
    "        \n",
    "        print(f'status_code: {r.status_code}')\n",
    "\n",
    "        if r.status_code != 200:\n",
    "            bad_sites += [row[link_column]]\n",
    "\n",
    "        time.sleep(1)\n",
    "        \n",
    "    return bad_sites"
   ]
  },
  {
   "cell_type": "code",
   "execution_count": 22,
   "metadata": {},
   "outputs": [
    {
     "ename": "FileNotFoundError",
     "evalue": "[Errno 2] File ../data/ancs.csv does not exist: '../data/ancs.csv'",
     "output_type": "error",
     "traceback": [
      "\u001b[0;31m---------------------------------------------------------------------------\u001b[0m",
      "\u001b[0;31mFileNotFoundError\u001b[0m                         Traceback (most recent call last)",
      "\u001b[0;32m<ipython-input-22-863b7bfd6faa>\u001b[0m in \u001b[0;36m<module>\u001b[0;34m\u001b[0m\n\u001b[0;32m----> 1\u001b[0;31m \u001b[0mancs\u001b[0m \u001b[0;34m=\u001b[0m \u001b[0mpd\u001b[0m\u001b[0;34m.\u001b[0m\u001b[0mread_csv\u001b[0m\u001b[0;34m(\u001b[0m\u001b[0;34m'../data/ancs.csv'\u001b[0m\u001b[0;34m)\u001b[0m\u001b[0;34m\u001b[0m\u001b[0;34m\u001b[0m\u001b[0m\n\u001b[0m\u001b[1;32m      2\u001b[0m \u001b[0mcheck_status_of_links\u001b[0m\u001b[0;34m(\u001b[0m\u001b[0mancs\u001b[0m\u001b[0;34m,\u001b[0m \u001b[0;34m'anc_homepage_link'\u001b[0m\u001b[0;34m)\u001b[0m\u001b[0;34m\u001b[0m\u001b[0;34m\u001b[0m\u001b[0m\n",
      "\u001b[0;32m~/Projects/_environments/openanc/lib/python3.7/site-packages/pandas/io/parsers.py\u001b[0m in \u001b[0;36mparser_f\u001b[0;34m(filepath_or_buffer, sep, delimiter, header, names, index_col, usecols, squeeze, prefix, mangle_dupe_cols, dtype, engine, converters, true_values, false_values, skipinitialspace, skiprows, skipfooter, nrows, na_values, keep_default_na, na_filter, verbose, skip_blank_lines, parse_dates, infer_datetime_format, keep_date_col, date_parser, dayfirst, cache_dates, iterator, chunksize, compression, thousands, decimal, lineterminator, quotechar, quoting, doublequote, escapechar, comment, encoding, dialect, error_bad_lines, warn_bad_lines, delim_whitespace, low_memory, memory_map, float_precision)\u001b[0m\n\u001b[1;32m    674\u001b[0m         )\n\u001b[1;32m    675\u001b[0m \u001b[0;34m\u001b[0m\u001b[0m\n\u001b[0;32m--> 676\u001b[0;31m         \u001b[0;32mreturn\u001b[0m \u001b[0m_read\u001b[0m\u001b[0;34m(\u001b[0m\u001b[0mfilepath_or_buffer\u001b[0m\u001b[0;34m,\u001b[0m \u001b[0mkwds\u001b[0m\u001b[0;34m)\u001b[0m\u001b[0;34m\u001b[0m\u001b[0;34m\u001b[0m\u001b[0m\n\u001b[0m\u001b[1;32m    677\u001b[0m \u001b[0;34m\u001b[0m\u001b[0m\n\u001b[1;32m    678\u001b[0m     \u001b[0mparser_f\u001b[0m\u001b[0;34m.\u001b[0m\u001b[0m__name__\u001b[0m \u001b[0;34m=\u001b[0m \u001b[0mname\u001b[0m\u001b[0;34m\u001b[0m\u001b[0;34m\u001b[0m\u001b[0m\n",
      "\u001b[0;32m~/Projects/_environments/openanc/lib/python3.7/site-packages/pandas/io/parsers.py\u001b[0m in \u001b[0;36m_read\u001b[0;34m(filepath_or_buffer, kwds)\u001b[0m\n\u001b[1;32m    446\u001b[0m \u001b[0;34m\u001b[0m\u001b[0m\n\u001b[1;32m    447\u001b[0m     \u001b[0;31m# Create the parser.\u001b[0m\u001b[0;34m\u001b[0m\u001b[0;34m\u001b[0m\u001b[0;34m\u001b[0m\u001b[0m\n\u001b[0;32m--> 448\u001b[0;31m     \u001b[0mparser\u001b[0m \u001b[0;34m=\u001b[0m \u001b[0mTextFileReader\u001b[0m\u001b[0;34m(\u001b[0m\u001b[0mfp_or_buf\u001b[0m\u001b[0;34m,\u001b[0m \u001b[0;34m**\u001b[0m\u001b[0mkwds\u001b[0m\u001b[0;34m)\u001b[0m\u001b[0;34m\u001b[0m\u001b[0;34m\u001b[0m\u001b[0m\n\u001b[0m\u001b[1;32m    449\u001b[0m \u001b[0;34m\u001b[0m\u001b[0m\n\u001b[1;32m    450\u001b[0m     \u001b[0;32mif\u001b[0m \u001b[0mchunksize\u001b[0m \u001b[0;32mor\u001b[0m \u001b[0miterator\u001b[0m\u001b[0;34m:\u001b[0m\u001b[0;34m\u001b[0m\u001b[0;34m\u001b[0m\u001b[0m\n",
      "\u001b[0;32m~/Projects/_environments/openanc/lib/python3.7/site-packages/pandas/io/parsers.py\u001b[0m in \u001b[0;36m__init__\u001b[0;34m(self, f, engine, **kwds)\u001b[0m\n\u001b[1;32m    878\u001b[0m             \u001b[0mself\u001b[0m\u001b[0;34m.\u001b[0m\u001b[0moptions\u001b[0m\u001b[0;34m[\u001b[0m\u001b[0;34m\"has_index_names\"\u001b[0m\u001b[0;34m]\u001b[0m \u001b[0;34m=\u001b[0m \u001b[0mkwds\u001b[0m\u001b[0;34m[\u001b[0m\u001b[0;34m\"has_index_names\"\u001b[0m\u001b[0;34m]\u001b[0m\u001b[0;34m\u001b[0m\u001b[0;34m\u001b[0m\u001b[0m\n\u001b[1;32m    879\u001b[0m \u001b[0;34m\u001b[0m\u001b[0m\n\u001b[0;32m--> 880\u001b[0;31m         \u001b[0mself\u001b[0m\u001b[0;34m.\u001b[0m\u001b[0m_make_engine\u001b[0m\u001b[0;34m(\u001b[0m\u001b[0mself\u001b[0m\u001b[0;34m.\u001b[0m\u001b[0mengine\u001b[0m\u001b[0;34m)\u001b[0m\u001b[0;34m\u001b[0m\u001b[0;34m\u001b[0m\u001b[0m\n\u001b[0m\u001b[1;32m    881\u001b[0m \u001b[0;34m\u001b[0m\u001b[0m\n\u001b[1;32m    882\u001b[0m     \u001b[0;32mdef\u001b[0m \u001b[0mclose\u001b[0m\u001b[0;34m(\u001b[0m\u001b[0mself\u001b[0m\u001b[0;34m)\u001b[0m\u001b[0;34m:\u001b[0m\u001b[0;34m\u001b[0m\u001b[0;34m\u001b[0m\u001b[0m\n",
      "\u001b[0;32m~/Projects/_environments/openanc/lib/python3.7/site-packages/pandas/io/parsers.py\u001b[0m in \u001b[0;36m_make_engine\u001b[0;34m(self, engine)\u001b[0m\n\u001b[1;32m   1112\u001b[0m     \u001b[0;32mdef\u001b[0m \u001b[0m_make_engine\u001b[0m\u001b[0;34m(\u001b[0m\u001b[0mself\u001b[0m\u001b[0;34m,\u001b[0m \u001b[0mengine\u001b[0m\u001b[0;34m=\u001b[0m\u001b[0;34m\"c\"\u001b[0m\u001b[0;34m)\u001b[0m\u001b[0;34m:\u001b[0m\u001b[0;34m\u001b[0m\u001b[0;34m\u001b[0m\u001b[0m\n\u001b[1;32m   1113\u001b[0m         \u001b[0;32mif\u001b[0m \u001b[0mengine\u001b[0m \u001b[0;34m==\u001b[0m \u001b[0;34m\"c\"\u001b[0m\u001b[0;34m:\u001b[0m\u001b[0;34m\u001b[0m\u001b[0;34m\u001b[0m\u001b[0m\n\u001b[0;32m-> 1114\u001b[0;31m             \u001b[0mself\u001b[0m\u001b[0;34m.\u001b[0m\u001b[0m_engine\u001b[0m \u001b[0;34m=\u001b[0m \u001b[0mCParserWrapper\u001b[0m\u001b[0;34m(\u001b[0m\u001b[0mself\u001b[0m\u001b[0;34m.\u001b[0m\u001b[0mf\u001b[0m\u001b[0;34m,\u001b[0m \u001b[0;34m**\u001b[0m\u001b[0mself\u001b[0m\u001b[0;34m.\u001b[0m\u001b[0moptions\u001b[0m\u001b[0;34m)\u001b[0m\u001b[0;34m\u001b[0m\u001b[0;34m\u001b[0m\u001b[0m\n\u001b[0m\u001b[1;32m   1115\u001b[0m         \u001b[0;32melse\u001b[0m\u001b[0;34m:\u001b[0m\u001b[0;34m\u001b[0m\u001b[0;34m\u001b[0m\u001b[0m\n\u001b[1;32m   1116\u001b[0m             \u001b[0;32mif\u001b[0m \u001b[0mengine\u001b[0m \u001b[0;34m==\u001b[0m \u001b[0;34m\"python\"\u001b[0m\u001b[0;34m:\u001b[0m\u001b[0;34m\u001b[0m\u001b[0;34m\u001b[0m\u001b[0m\n",
      "\u001b[0;32m~/Projects/_environments/openanc/lib/python3.7/site-packages/pandas/io/parsers.py\u001b[0m in \u001b[0;36m__init__\u001b[0;34m(self, src, **kwds)\u001b[0m\n\u001b[1;32m   1889\u001b[0m         \u001b[0mkwds\u001b[0m\u001b[0;34m[\u001b[0m\u001b[0;34m\"usecols\"\u001b[0m\u001b[0;34m]\u001b[0m \u001b[0;34m=\u001b[0m \u001b[0mself\u001b[0m\u001b[0;34m.\u001b[0m\u001b[0musecols\u001b[0m\u001b[0;34m\u001b[0m\u001b[0;34m\u001b[0m\u001b[0m\n\u001b[1;32m   1890\u001b[0m \u001b[0;34m\u001b[0m\u001b[0m\n\u001b[0;32m-> 1891\u001b[0;31m         \u001b[0mself\u001b[0m\u001b[0;34m.\u001b[0m\u001b[0m_reader\u001b[0m \u001b[0;34m=\u001b[0m \u001b[0mparsers\u001b[0m\u001b[0;34m.\u001b[0m\u001b[0mTextReader\u001b[0m\u001b[0;34m(\u001b[0m\u001b[0msrc\u001b[0m\u001b[0;34m,\u001b[0m \u001b[0;34m**\u001b[0m\u001b[0mkwds\u001b[0m\u001b[0;34m)\u001b[0m\u001b[0;34m\u001b[0m\u001b[0;34m\u001b[0m\u001b[0m\n\u001b[0m\u001b[1;32m   1892\u001b[0m         \u001b[0mself\u001b[0m\u001b[0;34m.\u001b[0m\u001b[0munnamed_cols\u001b[0m \u001b[0;34m=\u001b[0m \u001b[0mself\u001b[0m\u001b[0;34m.\u001b[0m\u001b[0m_reader\u001b[0m\u001b[0;34m.\u001b[0m\u001b[0munnamed_cols\u001b[0m\u001b[0;34m\u001b[0m\u001b[0;34m\u001b[0m\u001b[0m\n\u001b[1;32m   1893\u001b[0m \u001b[0;34m\u001b[0m\u001b[0m\n",
      "\u001b[0;32mpandas/_libs/parsers.pyx\u001b[0m in \u001b[0;36mpandas._libs.parsers.TextReader.__cinit__\u001b[0;34m()\u001b[0m\n",
      "\u001b[0;32mpandas/_libs/parsers.pyx\u001b[0m in \u001b[0;36mpandas._libs.parsers.TextReader._setup_parser_source\u001b[0;34m()\u001b[0m\n",
      "\u001b[0;31mFileNotFoundError\u001b[0m: [Errno 2] File ../data/ancs.csv does not exist: '../data/ancs.csv'"
     ]
    }
   ],
   "source": [
    "ancs = pd.read_csv('../data/ancs.csv')\n",
    "check_status_of_links(ancs, 'anc_homepage_link')"
   ]
  },
  {
   "cell_type": "code",
   "execution_count": null,
   "metadata": {},
   "outputs": [],
   "source": [
    "# check_status_of_links(people_candidates_active, 'website_link')"
   ]
  },
  {
   "cell_type": "code",
   "execution_count": null,
   "metadata": {},
   "outputs": [],
   "source": [
    "# requests.get('http://robbdooling.com')"
   ]
  },
  {
   "cell_type": "code",
   "execution_count": null,
   "metadata": {},
   "outputs": [],
   "source": [
    "# requests.get('https://meghanforanc.com')"
   ]
  },
  {
   "cell_type": "markdown",
   "metadata": {},
   "source": [
    "## Facebook"
   ]
  },
  {
   "cell_type": "code",
   "execution_count": null,
   "metadata": {},
   "outputs": [],
   "source": [
    "# check_status_of_links(people_candidates_active, 'facebook_link')"
   ]
  }
 ],
 "metadata": {
  "kernelspec": {
   "display_name": "Python 3",
   "language": "python",
   "name": "python3"
  },
  "language_info": {
   "codemirror_mode": {
    "name": "ipython",
    "version": 3
   },
   "file_extension": ".py",
   "mimetype": "text/x-python",
   "name": "python",
   "nbconvert_exporter": "python",
   "pygments_lexer": "ipython3",
   "version": "3.7.1"
  }
 },
 "nbformat": 4,
 "nbformat_minor": 2
}
