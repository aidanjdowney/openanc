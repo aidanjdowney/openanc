{
 "cells": [
  {
   "cell_type": "markdown",
   "metadata": {},
   "source": [
    "# Match Candidate Names\n",
    "\n",
    "From two data sources, compare the candidate names and the district to put a person_id on the best match. "
   ]
  },
  {
   "cell_type": "code",
   "execution_count": 1,
   "metadata": {},
   "outputs": [],
   "source": [
    "import os\n",
    "os.chdir('../')\n",
    "import pandas as pd\n",
    "import numpy as np\n",
    "\n",
    "from scripts.common import match_names"
   ]
  },
  {
   "cell_type": "code",
   "execution_count": 2,
   "metadata": {},
   "outputs": [],
   "source": [
    "historical = pd.read_csv('data/candidates_to_match.csv') # from Past_Election_Results\n",
    "people = pd.read_csv('data/people.csv')"
   ]
  },
  {
   "cell_type": "code",
   "execution_count": null,
   "metadata": {},
   "outputs": [],
   "source": []
  },
  {
   "cell_type": "code",
   "execution_count": 3,
   "metadata": {},
   "outputs": [],
   "source": [
    "# Create a column for integers, starting will NULLs, where the person_id from the matches will go\n",
    "historical['person_id'] = pd.NA\n",
    "historical['person_id'] = historical['person_id'].astype('Int64')\n",
    "\n",
    "people['person_id'] = people['person_id'].astype('Int64')"
   ]
  },
  {
   "cell_type": "code",
   "execution_count": 4,
   "metadata": {},
   "outputs": [],
   "source": [
    "for idx, row in historical.iterrows():\n",
    "    \n",
    "    people_smd = people[people['any_smd'] == row['smd_id']].copy()\n",
    "    \n",
    "    best_id, best_score = match_names(row['candidate_name'], people_smd['full_name'], people_smd['person_id'])\n",
    "    \n",
    "    if best_score >= 80:\n",
    "        historical.loc[idx, 'match_score'] = best_score\n",
    "        historical.loc[idx, 'person_id'] = best_id\n",
    "        historical.loc[idx, 'match_name'] = people.loc[people.person_id == best_id, 'full_name'].iloc[0]\n",
    "        historical.loc[idx, 'match_smd_id'] = people.loc[people.person_id == best_id, 'any_smd'].iloc[0]"
   ]
  },
  {
   "cell_type": "code",
   "execution_count": 5,
   "metadata": {},
   "outputs": [],
   "source": [
    "# historical_match = pd.merge(historical, people, how='left', on='person_id')"
   ]
  },
  {
   "cell_type": "code",
   "execution_count": 6,
   "metadata": {},
   "outputs": [],
   "source": [
    "# historical.to_clipboard()"
   ]
  },
  {
   "cell_type": "markdown",
   "metadata": {},
   "source": [
    "## Matches Found"
   ]
  },
  {
   "cell_type": "code",
   "execution_count": 7,
   "metadata": {},
   "outputs": [
    {
     "data": {
      "text/plain": [
       "283"
      ]
     },
     "execution_count": 7,
     "metadata": {},
     "output_type": "execute_result"
    }
   ],
   "source": [
    "historical.person_id.nunique()"
   ]
  },
  {
   "cell_type": "code",
   "execution_count": 8,
   "metadata": {},
   "outputs": [
    {
     "data": {
      "text/plain": [
       "1075"
      ]
     },
     "execution_count": 8,
     "metadata": {},
     "output_type": "execute_result"
    }
   ],
   "source": [
    "len(historical)"
   ]
  },
  {
   "cell_type": "code",
   "execution_count": null,
   "metadata": {},
   "outputs": [],
   "source": []
  }
 ],
 "metadata": {
  "kernelspec": {
   "display_name": "Python 3",
   "language": "python",
   "name": "python3"
  },
  "language_info": {
   "codemirror_mode": {
    "name": "ipython",
    "version": 3
   },
   "file_extension": ".py",
   "mimetype": "text/x-python",
   "name": "python",
   "nbconvert_exporter": "python",
   "pygments_lexer": "ipython3",
   "version": "3.7.1"
  }
 },
 "nbformat": 4,
 "nbformat_minor": 4
}
