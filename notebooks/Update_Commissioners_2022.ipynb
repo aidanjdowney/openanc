{
 "cells": [
  {
   "cell_type": "markdown",
   "id": "b2b9c975",
   "metadata": {},
   "source": [
    "# Update Commissioners 2022\n",
    "\n",
    "After redistricting, all commissioners are in new districts (all districts have new IDs), so they all need a new row in the commissioners table. \n",
    "\n",
    "A medium-term project will be upgrading the commissioners table so there is one row per commissioner-term."
   ]
  },
  {
   "cell_type": "code",
   "execution_count": 1,
   "id": "61958067",
   "metadata": {},
   "outputs": [],
   "source": [
    "import os\n",
    "os.chdir('../')\n",
    "\n",
    "import pytz\n",
    "import pandas as pd\n",
    "from datetime import datetime"
   ]
  },
  {
   "cell_type": "code",
   "execution_count": 2,
   "id": "5c1cbb6b",
   "metadata": {},
   "outputs": [],
   "source": [
    "election_year = 2024\n",
    "\n",
    "# The dates go into the google sheet as text, they don't need to be datetime\n",
    "start_date = '2025-01-02'\n",
    "end_date = '2027-01-02'"
   ]
  },
  {
   "cell_type": "code",
   "execution_count": 3,
   "id": "a025a331",
   "metadata": {},
   "outputs": [],
   "source": [
    "people = pd.read_csv('data/people.csv')\n",
    "results = pd.read_csv('data/dcboe/candidate_votes.csv')\n",
    "write_in_winners = pd.read_csv('data/dcboe/write_in_winners.csv')\n",
    "lookup = pd.read_csv('data/external_id_lookup.csv')"
   ]
  },
  {
   "cell_type": "code",
   "execution_count": 4,
   "id": "6b570ebc",
   "metadata": {},
   "outputs": [],
   "source": [
    "results = results[results.election_year == election_year].copy()\n",
    "write_in_winners = write_in_winners[write_in_winners.election_year == election_year].copy()"
   ]
  },
  {
   "cell_type": "code",
   "execution_count": 5,
   "id": "71092efc",
   "metadata": {},
   "outputs": [
    {
     "data": {
      "text/html": [
       "<div>\n",
       "<style scoped>\n",
       "    .dataframe tbody tr th:only-of-type {\n",
       "        vertical-align: middle;\n",
       "    }\n",
       "\n",
       "    .dataframe tbody tr th {\n",
       "        vertical-align: top;\n",
       "    }\n",
       "\n",
       "    .dataframe thead th {\n",
       "        text-align: right;\n",
       "    }\n",
       "</style>\n",
       "<table border=\"1\" class=\"dataframe\">\n",
       "  <thead>\n",
       "    <tr style=\"text-align: right;\">\n",
       "      <th></th>\n",
       "      <th>external_id</th>\n",
       "      <th>smd_id</th>\n",
       "    </tr>\n",
       "  </thead>\n",
       "  <tbody>\n",
       "    <tr>\n",
       "      <th>1418</th>\n",
       "      <td>dfb199b30d1d440188a7cfe1aff8b6fef3fc7d5549b662...</td>\n",
       "      <td>smd_2022_1A01</td>\n",
       "    </tr>\n",
       "    <tr>\n",
       "      <th>1420</th>\n",
       "      <td>a4c839b09ed0da89280a5e0ffb7ceaf3ce8f9138ee3dc2...</td>\n",
       "      <td>smd_2022_1A02</td>\n",
       "    </tr>\n",
       "    <tr>\n",
       "      <th>1422</th>\n",
       "      <td>343ea37f82449589debc04c14dbb229f69873f3f219ec7...</td>\n",
       "      <td>smd_2022_1A03</td>\n",
       "    </tr>\n",
       "    <tr>\n",
       "      <th>1424</th>\n",
       "      <td>53c501c6627907f657d2faae46273d0c32597fab996ff6...</td>\n",
       "      <td>smd_2022_1A04</td>\n",
       "    </tr>\n",
       "    <tr>\n",
       "      <th>1426</th>\n",
       "      <td>4d16b00a6a09af3d0efaef769aa6ac664c7e482fd5525d...</td>\n",
       "      <td>smd_2022_1A05</td>\n",
       "    </tr>\n",
       "    <tr>\n",
       "      <th>...</th>\n",
       "      <td>...</td>\n",
       "      <td>...</td>\n",
       "    </tr>\n",
       "    <tr>\n",
       "      <th>2095</th>\n",
       "      <td>8b116b303533f51ac0e97ef9e93112c23c865b2c835d95...</td>\n",
       "      <td>smd_2022_8F01</td>\n",
       "    </tr>\n",
       "    <tr>\n",
       "      <th>2097</th>\n",
       "      <td>9053a4ef792c97c909ce5d75ca71df598bd18543a834d3...</td>\n",
       "      <td>smd_2022_8F02</td>\n",
       "    </tr>\n",
       "    <tr>\n",
       "      <th>2101</th>\n",
       "      <td>87edc46acf64161d76a169d8a8e0b294e1fb93c58709a1...</td>\n",
       "      <td>smd_2022_8F03</td>\n",
       "    </tr>\n",
       "    <tr>\n",
       "      <th>2103</th>\n",
       "      <td>96c0e6fbb6a60be385eda74d59677765d2ab6bd32aed04...</td>\n",
       "      <td>smd_2022_8F04</td>\n",
       "    </tr>\n",
       "    <tr>\n",
       "      <th>87</th>\n",
       "      <td>21284bbe0d8da4519bc96f7a343e1c297ed954c2767477...</td>\n",
       "      <td>smd_2022_8F05</td>\n",
       "    </tr>\n",
       "  </tbody>\n",
       "</table>\n",
       "<p>317 rows × 2 columns</p>\n",
       "</div>"
      ],
      "text/plain": [
       "                                            external_id         smd_id\n",
       "1418  dfb199b30d1d440188a7cfe1aff8b6fef3fc7d5549b662...  smd_2022_1A01\n",
       "1420  a4c839b09ed0da89280a5e0ffb7ceaf3ce8f9138ee3dc2...  smd_2022_1A02\n",
       "1422  343ea37f82449589debc04c14dbb229f69873f3f219ec7...  smd_2022_1A03\n",
       "1424  53c501c6627907f657d2faae46273d0c32597fab996ff6...  smd_2022_1A04\n",
       "1426  4d16b00a6a09af3d0efaef769aa6ac664c7e482fd5525d...  smd_2022_1A05\n",
       "...                                                 ...            ...\n",
       "2095  8b116b303533f51ac0e97ef9e93112c23c865b2c835d95...  smd_2022_8F01\n",
       "2097  9053a4ef792c97c909ce5d75ca71df598bd18543a834d3...  smd_2022_8F02\n",
       "2101  87edc46acf64161d76a169d8a8e0b294e1fb93c58709a1...  smd_2022_8F03\n",
       "2103  96c0e6fbb6a60be385eda74d59677765d2ab6bd32aed04...  smd_2022_8F04\n",
       "87    21284bbe0d8da4519bc96f7a343e1c297ed954c2767477...  smd_2022_8F05\n",
       "\n",
       "[317 rows x 2 columns]"
      ]
     },
     "execution_count": 5,
     "metadata": {},
     "output_type": "execute_result"
    }
   ],
   "source": [
    "winners = pd.concat([\n",
    "    results[(results.winner) & (~results.write_in_winner)][['external_id', 'smd_id']]\n",
    "    , write_in_winners[['external_id', 'smd_id']]\n",
    "]).sort_values(by='smd_id')\n",
    "\n",
    "winners"
   ]
  },
  {
   "cell_type": "code",
   "execution_count": 6,
   "id": "168bc900",
   "metadata": {},
   "outputs": [],
   "source": [
    "winners_lookup = pd.merge(winners, lookup, how='inner', on='external_id').drop('full_name', axis=1)\n",
    "winners_lookup_people = pd.merge(winners_lookup, people, how='inner', on='person_id')"
   ]
  },
  {
   "cell_type": "code",
   "execution_count": 7,
   "id": "5386862a",
   "metadata": {},
   "outputs": [
    {
     "data": {
      "text/plain": [
       "True"
      ]
     },
     "execution_count": 7,
     "metadata": {},
     "output_type": "execute_result"
    }
   ],
   "source": [
    "# Confirm that there is only one winner per SMD\n",
    "winners_lookup_people.groupby('smd_id').size().max() == 1"
   ]
  },
  {
   "cell_type": "code",
   "execution_count": 8,
   "id": "df50c3cb",
   "metadata": {},
   "outputs": [],
   "source": [
    "winners_lookup_people['start_date'] = start_date\n",
    "winners_lookup_people['end_date'] = end_date"
   ]
  },
  {
   "cell_type": "code",
   "execution_count": 9,
   "id": "8c53d61a",
   "metadata": {},
   "outputs": [
    {
     "data": {
      "text/html": [
       "<div>\n",
       "<style scoped>\n",
       "    .dataframe tbody tr th:only-of-type {\n",
       "        vertical-align: middle;\n",
       "    }\n",
       "\n",
       "    .dataframe tbody tr th {\n",
       "        vertical-align: top;\n",
       "    }\n",
       "\n",
       "    .dataframe thead th {\n",
       "        text-align: right;\n",
       "    }\n",
       "</style>\n",
       "<table border=\"1\" class=\"dataframe\">\n",
       "  <thead>\n",
       "    <tr style=\"text-align: right;\">\n",
       "      <th></th>\n",
       "      <th>person_id</th>\n",
       "      <th>smd_id</th>\n",
       "      <th>full_name</th>\n",
       "      <th>start_date</th>\n",
       "      <th>end_date</th>\n",
       "    </tr>\n",
       "  </thead>\n",
       "  <tbody>\n",
       "    <tr>\n",
       "      <th>0</th>\n",
       "      <td>11707</td>\n",
       "      <td>smd_2022_1A01</td>\n",
       "      <td>Jaspal Bhatia</td>\n",
       "      <td>2025-01-02</td>\n",
       "      <td>2027-01-02</td>\n",
       "    </tr>\n",
       "    <tr>\n",
       "      <th>1</th>\n",
       "      <td>10285</td>\n",
       "      <td>smd_2022_1A02</td>\n",
       "      <td>Dieter Lehmann Morales</td>\n",
       "      <td>2025-01-02</td>\n",
       "      <td>2027-01-02</td>\n",
       "    </tr>\n",
       "    <tr>\n",
       "      <th>2</th>\n",
       "      <td>11345</td>\n",
       "      <td>smd_2022_1A03</td>\n",
       "      <td>Carlo Perri</td>\n",
       "      <td>2025-01-02</td>\n",
       "      <td>2027-01-02</td>\n",
       "    </tr>\n",
       "    <tr>\n",
       "      <th>3</th>\n",
       "      <td>11371</td>\n",
       "      <td>smd_2022_1A04</td>\n",
       "      <td>Jeremy Sherman</td>\n",
       "      <td>2025-01-02</td>\n",
       "      <td>2027-01-02</td>\n",
       "    </tr>\n",
       "    <tr>\n",
       "      <th>4</th>\n",
       "      <td>10005</td>\n",
       "      <td>smd_2022_1A05</td>\n",
       "      <td>Christine Miller</td>\n",
       "      <td>2025-01-02</td>\n",
       "      <td>2027-01-02</td>\n",
       "    </tr>\n",
       "    <tr>\n",
       "      <th>...</th>\n",
       "      <td>...</td>\n",
       "      <td>...</td>\n",
       "      <td>...</td>\n",
       "      <td>...</td>\n",
       "      <td>...</td>\n",
       "    </tr>\n",
       "    <tr>\n",
       "      <th>312</th>\n",
       "      <td>11542</td>\n",
       "      <td>smd_2022_8F01</td>\n",
       "      <td>Nic Wilson</td>\n",
       "      <td>2025-01-02</td>\n",
       "      <td>2027-01-02</td>\n",
       "    </tr>\n",
       "    <tr>\n",
       "      <th>313</th>\n",
       "      <td>11849</td>\n",
       "      <td>smd_2022_8F02</td>\n",
       "      <td>Markita Bryant</td>\n",
       "      <td>2025-01-02</td>\n",
       "      <td>2027-01-02</td>\n",
       "    </tr>\n",
       "    <tr>\n",
       "      <th>314</th>\n",
       "      <td>11406</td>\n",
       "      <td>smd_2022_8F03</td>\n",
       "      <td>Brian Strege</td>\n",
       "      <td>2025-01-02</td>\n",
       "      <td>2027-01-02</td>\n",
       "    </tr>\n",
       "    <tr>\n",
       "      <th>315</th>\n",
       "      <td>10210</td>\n",
       "      <td>smd_2022_8F04</td>\n",
       "      <td>Edward Daniels</td>\n",
       "      <td>2025-01-02</td>\n",
       "      <td>2027-01-02</td>\n",
       "    </tr>\n",
       "    <tr>\n",
       "      <th>316</th>\n",
       "      <td>11895</td>\n",
       "      <td>smd_2022_8F05</td>\n",
       "      <td>Liam Goodwin</td>\n",
       "      <td>2025-01-02</td>\n",
       "      <td>2027-01-02</td>\n",
       "    </tr>\n",
       "  </tbody>\n",
       "</table>\n",
       "<p>317 rows × 5 columns</p>\n",
       "</div>"
      ],
      "text/plain": [
       "     person_id         smd_id               full_name  start_date    end_date\n",
       "0        11707  smd_2022_1A01           Jaspal Bhatia  2025-01-02  2027-01-02\n",
       "1        10285  smd_2022_1A02  Dieter Lehmann Morales  2025-01-02  2027-01-02\n",
       "2        11345  smd_2022_1A03             Carlo Perri  2025-01-02  2027-01-02\n",
       "3        11371  smd_2022_1A04          Jeremy Sherman  2025-01-02  2027-01-02\n",
       "4        10005  smd_2022_1A05        Christine Miller  2025-01-02  2027-01-02\n",
       "..         ...            ...                     ...         ...         ...\n",
       "312      11542  smd_2022_8F01              Nic Wilson  2025-01-02  2027-01-02\n",
       "313      11849  smd_2022_8F02          Markita Bryant  2025-01-02  2027-01-02\n",
       "314      11406  smd_2022_8F03            Brian Strege  2025-01-02  2027-01-02\n",
       "315      10210  smd_2022_8F04          Edward Daniels  2025-01-02  2027-01-02\n",
       "316      11895  smd_2022_8F05            Liam Goodwin  2025-01-02  2027-01-02\n",
       "\n",
       "[317 rows x 5 columns]"
      ]
     },
     "execution_count": 9,
     "metadata": {},
     "output_type": "execute_result"
    }
   ],
   "source": [
    "columns_to_clipboard = ['person_id', 'smd_id', 'full_name', 'start_date', 'end_date']\n",
    "winners_lookup_people[columns_to_clipboard]"
   ]
  },
  {
   "cell_type": "code",
   "execution_count": 10,
   "id": "c2bb0cf2",
   "metadata": {},
   "outputs": [],
   "source": [
    "# Copy to \"commissioners\" tab\n",
    "winners_lookup_people[columns_to_clipboard].to_clipboard(index=False)"
   ]
  },
  {
   "cell_type": "code",
   "execution_count": null,
   "id": "38e3eb9b",
   "metadata": {},
   "outputs": [],
   "source": []
  }
 ],
 "metadata": {
  "kernelspec": {
   "display_name": "Python 3 (ipykernel)",
   "language": "python",
   "name": "python3"
  },
  "language_info": {
   "codemirror_mode": {
    "name": "ipython",
    "version": 3
   },
   "file_extension": ".py",
   "mimetype": "text/x-python",
   "name": "python",
   "nbconvert_exporter": "python",
   "pygments_lexer": "ipython3",
   "version": "3.10.3"
  }
 },
 "nbformat": 4,
 "nbformat_minor": 5
}
