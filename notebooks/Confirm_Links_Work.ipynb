{
 "cells": [
  {
   "cell_type": "markdown",
   "metadata": {},
   "source": [
    "Confirm that all links in the people database go to working sites. "
   ]
  },
  {
   "cell_type": "code",
   "execution_count": 1,
   "metadata": {},
   "outputs": [],
   "source": [
    "import requests\n",
    "import pandas as pd\n",
    "import numpy as np\n",
    "import time\n",
    "from datetime import datetime, timedelta\n",
    "\n",
    "import os\n",
    "import sys\n",
    "import csv\n",
    "from tqdm import tqdm\n",
    "\n",
    "import tweepy\n",
    "\n",
    "consumer_key = os.environ.get('TWITTER_API_KEY')\n",
    "consumer_secret = os.environ.get('TWITTER_API_KEY_SECRET')\n",
    "access_key = os.environ.get('TWITTER_ACCESS_TOKEN')\n",
    "access_secret = os.environ.get('TWITTER_ACCESS_TOKEN_SECRET')"
   ]
  },
  {
   "cell_type": "code",
   "execution_count": 2,
   "metadata": {},
   "outputs": [],
   "source": [
    "people = pd.read_csv('../data/people.csv')\n",
    "candidates = pd.read_csv('../data/candidates.csv')\n",
    "candidate_statuses = pd.read_csv('../data/candidate_statuses.csv')\n",
    "\n",
    "people_candidates = pd.merge(people, candidates, how='inner', on='person_id')\n",
    "people_candidates_status = pd.merge(people_candidates, candidate_statuses, how='inner', on='candidate_status')\n",
    "people_candidates_active = people_candidates_status[people_candidates_status['count_as_candidate']].copy()"
   ]
  },
  {
   "cell_type": "markdown",
   "metadata": {},
   "source": [
    "## Twitter"
   ]
  },
  {
   "cell_type": "code",
   "execution_count": 3,
   "metadata": {},
   "outputs": [],
   "source": [
    "auth = tweepy.OAuthHandler(consumer_key, consumer_secret)\n",
    "auth.set_access_token(access_key, access_secret)\n",
    "api = tweepy.API(auth)"
   ]
  },
  {
   "cell_type": "code",
   "execution_count": 4,
   "metadata": {
    "scrolled": true
   },
   "outputs": [],
   "source": [
    "people_candidates_active['twitter_handle_lower'] = (\n",
    "    people_candidates_active['twitter_link']\n",
    "    .str.replace('https://twitter.com/', '')\n",
    "    .str.lower()\n",
    ")\n",
    "\n",
    "list_of_handles = (\n",
    "    people_candidates_active.loc[people_candidates_active['twitter_handle_lower'].notnull(), 'twitter_handle_lower']\n",
    "    .tolist()\n",
    ")"
   ]
  },
  {
   "cell_type": "code",
   "execution_count": 5,
   "metadata": {},
   "outputs": [],
   "source": [
    "batch_size = 40\n",
    "num_batches = np.ceil(len(list_of_handles) / batch_size)\n",
    "batches = np.array_split(list_of_handles, num_batches)"
   ]
  },
  {
   "cell_type": "code",
   "execution_count": 6,
   "metadata": {},
   "outputs": [
    {
     "name": "stderr",
     "output_type": "stream",
     "text": [
      "100%|██████████| 5/5 [00:29<00:00,  5.85s/it]\n"
     ]
    }
   ],
   "source": [
    "user_df_list = []\n",
    "\n",
    "for batch in tqdm(batches):\n",
    "    lookup_response = api.lookup_users(screen_names=list(batch))\n",
    "    \n",
    "    temp_df = pd.DataFrame()\n",
    "\n",
    "    for u in lookup_response:\n",
    "        temp_df.loc[u.id, 'screen_name'] = u.screen_name\n",
    "        temp_df.loc[u.id, 'created_at'] = u.created_at\n",
    "        temp_df.loc[u.id, 'followers_count'] = u.followers_count\n",
    "        temp_df.loc[u.id, 'statuses_count'] = u.statuses_count\n",
    "        temp_df.loc[u.id, 'verified'] = u.verified\n",
    "        temp_df.loc[u.id, 'protected'] = u.protected\n",
    "\n",
    "\n",
    "    user_df_list += [temp_df]\n",
    "    \n",
    "    time.sleep(5)"
   ]
  },
  {
   "cell_type": "code",
   "execution_count": 7,
   "metadata": {},
   "outputs": [],
   "source": [
    "user_df = pd.concat(user_df_list)"
   ]
  },
  {
   "cell_type": "code",
   "execution_count": 8,
   "metadata": {},
   "outputs": [
    {
     "data": {
      "text/html": [
       "<div>\n",
       "<style scoped>\n",
       "    .dataframe tbody tr th:only-of-type {\n",
       "        vertical-align: middle;\n",
       "    }\n",
       "\n",
       "    .dataframe tbody tr th {\n",
       "        vertical-align: top;\n",
       "    }\n",
       "\n",
       "    .dataframe thead th {\n",
       "        text-align: right;\n",
       "    }\n",
       "</style>\n",
       "<table border=\"1\" class=\"dataframe\">\n",
       "  <thead>\n",
       "    <tr style=\"text-align: right;\">\n",
       "      <th></th>\n",
       "      <th>screen_name</th>\n",
       "      <th>created_at</th>\n",
       "      <th>followers_count</th>\n",
       "      <th>statuses_count</th>\n",
       "      <th>verified</th>\n",
       "      <th>protected</th>\n",
       "      <th>screen_name_lower</th>\n",
       "    </tr>\n",
       "  </thead>\n",
       "  <tbody>\n",
       "    <tr>\n",
       "      <th>1946942610</th>\n",
       "      <td>LaylaBonnot</td>\n",
       "      <td>2013-10-08 13:53:51</td>\n",
       "      <td>937.0</td>\n",
       "      <td>2911.0</td>\n",
       "      <td>False</td>\n",
       "      <td>False</td>\n",
       "      <td>laylabonnot</td>\n",
       "    </tr>\n",
       "    <tr>\n",
       "      <th>182387417</th>\n",
       "      <td>zach_rybarczyk</td>\n",
       "      <td>2010-08-24 13:47:59</td>\n",
       "      <td>122.0</td>\n",
       "      <td>418.0</td>\n",
       "      <td>False</td>\n",
       "      <td>True</td>\n",
       "      <td>zach_rybarczyk</td>\n",
       "    </tr>\n",
       "    <tr>\n",
       "      <th>806545555094704128</th>\n",
       "      <td>MillerANC1A05</td>\n",
       "      <td>2016-12-07 17:07:00</td>\n",
       "      <td>713.0</td>\n",
       "      <td>3266.0</td>\n",
       "      <td>False</td>\n",
       "      <td>False</td>\n",
       "      <td>milleranc1a05</td>\n",
       "    </tr>\n",
       "    <tr>\n",
       "      <th>330233286</th>\n",
       "      <td>KentBoeseDC</td>\n",
       "      <td>2011-07-06 09:36:50</td>\n",
       "      <td>2442.0</td>\n",
       "      <td>8447.0</td>\n",
       "      <td>False</td>\n",
       "      <td>False</td>\n",
       "      <td>kentboesedc</td>\n",
       "    </tr>\n",
       "    <tr>\n",
       "      <th>874536666</th>\n",
       "      <td>mwraydc</td>\n",
       "      <td>2012-10-11 23:46:58</td>\n",
       "      <td>434.0</td>\n",
       "      <td>1449.0</td>\n",
       "      <td>False</td>\n",
       "      <td>False</td>\n",
       "      <td>mwraydc</td>\n",
       "    </tr>\n",
       "    <tr>\n",
       "      <th>...</th>\n",
       "      <td>...</td>\n",
       "      <td>...</td>\n",
       "      <td>...</td>\n",
       "      <td>...</td>\n",
       "      <td>...</td>\n",
       "      <td>...</td>\n",
       "      <td>...</td>\n",
       "    </tr>\n",
       "    <tr>\n",
       "      <th>2337449737</th>\n",
       "      <td>PranavNandaDC</td>\n",
       "      <td>2014-02-11 00:12:21</td>\n",
       "      <td>671.0</td>\n",
       "      <td>4370.0</td>\n",
       "      <td>False</td>\n",
       "      <td>False</td>\n",
       "      <td>pranavnandadc</td>\n",
       "    </tr>\n",
       "    <tr>\n",
       "      <th>229348030</th>\n",
       "      <td>thisisbossi</td>\n",
       "      <td>2010-12-22 05:10:30</td>\n",
       "      <td>1032.0</td>\n",
       "      <td>48303.0</td>\n",
       "      <td>False</td>\n",
       "      <td>False</td>\n",
       "      <td>thisisbossi</td>\n",
       "    </tr>\n",
       "    <tr>\n",
       "      <th>1304661831953395712</th>\n",
       "      <td>Yannikfor2A01</td>\n",
       "      <td>2020-09-12 06:03:24</td>\n",
       "      <td>156.0</td>\n",
       "      <td>192.0</td>\n",
       "      <td>False</td>\n",
       "      <td>False</td>\n",
       "      <td>yannikfor2a01</td>\n",
       "    </tr>\n",
       "    <tr>\n",
       "      <th>44801505</th>\n",
       "      <td>EdwardRyder</td>\n",
       "      <td>2009-06-05 02:41:23</td>\n",
       "      <td>390.0</td>\n",
       "      <td>120.0</td>\n",
       "      <td>False</td>\n",
       "      <td>False</td>\n",
       "      <td>edwardryder</td>\n",
       "    </tr>\n",
       "    <tr>\n",
       "      <th>382655887</th>\n",
       "      <td>porchrates</td>\n",
       "      <td>2011-09-30 13:18:04</td>\n",
       "      <td>1644.0</td>\n",
       "      <td>433.0</td>\n",
       "      <td>False</td>\n",
       "      <td>False</td>\n",
       "      <td>porchrates</td>\n",
       "    </tr>\n",
       "  </tbody>\n",
       "</table>\n",
       "<p>174 rows × 7 columns</p>\n",
       "</div>"
      ],
      "text/plain": [
       "                        screen_name          created_at  followers_count  \\\n",
       "1946942610              LaylaBonnot 2013-10-08 13:53:51            937.0   \n",
       "182387417            zach_rybarczyk 2010-08-24 13:47:59            122.0   \n",
       "806545555094704128    MillerANC1A05 2016-12-07 17:07:00            713.0   \n",
       "330233286               KentBoeseDC 2011-07-06 09:36:50           2442.0   \n",
       "874536666                   mwraydc 2012-10-11 23:46:58            434.0   \n",
       "...                             ...                 ...              ...   \n",
       "2337449737            PranavNandaDC 2014-02-11 00:12:21            671.0   \n",
       "229348030               thisisbossi 2010-12-22 05:10:30           1032.0   \n",
       "1304661831953395712   Yannikfor2A01 2020-09-12 06:03:24            156.0   \n",
       "44801505                EdwardRyder 2009-06-05 02:41:23            390.0   \n",
       "382655887                porchrates 2011-09-30 13:18:04           1644.0   \n",
       "\n",
       "                     statuses_count verified protected screen_name_lower  \n",
       "1946942610                   2911.0    False     False       laylabonnot  \n",
       "182387417                     418.0    False      True    zach_rybarczyk  \n",
       "806545555094704128           3266.0    False     False     milleranc1a05  \n",
       "330233286                    8447.0    False     False       kentboesedc  \n",
       "874536666                    1449.0    False     False           mwraydc  \n",
       "...                             ...      ...       ...               ...  \n",
       "2337449737                   4370.0    False     False     pranavnandadc  \n",
       "229348030                   48303.0    False     False       thisisbossi  \n",
       "1304661831953395712           192.0    False     False     yannikfor2a01  \n",
       "44801505                      120.0    False     False       edwardryder  \n",
       "382655887                     433.0    False     False        porchrates  \n",
       "\n",
       "[174 rows x 7 columns]"
      ]
     },
     "execution_count": 8,
     "metadata": {},
     "output_type": "execute_result"
    }
   ],
   "source": [
    "user_df['screen_name_lower'] = user_df['screen_name'].str.lower()\n",
    "user_df"
   ]
  },
  {
   "cell_type": "code",
   "execution_count": 9,
   "metadata": {},
   "outputs": [],
   "source": [
    "working_screen_name_lower = [s.lower() for s in user_df['screen_name'].tolist()]"
   ]
  },
  {
   "cell_type": "code",
   "execution_count": 10,
   "metadata": {},
   "outputs": [],
   "source": [
    "missing_users = [f for f in list_of_handles if f not in working_screen_name_lower]"
   ]
  },
  {
   "cell_type": "code",
   "execution_count": 11,
   "metadata": {},
   "outputs": [
    {
     "data": {
      "text/plain": [
       "[]"
      ]
     },
     "execution_count": 11,
     "metadata": {},
     "output_type": "execute_result"
    }
   ],
   "source": [
    "missing_users"
   ]
  },
  {
   "cell_type": "code",
   "execution_count": 12,
   "metadata": {},
   "outputs": [
    {
     "data": {
      "text/plain": [
       "0"
      ]
     },
     "execution_count": 12,
     "metadata": {},
     "output_type": "execute_result"
    }
   ],
   "source": [
    "len(missing_users)"
   ]
  },
  {
   "cell_type": "code",
   "execution_count": 13,
   "metadata": {},
   "outputs": [
    {
     "data": {
      "text/plain": [
       "174"
      ]
     },
     "execution_count": 13,
     "metadata": {},
     "output_type": "execute_result"
    }
   ],
   "source": [
    "len(list_of_handles)"
   ]
  },
  {
   "cell_type": "markdown",
   "metadata": {},
   "source": [
    "### Superlatives"
   ]
  },
  {
   "cell_type": "code",
   "execution_count": 14,
   "metadata": {},
   "outputs": [
    {
     "data": {
      "text/html": [
       "<div>\n",
       "<style scoped>\n",
       "    .dataframe tbody tr th:only-of-type {\n",
       "        vertical-align: middle;\n",
       "    }\n",
       "\n",
       "    .dataframe tbody tr th {\n",
       "        vertical-align: top;\n",
       "    }\n",
       "\n",
       "    .dataframe thead th {\n",
       "        text-align: right;\n",
       "    }\n",
       "</style>\n",
       "<table border=\"1\" class=\"dataframe\">\n",
       "  <thead>\n",
       "    <tr style=\"text-align: right;\">\n",
       "      <th></th>\n",
       "      <th>screen_name</th>\n",
       "      <th>created_at</th>\n",
       "      <th>followers_count</th>\n",
       "      <th>statuses_count</th>\n",
       "      <th>verified</th>\n",
       "      <th>protected</th>\n",
       "      <th>screen_name_lower</th>\n",
       "    </tr>\n",
       "  </thead>\n",
       "  <tbody>\n",
       "    <tr>\n",
       "      <th>1305169316464259072</th>\n",
       "      <td>AncMeg</td>\n",
       "      <td>2020-09-13 15:40:28</td>\n",
       "      <td>0.0</td>\n",
       "      <td>3.0</td>\n",
       "      <td>False</td>\n",
       "      <td>False</td>\n",
       "      <td>ancmeg</td>\n",
       "    </tr>\n",
       "    <tr>\n",
       "      <th>1154769474261856257</th>\n",
       "      <td>Christo34514033</td>\n",
       "      <td>2019-07-26 15:04:32</td>\n",
       "      <td>0.0</td>\n",
       "      <td>5.0</td>\n",
       "      <td>False</td>\n",
       "      <td>False</td>\n",
       "      <td>christo34514033</td>\n",
       "    </tr>\n",
       "    <tr>\n",
       "      <th>1252919319111053313</th>\n",
       "      <td>SteveHoltzman3</td>\n",
       "      <td>2020-04-22 11:18:03</td>\n",
       "      <td>1.0</td>\n",
       "      <td>1.0</td>\n",
       "      <td>False</td>\n",
       "      <td>False</td>\n",
       "      <td>steveholtzman3</td>\n",
       "    </tr>\n",
       "    <tr>\n",
       "      <th>1288727768893710337</th>\n",
       "      <td>EKlossou</td>\n",
       "      <td>2020-07-30 06:47:10</td>\n",
       "      <td>4.0</td>\n",
       "      <td>28.0</td>\n",
       "      <td>False</td>\n",
       "      <td>False</td>\n",
       "      <td>eklossou</td>\n",
       "    </tr>\n",
       "    <tr>\n",
       "      <th>227554859</th>\n",
       "      <td>PierreCHines</td>\n",
       "      <td>2010-12-17 04:06:55</td>\n",
       "      <td>4.0</td>\n",
       "      <td>4.0</td>\n",
       "      <td>False</td>\n",
       "      <td>False</td>\n",
       "      <td>pierrechines</td>\n",
       "    </tr>\n",
       "    <tr>\n",
       "      <th>...</th>\n",
       "      <td>...</td>\n",
       "      <td>...</td>\n",
       "      <td>...</td>\n",
       "      <td>...</td>\n",
       "      <td>...</td>\n",
       "      <td>...</td>\n",
       "      <td>...</td>\n",
       "    </tr>\n",
       "    <tr>\n",
       "      <th>803360187125993472</th>\n",
       "      <td>riotpedestrian</td>\n",
       "      <td>2016-11-28 22:09:29</td>\n",
       "      <td>3956.0</td>\n",
       "      <td>15972.0</td>\n",
       "      <td>False</td>\n",
       "      <td>False</td>\n",
       "      <td>riotpedestrian</td>\n",
       "    </tr>\n",
       "    <tr>\n",
       "      <th>33211889</th>\n",
       "      <td>keya_chatterjee</td>\n",
       "      <td>2009-04-19 14:33:28</td>\n",
       "      <td>4025.0</td>\n",
       "      <td>8529.0</td>\n",
       "      <td>False</td>\n",
       "      <td>False</td>\n",
       "      <td>keya_chatterjee</td>\n",
       "    </tr>\n",
       "    <tr>\n",
       "      <th>2196941238</th>\n",
       "      <td>salimadofo</td>\n",
       "      <td>2013-11-16 02:07:57</td>\n",
       "      <td>4081.0</td>\n",
       "      <td>43798.0</td>\n",
       "      <td>True</td>\n",
       "      <td>False</td>\n",
       "      <td>salimadofo</td>\n",
       "    </tr>\n",
       "    <tr>\n",
       "      <th>40059261</th>\n",
       "      <td>sabelharris</td>\n",
       "      <td>2009-05-14 18:53:42</td>\n",
       "      <td>5229.0</td>\n",
       "      <td>8762.0</td>\n",
       "      <td>False</td>\n",
       "      <td>False</td>\n",
       "      <td>sabelharris</td>\n",
       "    </tr>\n",
       "    <tr>\n",
       "      <th>614111966</th>\n",
       "      <td>iambrandonwatts</td>\n",
       "      <td>2012-06-21 07:42:03</td>\n",
       "      <td>10539.0</td>\n",
       "      <td>15376.0</td>\n",
       "      <td>False</td>\n",
       "      <td>False</td>\n",
       "      <td>iambrandonwatts</td>\n",
       "    </tr>\n",
       "  </tbody>\n",
       "</table>\n",
       "<p>174 rows × 7 columns</p>\n",
       "</div>"
      ],
      "text/plain": [
       "                         screen_name          created_at  followers_count  \\\n",
       "1305169316464259072           AncMeg 2020-09-13 15:40:28              0.0   \n",
       "1154769474261856257  Christo34514033 2019-07-26 15:04:32              0.0   \n",
       "1252919319111053313   SteveHoltzman3 2020-04-22 11:18:03              1.0   \n",
       "1288727768893710337         EKlossou 2020-07-30 06:47:10              4.0   \n",
       "227554859               PierreCHines 2010-12-17 04:06:55              4.0   \n",
       "...                              ...                 ...              ...   \n",
       "803360187125993472    riotpedestrian 2016-11-28 22:09:29           3956.0   \n",
       "33211889             keya_chatterjee 2009-04-19 14:33:28           4025.0   \n",
       "2196941238                salimadofo 2013-11-16 02:07:57           4081.0   \n",
       "40059261                 sabelharris 2009-05-14 18:53:42           5229.0   \n",
       "614111966            iambrandonwatts 2012-06-21 07:42:03          10539.0   \n",
       "\n",
       "                     statuses_count verified protected screen_name_lower  \n",
       "1305169316464259072             3.0    False     False            ancmeg  \n",
       "1154769474261856257             5.0    False     False   christo34514033  \n",
       "1252919319111053313             1.0    False     False    steveholtzman3  \n",
       "1288727768893710337            28.0    False     False          eklossou  \n",
       "227554859                       4.0    False     False      pierrechines  \n",
       "...                             ...      ...       ...               ...  \n",
       "803360187125993472          15972.0    False     False    riotpedestrian  \n",
       "33211889                     8529.0    False     False   keya_chatterjee  \n",
       "2196941238                  43798.0     True     False        salimadofo  \n",
       "40059261                     8762.0    False     False       sabelharris  \n",
       "614111966                   15376.0    False     False   iambrandonwatts  \n",
       "\n",
       "[174 rows x 7 columns]"
      ]
     },
     "execution_count": 14,
     "metadata": {},
     "output_type": "execute_result"
    }
   ],
   "source": [
    "user_df.sort_values(by='followers_count')"
   ]
  },
  {
   "cell_type": "code",
   "execution_count": 15,
   "metadata": {},
   "outputs": [
    {
     "data": {
      "text/html": [
       "<div>\n",
       "<style scoped>\n",
       "    .dataframe tbody tr th:only-of-type {\n",
       "        vertical-align: middle;\n",
       "    }\n",
       "\n",
       "    .dataframe tbody tr th {\n",
       "        vertical-align: top;\n",
       "    }\n",
       "\n",
       "    .dataframe thead th {\n",
       "        text-align: right;\n",
       "    }\n",
       "</style>\n",
       "<table border=\"1\" class=\"dataframe\">\n",
       "  <thead>\n",
       "    <tr style=\"text-align: right;\">\n",
       "      <th></th>\n",
       "      <th>screen_name</th>\n",
       "      <th>created_at</th>\n",
       "      <th>followers_count</th>\n",
       "      <th>statuses_count</th>\n",
       "      <th>verified</th>\n",
       "      <th>protected</th>\n",
       "      <th>screen_name_lower</th>\n",
       "    </tr>\n",
       "  </thead>\n",
       "  <tbody>\n",
       "    <tr>\n",
       "      <th>47946516</th>\n",
       "      <td>BTurmail</td>\n",
       "      <td>2009-06-17 12:39:56</td>\n",
       "      <td>13.0</td>\n",
       "      <td>0.0</td>\n",
       "      <td>False</td>\n",
       "      <td>False</td>\n",
       "      <td>bturmail</td>\n",
       "    </tr>\n",
       "    <tr>\n",
       "      <th>1285376801376698368</th>\n",
       "      <td>LatoyaM01766637</td>\n",
       "      <td>2020-07-21 00:51:35</td>\n",
       "      <td>6.0</td>\n",
       "      <td>0.0</td>\n",
       "      <td>False</td>\n",
       "      <td>False</td>\n",
       "      <td>latoyam01766637</td>\n",
       "    </tr>\n",
       "    <tr>\n",
       "      <th>1252919319111053313</th>\n",
       "      <td>SteveHoltzman3</td>\n",
       "      <td>2020-04-22 11:18:03</td>\n",
       "      <td>1.0</td>\n",
       "      <td>1.0</td>\n",
       "      <td>False</td>\n",
       "      <td>False</td>\n",
       "      <td>steveholtzman3</td>\n",
       "    </tr>\n",
       "    <tr>\n",
       "      <th>1305169316464259072</th>\n",
       "      <td>AncMeg</td>\n",
       "      <td>2020-09-13 15:40:28</td>\n",
       "      <td>0.0</td>\n",
       "      <td>3.0</td>\n",
       "      <td>False</td>\n",
       "      <td>False</td>\n",
       "      <td>ancmeg</td>\n",
       "    </tr>\n",
       "    <tr>\n",
       "      <th>1027034717139419138</th>\n",
       "      <td>Anc7B07</td>\n",
       "      <td>2018-08-08 03:32:12</td>\n",
       "      <td>118.0</td>\n",
       "      <td>3.0</td>\n",
       "      <td>False</td>\n",
       "      <td>False</td>\n",
       "      <td>anc7b07</td>\n",
       "    </tr>\n",
       "    <tr>\n",
       "      <th>...</th>\n",
       "      <td>...</td>\n",
       "      <td>...</td>\n",
       "      <td>...</td>\n",
       "      <td>...</td>\n",
       "      <td>...</td>\n",
       "      <td>...</td>\n",
       "      <td>...</td>\n",
       "    </tr>\n",
       "    <tr>\n",
       "      <th>170780048</th>\n",
       "      <td>GeorgetownMet</td>\n",
       "      <td>2010-07-25 19:06:48</td>\n",
       "      <td>2082.0</td>\n",
       "      <td>30663.0</td>\n",
       "      <td>False</td>\n",
       "      <td>False</td>\n",
       "      <td>georgetownmet</td>\n",
       "    </tr>\n",
       "    <tr>\n",
       "      <th>716998860548214785</th>\n",
       "      <td>Ryanfor3F05</td>\n",
       "      <td>2016-04-04 14:40:24</td>\n",
       "      <td>870.0</td>\n",
       "      <td>31168.0</td>\n",
       "      <td>False</td>\n",
       "      <td>False</td>\n",
       "      <td>ryanfor3f05</td>\n",
       "    </tr>\n",
       "    <tr>\n",
       "      <th>2196941238</th>\n",
       "      <td>salimadofo</td>\n",
       "      <td>2013-11-16 02:07:57</td>\n",
       "      <td>4081.0</td>\n",
       "      <td>43798.0</td>\n",
       "      <td>True</td>\n",
       "      <td>False</td>\n",
       "      <td>salimadofo</td>\n",
       "    </tr>\n",
       "    <tr>\n",
       "      <th>229348030</th>\n",
       "      <td>thisisbossi</td>\n",
       "      <td>2010-12-22 05:10:30</td>\n",
       "      <td>1032.0</td>\n",
       "      <td>48303.0</td>\n",
       "      <td>False</td>\n",
       "      <td>False</td>\n",
       "      <td>thisisbossi</td>\n",
       "    </tr>\n",
       "    <tr>\n",
       "      <th>529532500</th>\n",
       "      <td>20002ist</td>\n",
       "      <td>2012-03-19 16:58:37</td>\n",
       "      <td>3092.0</td>\n",
       "      <td>95116.0</td>\n",
       "      <td>False</td>\n",
       "      <td>False</td>\n",
       "      <td>20002ist</td>\n",
       "    </tr>\n",
       "  </tbody>\n",
       "</table>\n",
       "<p>174 rows × 7 columns</p>\n",
       "</div>"
      ],
      "text/plain": [
       "                         screen_name          created_at  followers_count  \\\n",
       "47946516                    BTurmail 2009-06-17 12:39:56             13.0   \n",
       "1285376801376698368  LatoyaM01766637 2020-07-21 00:51:35              6.0   \n",
       "1252919319111053313   SteveHoltzman3 2020-04-22 11:18:03              1.0   \n",
       "1305169316464259072           AncMeg 2020-09-13 15:40:28              0.0   \n",
       "1027034717139419138          Anc7B07 2018-08-08 03:32:12            118.0   \n",
       "...                              ...                 ...              ...   \n",
       "170780048              GeorgetownMet 2010-07-25 19:06:48           2082.0   \n",
       "716998860548214785       Ryanfor3F05 2016-04-04 14:40:24            870.0   \n",
       "2196941238                salimadofo 2013-11-16 02:07:57           4081.0   \n",
       "229348030                thisisbossi 2010-12-22 05:10:30           1032.0   \n",
       "529532500                   20002ist 2012-03-19 16:58:37           3092.0   \n",
       "\n",
       "                     statuses_count verified protected screen_name_lower  \n",
       "47946516                        0.0    False     False          bturmail  \n",
       "1285376801376698368             0.0    False     False   latoyam01766637  \n",
       "1252919319111053313             1.0    False     False    steveholtzman3  \n",
       "1305169316464259072             3.0    False     False            ancmeg  \n",
       "1027034717139419138             3.0    False     False           anc7b07  \n",
       "...                             ...      ...       ...               ...  \n",
       "170780048                   30663.0    False     False     georgetownmet  \n",
       "716998860548214785          31168.0    False     False       ryanfor3f05  \n",
       "2196941238                  43798.0     True     False        salimadofo  \n",
       "229348030                   48303.0    False     False       thisisbossi  \n",
       "529532500                   95116.0    False     False          20002ist  \n",
       "\n",
       "[174 rows x 7 columns]"
      ]
     },
     "execution_count": 15,
     "metadata": {},
     "output_type": "execute_result"
    }
   ],
   "source": [
    "user_df.sort_values(by='statuses_count')"
   ]
  },
  {
   "cell_type": "code",
   "execution_count": 16,
   "metadata": {},
   "outputs": [
    {
     "data": {
      "text/html": [
       "<div>\n",
       "<style scoped>\n",
       "    .dataframe tbody tr th:only-of-type {\n",
       "        vertical-align: middle;\n",
       "    }\n",
       "\n",
       "    .dataframe tbody tr th {\n",
       "        vertical-align: top;\n",
       "    }\n",
       "\n",
       "    .dataframe thead th {\n",
       "        text-align: right;\n",
       "    }\n",
       "</style>\n",
       "<table border=\"1\" class=\"dataframe\">\n",
       "  <thead>\n",
       "    <tr style=\"text-align: right;\">\n",
       "      <th></th>\n",
       "      <th>screen_name</th>\n",
       "      <th>created_at</th>\n",
       "      <th>followers_count</th>\n",
       "      <th>statuses_count</th>\n",
       "      <th>verified</th>\n",
       "      <th>protected</th>\n",
       "      <th>screen_name_lower</th>\n",
       "    </tr>\n",
       "  </thead>\n",
       "  <tbody>\n",
       "    <tr>\n",
       "      <th>1921416134</th>\n",
       "      <td>annalandre</td>\n",
       "      <td>2013-09-30 21:53:15</td>\n",
       "      <td>3066.0</td>\n",
       "      <td>2366.0</td>\n",
       "      <td>True</td>\n",
       "      <td>False</td>\n",
       "      <td>annalandre</td>\n",
       "    </tr>\n",
       "    <tr>\n",
       "      <th>2890872052</th>\n",
       "      <td>tmholcomb</td>\n",
       "      <td>2014-11-24 14:43:44</td>\n",
       "      <td>1027.0</td>\n",
       "      <td>1864.0</td>\n",
       "      <td>True</td>\n",
       "      <td>False</td>\n",
       "      <td>tmholcomb</td>\n",
       "    </tr>\n",
       "    <tr>\n",
       "      <th>2196941238</th>\n",
       "      <td>salimadofo</td>\n",
       "      <td>2013-11-16 02:07:57</td>\n",
       "      <td>4081.0</td>\n",
       "      <td>43798.0</td>\n",
       "      <td>True</td>\n",
       "      <td>False</td>\n",
       "      <td>salimadofo</td>\n",
       "    </tr>\n",
       "    <tr>\n",
       "      <th>305704907</th>\n",
       "      <td>MoniDiop</td>\n",
       "      <td>2011-05-26 17:22:35</td>\n",
       "      <td>948.0</td>\n",
       "      <td>6049.0</td>\n",
       "      <td>True</td>\n",
       "      <td>False</td>\n",
       "      <td>monidiop</td>\n",
       "    </tr>\n",
       "  </tbody>\n",
       "</table>\n",
       "</div>"
      ],
      "text/plain": [
       "           screen_name          created_at  followers_count  statuses_count  \\\n",
       "1921416134  annalandre 2013-09-30 21:53:15           3066.0          2366.0   \n",
       "2890872052   tmholcomb 2014-11-24 14:43:44           1027.0          1864.0   \n",
       "2196941238  salimadofo 2013-11-16 02:07:57           4081.0         43798.0   \n",
       "305704907     MoniDiop 2011-05-26 17:22:35            948.0          6049.0   \n",
       "\n",
       "           verified protected screen_name_lower  \n",
       "1921416134     True     False        annalandre  \n",
       "2890872052     True     False         tmholcomb  \n",
       "2196941238     True     False        salimadofo  \n",
       "305704907      True     False          monidiop  "
      ]
     },
     "execution_count": 16,
     "metadata": {},
     "output_type": "execute_result"
    }
   ],
   "source": [
    "user_df[user_df['verified']]"
   ]
  },
  {
   "cell_type": "code",
   "execution_count": 17,
   "metadata": {},
   "outputs": [
    {
     "data": {
      "text/html": [
       "<div>\n",
       "<style scoped>\n",
       "    .dataframe tbody tr th:only-of-type {\n",
       "        vertical-align: middle;\n",
       "    }\n",
       "\n",
       "    .dataframe tbody tr th {\n",
       "        vertical-align: top;\n",
       "    }\n",
       "\n",
       "    .dataframe thead th {\n",
       "        text-align: right;\n",
       "    }\n",
       "</style>\n",
       "<table border=\"1\" class=\"dataframe\">\n",
       "  <thead>\n",
       "    <tr style=\"text-align: right;\">\n",
       "      <th></th>\n",
       "      <th>screen_name</th>\n",
       "      <th>created_at</th>\n",
       "      <th>followers_count</th>\n",
       "      <th>statuses_count</th>\n",
       "      <th>verified</th>\n",
       "      <th>protected</th>\n",
       "      <th>screen_name_lower</th>\n",
       "    </tr>\n",
       "  </thead>\n",
       "  <tbody>\n",
       "    <tr>\n",
       "      <th>182387417</th>\n",
       "      <td>zach_rybarczyk</td>\n",
       "      <td>2010-08-24 13:47:59</td>\n",
       "      <td>122.0</td>\n",
       "      <td>418.0</td>\n",
       "      <td>False</td>\n",
       "      <td>True</td>\n",
       "      <td>zach_rybarczyk</td>\n",
       "    </tr>\n",
       "    <tr>\n",
       "      <th>31623503</th>\n",
       "      <td>vjsthoughts</td>\n",
       "      <td>2009-04-16 03:16:52</td>\n",
       "      <td>522.0</td>\n",
       "      <td>4899.0</td>\n",
       "      <td>False</td>\n",
       "      <td>True</td>\n",
       "      <td>vjsthoughts</td>\n",
       "    </tr>\n",
       "    <tr>\n",
       "      <th>1011926797787762688</th>\n",
       "      <td>LaneiceMoore</td>\n",
       "      <td>2018-06-27 10:58:44</td>\n",
       "      <td>21.0</td>\n",
       "      <td>320.0</td>\n",
       "      <td>False</td>\n",
       "      <td>True</td>\n",
       "      <td>laneicemoore</td>\n",
       "    </tr>\n",
       "    <tr>\n",
       "      <th>352608476</th>\n",
       "      <td>MsGorJuss</td>\n",
       "      <td>2011-08-10 21:19:56</td>\n",
       "      <td>633.0</td>\n",
       "      <td>30310.0</td>\n",
       "      <td>False</td>\n",
       "      <td>True</td>\n",
       "      <td>msgorjuss</td>\n",
       "    </tr>\n",
       "  </tbody>\n",
       "</table>\n",
       "</div>"
      ],
      "text/plain": [
       "                        screen_name          created_at  followers_count  \\\n",
       "182387417            zach_rybarczyk 2010-08-24 13:47:59            122.0   \n",
       "31623503                vjsthoughts 2009-04-16 03:16:52            522.0   \n",
       "1011926797787762688    LaneiceMoore 2018-06-27 10:58:44             21.0   \n",
       "352608476                 MsGorJuss 2011-08-10 21:19:56            633.0   \n",
       "\n",
       "                     statuses_count verified protected screen_name_lower  \n",
       "182387417                     418.0    False      True    zach_rybarczyk  \n",
       "31623503                     4899.0    False      True       vjsthoughts  \n",
       "1011926797787762688           320.0    False      True      laneicemoore  \n",
       "352608476                   30310.0    False      True         msgorjuss  "
      ]
     },
     "execution_count": 17,
     "metadata": {},
     "output_type": "execute_result"
    }
   ],
   "source": [
    "user_df[user_df['protected']]"
   ]
  },
  {
   "cell_type": "code",
   "execution_count": 18,
   "metadata": {},
   "outputs": [
    {
     "data": {
      "text/plain": [
       "272.5"
      ]
     },
     "execution_count": 18,
     "metadata": {},
     "output_type": "execute_result"
    }
   ],
   "source": [
    "user_df['followers_count'].median()"
   ]
  },
  {
   "cell_type": "code",
   "execution_count": 19,
   "metadata": {},
   "outputs": [
    {
     "data": {
      "text/plain": [
       "454.0"
      ]
     },
     "execution_count": 19,
     "metadata": {},
     "output_type": "execute_result"
    }
   ],
   "source": [
    "user_df['statuses_count'].median()"
   ]
  },
  {
   "cell_type": "code",
   "execution_count": 20,
   "metadata": {},
   "outputs": [
    {
     "data": {
      "text/plain": [
       "'2014-04-06'"
      ]
     },
     "execution_count": 20,
     "metadata": {},
     "output_type": "execute_result"
    }
   ],
   "source": [
    "user_df['created_days_ago'] = (datetime.utcnow() - user_df['created_at']).dt.days\n",
    "(datetime.utcnow() - timedelta(days=user_df['created_days_ago'].median())).strftime('%Y-%m-%d')"
   ]
  },
  {
   "cell_type": "markdown",
   "metadata": {},
   "source": [
    "## Websites"
   ]
  },
  {
   "cell_type": "code",
   "execution_count": 21,
   "metadata": {},
   "outputs": [],
   "source": [
    "def check_status_of_links(df, link_column):\n",
    "    \n",
    "    bad_sites = []\n",
    "\n",
    "    for idx, row in tqdm(df.iterrows(), total=len(df)):\n",
    "        if pd.isnull(row[link_column]):\n",
    "            continue\n",
    "\n",
    "        r = requests.get(row[link_column])\n",
    "\n",
    "        if r.status_code != 200:\n",
    "            bad_sites += [row[link_column]]\n",
    "\n",
    "        time.sleep(1)\n",
    "        \n",
    "    return bad_sites"
   ]
  },
  {
   "cell_type": "code",
   "execution_count": 22,
   "metadata": {},
   "outputs": [
    {
     "name": "stderr",
     "output_type": "stream",
     "text": [
      "100%|██████████| 417/417 [02:55<00:00,  2.38it/s]\n"
     ]
    },
    {
     "data": {
      "text/plain": [
       "['https://meghanforanc.com', 'https://www.robbdooling.com/']"
      ]
     },
     "execution_count": 22,
     "metadata": {},
     "output_type": "execute_result"
    }
   ],
   "source": [
    "check_status_of_links(people_candidates_active, 'website_link')"
   ]
  },
  {
   "cell_type": "code",
   "execution_count": 23,
   "metadata": {},
   "outputs": [
    {
     "data": {
      "text/plain": [
       "<Response [406]>"
      ]
     },
     "execution_count": 23,
     "metadata": {},
     "output_type": "execute_result"
    }
   ],
   "source": [
    "requests.get('http://robbdooling.com')"
   ]
  },
  {
   "cell_type": "code",
   "execution_count": 24,
   "metadata": {},
   "outputs": [
    {
     "data": {
      "text/plain": [
       "<Response [406]>"
      ]
     },
     "execution_count": 24,
     "metadata": {},
     "output_type": "execute_result"
    }
   ],
   "source": [
    "requests.get('https://meghanforanc.com')"
   ]
  },
  {
   "cell_type": "markdown",
   "metadata": {},
   "source": [
    "## Facebook"
   ]
  },
  {
   "cell_type": "code",
   "execution_count": 25,
   "metadata": {},
   "outputs": [
    {
     "name": "stderr",
     "output_type": "stream",
     "text": [
      "100%|██████████| 417/417 [02:00<00:00,  3.45it/s]\n"
     ]
    },
    {
     "data": {
      "text/plain": [
       "[]"
      ]
     },
     "execution_count": 25,
     "metadata": {},
     "output_type": "execute_result"
    }
   ],
   "source": [
    "check_status_of_links(people_candidates_active, 'facebook_link')"
   ]
  }
 ],
 "metadata": {
  "kernelspec": {
   "display_name": "Python 3",
   "language": "python",
   "name": "python3"
  },
  "language_info": {
   "codemirror_mode": {
    "name": "ipython",
    "version": 3
   },
   "file_extension": ".py",
   "mimetype": "text/x-python",
   "name": "python",
   "nbconvert_exporter": "python",
   "pygments_lexer": "ipython3",
   "version": "3.7.1"
  }
 },
 "nbformat": 4,
 "nbformat_minor": 2
}
