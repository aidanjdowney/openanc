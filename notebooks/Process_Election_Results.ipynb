{
 "cells": [
  {
   "cell_type": "markdown",
   "metadata": {},
   "source": [
    "# Process Election Results"
   ]
  },
  {
   "cell_type": "code",
   "execution_count": 1,
   "metadata": {},
   "outputs": [],
   "source": [
    "import os\n",
    "os.chdir('..')\n",
    "\n",
    "from tqdm.notebook import tqdm\n",
    "import pandas as pd\n",
    "\n",
    "from scripts.data_transformations import (\n",
    "    list_candidates\n",
    "    , most_recent_smd\n",
    "    )\n",
    "\n",
    "from scripts.common import (\n",
    "    hash_dataframe\n",
    "    , match_names\n",
    ")"
   ]
  },
  {
   "cell_type": "code",
   "execution_count": 2,
   "metadata": {},
   "outputs": [],
   "source": [
    "results_files = {\n",
    "    2020: 'November_3_2020_General_Election_Certified_Results.csv'\n",
    "    , 2022: 'November_8_2022_General_Election_Election_Night_Unofficial_Results.csv'\n",
    "}\n",
    "\n",
    "for f in results_files:\n",
    "    temp = pd.read_csv(f'data/dcboe/election_results/{results_files[f]}')\n",
    "    "
   ]
  },
  {
   "cell_type": "code",
   "execution_count": 3,
   "metadata": {},
   "outputs": [],
   "source": [
    "df = pd.read_csv(f'data/dcboe/election_results/{results_files[2022]}')\n",
    "df = df.rename(columns={\n",
    "    'Candidate': 'candidate_name'\n",
    "    , 'ContestName': 'contest_name'\n",
    "    , 'ContestNumber': 'contest_number'\n",
    "    , 'Votes': 'votes'\n",
    "})"
   ]
  },
  {
   "cell_type": "code",
   "execution_count": 4,
   "metadata": {},
   "outputs": [
    {
     "data": {
      "text/plain": [
       "candidate_name\n",
       "DEM Muriel E. Bowser    145737\n",
       "IND Rodney Red Grant     29181\n",
       "LIB Dennis Sobin          2491\n",
       "OVER VOTES                 235\n",
       "REP Stacia R. Hall       11384\n",
       "UNDER VOTES               7472\n",
       "Write-in                  6509\n",
       "total                   203009\n",
       "Name: votes, dtype: int64"
      ]
     },
     "execution_count": 4,
     "metadata": {},
     "output_type": "execute_result"
    }
   ],
   "source": [
    "# Topline race: Mayor\n",
    "topline_results = (\n",
    "    df[df['contest_name'] == 'MAYOR OF THE DISTRICT OF COLUMBIA DISTRICT OF COLUMBIA']\n",
    "    .groupby('candidate_name')\n",
    "    .votes.sum()\n",
    ")\n",
    "\n",
    "topline_results['total'] = topline_results.sum()\n",
    "topline_results"
   ]
  },
  {
   "cell_type": "code",
   "execution_count": 5,
   "metadata": {},
   "outputs": [],
   "source": [
    "anc = df[df['contest_name'].str.contains('SINGLE MEMBER DISTRICT')].copy()"
   ]
  },
  {
   "cell_type": "code",
   "execution_count": 6,
   "metadata": {},
   "outputs": [
    {
     "data": {
      "text/plain": [
       "203009"
      ]
     },
     "execution_count": 6,
     "metadata": {},
     "output_type": "execute_result"
    }
   ],
   "source": [
    "anc.votes.sum()"
   ]
  },
  {
   "cell_type": "code",
   "execution_count": 7,
   "metadata": {},
   "outputs": [],
   "source": [
    "# No certified results yet\n",
    "\n",
    "# cert = pd.read_csv('../data/dcboe/November_3_2020_General_Election_Certified_Results.csv')\n",
    "# cert = cert.rename(columns={\n",
    "#     'Candidate': 'candidate_name'\n",
    "#     , 'ContestName': 'contest_name'\n",
    "#     , 'ContestNumber': 'contest_number'\n",
    "#     , 'Votes': 'votes'\n",
    "# })\n",
    "\n",
    "# cert_anc = df[df['contest_name'].str.contains('SINGLE MEMBER DISTRICT')].copy()\n",
    "\n",
    "# cert_anc.votes.sum()"
   ]
  },
  {
   "cell_type": "code",
   "execution_count": 8,
   "metadata": {},
   "outputs": [
    {
     "data": {
      "text/plain": [
       "contest_name\n",
       "ANC - 1A01 SINGLE MEMBER DISTRICT  01-ANC 1A    584\n",
       "ANC - 1A02 SINGLE MEMBER DISTRICT  02-ANC 1A    517\n",
       "ANC - 1A03 SINGLE MEMBER DISTRICT  03-ANC 1A    372\n",
       "ANC - 1A04 SINGLE MEMBER DISTRICT  04-ANC 1A    635\n",
       "ANC - 1A05 SINGLE MEMBER DISTRICT  05-ANC 1A    420\n",
       "                                               ... \n",
       "ANC - 8F01 SINGLE MEMBER DISTRICT 01-ANC-8F     567\n",
       "ANC - 8F02 SINGLE MEMBER DISTRICT 02-ANC-8F     980\n",
       "ANC - 8F03 SINGLE MEMBER DISTRICT 03-ANC-8F     716\n",
       "ANC - 8F04 SINGLE MEMBER DISTRICT 04-ANC-8F     995\n",
       "ANC - 8F05 SINGLE MEMBER DISTRICT 05-ANC-8F     749\n",
       "Name: votes, Length: 345, dtype: int64"
      ]
     },
     "execution_count": 8,
     "metadata": {},
     "output_type": "execute_result"
    }
   ],
   "source": [
    "anc.groupby('contest_name').votes.sum()"
   ]
  },
  {
   "cell_type": "markdown",
   "metadata": {},
   "source": [
    "Did ANC vote counts change between Pre-Certified and Certified?"
   ]
  },
  {
   "cell_type": "code",
   "execution_count": 9,
   "metadata": {},
   "outputs": [],
   "source": [
    "# todo\n",
    "# sum(anc.groupby('contest_name').votes.sum() == cert_anc.groupby('contest_name').votes.sum())"
   ]
  },
  {
   "cell_type": "code",
   "execution_count": 10,
   "metadata": {},
   "outputs": [],
   "source": [
    "anc['smd_id'] = 'smd_2022_' + anc['contest_name'].str.extract('(?<=ANC - )(.*)(?=SINGLE MEMBER)')\n",
    "anc['smd_id'] = anc['smd_id'].str.strip()"
   ]
  },
  {
   "cell_type": "code",
   "execution_count": 11,
   "metadata": {},
   "outputs": [
    {
     "data": {
      "text/plain": [
       "True"
      ]
     },
     "execution_count": 11,
     "metadata": {},
     "output_type": "execute_result"
    }
   ],
   "source": [
    "# Check that smd_id parsed correctly\n",
    "votes_by_anc = anc.groupby(['contest_name', 'smd_id']).votes.sum().reset_index()\n",
    "\n",
    "districts = pd.read_csv('data/districts.csv')\n",
    "districts = districts[districts.redistricting_year == 2022].copy()\n",
    "\n",
    "votes_by_anc['valid'] = votes_by_anc['smd_id'].isin(districts.smd_id)\n",
    "\n",
    "districts['in_results'] = districts['smd_id'].isin(votes_by_anc.smd_id)\n",
    "\n",
    "# votes_by_anc.to_clipboard(index=False)\n",
    "\n",
    "# There should be 345 valid districts\n",
    "districts['in_results'].sum() == votes_by_anc['valid'].sum() == 345"
   ]
  },
  {
   "cell_type": "code",
   "execution_count": 12,
   "metadata": {},
   "outputs": [],
   "source": [
    "candidates_results = (\n",
    "    anc\n",
    "    [~anc.candidate_name.isin(['OVER VOTES', 'UNDER VOTES'])]\n",
    "    .groupby(['smd_id', 'contest_number', 'candidate_name'])\n",
    "    .votes.sum()\n",
    "    .reset_index()\n",
    ")\n",
    "# candidates"
   ]
  },
  {
   "cell_type": "code",
   "execution_count": 13,
   "metadata": {},
   "outputs": [],
   "source": [
    "candidates_results['candidate_name_upper'] = candidates_results['candidate_name'].str.upper()\n",
    "candidates_results['dcboe_hash_id'] = hash_dataframe(candidates_results, ['smd_id', 'candidate_name_upper'])\n",
    "# candidates.loc[candidates.candidate_name == 'Write-in', 'dcboe_hash_id'] = pd.NA"
   ]
  },
  {
   "cell_type": "code",
   "execution_count": 14,
   "metadata": {},
   "outputs": [],
   "source": [
    "candidates_results['ranking'] = candidates_results.groupby('smd_id').votes.rank(method='first', ascending=False)\n",
    "candidates_results['winner'] = candidates_results['ranking'] == 1"
   ]
  },
  {
   "cell_type": "code",
   "execution_count": 15,
   "metadata": {},
   "outputs": [],
   "source": [
    "candidates_results['write_in_winner'] = (\n",
    "    candidates_results['winner'] & (candidates_results['candidate_name'] == 'Write-in')\n",
    ")"
   ]
  },
  {
   "cell_type": "code",
   "execution_count": 16,
   "metadata": {},
   "outputs": [],
   "source": [
    "# Sort candidates by the number of votes they got within SMD, making the winner first\n",
    "candidates_results = candidates_results.sort_values(by=['smd_id', 'votes'], ascending=[True, False])"
   ]
  },
  {
   "cell_type": "code",
   "execution_count": 17,
   "metadata": {},
   "outputs": [],
   "source": [
    "# Calculate the total votes cast in each SMD\n",
    "total_votes = candidates_results.groupby('smd_id').votes.sum()\n",
    "total_votes.name = 'total_votes'\n",
    "candidates_results = pd.merge(candidates_results, total_votes, how='inner', on='smd_id')\n",
    "candidates_results['vote_share'] = candidates_results['votes'] / candidates_results['total_votes']"
   ]
  },
  {
   "cell_type": "code",
   "execution_count": 18,
   "metadata": {},
   "outputs": [],
   "source": [
    "# Create columns showing the number of votes the winner in each SMD received.\n",
    "# This will be used to calculate the \"margin of defeat\" for all other candidates.\n",
    "\n",
    "winning_votes = candidates_results.groupby('smd_id').agg(\n",
    "    winning_votes=('votes', max)\n",
    "    , winning_vote_percentage=('vote_share', max)\n",
    ")\n",
    "\n",
    "candidates_results = pd.merge(candidates_results, winning_votes, how='inner', on='smd_id')"
   ]
  },
  {
   "cell_type": "code",
   "execution_count": 19,
   "metadata": {
    "scrolled": false
   },
   "outputs": [],
   "source": [
    "# Create columns showing the number of votes for the next candidate in the DataFrame.\n",
    "# For the first place candidate in an SMD, these _shifted columns will have the votes\n",
    "# of the second-place candidate.\n",
    "\n",
    "shift_one = candidates_results[['smd_id', 'votes', 'vote_share']].shift(-1)\n",
    "shift_one = shift_one.rename(columns={\n",
    "    'smd_id': 'smd_id_shifted'\n",
    "    , 'votes': 'votes_shifted'\n",
    "    , 'vote_share': 'vote_share_shifted'\n",
    "})\n",
    "\n",
    "candidates_results = pd.concat([candidates_results, shift_one], axis=1)"
   ]
  },
  {
   "cell_type": "code",
   "execution_count": 20,
   "metadata": {},
   "outputs": [],
   "source": [
    "# Calculate the margin of victory - positive for winners, negative for losers\n",
    "candidates_results['margin_of_victory'] = None\n",
    "candidates_results['margin_of_victory_percentage'] = None\n",
    "\n",
    "contested_winners = (\n",
    "    (candidates_results['smd_id'] == candidates_results['smd_id_shifted']) & (candidates_results['winner'])\n",
    ")\n",
    "\n",
    "# For winners, the margin of victory is their votes minus the second-place votes\n",
    "candidates_results.loc[contested_winners, 'margin_of_victory'] = (\n",
    "    candidates_results['votes'] - candidates_results['votes_shifted']\n",
    ")\n",
    "candidates_results.loc[contested_winners, 'margin_of_victory_percentage'] = (\n",
    "    candidates_results['vote_share'] - candidates_results['vote_share_shifted']\n",
    ")\n",
    "\n",
    "# For losers, the margin of defeat is the their votes minus the first-place votes\n",
    "candidates_results.loc[~contested_winners, 'margin_of_victory'] = (\n",
    "    candidates_results['votes'] - candidates_results['winning_votes']\n",
    ")\n",
    "\n",
    "candidates_results.loc[~contested_winners, 'margin_of_victory_percentage'] = (\n",
    "    candidates_results['vote_share'] - candidates_results['winning_vote_percentage']\n",
    ")"
   ]
  },
  {
   "cell_type": "code",
   "execution_count": 21,
   "metadata": {},
   "outputs": [],
   "source": [
    "# Count the number of candidates who received votes. This lumps all write-ins as one candidate.\n",
    "# num_candidates is not currently used by the frontend, just for humans checking the data.\n",
    "\n",
    "num_candidates = candidates_results.groupby('smd_id').candidate_name.count()\n",
    "num_candidates.name = 'num_candidates'\n",
    "candidates_results = pd.merge(candidates_results, num_candidates, how='inner', on='smd_id')"
   ]
  },
  {
   "cell_type": "markdown",
   "metadata": {},
   "source": [
    "## Counts"
   ]
  },
  {
   "cell_type": "code",
   "execution_count": 22,
   "metadata": {
    "scrolled": false
   },
   "outputs": [
    {
     "data": {
      "text/html": [
       "<div>\n",
       "<style scoped>\n",
       "    .dataframe tbody tr th:only-of-type {\n",
       "        vertical-align: middle;\n",
       "    }\n",
       "\n",
       "    .dataframe tbody tr th {\n",
       "        vertical-align: top;\n",
       "    }\n",
       "\n",
       "    .dataframe thead th {\n",
       "        text-align: right;\n",
       "    }\n",
       "</style>\n",
       "<table border=\"1\" class=\"dataframe\">\n",
       "  <thead>\n",
       "    <tr style=\"text-align: right;\">\n",
       "      <th></th>\n",
       "      <th>smd_id</th>\n",
       "      <th>contest_number</th>\n",
       "      <th>candidate_name</th>\n",
       "      <th>votes</th>\n",
       "      <th>candidate_name_upper</th>\n",
       "      <th>dcboe_hash_id</th>\n",
       "      <th>ranking</th>\n",
       "      <th>winner</th>\n",
       "      <th>write_in_winner</th>\n",
       "      <th>total_votes</th>\n",
       "      <th>vote_share</th>\n",
       "      <th>winning_votes</th>\n",
       "      <th>winning_vote_percentage</th>\n",
       "      <th>smd_id_shifted</th>\n",
       "      <th>votes_shifted</th>\n",
       "      <th>vote_share_shifted</th>\n",
       "      <th>margin_of_victory</th>\n",
       "      <th>margin_of_victory_percentage</th>\n",
       "      <th>num_candidates</th>\n",
       "    </tr>\n",
       "  </thead>\n",
       "  <tbody>\n",
       "    <tr>\n",
       "      <th>269</th>\n",
       "      <td>smd_2022_3F05</td>\n",
       "      <td>144</td>\n",
       "      <td>James Tandaric</td>\n",
       "      <td>253</td>\n",
       "      <td>JAMES TANDARIC</td>\n",
       "      <td>ed7b3f51826d49136959476509153714f23444c9ff6d91...</td>\n",
       "      <td>1.0</td>\n",
       "      <td>True</td>\n",
       "      <td>False</td>\n",
       "      <td>512</td>\n",
       "      <td>0.494141</td>\n",
       "      <td>253</td>\n",
       "      <td>0.494141</td>\n",
       "      <td>smd_2022_3F05</td>\n",
       "      <td>248.0</td>\n",
       "      <td>0.484375</td>\n",
       "      <td>5.0</td>\n",
       "      <td>0.009766</td>\n",
       "      <td>3</td>\n",
       "    </tr>\n",
       "    <tr>\n",
       "      <th>350</th>\n",
       "      <td>smd_2022_4E04</td>\n",
       "      <td>188</td>\n",
       "      <td>Carla Ferris</td>\n",
       "      <td>294</td>\n",
       "      <td>CARLA FERRIS</td>\n",
       "      <td>80845f8d7ce9bb471c8d9a6a6052efe3d0b4a1f7075910...</td>\n",
       "      <td>1.0</td>\n",
       "      <td>True</td>\n",
       "      <td>False</td>\n",
       "      <td>594</td>\n",
       "      <td>0.494949</td>\n",
       "      <td>294</td>\n",
       "      <td>0.494949</td>\n",
       "      <td>smd_2022_4E04</td>\n",
       "      <td>288.0</td>\n",
       "      <td>0.484848</td>\n",
       "      <td>6.0</td>\n",
       "      <td>0.010101</td>\n",
       "      <td>3</td>\n",
       "    </tr>\n",
       "    <tr>\n",
       "      <th>614</th>\n",
       "      <td>smd_2022_7F07</td>\n",
       "      <td>317</td>\n",
       "      <td>Shirley Thompson-Wright</td>\n",
       "      <td>174</td>\n",
       "      <td>SHIRLEY THOMPSON-WRIGHT</td>\n",
       "      <td>18826c65515fe7fd269c41df3b3b2f2f6615845703e91c...</td>\n",
       "      <td>1.0</td>\n",
       "      <td>True</td>\n",
       "      <td>False</td>\n",
       "      <td>463</td>\n",
       "      <td>0.375810</td>\n",
       "      <td>174</td>\n",
       "      <td>0.375810</td>\n",
       "      <td>smd_2022_7F07</td>\n",
       "      <td>168.0</td>\n",
       "      <td>0.362851</td>\n",
       "      <td>6.0</td>\n",
       "      <td>0.012959</td>\n",
       "      <td>4</td>\n",
       "    </tr>\n",
       "    <tr>\n",
       "      <th>559</th>\n",
       "      <td>smd_2022_7C05</td>\n",
       "      <td>289</td>\n",
       "      <td>Shirley A. Boykins</td>\n",
       "      <td>137</td>\n",
       "      <td>SHIRLEY A. BOYKINS</td>\n",
       "      <td>1004c264e49d4f500f9800edef7c8462df6ba610027caf...</td>\n",
       "      <td>1.0</td>\n",
       "      <td>True</td>\n",
       "      <td>False</td>\n",
       "      <td>391</td>\n",
       "      <td>0.350384</td>\n",
       "      <td>137</td>\n",
       "      <td>0.350384</td>\n",
       "      <td>smd_2022_7C05</td>\n",
       "      <td>131.0</td>\n",
       "      <td>0.335038</td>\n",
       "      <td>6.0</td>\n",
       "      <td>0.015345</td>\n",
       "      <td>4</td>\n",
       "    </tr>\n",
       "    <tr>\n",
       "      <th>681</th>\n",
       "      <td>smd_2022_8D06</td>\n",
       "      <td>346</td>\n",
       "      <td>Wendy \"Hope Dealer\" Hamilton</td>\n",
       "      <td>209</td>\n",
       "      <td>WENDY \"HOPE DEALER\" HAMILTON</td>\n",
       "      <td>6331cdd90969e1238f6f2e60a13b21cbbf71a32ed628b4...</td>\n",
       "      <td>1.0</td>\n",
       "      <td>True</td>\n",
       "      <td>False</td>\n",
       "      <td>420</td>\n",
       "      <td>0.497619</td>\n",
       "      <td>209</td>\n",
       "      <td>0.497619</td>\n",
       "      <td>smd_2022_8D06</td>\n",
       "      <td>202.0</td>\n",
       "      <td>0.480952</td>\n",
       "      <td>7.0</td>\n",
       "      <td>0.016667</td>\n",
       "      <td>3</td>\n",
       "    </tr>\n",
       "    <tr>\n",
       "      <th>276</th>\n",
       "      <td>smd_2022_4A01</td>\n",
       "      <td>153</td>\n",
       "      <td>Paula Y. Edwards</td>\n",
       "      <td>507</td>\n",
       "      <td>PAULA Y. EDWARDS</td>\n",
       "      <td>cb65a96724ad7b0e156c83f95df6e97f8542b83cd5a6d1...</td>\n",
       "      <td>1.0</td>\n",
       "      <td>True</td>\n",
       "      <td>False</td>\n",
       "      <td>999</td>\n",
       "      <td>0.507508</td>\n",
       "      <td>507</td>\n",
       "      <td>0.507508</td>\n",
       "      <td>smd_2022_4A01</td>\n",
       "      <td>476.0</td>\n",
       "      <td>0.476476</td>\n",
       "      <td>31.0</td>\n",
       "      <td>0.031031</td>\n",
       "      <td>3</td>\n",
       "    </tr>\n",
       "    <tr>\n",
       "      <th>225</th>\n",
       "      <td>smd_2022_3C07</td>\n",
       "      <td>123</td>\n",
       "      <td>Gawain Kripke</td>\n",
       "      <td>344</td>\n",
       "      <td>GAWAIN KRIPKE</td>\n",
       "      <td>80eacd334c0a3c011ec57fae4ad46f4a50df16f3de1b9e...</td>\n",
       "      <td>1.0</td>\n",
       "      <td>True</td>\n",
       "      <td>False</td>\n",
       "      <td>667</td>\n",
       "      <td>0.515742</td>\n",
       "      <td>344</td>\n",
       "      <td>0.515742</td>\n",
       "      <td>smd_2022_3C07</td>\n",
       "      <td>311.0</td>\n",
       "      <td>0.466267</td>\n",
       "      <td>33.0</td>\n",
       "      <td>0.049475</td>\n",
       "      <td>3</td>\n",
       "    </tr>\n",
       "    <tr>\n",
       "      <th>416</th>\n",
       "      <td>smd_2022_5D06</td>\n",
       "      <td>219</td>\n",
       "      <td>Kathy Henderson</td>\n",
       "      <td>304</td>\n",
       "      <td>KATHY HENDERSON</td>\n",
       "      <td>9c114f4bf9e8b4dae95428034e012714ce70f41a1bf780...</td>\n",
       "      <td>1.0</td>\n",
       "      <td>True</td>\n",
       "      <td>False</td>\n",
       "      <td>582</td>\n",
       "      <td>0.522337</td>\n",
       "      <td>304</td>\n",
       "      <td>0.522337</td>\n",
       "      <td>smd_2022_5D06</td>\n",
       "      <td>274.0</td>\n",
       "      <td>0.470790</td>\n",
       "      <td>30.0</td>\n",
       "      <td>0.051546</td>\n",
       "      <td>3</td>\n",
       "    </tr>\n",
       "    <tr>\n",
       "      <th>219</th>\n",
       "      <td>smd_2022_3C05</td>\n",
       "      <td>121</td>\n",
       "      <td>Sauleh Ahmad Siddiqui</td>\n",
       "      <td>462</td>\n",
       "      <td>SAULEH AHMAD SIDDIQUI</td>\n",
       "      <td>258c83f1bb1a68cb87d470cb7d41c13004a4005fc764a9...</td>\n",
       "      <td>1.0</td>\n",
       "      <td>True</td>\n",
       "      <td>False</td>\n",
       "      <td>883</td>\n",
       "      <td>0.523216</td>\n",
       "      <td>462</td>\n",
       "      <td>0.523216</td>\n",
       "      <td>smd_2022_3C05</td>\n",
       "      <td>413.0</td>\n",
       "      <td>0.467724</td>\n",
       "      <td>49.0</td>\n",
       "      <td>0.055493</td>\n",
       "      <td>3</td>\n",
       "    </tr>\n",
       "    <tr>\n",
       "      <th>239</th>\n",
       "      <td>smd_2022_3D05</td>\n",
       "      <td>129</td>\n",
       "      <td>Bernie Horn</td>\n",
       "      <td>224</td>\n",
       "      <td>BERNIE HORN</td>\n",
       "      <td>259254ee26a2a1d6be942b9c0880dd29bf14decf8ca870...</td>\n",
       "      <td>1.0</td>\n",
       "      <td>True</td>\n",
       "      <td>False</td>\n",
       "      <td>427</td>\n",
       "      <td>0.524590</td>\n",
       "      <td>224</td>\n",
       "      <td>0.524590</td>\n",
       "      <td>smd_2022_3D05</td>\n",
       "      <td>198.0</td>\n",
       "      <td>0.463700</td>\n",
       "      <td>26.0</td>\n",
       "      <td>0.06089</td>\n",
       "      <td>3</td>\n",
       "    </tr>\n",
       "  </tbody>\n",
       "</table>\n",
       "</div>"
      ],
      "text/plain": [
       "            smd_id  contest_number                candidate_name  votes  \\\n",
       "269  smd_2022_3F05             144                James Tandaric    253   \n",
       "350  smd_2022_4E04             188                  Carla Ferris    294   \n",
       "614  smd_2022_7F07             317       Shirley Thompson-Wright    174   \n",
       "559  smd_2022_7C05             289            Shirley A. Boykins    137   \n",
       "681  smd_2022_8D06             346  Wendy \"Hope Dealer\" Hamilton    209   \n",
       "276  smd_2022_4A01             153              Paula Y. Edwards    507   \n",
       "225  smd_2022_3C07             123                 Gawain Kripke    344   \n",
       "416  smd_2022_5D06             219               Kathy Henderson    304   \n",
       "219  smd_2022_3C05             121         Sauleh Ahmad Siddiqui    462   \n",
       "239  smd_2022_3D05             129                   Bernie Horn    224   \n",
       "\n",
       "             candidate_name_upper  \\\n",
       "269                JAMES TANDARIC   \n",
       "350                  CARLA FERRIS   \n",
       "614       SHIRLEY THOMPSON-WRIGHT   \n",
       "559            SHIRLEY A. BOYKINS   \n",
       "681  WENDY \"HOPE DEALER\" HAMILTON   \n",
       "276              PAULA Y. EDWARDS   \n",
       "225                 GAWAIN KRIPKE   \n",
       "416               KATHY HENDERSON   \n",
       "219         SAULEH AHMAD SIDDIQUI   \n",
       "239                   BERNIE HORN   \n",
       "\n",
       "                                         dcboe_hash_id  ranking  winner  \\\n",
       "269  ed7b3f51826d49136959476509153714f23444c9ff6d91...      1.0    True   \n",
       "350  80845f8d7ce9bb471c8d9a6a6052efe3d0b4a1f7075910...      1.0    True   \n",
       "614  18826c65515fe7fd269c41df3b3b2f2f6615845703e91c...      1.0    True   \n",
       "559  1004c264e49d4f500f9800edef7c8462df6ba610027caf...      1.0    True   \n",
       "681  6331cdd90969e1238f6f2e60a13b21cbbf71a32ed628b4...      1.0    True   \n",
       "276  cb65a96724ad7b0e156c83f95df6e97f8542b83cd5a6d1...      1.0    True   \n",
       "225  80eacd334c0a3c011ec57fae4ad46f4a50df16f3de1b9e...      1.0    True   \n",
       "416  9c114f4bf9e8b4dae95428034e012714ce70f41a1bf780...      1.0    True   \n",
       "219  258c83f1bb1a68cb87d470cb7d41c13004a4005fc764a9...      1.0    True   \n",
       "239  259254ee26a2a1d6be942b9c0880dd29bf14decf8ca870...      1.0    True   \n",
       "\n",
       "     write_in_winner  total_votes  vote_share  winning_votes  \\\n",
       "269            False          512    0.494141            253   \n",
       "350            False          594    0.494949            294   \n",
       "614            False          463    0.375810            174   \n",
       "559            False          391    0.350384            137   \n",
       "681            False          420    0.497619            209   \n",
       "276            False          999    0.507508            507   \n",
       "225            False          667    0.515742            344   \n",
       "416            False          582    0.522337            304   \n",
       "219            False          883    0.523216            462   \n",
       "239            False          427    0.524590            224   \n",
       "\n",
       "     winning_vote_percentage smd_id_shifted  votes_shifted  \\\n",
       "269                 0.494141  smd_2022_3F05          248.0   \n",
       "350                 0.494949  smd_2022_4E04          288.0   \n",
       "614                 0.375810  smd_2022_7F07          168.0   \n",
       "559                 0.350384  smd_2022_7C05          131.0   \n",
       "681                 0.497619  smd_2022_8D06          202.0   \n",
       "276                 0.507508  smd_2022_4A01          476.0   \n",
       "225                 0.515742  smd_2022_3C07          311.0   \n",
       "416                 0.522337  smd_2022_5D06          274.0   \n",
       "219                 0.523216  smd_2022_3C05          413.0   \n",
       "239                 0.524590  smd_2022_3D05          198.0   \n",
       "\n",
       "     vote_share_shifted margin_of_victory margin_of_victory_percentage  \\\n",
       "269            0.484375               5.0                     0.009766   \n",
       "350            0.484848               6.0                     0.010101   \n",
       "614            0.362851               6.0                     0.012959   \n",
       "559            0.335038               6.0                     0.015345   \n",
       "681            0.480952               7.0                     0.016667   \n",
       "276            0.476476              31.0                     0.031031   \n",
       "225            0.466267              33.0                     0.049475   \n",
       "416            0.470790              30.0                     0.051546   \n",
       "219            0.467724              49.0                     0.055493   \n",
       "239            0.463700              26.0                      0.06089   \n",
       "\n",
       "     num_candidates  \n",
       "269               3  \n",
       "350               3  \n",
       "614               4  \n",
       "559               4  \n",
       "681               3  \n",
       "276               3  \n",
       "225               3  \n",
       "416               3  \n",
       "219               3  \n",
       "239               3  "
      ]
     },
     "execution_count": 22,
     "metadata": {},
     "output_type": "execute_result"
    }
   ],
   "source": [
    "# Winners with the smallest margin of victory\n",
    "(\n",
    "    candidates_results\n",
    "    [(candidates_results.winner) & (candidates_results.num_candidates > 1)]\n",
    "    .sort_values(by='margin_of_victory_percentage')\n",
    "    .head(10)\n",
    ")"
   ]
  },
  {
   "cell_type": "code",
   "execution_count": 23,
   "metadata": {},
   "outputs": [
    {
     "data": {
      "text/plain": [
       "60"
      ]
     },
     "execution_count": 23,
     "metadata": {},
     "output_type": "execute_result"
    }
   ],
   "source": [
    "candidates_results['write_in_winner'].sum()"
   ]
  },
  {
   "cell_type": "code",
   "execution_count": 24,
   "metadata": {},
   "outputs": [],
   "source": [
    "# candidates_results[candidates_results['write_in_winner']] #  & (candidates_results['num_candidates'] > 1)]"
   ]
  },
  {
   "cell_type": "code",
   "execution_count": 25,
   "metadata": {},
   "outputs": [],
   "source": [
    "# Most votes\n",
    "# candidates_results.sort_values(by='votes', ascending=False).head(10)"
   ]
  },
  {
   "cell_type": "code",
   "execution_count": 26,
   "metadata": {},
   "outputs": [],
   "source": [
    "# candidates_results[candidates_results.smd_id == 'smd_2022_3F05']"
   ]
  },
  {
   "cell_type": "markdown",
   "metadata": {},
   "source": [
    "## Match to OpenANC\n",
    "\n",
    "Compare the candidates from DCBOE results to the OpenANC candidates table for matches"
   ]
  },
  {
   "cell_type": "code",
   "execution_count": 27,
   "metadata": {},
   "outputs": [],
   "source": [
    "candidates_oa = list_candidates(election_year=2022)"
   ]
  },
  {
   "cell_type": "code",
   "execution_count": 28,
   "metadata": {},
   "outputs": [],
   "source": [
    "merged = pd.merge(candidates_results, candidates_oa, how='left', on='dcboe_hash_id')"
   ]
  },
  {
   "cell_type": "code",
   "execution_count": 29,
   "metadata": {},
   "outputs": [
    {
     "data": {
      "text/plain": [
       "362"
      ]
     },
     "execution_count": 29,
     "metadata": {},
     "output_type": "execute_result"
    }
   ],
   "source": [
    "merged.candidate_id.notnull().sum()"
   ]
  },
  {
   "cell_type": "markdown",
   "metadata": {},
   "source": [
    "## District-wide stats"
   ]
  },
  {
   "cell_type": "code",
   "execution_count": 30,
   "metadata": {},
   "outputs": [
    {
     "data": {
      "text/plain": [
       "203009"
      ]
     },
     "execution_count": 30,
     "metadata": {},
     "output_type": "execute_result"
    }
   ],
   "source": [
    "anc.votes.sum()"
   ]
  },
  {
   "cell_type": "code",
   "execution_count": 31,
   "metadata": {},
   "outputs": [
    {
     "data": {
      "text/plain": [
       "151456"
      ]
     },
     "execution_count": 31,
     "metadata": {},
     "output_type": "execute_result"
    }
   ],
   "source": [
    "candidates_results.votes.sum()"
   ]
  },
  {
   "cell_type": "code",
   "execution_count": 32,
   "metadata": {},
   "outputs": [],
   "source": [
    "anc['candidate_type'] = anc.candidate_name\n",
    "anc.loc[~anc.candidate_name.isin(['OVER VOTES', 'UNDER VOTES', 'Write-in']), 'candidate_type'] = 'Ballot Candidate'"
   ]
  },
  {
   "cell_type": "code",
   "execution_count": 33,
   "metadata": {},
   "outputs": [
    {
     "data": {
      "text/plain": [
       "candidate_type\n",
       "Ballot Candidate    140825\n",
       "OVER VOTES             149\n",
       "UNDER VOTES          51404\n",
       "Write-in             10631\n",
       "Name: votes, dtype: int64"
      ]
     },
     "execution_count": 33,
     "metadata": {},
     "output_type": "execute_result"
    }
   ],
   "source": [
    "anc.groupby('candidate_type').votes.sum()"
   ]
  },
  {
   "cell_type": "markdown",
   "metadata": {},
   "source": [
    "## Match to OpenANC database"
   ]
  },
  {
   "cell_type": "code",
   "execution_count": 34,
   "metadata": {},
   "outputs": [],
   "source": [
    "people = pd.read_csv('data/people.csv')\n",
    "people = most_recent_smd(people)"
   ]
  },
  {
   "cell_type": "code",
   "execution_count": 35,
   "metadata": {},
   "outputs": [],
   "source": [
    "def match_to_openanc(df):\n",
    "\n",
    "    for idx, row in tqdm(df.iterrows(), total=len(df)):\n",
    "        \n",
    "        if row['candidate_name'] == 'Write-in':\n",
    "            continue\n",
    "        \n",
    "        best_id, best_score = match_names(row['candidate_name'], people['full_name'], people['person_id'])\n",
    "\n",
    "        df.loc[idx, 'match_score'] = best_score\n",
    "        df.loc[idx, 'match_person_id'] = best_id\n",
    "        df.loc[idx, 'match_full_name'] = people[people.person_id == best_id].full_name.iloc[0]\n",
    "        df.loc[idx, 'match_smd_id'] = people[people.person_id == best_id].most_recent_smd_id.iloc[0]\n",
    "        \n",
    "    return df.copy()"
   ]
  },
  {
   "cell_type": "code",
   "execution_count": 36,
   "metadata": {},
   "outputs": [
    {
     "data": {
      "application/json": {
       "ascii": false,
       "bar_format": null,
       "colour": null,
       "elapsed": 0.040717124938964844,
       "initial": 0,
       "n": 0,
       "ncols": null,
       "nrows": 68,
       "postfix": null,
       "prefix": "",
       "rate": null,
       "total": 720,
       "unit": "it",
       "unit_divisor": 1000,
       "unit_scale": false
      },
      "application/vnd.jupyter.widget-view+json": {
       "model_id": "fc4c7f92caa7436cb47ccfcd153b1d88",
       "version_major": 2,
       "version_minor": 0
      },
      "text/plain": [
       "  0%|          | 0/720 [00:00<?, ?it/s]"
      ]
     },
     "metadata": {},
     "output_type": "display_data"
    }
   ],
   "source": [
    "candidates_results = match_to_openanc(candidates_results)"
   ]
  },
  {
   "cell_type": "code",
   "execution_count": 37,
   "metadata": {},
   "outputs": [],
   "source": [
    "# candidates_results.to_clipboard()"
   ]
  },
  {
   "cell_type": "code",
   "execution_count": 38,
   "metadata": {},
   "outputs": [
    {
     "data": {
      "text/html": [
       "<div>\n",
       "<style scoped>\n",
       "    .dataframe tbody tr th:only-of-type {\n",
       "        vertical-align: middle;\n",
       "    }\n",
       "\n",
       "    .dataframe tbody tr th {\n",
       "        vertical-align: top;\n",
       "    }\n",
       "\n",
       "    .dataframe thead th {\n",
       "        text-align: right;\n",
       "    }\n",
       "</style>\n",
       "<table border=\"1\" class=\"dataframe\">\n",
       "  <thead>\n",
       "    <tr style=\"text-align: right;\">\n",
       "      <th></th>\n",
       "      <th>smd_id</th>\n",
       "      <th>contest_number</th>\n",
       "      <th>candidate_name</th>\n",
       "      <th>votes</th>\n",
       "      <th>candidate_name_upper</th>\n",
       "      <th>dcboe_hash_id</th>\n",
       "      <th>ranking</th>\n",
       "      <th>winner</th>\n",
       "      <th>write_in_winner</th>\n",
       "      <th>total_votes</th>\n",
       "      <th>...</th>\n",
       "      <th>smd_id_shifted</th>\n",
       "      <th>votes_shifted</th>\n",
       "      <th>vote_share_shifted</th>\n",
       "      <th>margin_of_victory</th>\n",
       "      <th>margin_of_victory_percentage</th>\n",
       "      <th>num_candidates</th>\n",
       "      <th>match_score</th>\n",
       "      <th>match_person_id</th>\n",
       "      <th>match_full_name</th>\n",
       "      <th>match_smd_id</th>\n",
       "    </tr>\n",
       "  </thead>\n",
       "  <tbody>\n",
       "    <tr>\n",
       "      <th>0</th>\n",
       "      <td>smd_2022_1A01</td>\n",
       "      <td>18</td>\n",
       "      <td>Max Ewart</td>\n",
       "      <td>472</td>\n",
       "      <td>MAX EWART</td>\n",
       "      <td>5562e6cb282ae08f0a57700a9f21b2ac6b13b6082f4088...</td>\n",
       "      <td>1.0</td>\n",
       "      <td>True</td>\n",
       "      <td>False</td>\n",
       "      <td>479</td>\n",
       "      <td>...</td>\n",
       "      <td>smd_2022_1A01</td>\n",
       "      <td>7.0</td>\n",
       "      <td>0.014614</td>\n",
       "      <td>465.0</td>\n",
       "      <td>0.970772</td>\n",
       "      <td>2</td>\n",
       "      <td>100.0</td>\n",
       "      <td>10460.0</td>\n",
       "      <td>Max Ewart</td>\n",
       "      <td>smd_2022_1A01</td>\n",
       "    </tr>\n",
       "    <tr>\n",
       "      <th>1</th>\n",
       "      <td>smd_2022_1A01</td>\n",
       "      <td>18</td>\n",
       "      <td>Write-in</td>\n",
       "      <td>7</td>\n",
       "      <td>WRITE-IN</td>\n",
       "      <td>3fe498bd427542a3d129749bd0ad4409c7bf704b911158...</td>\n",
       "      <td>2.0</td>\n",
       "      <td>False</td>\n",
       "      <td>False</td>\n",
       "      <td>479</td>\n",
       "      <td>...</td>\n",
       "      <td>smd_2022_1A02</td>\n",
       "      <td>405.0</td>\n",
       "      <td>0.975904</td>\n",
       "      <td>-465</td>\n",
       "      <td>-0.970772</td>\n",
       "      <td>2</td>\n",
       "      <td>NaN</td>\n",
       "      <td>NaN</td>\n",
       "      <td>NaN</td>\n",
       "      <td>NaN</td>\n",
       "    </tr>\n",
       "    <tr>\n",
       "      <th>2</th>\n",
       "      <td>smd_2022_1A02</td>\n",
       "      <td>19</td>\n",
       "      <td>Dieter Lehmann Morales</td>\n",
       "      <td>405</td>\n",
       "      <td>DIETER LEHMANN MORALES</td>\n",
       "      <td>dcca894eb6fbad029f0602aea05dba22af14b0866045b7...</td>\n",
       "      <td>1.0</td>\n",
       "      <td>True</td>\n",
       "      <td>False</td>\n",
       "      <td>415</td>\n",
       "      <td>...</td>\n",
       "      <td>smd_2022_1A02</td>\n",
       "      <td>10.0</td>\n",
       "      <td>0.024096</td>\n",
       "      <td>395.0</td>\n",
       "      <td>0.951807</td>\n",
       "      <td>2</td>\n",
       "      <td>100.0</td>\n",
       "      <td>10285.0</td>\n",
       "      <td>Dieter Lehmann Morales</td>\n",
       "      <td>smd_2022_1A02</td>\n",
       "    </tr>\n",
       "    <tr>\n",
       "      <th>3</th>\n",
       "      <td>smd_2022_1A02</td>\n",
       "      <td>19</td>\n",
       "      <td>Write-in</td>\n",
       "      <td>10</td>\n",
       "      <td>WRITE-IN</td>\n",
       "      <td>d150179dc346bc3fda316b31c540fba347400a0d2f5b13...</td>\n",
       "      <td>2.0</td>\n",
       "      <td>False</td>\n",
       "      <td>False</td>\n",
       "      <td>415</td>\n",
       "      <td>...</td>\n",
       "      <td>smd_2022_1A03</td>\n",
       "      <td>288.0</td>\n",
       "      <td>0.972973</td>\n",
       "      <td>-395</td>\n",
       "      <td>-0.951807</td>\n",
       "      <td>2</td>\n",
       "      <td>NaN</td>\n",
       "      <td>NaN</td>\n",
       "      <td>NaN</td>\n",
       "      <td>NaN</td>\n",
       "    </tr>\n",
       "    <tr>\n",
       "      <th>4</th>\n",
       "      <td>smd_2022_1A03</td>\n",
       "      <td>20</td>\n",
       "      <td>Carlo Perri</td>\n",
       "      <td>288</td>\n",
       "      <td>CARLO PERRI</td>\n",
       "      <td>f9e78f92331964dbb13882c00022c44b62a83a73673a07...</td>\n",
       "      <td>1.0</td>\n",
       "      <td>True</td>\n",
       "      <td>False</td>\n",
       "      <td>296</td>\n",
       "      <td>...</td>\n",
       "      <td>smd_2022_1A03</td>\n",
       "      <td>8.0</td>\n",
       "      <td>0.027027</td>\n",
       "      <td>280.0</td>\n",
       "      <td>0.945946</td>\n",
       "      <td>2</td>\n",
       "      <td>100.0</td>\n",
       "      <td>11345.0</td>\n",
       "      <td>Carlo Perri</td>\n",
       "      <td>smd_2022_1A03</td>\n",
       "    </tr>\n",
       "    <tr>\n",
       "      <th>...</th>\n",
       "      <td>...</td>\n",
       "      <td>...</td>\n",
       "      <td>...</td>\n",
       "      <td>...</td>\n",
       "      <td>...</td>\n",
       "      <td>...</td>\n",
       "      <td>...</td>\n",
       "      <td>...</td>\n",
       "      <td>...</td>\n",
       "      <td>...</td>\n",
       "      <td>...</td>\n",
       "      <td>...</td>\n",
       "      <td>...</td>\n",
       "      <td>...</td>\n",
       "      <td>...</td>\n",
       "      <td>...</td>\n",
       "      <td>...</td>\n",
       "      <td>...</td>\n",
       "      <td>...</td>\n",
       "      <td>...</td>\n",
       "      <td>...</td>\n",
       "    </tr>\n",
       "    <tr>\n",
       "      <th>715</th>\n",
       "      <td>smd_2022_8F03</td>\n",
       "      <td>360</td>\n",
       "      <td>Write-in</td>\n",
       "      <td>81</td>\n",
       "      <td>WRITE-IN</td>\n",
       "      <td>7dca68f21c558742e97a5dc5fabcb20de3a7379321e6d5...</td>\n",
       "      <td>2.0</td>\n",
       "      <td>False</td>\n",
       "      <td>False</td>\n",
       "      <td>577</td>\n",
       "      <td>...</td>\n",
       "      <td>smd_2022_8F04</td>\n",
       "      <td>542.0</td>\n",
       "      <td>0.723632</td>\n",
       "      <td>-415</td>\n",
       "      <td>-0.719237</td>\n",
       "      <td>2</td>\n",
       "      <td>NaN</td>\n",
       "      <td>NaN</td>\n",
       "      <td>NaN</td>\n",
       "      <td>NaN</td>\n",
       "    </tr>\n",
       "    <tr>\n",
       "      <th>716</th>\n",
       "      <td>smd_2022_8F04</td>\n",
       "      <td>361</td>\n",
       "      <td>Edward Daniels</td>\n",
       "      <td>542</td>\n",
       "      <td>EDWARD DANIELS</td>\n",
       "      <td>03e06e6cea8a0a69c48caf8221946ddbb8b13a6ca8fe28...</td>\n",
       "      <td>1.0</td>\n",
       "      <td>True</td>\n",
       "      <td>False</td>\n",
       "      <td>749</td>\n",
       "      <td>...</td>\n",
       "      <td>smd_2022_8F04</td>\n",
       "      <td>183.0</td>\n",
       "      <td>0.244326</td>\n",
       "      <td>359.0</td>\n",
       "      <td>0.479306</td>\n",
       "      <td>3</td>\n",
       "      <td>100.0</td>\n",
       "      <td>10210.0</td>\n",
       "      <td>Edward Daniels</td>\n",
       "      <td>smd_2022_8F04</td>\n",
       "    </tr>\n",
       "    <tr>\n",
       "      <th>717</th>\n",
       "      <td>smd_2022_8F04</td>\n",
       "      <td>361</td>\n",
       "      <td>Jesse Kamzol</td>\n",
       "      <td>183</td>\n",
       "      <td>JESSE KAMZOL</td>\n",
       "      <td>d4969a7e92a7e32a1d60a24a70ca3d8f7542cda8d5a57b...</td>\n",
       "      <td>2.0</td>\n",
       "      <td>False</td>\n",
       "      <td>False</td>\n",
       "      <td>749</td>\n",
       "      <td>...</td>\n",
       "      <td>smd_2022_8F04</td>\n",
       "      <td>24.0</td>\n",
       "      <td>0.032043</td>\n",
       "      <td>-359</td>\n",
       "      <td>-0.479306</td>\n",
       "      <td>3</td>\n",
       "      <td>100.0</td>\n",
       "      <td>11544.0</td>\n",
       "      <td>Jesse Kamzol</td>\n",
       "      <td>smd_2022_8F04</td>\n",
       "    </tr>\n",
       "    <tr>\n",
       "      <th>718</th>\n",
       "      <td>smd_2022_8F04</td>\n",
       "      <td>361</td>\n",
       "      <td>Write-in</td>\n",
       "      <td>24</td>\n",
       "      <td>WRITE-IN</td>\n",
       "      <td>59f529f8ecfc06f4da27c18ed88e48425ec28df71f7e1a...</td>\n",
       "      <td>3.0</td>\n",
       "      <td>False</td>\n",
       "      <td>False</td>\n",
       "      <td>749</td>\n",
       "      <td>...</td>\n",
       "      <td>smd_2022_8F05</td>\n",
       "      <td>129.0</td>\n",
       "      <td>1.000000</td>\n",
       "      <td>-518</td>\n",
       "      <td>-0.691589</td>\n",
       "      <td>3</td>\n",
       "      <td>NaN</td>\n",
       "      <td>NaN</td>\n",
       "      <td>NaN</td>\n",
       "      <td>NaN</td>\n",
       "    </tr>\n",
       "    <tr>\n",
       "      <th>719</th>\n",
       "      <td>smd_2022_8F05</td>\n",
       "      <td>362</td>\n",
       "      <td>Write-in</td>\n",
       "      <td>129</td>\n",
       "      <td>WRITE-IN</td>\n",
       "      <td>fb5ee81e118a98ce7a9b6f8d3568120a2752606caf5817...</td>\n",
       "      <td>1.0</td>\n",
       "      <td>True</td>\n",
       "      <td>True</td>\n",
       "      <td>129</td>\n",
       "      <td>...</td>\n",
       "      <td>NaN</td>\n",
       "      <td>NaN</td>\n",
       "      <td>NaN</td>\n",
       "      <td>0</td>\n",
       "      <td>0.0</td>\n",
       "      <td>1</td>\n",
       "      <td>NaN</td>\n",
       "      <td>NaN</td>\n",
       "      <td>NaN</td>\n",
       "      <td>NaN</td>\n",
       "    </tr>\n",
       "  </tbody>\n",
       "</table>\n",
       "<p>720 rows × 23 columns</p>\n",
       "</div>"
      ],
      "text/plain": [
       "            smd_id  contest_number          candidate_name  votes  \\\n",
       "0    smd_2022_1A01              18               Max Ewart    472   \n",
       "1    smd_2022_1A01              18                Write-in      7   \n",
       "2    smd_2022_1A02              19  Dieter Lehmann Morales    405   \n",
       "3    smd_2022_1A02              19                Write-in     10   \n",
       "4    smd_2022_1A03              20             Carlo Perri    288   \n",
       "..             ...             ...                     ...    ...   \n",
       "715  smd_2022_8F03             360                Write-in     81   \n",
       "716  smd_2022_8F04             361          Edward Daniels    542   \n",
       "717  smd_2022_8F04             361            Jesse Kamzol    183   \n",
       "718  smd_2022_8F04             361                Write-in     24   \n",
       "719  smd_2022_8F05             362                Write-in    129   \n",
       "\n",
       "       candidate_name_upper  \\\n",
       "0                 MAX EWART   \n",
       "1                  WRITE-IN   \n",
       "2    DIETER LEHMANN MORALES   \n",
       "3                  WRITE-IN   \n",
       "4               CARLO PERRI   \n",
       "..                      ...   \n",
       "715                WRITE-IN   \n",
       "716          EDWARD DANIELS   \n",
       "717            JESSE KAMZOL   \n",
       "718                WRITE-IN   \n",
       "719                WRITE-IN   \n",
       "\n",
       "                                         dcboe_hash_id  ranking  winner  \\\n",
       "0    5562e6cb282ae08f0a57700a9f21b2ac6b13b6082f4088...      1.0    True   \n",
       "1    3fe498bd427542a3d129749bd0ad4409c7bf704b911158...      2.0   False   \n",
       "2    dcca894eb6fbad029f0602aea05dba22af14b0866045b7...      1.0    True   \n",
       "3    d150179dc346bc3fda316b31c540fba347400a0d2f5b13...      2.0   False   \n",
       "4    f9e78f92331964dbb13882c00022c44b62a83a73673a07...      1.0    True   \n",
       "..                                                 ...      ...     ...   \n",
       "715  7dca68f21c558742e97a5dc5fabcb20de3a7379321e6d5...      2.0   False   \n",
       "716  03e06e6cea8a0a69c48caf8221946ddbb8b13a6ca8fe28...      1.0    True   \n",
       "717  d4969a7e92a7e32a1d60a24a70ca3d8f7542cda8d5a57b...      2.0   False   \n",
       "718  59f529f8ecfc06f4da27c18ed88e48425ec28df71f7e1a...      3.0   False   \n",
       "719  fb5ee81e118a98ce7a9b6f8d3568120a2752606caf5817...      1.0    True   \n",
       "\n",
       "     write_in_winner  total_votes  ...  smd_id_shifted  votes_shifted  \\\n",
       "0              False          479  ...   smd_2022_1A01            7.0   \n",
       "1              False          479  ...   smd_2022_1A02          405.0   \n",
       "2              False          415  ...   smd_2022_1A02           10.0   \n",
       "3              False          415  ...   smd_2022_1A03          288.0   \n",
       "4              False          296  ...   smd_2022_1A03            8.0   \n",
       "..               ...          ...  ...             ...            ...   \n",
       "715            False          577  ...   smd_2022_8F04          542.0   \n",
       "716            False          749  ...   smd_2022_8F04          183.0   \n",
       "717            False          749  ...   smd_2022_8F04           24.0   \n",
       "718            False          749  ...   smd_2022_8F05          129.0   \n",
       "719             True          129  ...             NaN            NaN   \n",
       "\n",
       "     vote_share_shifted margin_of_victory  margin_of_victory_percentage  \\\n",
       "0              0.014614             465.0                      0.970772   \n",
       "1              0.975904              -465                     -0.970772   \n",
       "2              0.024096             395.0                      0.951807   \n",
       "3              0.972973              -395                     -0.951807   \n",
       "4              0.027027             280.0                      0.945946   \n",
       "..                  ...               ...                           ...   \n",
       "715            0.723632              -415                     -0.719237   \n",
       "716            0.244326             359.0                      0.479306   \n",
       "717            0.032043              -359                     -0.479306   \n",
       "718            1.000000              -518                     -0.691589   \n",
       "719                 NaN                 0                           0.0   \n",
       "\n",
       "     num_candidates match_score match_person_id         match_full_name  \\\n",
       "0                 2       100.0         10460.0               Max Ewart   \n",
       "1                 2         NaN             NaN                     NaN   \n",
       "2                 2       100.0         10285.0  Dieter Lehmann Morales   \n",
       "3                 2         NaN             NaN                     NaN   \n",
       "4                 2       100.0         11345.0             Carlo Perri   \n",
       "..              ...         ...             ...                     ...   \n",
       "715               2         NaN             NaN                     NaN   \n",
       "716               3       100.0         10210.0          Edward Daniels   \n",
       "717               3       100.0         11544.0            Jesse Kamzol   \n",
       "718               3         NaN             NaN                     NaN   \n",
       "719               1         NaN             NaN                     NaN   \n",
       "\n",
       "      match_smd_id  \n",
       "0    smd_2022_1A01  \n",
       "1              NaN  \n",
       "2    smd_2022_1A02  \n",
       "3              NaN  \n",
       "4    smd_2022_1A03  \n",
       "..             ...  \n",
       "715            NaN  \n",
       "716  smd_2022_8F04  \n",
       "717  smd_2022_8F04  \n",
       "718            NaN  \n",
       "719            NaN  \n",
       "\n",
       "[720 rows x 23 columns]"
      ]
     },
     "execution_count": 38,
     "metadata": {},
     "output_type": "execute_result"
    }
   ],
   "source": [
    "candidates_results"
   ]
  },
  {
   "cell_type": "markdown",
   "metadata": {},
   "source": [
    "## Save output"
   ]
  },
  {
   "cell_type": "code",
   "execution_count": 39,
   "metadata": {},
   "outputs": [],
   "source": [
    "candidates_results['person_id'] = candidates_results['match_person_id']\n",
    "\n",
    "candidates_results[[\n",
    "    'person_id'\n",
    "    , 'dcboe_hash_id'\n",
    "    , 'smd_id'\n",
    "    , 'candidate_name'\n",
    "    , 'votes'\n",
    "    , 'vote_share'\n",
    "    , 'ranking'\n",
    "    , 'winner'\n",
    "    , 'write_in_winner'\n",
    "    , 'margin_of_victory'\n",
    "    , 'margin_of_victory_percentage'\n",
    "    , 'num_candidates'\n",
    "    , 'total_votes'\n",
    "]].to_csv('data/dcboe/candidate_votes_2022.csv', index=False)"
   ]
  },
  {
   "cell_type": "code",
   "execution_count": 40,
   "metadata": {},
   "outputs": [],
   "source": [
    "# candidates_results.to_csv('candidates_results.csv', index=False)"
   ]
  },
  {
   "cell_type": "code",
   "execution_count": null,
   "metadata": {},
   "outputs": [],
   "source": []
  }
 ],
 "metadata": {
  "kernelspec": {
   "display_name": "Python 3 (ipykernel)",
   "language": "python",
   "name": "python3"
  },
  "language_info": {
   "codemirror_mode": {
    "name": "ipython",
    "version": 3
   },
   "file_extension": ".py",
   "mimetype": "text/x-python",
   "name": "python",
   "nbconvert_exporter": "python",
   "pygments_lexer": "ipython3",
   "version": "3.10.3"
  }
 },
 "nbformat": 4,
 "nbformat_minor": 4
}
