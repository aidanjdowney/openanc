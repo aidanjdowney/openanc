{
 "cells": [
  {
   "cell_type": "markdown",
   "metadata": {},
   "source": [
    "# Process Election Results"
   ]
  },
  {
   "cell_type": "code",
   "execution_count": 1,
   "metadata": {},
   "outputs": [],
   "source": [
    "import os\n",
    "os.chdir('..')\n",
    "\n",
    "from tqdm.notebook import tqdm\n",
    "import pandas as pd\n",
    "\n",
    "from scripts.data_transformations import (\n",
    "    list_candidates\n",
    "    , most_recent_smd\n",
    "    )\n",
    "\n",
    "from scripts.common import (\n",
    "    hash_dataframe\n",
    "    , match_names\n",
    ")"
   ]
  },
  {
   "cell_type": "code",
   "execution_count": 2,
   "metadata": {},
   "outputs": [],
   "source": [
    "results_files = {\n",
    "    2020: 'November_3_2020_General_Election_Certified_Results.csv'\n",
    "    , 2022: 'November_8_2022_General_Election_Certified_Results.csv'\n",
    "}\n",
    "\n",
    "for f in results_files:\n",
    "    temp = pd.read_csv(f'data/dcboe/election_results/{results_files[f]}')\n",
    "    "
   ]
  },
  {
   "cell_type": "code",
   "execution_count": 3,
   "metadata": {},
   "outputs": [],
   "source": [
    "df = pd.read_csv(f'data/dcboe/election_results/{results_files[2022]}')\n",
    "df = df.rename(columns={\n",
    "    'Candidate': 'candidate_name'\n",
    "    , 'ContestName': 'contest_name'\n",
    "    , 'ContestNumber': 'contest_number'\n",
    "    , 'Votes': 'votes'\n",
    "})"
   ]
  },
  {
   "cell_type": "code",
   "execution_count": 4,
   "metadata": {},
   "outputs": [
    {
     "data": {
      "text/plain": [
       "candidate_name\n",
       "DEM Muriel E. Bowser    147433\n",
       "IND Rodney Red Grant     29531\n",
       "LIB Dennis Sobin          2521\n",
       "OVER VOTES                 241\n",
       "REP Stacia R. Hall       11510\n",
       "UNDER VOTES               7596\n",
       "Write-in                  6580\n",
       "total                   205412\n",
       "Name: votes, dtype: int64"
      ]
     },
     "execution_count": 4,
     "metadata": {},
     "output_type": "execute_result"
    }
   ],
   "source": [
    "# Topline race: Mayor\n",
    "topline_results = (\n",
    "    df[df['contest_name'] == 'MAYOR OF THE DISTRICT OF COLUMBIA DISTRICT OF COLUMBIA']\n",
    "    .groupby('candidate_name')\n",
    "    .votes.sum()\n",
    ")\n",
    "\n",
    "topline_results['total'] = topline_results.sum()\n",
    "topline_results"
   ]
  },
  {
   "cell_type": "code",
   "execution_count": 5,
   "metadata": {},
   "outputs": [],
   "source": [
    "anc = df[df['contest_name'].str.contains('SINGLE MEMBER DISTRICT')].copy()"
   ]
  },
  {
   "cell_type": "code",
   "execution_count": 32,
   "metadata": {},
   "outputs": [
    {
     "data": {
      "text/plain": [
       "205412"
      ]
     },
     "execution_count": 32,
     "metadata": {},
     "output_type": "execute_result"
    }
   ],
   "source": [
    "anc.votes.sum()"
   ]
  },
  {
   "cell_type": "code",
   "execution_count": 7,
   "metadata": {},
   "outputs": [],
   "source": [
    "# No certified results yet\n",
    "\n",
    "# cert = pd.read_csv('../data/dcboe/November_3_2020_General_Election_Certified_Results.csv')\n",
    "# cert = cert.rename(columns={\n",
    "#     'Candidate': 'candidate_name'\n",
    "#     , 'ContestName': 'contest_name'\n",
    "#     , 'ContestNumber': 'contest_number'\n",
    "#     , 'Votes': 'votes'\n",
    "# })\n",
    "\n",
    "# cert_anc = df[df['contest_name'].str.contains('SINGLE MEMBER DISTRICT')].copy()\n",
    "\n",
    "# cert_anc.votes.sum()"
   ]
  },
  {
   "cell_type": "code",
   "execution_count": 8,
   "metadata": {},
   "outputs": [
    {
     "data": {
      "text/plain": [
       "contest_name\n",
       "ANC - 1A01 SINGLE MEMBER DISTRICT  01-ANC 1A     595\n",
       "ANC - 1A02 SINGLE MEMBER DISTRICT  02-ANC 1A     521\n",
       "ANC - 1A03 SINGLE MEMBER DISTRICT  03-ANC 1A     378\n",
       "ANC - 1A04 SINGLE MEMBER DISTRICT  04-ANC 1A     641\n",
       "ANC - 1A05 SINGLE MEMBER DISTRICT  05-ANC 1A     429\n",
       "                                                ... \n",
       "ANC - 8F01 SINGLE MEMBER DISTRICT 01-ANC-8F      574\n",
       "ANC - 8F02 SINGLE MEMBER DISTRICT 02-ANC-8F      986\n",
       "ANC - 8F03 SINGLE MEMBER DISTRICT 03-ANC-8F      727\n",
       "ANC - 8F04 SINGLE MEMBER DISTRICT 04-ANC-8F     1003\n",
       "ANC - 8F05 SINGLE MEMBER DISTRICT 05-ANC-8F      757\n",
       "Name: votes, Length: 345, dtype: int64"
      ]
     },
     "execution_count": 8,
     "metadata": {},
     "output_type": "execute_result"
    }
   ],
   "source": [
    "anc.groupby('contest_name').votes.sum()"
   ]
  },
  {
   "cell_type": "markdown",
   "metadata": {},
   "source": [
    "Did ANC vote counts change between Pre-Certified and Certified?"
   ]
  },
  {
   "cell_type": "code",
   "execution_count": 9,
   "metadata": {},
   "outputs": [],
   "source": [
    "# todo\n",
    "# sum(anc.groupby('contest_name').votes.sum() == cert_anc.groupby('contest_name').votes.sum())"
   ]
  },
  {
   "cell_type": "code",
   "execution_count": 10,
   "metadata": {},
   "outputs": [],
   "source": [
    "anc['smd_id'] = 'smd_2022_' + anc['contest_name'].str.extract('(?<=ANC - )(.*)(?=SINGLE MEMBER)')\n",
    "anc['smd_id'] = anc['smd_id'].str.strip()"
   ]
  },
  {
   "cell_type": "code",
   "execution_count": 11,
   "metadata": {},
   "outputs": [
    {
     "data": {
      "text/plain": [
       "True"
      ]
     },
     "execution_count": 11,
     "metadata": {},
     "output_type": "execute_result"
    }
   ],
   "source": [
    "# Check that smd_id parsed correctly\n",
    "votes_by_anc = anc.groupby(['contest_name', 'smd_id']).votes.sum().reset_index()\n",
    "\n",
    "districts = pd.read_csv('data/districts.csv')\n",
    "districts = districts[districts.redistricting_year == 2022].copy()\n",
    "\n",
    "votes_by_anc['valid'] = votes_by_anc['smd_id'].isin(districts.smd_id)\n",
    "\n",
    "districts['in_results'] = districts['smd_id'].isin(votes_by_anc.smd_id)\n",
    "\n",
    "# votes_by_anc.to_clipboard(index=False)\n",
    "\n",
    "# There should be 345 valid districts\n",
    "districts['in_results'].sum() == votes_by_anc['valid'].sum() == 345"
   ]
  },
  {
   "cell_type": "code",
   "execution_count": 12,
   "metadata": {},
   "outputs": [],
   "source": [
    "candidates_results = (\n",
    "    anc\n",
    "    [~anc.candidate_name.isin(['OVER VOTES', 'UNDER VOTES'])]\n",
    "    .groupby(['smd_id', 'contest_number', 'candidate_name'])\n",
    "    .votes.sum()\n",
    "    .reset_index()\n",
    ")\n",
    "# candidates"
   ]
  },
  {
   "cell_type": "code",
   "execution_count": 13,
   "metadata": {},
   "outputs": [],
   "source": [
    "candidates_results['candidate_name_upper'] = candidates_results['candidate_name'].str.upper()\n",
    "candidates_results['dcboe_hash_id'] = hash_dataframe(candidates_results, ['smd_id', 'candidate_name_upper'])\n",
    "# candidates.loc[candidates.candidate_name == 'Write-in', 'dcboe_hash_id'] = pd.NA"
   ]
  },
  {
   "cell_type": "code",
   "execution_count": 14,
   "metadata": {},
   "outputs": [],
   "source": [
    "candidates_results['ranking'] = candidates_results.groupby('smd_id').votes.rank(method='first', ascending=False)\n",
    "candidates_results['winner'] = candidates_results['ranking'] == 1"
   ]
  },
  {
   "cell_type": "code",
   "execution_count": 15,
   "metadata": {},
   "outputs": [],
   "source": [
    "candidates_results['write_in_winner'] = (\n",
    "    candidates_results['winner'] & (candidates_results['candidate_name'] == 'Write-in')\n",
    ")"
   ]
  },
  {
   "cell_type": "code",
   "execution_count": 16,
   "metadata": {},
   "outputs": [],
   "source": [
    "# Sort candidates by the number of votes they got within SMD, making the winner first\n",
    "candidates_results = candidates_results.sort_values(by=['smd_id', 'votes'], ascending=[True, False])"
   ]
  },
  {
   "cell_type": "code",
   "execution_count": 17,
   "metadata": {},
   "outputs": [],
   "source": [
    "# Calculate the total votes cast in each SMD\n",
    "total_votes = candidates_results.groupby('smd_id').votes.sum()\n",
    "total_votes.name = 'total_votes'\n",
    "candidates_results = pd.merge(candidates_results, total_votes, how='inner', on='smd_id')\n",
    "candidates_results['vote_share'] = candidates_results['votes'] / candidates_results['total_votes']"
   ]
  },
  {
   "cell_type": "code",
   "execution_count": 18,
   "metadata": {},
   "outputs": [],
   "source": [
    "# Create columns showing the number of votes the winner in each SMD received.\n",
    "# This will be used to calculate the \"margin of defeat\" for all other candidates.\n",
    "\n",
    "winning_votes = candidates_results.groupby('smd_id').agg(\n",
    "    winning_votes=('votes', max)\n",
    "    , winning_vote_percentage=('vote_share', max)\n",
    ")\n",
    "\n",
    "candidates_results = pd.merge(candidates_results, winning_votes, how='inner', on='smd_id')"
   ]
  },
  {
   "cell_type": "code",
   "execution_count": 19,
   "metadata": {
    "scrolled": false
   },
   "outputs": [],
   "source": [
    "# Create columns showing the number of votes for the next candidate in the DataFrame.\n",
    "# For the first place candidate in an SMD, these _shifted columns will have the votes\n",
    "# of the second-place candidate.\n",
    "\n",
    "shift_one = candidates_results[['smd_id', 'votes', 'vote_share']].shift(-1)\n",
    "shift_one = shift_one.rename(columns={\n",
    "    'smd_id': 'smd_id_shifted'\n",
    "    , 'votes': 'votes_shifted'\n",
    "    , 'vote_share': 'vote_share_shifted'\n",
    "})\n",
    "\n",
    "candidates_results = pd.concat([candidates_results, shift_one], axis=1)"
   ]
  },
  {
   "cell_type": "code",
   "execution_count": 20,
   "metadata": {},
   "outputs": [],
   "source": [
    "# Calculate the margin of victory - positive for winners, negative for losers\n",
    "candidates_results['margin_of_victory'] = None\n",
    "candidates_results['margin_of_victory_percentage'] = None\n",
    "\n",
    "contested_winners = (\n",
    "    (candidates_results['smd_id'] == candidates_results['smd_id_shifted']) & (candidates_results['winner'])\n",
    ")\n",
    "\n",
    "# For winners, the margin of victory is their votes minus the second-place votes\n",
    "candidates_results.loc[contested_winners, 'margin_of_victory'] = (\n",
    "    candidates_results['votes'] - candidates_results['votes_shifted']\n",
    ")\n",
    "candidates_results.loc[contested_winners, 'margin_of_victory_percentage'] = (\n",
    "    candidates_results['vote_share'] - candidates_results['vote_share_shifted']\n",
    ")\n",
    "\n",
    "# For losers, the margin of defeat is the their votes minus the first-place votes\n",
    "candidates_results.loc[~contested_winners, 'margin_of_victory'] = (\n",
    "    candidates_results['votes'] - candidates_results['winning_votes']\n",
    ")\n",
    "\n",
    "candidates_results.loc[~contested_winners, 'margin_of_victory_percentage'] = (\n",
    "    candidates_results['vote_share'] - candidates_results['winning_vote_percentage']\n",
    ")"
   ]
  },
  {
   "cell_type": "code",
   "execution_count": 21,
   "metadata": {},
   "outputs": [],
   "source": [
    "# Count the number of candidates who received votes. This lumps all write-ins as one candidate.\n",
    "# num_candidates is not currently used by the frontend, just for humans checking the data.\n",
    "\n",
    "num_candidates = candidates_results.groupby('smd_id').candidate_name.count()\n",
    "num_candidates.name = 'num_candidates'\n",
    "candidates_results = pd.merge(candidates_results, num_candidates, how='inner', on='smd_id')"
   ]
  },
  {
   "cell_type": "markdown",
   "metadata": {},
   "source": [
    "## Counts"
   ]
  },
  {
   "cell_type": "code",
   "execution_count": 22,
   "metadata": {
    "scrolled": false
   },
   "outputs": [
    {
     "data": {
      "text/html": [
       "<div>\n",
       "<style scoped>\n",
       "    .dataframe tbody tr th:only-of-type {\n",
       "        vertical-align: middle;\n",
       "    }\n",
       "\n",
       "    .dataframe tbody tr th {\n",
       "        vertical-align: top;\n",
       "    }\n",
       "\n",
       "    .dataframe thead th {\n",
       "        text-align: right;\n",
       "    }\n",
       "</style>\n",
       "<table border=\"1\" class=\"dataframe\">\n",
       "  <thead>\n",
       "    <tr style=\"text-align: right;\">\n",
       "      <th></th>\n",
       "      <th>smd_id</th>\n",
       "      <th>contest_number</th>\n",
       "      <th>candidate_name</th>\n",
       "      <th>votes</th>\n",
       "      <th>candidate_name_upper</th>\n",
       "      <th>dcboe_hash_id</th>\n",
       "      <th>ranking</th>\n",
       "      <th>winner</th>\n",
       "      <th>write_in_winner</th>\n",
       "      <th>total_votes</th>\n",
       "      <th>vote_share</th>\n",
       "      <th>winning_votes</th>\n",
       "      <th>winning_vote_percentage</th>\n",
       "      <th>smd_id_shifted</th>\n",
       "      <th>votes_shifted</th>\n",
       "      <th>vote_share_shifted</th>\n",
       "      <th>margin_of_victory</th>\n",
       "      <th>margin_of_victory_percentage</th>\n",
       "      <th>num_candidates</th>\n",
       "    </tr>\n",
       "  </thead>\n",
       "  <tbody>\n",
       "    <tr>\n",
       "      <th>350</th>\n",
       "      <td>smd_2022_4E04</td>\n",
       "      <td>188</td>\n",
       "      <td>Carla Ferris</td>\n",
       "      <td>294</td>\n",
       "      <td>CARLA FERRIS</td>\n",
       "      <td>80845f8d7ce9bb471c8d9a6a6052efe3d0b4a1f7075910...</td>\n",
       "      <td>1.0</td>\n",
       "      <td>True</td>\n",
       "      <td>False</td>\n",
       "      <td>595</td>\n",
       "      <td>0.494118</td>\n",
       "      <td>294</td>\n",
       "      <td>0.494118</td>\n",
       "      <td>smd_2022_4E04</td>\n",
       "      <td>289.0</td>\n",
       "      <td>0.485714</td>\n",
       "      <td>5.0</td>\n",
       "      <td>0.008403</td>\n",
       "      <td>3</td>\n",
       "    </tr>\n",
       "    <tr>\n",
       "      <th>559</th>\n",
       "      <td>smd_2022_7C05</td>\n",
       "      <td>289</td>\n",
       "      <td>Shirley A. Boykins</td>\n",
       "      <td>137</td>\n",
       "      <td>SHIRLEY A. BOYKINS</td>\n",
       "      <td>1004c264e49d4f500f9800edef7c8462df6ba610027caf...</td>\n",
       "      <td>1.0</td>\n",
       "      <td>True</td>\n",
       "      <td>False</td>\n",
       "      <td>394</td>\n",
       "      <td>0.347716</td>\n",
       "      <td>137</td>\n",
       "      <td>0.347716</td>\n",
       "      <td>smd_2022_7C05</td>\n",
       "      <td>132.0</td>\n",
       "      <td>0.335025</td>\n",
       "      <td>5.0</td>\n",
       "      <td>0.01269</td>\n",
       "      <td>4</td>\n",
       "    </tr>\n",
       "    <tr>\n",
       "      <th>681</th>\n",
       "      <td>smd_2022_8D06</td>\n",
       "      <td>346</td>\n",
       "      <td>Wendy \"Hope Dealer\" Hamilton</td>\n",
       "      <td>211</td>\n",
       "      <td>WENDY \"HOPE DEALER\" HAMILTON</td>\n",
       "      <td>6331cdd90969e1238f6f2e60a13b21cbbf71a32ed628b4...</td>\n",
       "      <td>1.0</td>\n",
       "      <td>True</td>\n",
       "      <td>False</td>\n",
       "      <td>425</td>\n",
       "      <td>0.496471</td>\n",
       "      <td>211</td>\n",
       "      <td>0.496471</td>\n",
       "      <td>smd_2022_8D06</td>\n",
       "      <td>205.0</td>\n",
       "      <td>0.482353</td>\n",
       "      <td>6.0</td>\n",
       "      <td>0.014118</td>\n",
       "      <td>3</td>\n",
       "    </tr>\n",
       "    <tr>\n",
       "      <th>269</th>\n",
       "      <td>smd_2022_3F05</td>\n",
       "      <td>144</td>\n",
       "      <td>James Tandaric</td>\n",
       "      <td>258</td>\n",
       "      <td>JAMES TANDARIC</td>\n",
       "      <td>ed7b3f51826d49136959476509153714f23444c9ff6d91...</td>\n",
       "      <td>1.0</td>\n",
       "      <td>True</td>\n",
       "      <td>False</td>\n",
       "      <td>519</td>\n",
       "      <td>0.497110</td>\n",
       "      <td>258</td>\n",
       "      <td>0.497110</td>\n",
       "      <td>smd_2022_3F05</td>\n",
       "      <td>250.0</td>\n",
       "      <td>0.481696</td>\n",
       "      <td>8.0</td>\n",
       "      <td>0.015414</td>\n",
       "      <td>3</td>\n",
       "    </tr>\n",
       "    <tr>\n",
       "      <th>614</th>\n",
       "      <td>smd_2022_7F07</td>\n",
       "      <td>317</td>\n",
       "      <td>Shirley Thompson-Wright</td>\n",
       "      <td>178</td>\n",
       "      <td>SHIRLEY THOMPSON-WRIGHT</td>\n",
       "      <td>18826c65515fe7fd269c41df3b3b2f2f6615845703e91c...</td>\n",
       "      <td>1.0</td>\n",
       "      <td>True</td>\n",
       "      <td>False</td>\n",
       "      <td>471</td>\n",
       "      <td>0.377919</td>\n",
       "      <td>178</td>\n",
       "      <td>0.377919</td>\n",
       "      <td>smd_2022_7F07</td>\n",
       "      <td>170.0</td>\n",
       "      <td>0.360934</td>\n",
       "      <td>8.0</td>\n",
       "      <td>0.016985</td>\n",
       "      <td>4</td>\n",
       "    </tr>\n",
       "    <tr>\n",
       "      <th>276</th>\n",
       "      <td>smd_2022_4A01</td>\n",
       "      <td>153</td>\n",
       "      <td>Paula Y. Edwards</td>\n",
       "      <td>509</td>\n",
       "      <td>PAULA Y. EDWARDS</td>\n",
       "      <td>cb65a96724ad7b0e156c83f95df6e97f8542b83cd5a6d1...</td>\n",
       "      <td>1.0</td>\n",
       "      <td>True</td>\n",
       "      <td>False</td>\n",
       "      <td>1005</td>\n",
       "      <td>0.506468</td>\n",
       "      <td>509</td>\n",
       "      <td>0.506468</td>\n",
       "      <td>smd_2022_4A01</td>\n",
       "      <td>480.0</td>\n",
       "      <td>0.477612</td>\n",
       "      <td>29.0</td>\n",
       "      <td>0.028856</td>\n",
       "      <td>3</td>\n",
       "    </tr>\n",
       "    <tr>\n",
       "      <th>225</th>\n",
       "      <td>smd_2022_3C07</td>\n",
       "      <td>123</td>\n",
       "      <td>Gawain Kripke</td>\n",
       "      <td>349</td>\n",
       "      <td>GAWAIN KRIPKE</td>\n",
       "      <td>80eacd334c0a3c011ec57fae4ad46f4a50df16f3de1b9e...</td>\n",
       "      <td>1.0</td>\n",
       "      <td>True</td>\n",
       "      <td>False</td>\n",
       "      <td>681</td>\n",
       "      <td>0.512482</td>\n",
       "      <td>349</td>\n",
       "      <td>0.512482</td>\n",
       "      <td>smd_2022_3C07</td>\n",
       "      <td>320.0</td>\n",
       "      <td>0.469897</td>\n",
       "      <td>29.0</td>\n",
       "      <td>0.042584</td>\n",
       "      <td>3</td>\n",
       "    </tr>\n",
       "    <tr>\n",
       "      <th>416</th>\n",
       "      <td>smd_2022_5D06</td>\n",
       "      <td>219</td>\n",
       "      <td>Kathy Henderson</td>\n",
       "      <td>305</td>\n",
       "      <td>KATHY HENDERSON</td>\n",
       "      <td>9c114f4bf9e8b4dae95428034e012714ce70f41a1bf780...</td>\n",
       "      <td>1.0</td>\n",
       "      <td>True</td>\n",
       "      <td>False</td>\n",
       "      <td>586</td>\n",
       "      <td>0.520478</td>\n",
       "      <td>305</td>\n",
       "      <td>0.520478</td>\n",
       "      <td>smd_2022_5D06</td>\n",
       "      <td>276.0</td>\n",
       "      <td>0.470990</td>\n",
       "      <td>29.0</td>\n",
       "      <td>0.049488</td>\n",
       "      <td>3</td>\n",
       "    </tr>\n",
       "    <tr>\n",
       "      <th>219</th>\n",
       "      <td>smd_2022_3C05</td>\n",
       "      <td>121</td>\n",
       "      <td>Sauleh Ahmad Siddiqui</td>\n",
       "      <td>468</td>\n",
       "      <td>SAULEH AHMAD SIDDIQUI</td>\n",
       "      <td>258c83f1bb1a68cb87d470cb7d41c13004a4005fc764a9...</td>\n",
       "      <td>1.0</td>\n",
       "      <td>True</td>\n",
       "      <td>False</td>\n",
       "      <td>898</td>\n",
       "      <td>0.521158</td>\n",
       "      <td>468</td>\n",
       "      <td>0.521158</td>\n",
       "      <td>smd_2022_3C05</td>\n",
       "      <td>422.0</td>\n",
       "      <td>0.469933</td>\n",
       "      <td>46.0</td>\n",
       "      <td>0.051225</td>\n",
       "      <td>3</td>\n",
       "    </tr>\n",
       "    <tr>\n",
       "      <th>697</th>\n",
       "      <td>smd_2022_8E04</td>\n",
       "      <td>352</td>\n",
       "      <td>Kendall (The Voice) Simmons</td>\n",
       "      <td>105</td>\n",
       "      <td>KENDALL (THE VOICE) SIMMONS</td>\n",
       "      <td>8f890aab138068f0f90757878bb17aa48f52ca6360d258...</td>\n",
       "      <td>1.0</td>\n",
       "      <td>True</td>\n",
       "      <td>False</td>\n",
       "      <td>259</td>\n",
       "      <td>0.405405</td>\n",
       "      <td>105</td>\n",
       "      <td>0.405405</td>\n",
       "      <td>smd_2022_8E04</td>\n",
       "      <td>89.0</td>\n",
       "      <td>0.343629</td>\n",
       "      <td>16.0</td>\n",
       "      <td>0.061776</td>\n",
       "      <td>4</td>\n",
       "    </tr>\n",
       "  </tbody>\n",
       "</table>\n",
       "</div>"
      ],
      "text/plain": [
       "            smd_id  contest_number                candidate_name  votes  \\\n",
       "350  smd_2022_4E04             188                  Carla Ferris    294   \n",
       "559  smd_2022_7C05             289            Shirley A. Boykins    137   \n",
       "681  smd_2022_8D06             346  Wendy \"Hope Dealer\" Hamilton    211   \n",
       "269  smd_2022_3F05             144                James Tandaric    258   \n",
       "614  smd_2022_7F07             317       Shirley Thompson-Wright    178   \n",
       "276  smd_2022_4A01             153              Paula Y. Edwards    509   \n",
       "225  smd_2022_3C07             123                 Gawain Kripke    349   \n",
       "416  smd_2022_5D06             219               Kathy Henderson    305   \n",
       "219  smd_2022_3C05             121         Sauleh Ahmad Siddiqui    468   \n",
       "697  smd_2022_8E04             352   Kendall (The Voice) Simmons    105   \n",
       "\n",
       "             candidate_name_upper  \\\n",
       "350                  CARLA FERRIS   \n",
       "559            SHIRLEY A. BOYKINS   \n",
       "681  WENDY \"HOPE DEALER\" HAMILTON   \n",
       "269                JAMES TANDARIC   \n",
       "614       SHIRLEY THOMPSON-WRIGHT   \n",
       "276              PAULA Y. EDWARDS   \n",
       "225                 GAWAIN KRIPKE   \n",
       "416               KATHY HENDERSON   \n",
       "219         SAULEH AHMAD SIDDIQUI   \n",
       "697   KENDALL (THE VOICE) SIMMONS   \n",
       "\n",
       "                                         dcboe_hash_id  ranking  winner  \\\n",
       "350  80845f8d7ce9bb471c8d9a6a6052efe3d0b4a1f7075910...      1.0    True   \n",
       "559  1004c264e49d4f500f9800edef7c8462df6ba610027caf...      1.0    True   \n",
       "681  6331cdd90969e1238f6f2e60a13b21cbbf71a32ed628b4...      1.0    True   \n",
       "269  ed7b3f51826d49136959476509153714f23444c9ff6d91...      1.0    True   \n",
       "614  18826c65515fe7fd269c41df3b3b2f2f6615845703e91c...      1.0    True   \n",
       "276  cb65a96724ad7b0e156c83f95df6e97f8542b83cd5a6d1...      1.0    True   \n",
       "225  80eacd334c0a3c011ec57fae4ad46f4a50df16f3de1b9e...      1.0    True   \n",
       "416  9c114f4bf9e8b4dae95428034e012714ce70f41a1bf780...      1.0    True   \n",
       "219  258c83f1bb1a68cb87d470cb7d41c13004a4005fc764a9...      1.0    True   \n",
       "697  8f890aab138068f0f90757878bb17aa48f52ca6360d258...      1.0    True   \n",
       "\n",
       "     write_in_winner  total_votes  vote_share  winning_votes  \\\n",
       "350            False          595    0.494118            294   \n",
       "559            False          394    0.347716            137   \n",
       "681            False          425    0.496471            211   \n",
       "269            False          519    0.497110            258   \n",
       "614            False          471    0.377919            178   \n",
       "276            False         1005    0.506468            509   \n",
       "225            False          681    0.512482            349   \n",
       "416            False          586    0.520478            305   \n",
       "219            False          898    0.521158            468   \n",
       "697            False          259    0.405405            105   \n",
       "\n",
       "     winning_vote_percentage smd_id_shifted  votes_shifted  \\\n",
       "350                 0.494118  smd_2022_4E04          289.0   \n",
       "559                 0.347716  smd_2022_7C05          132.0   \n",
       "681                 0.496471  smd_2022_8D06          205.0   \n",
       "269                 0.497110  smd_2022_3F05          250.0   \n",
       "614                 0.377919  smd_2022_7F07          170.0   \n",
       "276                 0.506468  smd_2022_4A01          480.0   \n",
       "225                 0.512482  smd_2022_3C07          320.0   \n",
       "416                 0.520478  smd_2022_5D06          276.0   \n",
       "219                 0.521158  smd_2022_3C05          422.0   \n",
       "697                 0.405405  smd_2022_8E04           89.0   \n",
       "\n",
       "     vote_share_shifted margin_of_victory margin_of_victory_percentage  \\\n",
       "350            0.485714               5.0                     0.008403   \n",
       "559            0.335025               5.0                      0.01269   \n",
       "681            0.482353               6.0                     0.014118   \n",
       "269            0.481696               8.0                     0.015414   \n",
       "614            0.360934               8.0                     0.016985   \n",
       "276            0.477612              29.0                     0.028856   \n",
       "225            0.469897              29.0                     0.042584   \n",
       "416            0.470990              29.0                     0.049488   \n",
       "219            0.469933              46.0                     0.051225   \n",
       "697            0.343629              16.0                     0.061776   \n",
       "\n",
       "     num_candidates  \n",
       "350               3  \n",
       "559               4  \n",
       "681               3  \n",
       "269               3  \n",
       "614               4  \n",
       "276               3  \n",
       "225               3  \n",
       "416               3  \n",
       "219               3  \n",
       "697               4  "
      ]
     },
     "execution_count": 22,
     "metadata": {},
     "output_type": "execute_result"
    }
   ],
   "source": [
    "# Winners with the smallest margin of victory\n",
    "(\n",
    "    candidates_results\n",
    "    [(candidates_results.winner) & (candidates_results.num_candidates > 1)]\n",
    "    .sort_values(by='margin_of_victory_percentage')\n",
    "    .head(10)\n",
    ")"
   ]
  },
  {
   "cell_type": "code",
   "execution_count": 23,
   "metadata": {},
   "outputs": [
    {
     "data": {
      "text/plain": [
       "60"
      ]
     },
     "execution_count": 23,
     "metadata": {},
     "output_type": "execute_result"
    }
   ],
   "source": [
    "candidates_results['write_in_winner'].sum()"
   ]
  },
  {
   "cell_type": "code",
   "execution_count": 24,
   "metadata": {},
   "outputs": [],
   "source": [
    "# candidates_results[candidates_results['write_in_winner']] #  & (candidates_results['num_candidates'] > 1)]"
   ]
  },
  {
   "cell_type": "code",
   "execution_count": 25,
   "metadata": {},
   "outputs": [],
   "source": [
    "# Most votes\n",
    "# candidates_results.sort_values(by='votes', ascending=False).head(10)"
   ]
  },
  {
   "cell_type": "code",
   "execution_count": 26,
   "metadata": {},
   "outputs": [],
   "source": [
    "# candidates_results[candidates_results.smd_id == 'smd_2022_3F05']"
   ]
  },
  {
   "cell_type": "markdown",
   "metadata": {},
   "source": [
    "## Match to OpenANC\n",
    "\n",
    "Compare the candidates from DCBOE results to the OpenANC candidates table for matches"
   ]
  },
  {
   "cell_type": "code",
   "execution_count": 27,
   "metadata": {},
   "outputs": [],
   "source": [
    "candidates_oa = list_candidates(election_year=2022)"
   ]
  },
  {
   "cell_type": "code",
   "execution_count": 28,
   "metadata": {},
   "outputs": [
    {
     "ename": "KeyError",
     "evalue": "'dcboe_hash_id'",
     "output_type": "error",
     "traceback": [
      "\u001b[0;31m---------------------------------------------------------------------------\u001b[0m",
      "\u001b[0;31mKeyError\u001b[0m                                  Traceback (most recent call last)",
      "Cell \u001b[0;32mIn[28], line 1\u001b[0m\n\u001b[0;32m----> 1\u001b[0m merged \u001b[38;5;241m=\u001b[39m \u001b[43mpd\u001b[49m\u001b[38;5;241;43m.\u001b[39;49m\u001b[43mmerge\u001b[49m\u001b[43m(\u001b[49m\u001b[43mcandidates_results\u001b[49m\u001b[43m,\u001b[49m\u001b[43m \u001b[49m\u001b[43mcandidates_oa\u001b[49m\u001b[43m,\u001b[49m\u001b[43m \u001b[49m\u001b[43mhow\u001b[49m\u001b[38;5;241;43m=\u001b[39;49m\u001b[38;5;124;43m'\u001b[39;49m\u001b[38;5;124;43mleft\u001b[39;49m\u001b[38;5;124;43m'\u001b[39;49m\u001b[43m,\u001b[49m\u001b[43m \u001b[49m\u001b[43mon\u001b[49m\u001b[38;5;241;43m=\u001b[39;49m\u001b[38;5;124;43m'\u001b[39;49m\u001b[38;5;124;43mdcboe_hash_id\u001b[39;49m\u001b[38;5;124;43m'\u001b[39;49m\u001b[43m)\u001b[49m\n",
      "File \u001b[0;32m~/Projects/_environments/openanc310/lib/python3.10/site-packages/pandas/core/reshape/merge.py:107\u001b[0m, in \u001b[0;36mmerge\u001b[0;34m(left, right, how, on, left_on, right_on, left_index, right_index, sort, suffixes, copy, indicator, validate)\u001b[0m\n\u001b[1;32m     90\u001b[0m \u001b[38;5;129m@Substitution\u001b[39m(\u001b[38;5;124m\"\u001b[39m\u001b[38;5;130;01m\\n\u001b[39;00m\u001b[38;5;124mleft : DataFrame or named Series\u001b[39m\u001b[38;5;124m\"\u001b[39m)\n\u001b[1;32m     91\u001b[0m \u001b[38;5;129m@Appender\u001b[39m(_merge_doc, indents\u001b[38;5;241m=\u001b[39m\u001b[38;5;241m0\u001b[39m)\n\u001b[1;32m     92\u001b[0m \u001b[38;5;28;01mdef\u001b[39;00m \u001b[38;5;21mmerge\u001b[39m(\n\u001b[0;32m   (...)\u001b[0m\n\u001b[1;32m    105\u001b[0m     validate: \u001b[38;5;28mstr\u001b[39m \u001b[38;5;241m|\u001b[39m \u001b[38;5;28;01mNone\u001b[39;00m \u001b[38;5;241m=\u001b[39m \u001b[38;5;28;01mNone\u001b[39;00m,\n\u001b[1;32m    106\u001b[0m ) \u001b[38;5;241m-\u001b[39m\u001b[38;5;241m>\u001b[39m DataFrame:\n\u001b[0;32m--> 107\u001b[0m     op \u001b[38;5;241m=\u001b[39m \u001b[43m_MergeOperation\u001b[49m\u001b[43m(\u001b[49m\n\u001b[1;32m    108\u001b[0m \u001b[43m        \u001b[49m\u001b[43mleft\u001b[49m\u001b[43m,\u001b[49m\n\u001b[1;32m    109\u001b[0m \u001b[43m        \u001b[49m\u001b[43mright\u001b[49m\u001b[43m,\u001b[49m\n\u001b[1;32m    110\u001b[0m \u001b[43m        \u001b[49m\u001b[43mhow\u001b[49m\u001b[38;5;241;43m=\u001b[39;49m\u001b[43mhow\u001b[49m\u001b[43m,\u001b[49m\n\u001b[1;32m    111\u001b[0m \u001b[43m        \u001b[49m\u001b[43mon\u001b[49m\u001b[38;5;241;43m=\u001b[39;49m\u001b[43mon\u001b[49m\u001b[43m,\u001b[49m\n\u001b[1;32m    112\u001b[0m \u001b[43m        \u001b[49m\u001b[43mleft_on\u001b[49m\u001b[38;5;241;43m=\u001b[39;49m\u001b[43mleft_on\u001b[49m\u001b[43m,\u001b[49m\n\u001b[1;32m    113\u001b[0m \u001b[43m        \u001b[49m\u001b[43mright_on\u001b[49m\u001b[38;5;241;43m=\u001b[39;49m\u001b[43mright_on\u001b[49m\u001b[43m,\u001b[49m\n\u001b[1;32m    114\u001b[0m \u001b[43m        \u001b[49m\u001b[43mleft_index\u001b[49m\u001b[38;5;241;43m=\u001b[39;49m\u001b[43mleft_index\u001b[49m\u001b[43m,\u001b[49m\n\u001b[1;32m    115\u001b[0m \u001b[43m        \u001b[49m\u001b[43mright_index\u001b[49m\u001b[38;5;241;43m=\u001b[39;49m\u001b[43mright_index\u001b[49m\u001b[43m,\u001b[49m\n\u001b[1;32m    116\u001b[0m \u001b[43m        \u001b[49m\u001b[43msort\u001b[49m\u001b[38;5;241;43m=\u001b[39;49m\u001b[43msort\u001b[49m\u001b[43m,\u001b[49m\n\u001b[1;32m    117\u001b[0m \u001b[43m        \u001b[49m\u001b[43msuffixes\u001b[49m\u001b[38;5;241;43m=\u001b[39;49m\u001b[43msuffixes\u001b[49m\u001b[43m,\u001b[49m\n\u001b[1;32m    118\u001b[0m \u001b[43m        \u001b[49m\u001b[43mcopy\u001b[49m\u001b[38;5;241;43m=\u001b[39;49m\u001b[43mcopy\u001b[49m\u001b[43m,\u001b[49m\n\u001b[1;32m    119\u001b[0m \u001b[43m        \u001b[49m\u001b[43mindicator\u001b[49m\u001b[38;5;241;43m=\u001b[39;49m\u001b[43mindicator\u001b[49m\u001b[43m,\u001b[49m\n\u001b[1;32m    120\u001b[0m \u001b[43m        \u001b[49m\u001b[43mvalidate\u001b[49m\u001b[38;5;241;43m=\u001b[39;49m\u001b[43mvalidate\u001b[49m\u001b[43m,\u001b[49m\n\u001b[1;32m    121\u001b[0m \u001b[43m    \u001b[49m\u001b[43m)\u001b[49m\n\u001b[1;32m    122\u001b[0m     \u001b[38;5;28;01mreturn\u001b[39;00m op\u001b[38;5;241m.\u001b[39mget_result()\n",
      "File \u001b[0;32m~/Projects/_environments/openanc310/lib/python3.10/site-packages/pandas/core/reshape/merge.py:700\u001b[0m, in \u001b[0;36m_MergeOperation.__init__\u001b[0;34m(self, left, right, how, on, left_on, right_on, axis, left_index, right_index, sort, suffixes, copy, indicator, validate)\u001b[0m\n\u001b[1;32m    693\u001b[0m \u001b[38;5;28mself\u001b[39m\u001b[38;5;241m.\u001b[39m_cross \u001b[38;5;241m=\u001b[39m cross_col\n\u001b[1;32m    695\u001b[0m \u001b[38;5;66;03m# note this function has side effects\u001b[39;00m\n\u001b[1;32m    696\u001b[0m (\n\u001b[1;32m    697\u001b[0m     \u001b[38;5;28mself\u001b[39m\u001b[38;5;241m.\u001b[39mleft_join_keys,\n\u001b[1;32m    698\u001b[0m     \u001b[38;5;28mself\u001b[39m\u001b[38;5;241m.\u001b[39mright_join_keys,\n\u001b[1;32m    699\u001b[0m     \u001b[38;5;28mself\u001b[39m\u001b[38;5;241m.\u001b[39mjoin_names,\n\u001b[0;32m--> 700\u001b[0m ) \u001b[38;5;241m=\u001b[39m \u001b[38;5;28;43mself\u001b[39;49m\u001b[38;5;241;43m.\u001b[39;49m\u001b[43m_get_merge_keys\u001b[49m\u001b[43m(\u001b[49m\u001b[43m)\u001b[49m\n\u001b[1;32m    702\u001b[0m \u001b[38;5;66;03m# validate the merge keys dtypes. We may need to coerce\u001b[39;00m\n\u001b[1;32m    703\u001b[0m \u001b[38;5;66;03m# to avoid incompatible dtypes\u001b[39;00m\n\u001b[1;32m    704\u001b[0m \u001b[38;5;28mself\u001b[39m\u001b[38;5;241m.\u001b[39m_maybe_coerce_merge_keys()\n",
      "File \u001b[0;32m~/Projects/_environments/openanc310/lib/python3.10/site-packages/pandas/core/reshape/merge.py:1097\u001b[0m, in \u001b[0;36m_MergeOperation._get_merge_keys\u001b[0;34m(self)\u001b[0m\n\u001b[1;32m   1095\u001b[0m \u001b[38;5;28;01mif\u001b[39;00m \u001b[38;5;129;01mnot\u001b[39;00m is_rkey(rk):\n\u001b[1;32m   1096\u001b[0m     \u001b[38;5;28;01mif\u001b[39;00m rk \u001b[38;5;129;01mis\u001b[39;00m \u001b[38;5;129;01mnot\u001b[39;00m \u001b[38;5;28;01mNone\u001b[39;00m:\n\u001b[0;32m-> 1097\u001b[0m         right_keys\u001b[38;5;241m.\u001b[39mappend(\u001b[43mright\u001b[49m\u001b[38;5;241;43m.\u001b[39;49m\u001b[43m_get_label_or_level_values\u001b[49m\u001b[43m(\u001b[49m\u001b[43mrk\u001b[49m\u001b[43m)\u001b[49m)\n\u001b[1;32m   1098\u001b[0m     \u001b[38;5;28;01melse\u001b[39;00m:\n\u001b[1;32m   1099\u001b[0m         \u001b[38;5;66;03m# work-around for merge_asof(right_index=True)\u001b[39;00m\n\u001b[1;32m   1100\u001b[0m         right_keys\u001b[38;5;241m.\u001b[39mappend(right\u001b[38;5;241m.\u001b[39mindex)\n",
      "File \u001b[0;32m~/Projects/_environments/openanc310/lib/python3.10/site-packages/pandas/core/generic.py:1840\u001b[0m, in \u001b[0;36mNDFrame._get_label_or_level_values\u001b[0;34m(self, key, axis)\u001b[0m\n\u001b[1;32m   1838\u001b[0m     values \u001b[38;5;241m=\u001b[39m \u001b[38;5;28mself\u001b[39m\u001b[38;5;241m.\u001b[39maxes[axis]\u001b[38;5;241m.\u001b[39mget_level_values(key)\u001b[38;5;241m.\u001b[39m_values\n\u001b[1;32m   1839\u001b[0m \u001b[38;5;28;01melse\u001b[39;00m:\n\u001b[0;32m-> 1840\u001b[0m     \u001b[38;5;28;01mraise\u001b[39;00m \u001b[38;5;167;01mKeyError\u001b[39;00m(key)\n\u001b[1;32m   1842\u001b[0m \u001b[38;5;66;03m# Check for duplicates\u001b[39;00m\n\u001b[1;32m   1843\u001b[0m \u001b[38;5;28;01mif\u001b[39;00m values\u001b[38;5;241m.\u001b[39mndim \u001b[38;5;241m>\u001b[39m \u001b[38;5;241m1\u001b[39m:\n",
      "\u001b[0;31mKeyError\u001b[0m: 'dcboe_hash_id'"
     ]
    }
   ],
   "source": [
    "merged = pd.merge(candidates_results, candidates_oa, how='left', on='dcboe_hash_id')"
   ]
  },
  {
   "cell_type": "code",
   "execution_count": null,
   "metadata": {},
   "outputs": [],
   "source": [
    "merged.candidate_id.notnull().sum()"
   ]
  },
  {
   "cell_type": "markdown",
   "metadata": {},
   "source": [
    "## District-wide stats"
   ]
  },
  {
   "cell_type": "code",
   "execution_count": null,
   "metadata": {},
   "outputs": [],
   "source": [
    "anc.votes.sum()"
   ]
  },
  {
   "cell_type": "code",
   "execution_count": null,
   "metadata": {},
   "outputs": [],
   "source": [
    "candidates_results.votes.sum()"
   ]
  },
  {
   "cell_type": "code",
   "execution_count": null,
   "metadata": {},
   "outputs": [],
   "source": [
    "anc['candidate_type'] = anc.candidate_name\n",
    "anc.loc[~anc.candidate_name.isin(['OVER VOTES', 'UNDER VOTES', 'Write-in']), 'candidate_type'] = 'Ballot Candidate'"
   ]
  },
  {
   "cell_type": "code",
   "execution_count": null,
   "metadata": {},
   "outputs": [],
   "source": [
    "anc.groupby('candidate_type').votes.sum()"
   ]
  },
  {
   "cell_type": "markdown",
   "metadata": {},
   "source": [
    "## Match to OpenANC database"
   ]
  },
  {
   "cell_type": "code",
   "execution_count": null,
   "metadata": {},
   "outputs": [],
   "source": [
    "people = pd.read_csv('data/people.csv')\n",
    "people = most_recent_smd(people)"
   ]
  },
  {
   "cell_type": "code",
   "execution_count": null,
   "metadata": {},
   "outputs": [],
   "source": [
    "def match_to_openanc(df):\n",
    "\n",
    "    for idx, row in tqdm(df.iterrows(), total=len(df)):\n",
    "        \n",
    "        if row['candidate_name'] == 'Write-in':\n",
    "            continue\n",
    "        \n",
    "        best_id, best_score = match_names(row['candidate_name'], people['full_name'], people['person_id'])\n",
    "\n",
    "        df.loc[idx, 'match_score'] = best_score\n",
    "        df.loc[idx, 'match_person_id'] = best_id\n",
    "        df.loc[idx, 'match_full_name'] = people[people.person_id == best_id].full_name.iloc[0]\n",
    "        df.loc[idx, 'match_smd_id'] = people[people.person_id == best_id].most_recent_smd_id.iloc[0]\n",
    "        \n",
    "    return df.copy()"
   ]
  },
  {
   "cell_type": "code",
   "execution_count": null,
   "metadata": {},
   "outputs": [],
   "source": [
    "candidates_results = match_to_openanc(candidates_results)"
   ]
  },
  {
   "cell_type": "code",
   "execution_count": null,
   "metadata": {},
   "outputs": [],
   "source": [
    "# candidates_results.to_clipboard()"
   ]
  },
  {
   "cell_type": "code",
   "execution_count": null,
   "metadata": {},
   "outputs": [],
   "source": [
    "candidates_results"
   ]
  },
  {
   "cell_type": "markdown",
   "metadata": {},
   "source": [
    "## Save output"
   ]
  },
  {
   "cell_type": "code",
   "execution_count": null,
   "metadata": {},
   "outputs": [],
   "source": [
    "candidates_results['person_id'] = candidates_results['match_person_id']\n",
    "\n",
    "candidates_results[[\n",
    "    'person_id'\n",
    "    , 'dcboe_hash_id'\n",
    "    , 'smd_id'\n",
    "    , 'candidate_name'\n",
    "    , 'votes'\n",
    "    , 'vote_share'\n",
    "    , 'ranking'\n",
    "    , 'winner'\n",
    "    , 'write_in_winner'\n",
    "    , 'margin_of_victory'\n",
    "    , 'margin_of_victory_percentage'\n",
    "    , 'num_candidates'\n",
    "    , 'total_votes'\n",
    "]].to_csv('data/dcboe/candidate_votes_2022.csv', index=False)"
   ]
  },
  {
   "cell_type": "code",
   "execution_count": null,
   "metadata": {},
   "outputs": [],
   "source": [
    "# candidates_results.to_csv('candidates_results.csv', index=False)"
   ]
  },
  {
   "cell_type": "code",
   "execution_count": null,
   "metadata": {},
   "outputs": [],
   "source": []
  }
 ],
 "metadata": {
  "kernelspec": {
   "display_name": "Python 3 (ipykernel)",
   "language": "python",
   "name": "python3"
  },
  "language_info": {
   "codemirror_mode": {
    "name": "ipython",
    "version": 3
   },
   "file_extension": ".py",
   "mimetype": "text/x-python",
   "name": "python",
   "nbconvert_exporter": "python",
   "pygments_lexer": "ipython3",
   "version": "3.10.3"
  }
 },
 "nbformat": 4,
 "nbformat_minor": 4
}
