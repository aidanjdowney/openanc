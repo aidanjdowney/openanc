{
 "cells": [
  {
   "cell_type": "markdown",
   "id": "66fd341e",
   "metadata": {},
   "source": [
    "# Automate PDF to DataFrame for DCBOE candidate list"
   ]
  },
  {
   "cell_type": "code",
   "execution_count": 1,
   "id": "cffebf2e",
   "metadata": {},
   "outputs": [],
   "source": [
    "# pdf_path = \"/Users/devin/Dropbox/OpenANC/DCBOE candidate lists 2024/2024-General-ANC-Candidates-07122024b.pdf\"\n",
    "pdf_path = \"/Users/devin/Dropbox/OpenANC/DCBOE candidate lists 2024/General-24-ANC-Candidates-07292024.pdf\""
   ]
  },
  {
   "cell_type": "code",
   "execution_count": 4,
   "id": "be2ffe58",
   "metadata": {},
   "outputs": [],
   "source": [
    "# from pypdf import PdfReader\n",
    "\n",
    "# reader = PdfReader(pdf_path)\n",
    "# number_of_pages = len(reader.pages)\n",
    "# page = reader.pages[0]\n",
    "# text = page.extract_text()\n",
    "\n",
    "# text_split = text.split('\\n')\n",
    "# text_split"
   ]
  },
  {
   "cell_type": "markdown",
   "id": "cdb00509",
   "metadata": {},
   "source": [
    "## Tabula issues\n",
    "\n",
    "Java not installed. Run `brew install temurin`: https://stackoverflow.com/questions/44009058/even-though-jre-8-is-installed-on-my-mac-no-java-runtime-present-requesting-t"
   ]
  },
  {
   "cell_type": "code",
   "execution_count": 12,
   "id": "4138e8df",
   "metadata": {},
   "outputs": [],
   "source": [
    "import tabula\n",
    "\n",
    "# Read pdf into list of DataFrame\n",
    "dfs = tabula.read_pdf(pdf_path, pages='all')\n",
    "\n",
    "# Read remote pdf into list of DataFrame\n",
    "# dfs2 = tabula.read_pdf(\"https://github.com/tabulapdf/tabula-java/raw/master/src/test/resources/technology/tabula/arabic.pdf\")\n",
    "\n",
    "# convert PDF into CSV file\n",
    "# tabula.convert_into(\"test.pdf\", \"output.csv\", output_format=\"csv\", pages='all')\n",
    "\n",
    "# convert all PDFs in a directory\n",
    "# tabula.convert_into_by_batch(\"input_directory\", output_format='csv', pages='all')"
   ]
  },
  {
   "cell_type": "code",
   "execution_count": 15,
   "id": "77a63d32",
   "metadata": {
    "scrolled": false
   },
   "outputs": [],
   "source": [
    "dfs[0]"
   ]
  },
  {
   "cell_type": "code",
   "execution_count": 14,
   "id": "4d254055",
   "metadata": {},
   "outputs": [],
   "source": [
    "# tabula.convert_into(pdf_path, \"output.csv\", output_format=\"csv\", pages='all')"
   ]
  },
  {
   "cell_type": "code",
   "execution_count": 17,
   "id": "6a26d956",
   "metadata": {},
   "outputs": [
    {
     "name": "stdout",
     "output_type": "stream",
     "text": [
      "['ANC-SMD', 'Name', 'Address', 'Zip', 'Phone', 'Date of Pick-up', 'Date Filed', 'Email Address']\n",
      "['ANC-SMD', 'Name', 'Address', 'Zip', 'Phone', 'Date of Pick-up', 'Date Filed', 'Email Address']\n",
      "['ANC-SMD', 'Name', 'Address', 'Zip', 'Phone', 'Date of Pick-up', 'Date Filed', 'Email Address']\n",
      "['ANC-SMD', 'Name', 'Address', 'Zip', 'Phone', 'Date of Pick-up', 'Date Filed', 'Email Address']\n",
      "['ANC-SMD', 'Name', 'Address', 'Zip', 'Phone', 'Date of Pick-up', 'Date Filed', 'Email Address']\n",
      "['ANC-SMD', 'Name', 'Address', 'Zip', 'Phone', 'Date of Pick-up', 'Date Filed', 'Email Address']\n",
      "['ANC-SMD', 'Name', 'Address', 'Zip', 'Phone', 'Date of Pick-up', 'Date Filed', 'Email Address']\n",
      "['ANC-SMD', 'Name', 'Address', 'Zip', 'Phone', 'Date of Pick-up', 'Date Filed', 'Email Address']\n",
      "['ANC-SMD', 'Name', 'Address', 'Zip', 'Phone', 'Date of Pick-up', 'Date Filed', 'Email Address']\n",
      "['ANC-SMD', 'Name', 'Address', 'Zip', 'Phone', 'Date of Pick-up', 'Date Filed', 'Email Address']\n"
     ]
    }
   ],
   "source": [
    "for df in dfs:\n",
    "    print(list(df.columns))"
   ]
  },
  {
   "cell_type": "code",
   "execution_count": 20,
   "id": "aea0758d",
   "metadata": {},
   "outputs": [],
   "source": [
    "import pandas as pd\n",
    "\n",
    "df = pd.concat(dfs)"
   ]
  },
  {
   "cell_type": "code",
   "execution_count": 21,
   "id": "bd035ec9",
   "metadata": {},
   "outputs": [],
   "source": [
    "# df.to_clipboard()"
   ]
  },
  {
   "cell_type": "code",
   "execution_count": 24,
   "id": "9d8feb87",
   "metadata": {},
   "outputs": [],
   "source": [
    "columns_to_excel = ['ANC-SMD', 'Name', 'Date of Pick-up', 'Date Filed']\n",
    "\n",
    "df[columns_to_excel].to_excel('../data/dcboe/excel-clean/dcboe-ballot-2024-07-29.xlsx', index=False)"
   ]
  },
  {
   "cell_type": "code",
   "execution_count": null,
   "id": "d17e4d95",
   "metadata": {},
   "outputs": [],
   "source": []
  }
 ],
 "metadata": {
  "kernelspec": {
   "display_name": "Python 3 (ipykernel)",
   "language": "python",
   "name": "python3"
  },
  "language_info": {
   "codemirror_mode": {
    "name": "ipython",
    "version": 3
   },
   "file_extension": ".py",
   "mimetype": "text/x-python",
   "name": "python",
   "nbconvert_exporter": "python",
   "pygments_lexer": "ipython3",
   "version": "3.10.3"
  }
 },
 "nbformat": 4,
 "nbformat_minor": 5
}
