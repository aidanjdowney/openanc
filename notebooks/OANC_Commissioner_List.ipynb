{
 "cells": [
  {
   "cell_type": "markdown",
   "id": "279f53cc",
   "metadata": {},
   "source": [
    "# OANC Commissioner List\n",
    "\n",
    "Download a list of commissioners from the Office of Advisory Neighborhood Commissions and compare it against the OpenANC list."
   ]
  },
  {
   "cell_type": "code",
   "execution_count": 1,
   "id": "3d2243f9",
   "metadata": {},
   "outputs": [],
   "source": [
    "import os\n",
    "os.chdir('../')"
   ]
  },
  {
   "cell_type": "code",
   "execution_count": 2,
   "id": "ee33943a",
   "metadata": {},
   "outputs": [],
   "source": [
    "import time\n",
    "import requests\n",
    "import pandas as pd\n",
    "from tqdm import tqdm\n",
    "from fuzzywuzzy import fuzz\n",
    "\n",
    "import config\n",
    "from scripts.common import hash_dataframe, current_timestamp, validate_smd_ids\n",
    "from scripts.data_transformations import list_commissioners\n",
    "\n",
    "pd.set_option('display.max_rows', 500)"
   ]
  },
  {
   "cell_type": "code",
   "execution_count": 3,
   "id": "c53cde90",
   "metadata": {},
   "outputs": [],
   "source": [
    "ancs = pd.read_csv('data/ancs.csv')\n",
    "ancs = ancs[ancs.redistricting_year == config.current_redistricting_year].copy()"
   ]
  },
  {
   "cell_type": "code",
   "execution_count": 4,
   "id": "eaf5f3d9",
   "metadata": {},
   "outputs": [
    {
     "name": "stderr",
     "output_type": "stream",
     "text": [
      "  0%|                                                                                           | 0/46 [00:00<?, ?it/s]\n"
     ]
    },
    {
     "ename": "ImportError",
     "evalue": "html5lib not found, please install it",
     "output_type": "error",
     "traceback": [
      "\u001b[0;31m---------------------------------------------------------------------------\u001b[0m",
      "\u001b[0;31mImportError\u001b[0m                               Traceback (most recent call last)",
      "Cell \u001b[0;32mIn[4], line 6\u001b[0m\n\u001b[1;32m      3\u001b[0m \u001b[38;5;28;01mfor\u001b[39;00m idx, anc \u001b[38;5;129;01min\u001b[39;00m tqdm(ancs\u001b[38;5;241m.\u001b[39miterrows(), total\u001b[38;5;241m=\u001b[39m\u001b[38;5;28mlen\u001b[39m(ancs)):\n\u001b[1;32m      4\u001b[0m     r \u001b[38;5;241m=\u001b[39m requests\u001b[38;5;241m.\u001b[39mget(anc\u001b[38;5;241m.\u001b[39mdc_oanc_link)\n\u001b[0;32m----> 6\u001b[0m     table_list \u001b[38;5;241m=\u001b[39m \u001b[43mpd\u001b[49m\u001b[38;5;241;43m.\u001b[39;49m\u001b[43mread_html\u001b[49m\u001b[43m(\u001b[49m\u001b[43mr\u001b[49m\u001b[38;5;241;43m.\u001b[39;49m\u001b[43mtext\u001b[49m\u001b[43m,\u001b[49m\u001b[43m \u001b[49m\u001b[43mconverters\u001b[49m\u001b[38;5;241;43m=\u001b[39;49m\u001b[43m{\u001b[49m\u001b[38;5;124;43m'\u001b[39;49m\u001b[38;5;124;43mSMD\u001b[39;49m\u001b[38;5;124;43m'\u001b[39;49m\u001b[43m:\u001b[49m\u001b[43m \u001b[49m\u001b[38;5;28;43mstr\u001b[39;49m\u001b[43m}\u001b[49m\u001b[43m)\u001b[49m\n\u001b[1;32m      8\u001b[0m     \u001b[38;5;28;01mif\u001b[39;00m \u001b[38;5;124m'\u001b[39m\u001b[38;5;124mSMD\u001b[39m\u001b[38;5;124m'\u001b[39m \u001b[38;5;129;01min\u001b[39;00m table_list[\u001b[38;5;241m0\u001b[39m]\u001b[38;5;241m.\u001b[39mcolumns:\n\u001b[1;32m      9\u001b[0m         comm_dict[anc\u001b[38;5;241m.\u001b[39manc_id] \u001b[38;5;241m=\u001b[39m table_list[\u001b[38;5;241m0\u001b[39m]\u001b[38;5;241m.\u001b[39mcopy()\n",
      "File \u001b[0;32m~/Projects/_environments/openanc310/lib/python3.10/site-packages/pandas/util/_decorators.py:311\u001b[0m, in \u001b[0;36mdeprecate_nonkeyword_arguments.<locals>.decorate.<locals>.wrapper\u001b[0;34m(*args, **kwargs)\u001b[0m\n\u001b[1;32m    305\u001b[0m \u001b[38;5;28;01mif\u001b[39;00m \u001b[38;5;28mlen\u001b[39m(args) \u001b[38;5;241m>\u001b[39m num_allow_args:\n\u001b[1;32m    306\u001b[0m     warnings\u001b[38;5;241m.\u001b[39mwarn(\n\u001b[1;32m    307\u001b[0m         msg\u001b[38;5;241m.\u001b[39mformat(arguments\u001b[38;5;241m=\u001b[39marguments),\n\u001b[1;32m    308\u001b[0m         \u001b[38;5;167;01mFutureWarning\u001b[39;00m,\n\u001b[1;32m    309\u001b[0m         stacklevel\u001b[38;5;241m=\u001b[39mstacklevel,\n\u001b[1;32m    310\u001b[0m     )\n\u001b[0;32m--> 311\u001b[0m \u001b[38;5;28;01mreturn\u001b[39;00m \u001b[43mfunc\u001b[49m\u001b[43m(\u001b[49m\u001b[38;5;241;43m*\u001b[39;49m\u001b[43margs\u001b[49m\u001b[43m,\u001b[49m\u001b[43m \u001b[49m\u001b[38;5;241;43m*\u001b[39;49m\u001b[38;5;241;43m*\u001b[39;49m\u001b[43mkwargs\u001b[49m\u001b[43m)\u001b[49m\n",
      "File \u001b[0;32m~/Projects/_environments/openanc310/lib/python3.10/site-packages/pandas/io/html.py:1113\u001b[0m, in \u001b[0;36mread_html\u001b[0;34m(io, match, flavor, header, index_col, skiprows, attrs, parse_dates, thousands, encoding, decimal, converters, na_values, keep_default_na, displayed_only)\u001b[0m\n\u001b[1;32m   1109\u001b[0m validate_header_arg(header)\n\u001b[1;32m   1111\u001b[0m io \u001b[38;5;241m=\u001b[39m stringify_path(io)\n\u001b[0;32m-> 1113\u001b[0m \u001b[38;5;28;01mreturn\u001b[39;00m \u001b[43m_parse\u001b[49m\u001b[43m(\u001b[49m\n\u001b[1;32m   1114\u001b[0m \u001b[43m    \u001b[49m\u001b[43mflavor\u001b[49m\u001b[38;5;241;43m=\u001b[39;49m\u001b[43mflavor\u001b[49m\u001b[43m,\u001b[49m\n\u001b[1;32m   1115\u001b[0m \u001b[43m    \u001b[49m\u001b[43mio\u001b[49m\u001b[38;5;241;43m=\u001b[39;49m\u001b[43mio\u001b[49m\u001b[43m,\u001b[49m\n\u001b[1;32m   1116\u001b[0m \u001b[43m    \u001b[49m\u001b[43mmatch\u001b[49m\u001b[38;5;241;43m=\u001b[39;49m\u001b[43mmatch\u001b[49m\u001b[43m,\u001b[49m\n\u001b[1;32m   1117\u001b[0m \u001b[43m    \u001b[49m\u001b[43mheader\u001b[49m\u001b[38;5;241;43m=\u001b[39;49m\u001b[43mheader\u001b[49m\u001b[43m,\u001b[49m\n\u001b[1;32m   1118\u001b[0m \u001b[43m    \u001b[49m\u001b[43mindex_col\u001b[49m\u001b[38;5;241;43m=\u001b[39;49m\u001b[43mindex_col\u001b[49m\u001b[43m,\u001b[49m\n\u001b[1;32m   1119\u001b[0m \u001b[43m    \u001b[49m\u001b[43mskiprows\u001b[49m\u001b[38;5;241;43m=\u001b[39;49m\u001b[43mskiprows\u001b[49m\u001b[43m,\u001b[49m\n\u001b[1;32m   1120\u001b[0m \u001b[43m    \u001b[49m\u001b[43mparse_dates\u001b[49m\u001b[38;5;241;43m=\u001b[39;49m\u001b[43mparse_dates\u001b[49m\u001b[43m,\u001b[49m\n\u001b[1;32m   1121\u001b[0m \u001b[43m    \u001b[49m\u001b[43mthousands\u001b[49m\u001b[38;5;241;43m=\u001b[39;49m\u001b[43mthousands\u001b[49m\u001b[43m,\u001b[49m\n\u001b[1;32m   1122\u001b[0m \u001b[43m    \u001b[49m\u001b[43mattrs\u001b[49m\u001b[38;5;241;43m=\u001b[39;49m\u001b[43mattrs\u001b[49m\u001b[43m,\u001b[49m\n\u001b[1;32m   1123\u001b[0m \u001b[43m    \u001b[49m\u001b[43mencoding\u001b[49m\u001b[38;5;241;43m=\u001b[39;49m\u001b[43mencoding\u001b[49m\u001b[43m,\u001b[49m\n\u001b[1;32m   1124\u001b[0m \u001b[43m    \u001b[49m\u001b[43mdecimal\u001b[49m\u001b[38;5;241;43m=\u001b[39;49m\u001b[43mdecimal\u001b[49m\u001b[43m,\u001b[49m\n\u001b[1;32m   1125\u001b[0m \u001b[43m    \u001b[49m\u001b[43mconverters\u001b[49m\u001b[38;5;241;43m=\u001b[39;49m\u001b[43mconverters\u001b[49m\u001b[43m,\u001b[49m\n\u001b[1;32m   1126\u001b[0m \u001b[43m    \u001b[49m\u001b[43mna_values\u001b[49m\u001b[38;5;241;43m=\u001b[39;49m\u001b[43mna_values\u001b[49m\u001b[43m,\u001b[49m\n\u001b[1;32m   1127\u001b[0m \u001b[43m    \u001b[49m\u001b[43mkeep_default_na\u001b[49m\u001b[38;5;241;43m=\u001b[39;49m\u001b[43mkeep_default_na\u001b[49m\u001b[43m,\u001b[49m\n\u001b[1;32m   1128\u001b[0m \u001b[43m    \u001b[49m\u001b[43mdisplayed_only\u001b[49m\u001b[38;5;241;43m=\u001b[39;49m\u001b[43mdisplayed_only\u001b[49m\u001b[43m,\u001b[49m\n\u001b[1;32m   1129\u001b[0m \u001b[43m\u001b[49m\u001b[43m)\u001b[49m\n",
      "File \u001b[0;32m~/Projects/_environments/openanc310/lib/python3.10/site-packages/pandas/io/html.py:915\u001b[0m, in \u001b[0;36m_parse\u001b[0;34m(flavor, io, match, attrs, encoding, displayed_only, **kwargs)\u001b[0m\n\u001b[1;32m    913\u001b[0m retained \u001b[38;5;241m=\u001b[39m \u001b[38;5;28;01mNone\u001b[39;00m\n\u001b[1;32m    914\u001b[0m \u001b[38;5;28;01mfor\u001b[39;00m flav \u001b[38;5;129;01min\u001b[39;00m flavor:\n\u001b[0;32m--> 915\u001b[0m     parser \u001b[38;5;241m=\u001b[39m \u001b[43m_parser_dispatch\u001b[49m\u001b[43m(\u001b[49m\u001b[43mflav\u001b[49m\u001b[43m)\u001b[49m\n\u001b[1;32m    916\u001b[0m     p \u001b[38;5;241m=\u001b[39m parser(io, compiled_match, attrs, encoding, displayed_only)\n\u001b[1;32m    918\u001b[0m     \u001b[38;5;28;01mtry\u001b[39;00m:\n",
      "File \u001b[0;32m~/Projects/_environments/openanc310/lib/python3.10/site-packages/pandas/io/html.py:864\u001b[0m, in \u001b[0;36m_parser_dispatch\u001b[0;34m(flavor)\u001b[0m\n\u001b[1;32m    862\u001b[0m \u001b[38;5;28;01mif\u001b[39;00m flavor \u001b[38;5;129;01min\u001b[39;00m (\u001b[38;5;124m\"\u001b[39m\u001b[38;5;124mbs4\u001b[39m\u001b[38;5;124m\"\u001b[39m, \u001b[38;5;124m\"\u001b[39m\u001b[38;5;124mhtml5lib\u001b[39m\u001b[38;5;124m\"\u001b[39m):\n\u001b[1;32m    863\u001b[0m     \u001b[38;5;28;01mif\u001b[39;00m \u001b[38;5;129;01mnot\u001b[39;00m _HAS_HTML5LIB:\n\u001b[0;32m--> 864\u001b[0m         \u001b[38;5;28;01mraise\u001b[39;00m \u001b[38;5;167;01mImportError\u001b[39;00m(\u001b[38;5;124m\"\u001b[39m\u001b[38;5;124mhtml5lib not found, please install it\u001b[39m\u001b[38;5;124m\"\u001b[39m)\n\u001b[1;32m    865\u001b[0m     \u001b[38;5;28;01mif\u001b[39;00m \u001b[38;5;129;01mnot\u001b[39;00m _HAS_BS4:\n\u001b[1;32m    866\u001b[0m         \u001b[38;5;28;01mraise\u001b[39;00m \u001b[38;5;167;01mImportError\u001b[39;00m(\u001b[38;5;124m\"\u001b[39m\u001b[38;5;124mBeautifulSoup4 (bs4) not found, please install it\u001b[39m\u001b[38;5;124m\"\u001b[39m)\n",
      "\u001b[0;31mImportError\u001b[0m: html5lib not found, please install it"
     ]
    }
   ],
   "source": [
    "comm_dict = {}\n",
    "\n",
    "for idx, anc in tqdm(ancs.iterrows(), total=len(ancs)):\n",
    "    r = requests.get(anc.dc_oanc_link)\n",
    "    \n",
    "    table_list = pd.read_html(r.text, converters={'SMD': str})\n",
    "\n",
    "    if 'SMD' in table_list[0].columns:\n",
    "        comm_dict[anc.anc_id] = table_list[0].copy()\n",
    "    elif anc.anc_id == 'anc_5F_2022':\n",
    "        # First row of this dataframe is the column names and should be fixed then dropped\n",
    "        comm_dict[anc.anc_id] = table_list[0].copy()\n",
    "        comm_dict[anc.anc_id].columns = comm_dict[anc.anc_id].iloc[0]\n",
    "        comm_dict[anc.anc_id].drop(0, inplace=True)\n",
    "    else:\n",
    "        print(f'Warning: ANC {anc.anc_id} table not present on OANC site.')\n",
    "        print(table_list)\n",
    "    \n",
    "    time.sleep(2)"
   ]
  },
  {
   "cell_type": "code",
   "execution_count": null,
   "id": "fe5217ca",
   "metadata": {},
   "outputs": [],
   "source": [
    "comm_official = pd.concat(comm_dict).reset_index().rename(columns={'level_0': 'anc_id'}).drop(columns='level_1')"
   ]
  },
  {
   "cell_type": "code",
   "execution_count": null,
   "id": "8029f270",
   "metadata": {},
   "outputs": [],
   "source": [
    "comm_official['smd_id'] = 'smd_2022_' + comm_official['SMD']\n",
    "\n",
    "# Fix some mangled SMD IDs\n",
    "comm_official['smd_id'] = (\n",
    "    comm_official['smd_id']\n",
    "    .str.replace('smd_2022_3G', 'smd_2022_3/4G')\n",
    "    .str.replace('smd_2022_7B02l', 'smd_2022_7B02')\n",
    "    .str.replace('smd_2022_6/8F', 'smd_2022_8F')\n",
    ")\n"
   ]
  },
  {
   "cell_type": "code",
   "execution_count": null,
   "id": "237b92a3",
   "metadata": {
    "scrolled": false
   },
   "outputs": [],
   "source": [
    "# Confirm that district list is correct\n",
    "validate_smd_ids(comm_official)\n",
    "assert len(comm_official) == 345"
   ]
  },
  {
   "cell_type": "code",
   "execution_count": null,
   "id": "cb415d4e",
   "metadata": {},
   "outputs": [],
   "source": [
    "comm_official['is_vacant'] = comm_official.Name.str.lower()== 'vacant'\n",
    "comm_official['is_chairperson'] = comm_official.Name.str.lower().str.contains('chairperson|chairpeson')"
   ]
  },
  {
   "cell_type": "code",
   "execution_count": null,
   "id": "0a51e9aa",
   "metadata": {},
   "outputs": [],
   "source": [
    "strings_to_remove_from_names = [\n",
    "    ' Chairperson'\n",
    "    , ' Chairpeson'\n",
    "    , ' Chairman'\n",
    "    , ' Vice Chair/Treasurer'\n",
    "    , ' Vice Chair'\n",
    "    , ' Corresponding Secretary'\n",
    "    , ' Recording Secretary'\n",
    "    , ' Secretary'\n",
    "    , ' /Secretary'\n",
    "    , ' Seretary'\n",
    "    , ' Parlimentarian'\n",
    "    , ' Parliamentarian'\n",
    "    , ' Sargent-at-arms'\n",
    "    , ' Treasurer'\n",
    "    , ' Vice-Chairperson'\n",
    "]\n",
    "\n",
    "comm_official['oanc_name'] = comm_official['Name']\n",
    "\n",
    "for s in strings_to_remove_from_names:\n",
    "    comm_official['oanc_name'] = comm_official['oanc_name'].str.replace(s, '')\n",
    "\n",
    "comm_official['oanc_name'] = comm_official['oanc_name'].str.strip()"
   ]
  },
  {
   "cell_type": "code",
   "execution_count": null,
   "id": "ec3cf196",
   "metadata": {},
   "outputs": [],
   "source": [
    "comm_official['oanc_hash_id'] = hash_dataframe(comm_official, ['SMD', 'oanc_name'])"
   ]
  },
  {
   "cell_type": "code",
   "execution_count": null,
   "id": "659a966a",
   "metadata": {},
   "outputs": [],
   "source": [
    "# Compare official to OpenANC\n",
    "comm_openanc = list_commissioners(status='current')\n",
    "comm = pd.merge(comm_official, comm_openanc, how='left', on='smd_id')\n",
    "\n",
    "comm['oanc_name'] = comm['oanc_name'].fillna('Vacant')\n",
    "comm['openanc_name'] = comm['commissioner_name'].fillna('Vacant')\n",
    "comm['name_score'] = comm.apply(lambda x: fuzz.ratio(x.oanc_name, x.openanc_name), axis=1)"
   ]
  },
  {
   "cell_type": "code",
   "execution_count": null,
   "id": "e65b62ad",
   "metadata": {},
   "outputs": [],
   "source": [
    "\"\"\"\n",
    "0 = the district is not vacant according to both sources (good)\n",
    "1 = the district is vacant according to one source (bad)\n",
    "2 = the district is vacant according to both sources (good)\n",
    "\"\"\"\n",
    "comm['num_sources_say_vacant'] = (comm[['oanc_name', 'openanc_name']] == 'Vacant').sum(axis=1)\n",
    "comm.loc[comm['num_sources_say_vacant'] == 1, 'name_score'] = 0"
   ]
  },
  {
   "cell_type": "code",
   "execution_count": null,
   "id": "c64cf71f",
   "metadata": {
    "scrolled": false
   },
   "outputs": [],
   "source": [
    "# Evaluate name mismatches\n",
    "comm.loc[comm.name_score < 100, ['smd_id', 'oanc_name', 'openanc_name', 'name_score']].sort_values(\n",
    "    by=['name_score', 'smd_id']\n",
    ")"
   ]
  },
  {
   "cell_type": "code",
   "execution_count": null,
   "id": "c5eaf92a",
   "metadata": {
    "scrolled": false
   },
   "outputs": [],
   "source": [
    "columns_to_save = [\n",
    "    'smd_id'\n",
    "    , 'Name'\n",
    "    , 'oanc_name'\n",
    "    , 'is_vacant'\n",
    "    , 'is_chairperson'\n",
    "    , 'oanc_hash_id'\n",
    "]\n",
    "\n",
    "filename = 'data/oanc/commissioners_{}.csv'.format(current_timestamp().strftime('%Y-%m-%d'))\n",
    "\n",
    "comm_official[columns_to_save].to_csv(filename, index=False)"
   ]
  },
  {
   "cell_type": "code",
   "execution_count": null,
   "id": "c2b3cabd",
   "metadata": {},
   "outputs": [],
   "source": [
    "# Confirm that there is one chairperson per ANC\n",
    "comm_official['is_chairperson_int'] = comm_official['is_chairperson'].astype(int)\n",
    "num_chairs = comm_official.groupby('anc_id').is_chairperson_int.sum()\n",
    "# num_chairs.sum() == comm_official.anc_id.nunique()\n",
    "\n",
    "# Total number of chairpeople\n",
    "# num_chairs.sum()"
   ]
  },
  {
   "cell_type": "code",
   "execution_count": null,
   "id": "a6f8c023",
   "metadata": {},
   "outputs": [],
   "source": [
    "# Districts with an issue to resolve\n",
    "comm.loc[comm['num_sources_say_vacant'] == 1, ['smd_id', 'oanc_name', 'openanc_name']] #.to_clipboard(index=False)"
   ]
  },
  {
   "cell_type": "code",
   "execution_count": null,
   "id": "6280bf17",
   "metadata": {},
   "outputs": [],
   "source": []
  }
 ],
 "metadata": {
  "kernelspec": {
   "display_name": "Python 3 (ipykernel)",
   "language": "python",
   "name": "python3"
  },
  "language_info": {
   "codemirror_mode": {
    "name": "ipython",
    "version": 3
   },
   "file_extension": ".py",
   "mimetype": "text/x-python",
   "name": "python",
   "nbconvert_exporter": "python",
   "pygments_lexer": "ipython3",
   "version": "3.10.3"
  }
 },
 "nbformat": 4,
 "nbformat_minor": 5
}
