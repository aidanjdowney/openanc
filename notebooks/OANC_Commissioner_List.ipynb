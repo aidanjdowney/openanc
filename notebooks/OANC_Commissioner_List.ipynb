{
 "cells": [
  {
   "cell_type": "markdown",
   "id": "279f53cc",
   "metadata": {},
   "source": [
    "Download a list of commissioners from the Office of Advisory Neighborhood Commissions"
   ]
  },
  {
   "cell_type": "code",
   "execution_count": 1,
   "id": "3d2243f9",
   "metadata": {},
   "outputs": [],
   "source": [
    "import os\n",
    "os.chdir('../')"
   ]
  },
  {
   "cell_type": "code",
   "execution_count": 2,
   "id": "ee33943a",
   "metadata": {},
   "outputs": [],
   "source": [
    "import time\n",
    "import requests\n",
    "import pandas as pd\n",
    "from tqdm import tqdm\n",
    "from fuzzywuzzy import fuzz\n",
    "\n",
    "from scripts.common import hash_dataframe, current_timestamp, validate_smd_ids\n",
    "from scripts.data_transformations import list_commissioners\n",
    "\n",
    "pd.set_option('display.max_rows', 500)"
   ]
  },
  {
   "cell_type": "code",
   "execution_count": 3,
   "id": "c53cde90",
   "metadata": {},
   "outputs": [],
   "source": [
    "ancs = pd.read_csv('data/ancs.csv')\n",
    "ancs = ancs[ancs.redistricting_year == 2022].copy()"
   ]
  },
  {
   "cell_type": "code",
   "execution_count": null,
   "id": "eaf5f3d9",
   "metadata": {},
   "outputs": [
    {
     "name": "stderr",
     "output_type": "stream",
     "text": [
      " 28%|███████████████████████▏                                                          | 13/46 [00:31<01:15,  2.28s/it]"
     ]
    }
   ],
   "source": [
    "comm_dict = {}\n",
    "\n",
    "for idx, anc in tqdm(ancs.iterrows(), total=len(ancs)):\n",
    "    r = requests.get(anc.dc_oanc_link)\n",
    "    \n",
    "    table_list = pd.read_html(r.text, converters={'SMD': str})\n",
    "\n",
    "    if 'SMD' in table_list[0].columns:\n",
    "        comm_dict[anc.anc_id] = table_list[0].copy()\n",
    "    elif anc.anc_id == 'anc_5F_2022':\n",
    "        # First row of this dataframe is the column names and should be fixed then dropped\n",
    "        comm_dict[anc.anc_id] = table_list[0].copy()\n",
    "        comm_dict[anc.anc_id].columns = comm_dict[anc.anc_id].iloc[0]\n",
    "        comm_dict[anc.anc_id].drop(0, inplace=True)\n",
    "    else:\n",
    "        print(f'Warning: ANC {anc.anc_id} table not present on OANC site.')\n",
    "        print(table_list)\n",
    "    \n",
    "    time.sleep(2)"
   ]
  },
  {
   "cell_type": "code",
   "execution_count": null,
   "id": "fe5217ca",
   "metadata": {},
   "outputs": [],
   "source": [
    "comm_official = pd.concat(comm_dict).reset_index().rename(columns={'level_0': 'anc_id'}).drop(columns='level_1')"
   ]
  },
  {
   "cell_type": "code",
   "execution_count": null,
   "id": "8029f270",
   "metadata": {},
   "outputs": [],
   "source": [
    "comm_official['smd_id'] = 'smd_2022_' + comm_official['SMD']\n",
    "\n",
    "# Fix some mangled SMD IDs\n",
    "comm_official['smd_id'] = (\n",
    "    comm_official['smd_id']\n",
    "    .str.replace('smd_2022_3G', 'smd_2022_3/4G')\n",
    "    .str.replace('smd_2022_7B02l', 'smd_2022_7B02')\n",
    ")\n"
   ]
  },
  {
   "cell_type": "code",
   "execution_count": null,
   "id": "44a6b61e",
   "metadata": {
    "scrolled": false
   },
   "outputs": [],
   "source": [
    "# Confirm that district list is correct\n",
    "validate_smd_ids(comm_official)\n",
    "assert len(comm_official) == 345"
   ]
  },
  {
   "cell_type": "code",
   "execution_count": null,
   "id": "cb415d4e",
   "metadata": {},
   "outputs": [],
   "source": [
    "comm_official['is_vacant'] = comm_official.Name.str.lower()== 'vacant'\n",
    "comm_official['is_chairperson'] = comm_official.Name.str.lower().str.contains('chairperson|chairpeson')"
   ]
  },
  {
   "cell_type": "code",
   "execution_count": null,
   "id": "0a51e9aa",
   "metadata": {},
   "outputs": [],
   "source": [
    "comm_official['oanc_name'] = (\n",
    "    comm_official.Name\n",
    "    .str.replace(' Chairperson', '')\n",
    "    .str.replace(' Chairpeson', '')\n",
    "    .str.replace(' Vice Chair/Treasurer', '')\n",
    "    .str.replace(' Vice Chair', '')\n",
    "    .str.replace(' Secretary', '')\n",
    "    .str.replace(' Parlimentarian', '')\n",
    "    .str.replace(' Sargent-at-arms', '')\n",
    "    .str.strip()\n",
    ")"
   ]
  },
  {
   "cell_type": "code",
   "execution_count": null,
   "id": "ec3cf196",
   "metadata": {},
   "outputs": [],
   "source": [
    "comm_official['oanc_hash_id'] = hash_dataframe(comm_official, ['SMD', 'oanc_name'])"
   ]
  },
  {
   "cell_type": "code",
   "execution_count": null,
   "id": "659a966a",
   "metadata": {},
   "outputs": [],
   "source": [
    "# Compare official to OpenANC\n",
    "comm_openanc = list_commissioners(status='current')\n",
    "comm = pd.merge(comm_official, comm_openanc, how='left', on='smd_id')\n",
    "\n",
    "comm['oanc_name'] = comm['oanc_name'].fillna('Vacant')\n",
    "comm['openanc_name'] = comm['commissioner_name'].fillna('Vacant')\n",
    "comm['name_score'] = comm.apply(lambda x: fuzz.ratio(x.oanc_name, x.openanc_name), axis=1)"
   ]
  },
  {
   "cell_type": "code",
   "execution_count": null,
   "id": "d162ab25",
   "metadata": {},
   "outputs": [],
   "source": [
    "\"\"\"\n",
    "0 = the district is not vacant according to both sources (good)\n",
    "1 = the district is vacant according to one source (bad)\n",
    "2 = the district is vacant according to both sources (good)\n",
    "\"\"\"\n",
    "comm['num_sources_say_vacant'] = (comm[['oanc_name', 'openanc_name']] == 'Vacant').sum(axis=1)\n",
    "comm.loc[comm['num_sources_say_vacant'] == 1, 'name_score'] = 0"
   ]
  },
  {
   "cell_type": "code",
   "execution_count": null,
   "id": "c6494072",
   "metadata": {
    "scrolled": false
   },
   "outputs": [],
   "source": [
    "# Evaluate name mismatches\n",
    "comm.loc[comm.name_score < 100, ['smd_id', 'oanc_name', 'openanc_name', 'name_score']].sort_values(by='name_score')"
   ]
  },
  {
   "cell_type": "code",
   "execution_count": null,
   "id": "c5eaf92a",
   "metadata": {
    "scrolled": false
   },
   "outputs": [],
   "source": [
    "columns_to_save = [\n",
    "    'smd_id'\n",
    "    , 'Name'\n",
    "    , 'oanc_name'\n",
    "    , 'is_vacant'\n",
    "    , 'is_chairperson'\n",
    "    , 'oanc_hash_id'\n",
    "]\n",
    "\n",
    "filename = 'data/oanc/commissioners_{}.csv'.format(current_timestamp().strftime('%Y-%m-%d'))\n",
    "\n",
    "comm_official[columns_to_save].to_csv(filename, index=False)"
   ]
  },
  {
   "cell_type": "code",
   "execution_count": null,
   "id": "c2b3cabd",
   "metadata": {},
   "outputs": [],
   "source": [
    "# Confirm that there is one chairperson per ANC\n",
    "comm_official['is_chairperson_int'] = comm_official['is_chairperson'].astype(int)\n",
    "num_chairs = comm_official.groupby('anc_id').is_chairperson_int.sum()\n",
    "# num_chairs.sum() == comm_official.anc_id.nunique()\n",
    "\n",
    "# Chairs have not yet been noted for the 2023 session\n",
    "num_chairs.sum()"
   ]
  },
  {
   "cell_type": "code",
   "execution_count": null,
   "id": "a6f8c023",
   "metadata": {},
   "outputs": [],
   "source": [
    "# Districts with an issue to resolve\n",
    "comm.loc[comm['num_sources_say_vacant'] == 1, ['smd_id', 'openanc_name']] #.to_clipboard(index=False)"
   ]
  },
  {
   "cell_type": "code",
   "execution_count": null,
   "id": "4c701e22",
   "metadata": {},
   "outputs": [],
   "source": [
    "r.text"
   ]
  },
  {
   "cell_type": "code",
   "execution_count": null,
   "id": "1572a00b",
   "metadata": {},
   "outputs": [],
   "source": [
    "comm_dict['anc_8E_2022']"
   ]
  },
  {
   "cell_type": "code",
   "execution_count": null,
   "id": "4ee1bf2c",
   "metadata": {},
   "outputs": [],
   "source": []
  }
 ],
 "metadata": {
  "kernelspec": {
   "display_name": "Python 3 (ipykernel)",
   "language": "python",
   "name": "python3"
  },
  "language_info": {
   "codemirror_mode": {
    "name": "ipython",
    "version": 3
   },
   "file_extension": ".py",
   "mimetype": "text/x-python",
   "name": "python",
   "nbconvert_exporter": "python",
   "pygments_lexer": "ipython3",
   "version": "3.10.3"
  }
 },
 "nbformat": 4,
 "nbformat_minor": 5
}
